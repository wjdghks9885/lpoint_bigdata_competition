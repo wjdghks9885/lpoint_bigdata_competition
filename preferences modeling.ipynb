{
 "cells": [
  {
   "cell_type": "markdown",
   "metadata": {},
   "source": [
    "# 선호지수 모델링"
   ]
  },
  {
   "cell_type": "code",
   "execution_count": 2,
   "metadata": {},
   "outputs": [],
   "source": [
    "setwd(\"D:\\\\USER\\\\Desktop\\\\yangho\\\\제5회 Big Data Competition-Digital Trend Analyzer\")"
   ]
  },
  {
   "cell_type": "code",
   "execution_count": 3,
   "metadata": {},
   "outputs": [
    {
     "data": {
      "text/html": [
       "'D:/USER/Desktop/yangho/제5회 Big Data Competition-Digital Trend Analyzer'"
      ],
      "text/latex": [
       "'D:/USER/Desktop/yangho/제5회 Big Data Competition-Digital Trend Analyzer'"
      ],
      "text/markdown": [
       "'D:/USER/Desktop/yangho/제5회 Big Data Competition-Digital Trend Analyzer'"
      ],
      "text/plain": [
       "[1] \"D:/USER/Desktop/yangho/제5회 Big Data Competition-Digital Trend Analyzer\""
      ]
     },
     "metadata": {},
     "output_type": "display_data"
    }
   ],
   "source": [
    "getwd()"
   ]
  },
  {
   "cell_type": "code",
   "execution_count": 4,
   "metadata": {},
   "outputs": [],
   "source": [
    "library(data.table)"
   ]
  },
  {
   "cell_type": "code",
   "execution_count": 5,
   "metadata": {},
   "outputs": [],
   "source": [
    "all_product<- fread(\"all_product.csv\",encoding=\"UTF-8\",na.strings=c(\"\"))\n",
    "new_search1 <- fread(\"new_search1.csv\",encoding=\"UTF-8\")\n",
    "new_search2 <- fread(\"new_search2.csv\",encoding=\"UTF-8\")real <- CLAC1 %>% select(-CLAC1_NM,-mhit,-mhr,-msale)\n",
    "\n",
    "library(rpart)\n",
    "dt_reg<- rpart(n_rate~.,data=real)\n",
    "summary(dt_reg)\n",
    "\n",
    "yhat_test <- predict(dt_reg,real)\n",
    "\n",
    "mse <- mean((yhat_test-real$n_rate)^2)\n",
    "mse\n",
    "\n",
    "rmse <- sqrt(mse)\n",
    "rmse\n",
    "\n",
    "tmp1 <- printcp(dt_reg)\n",
    "rsq.val <- 1-tmp1[,c(3,4)]\n",
    "rsq.val\n",
    "\n",
    "rsq.rpart(dt_reg)\n",
    "\n",
    "library(randomForest)\n",
    "rf_model <- randomForest(n_rate~.,data=real)\n",
    "rf_model\n",
    "\n",
    "yhat_test <- predict(rf_model,real)\n",
    "yhat_test\n",
    "\n",
    "mse <- mean((yhat_test-real$n_rate)^2)\n",
    "mse\n",
    "\n",
    "rmse <- sqrt(mse)\n",
    "rmse\n",
    "\n",
    "install.packages(\"e1071\")\n",
    "library(e1071)\n",
    "svm_model <- svm(n_rate~.,data=real)\n",
    "summary(svm_model)\n",
    "\n",
    "yhat_test <- predict(svm_model,real)\n",
    "yhat_test\n",
    "\n",
    "svm_error <- (mean(svm_model$residuals^2))\n",
    "svm_error\n",
    "\n",
    "rmse <- sqrt(mse)\n",
    "rmse\n",
    "\n",
    "residuals <- real$n_rate-yhat_test\n",
    "y_test_mean <- mean(real$n_rate)\n",
    "tss <- sum((real$n_rate-y_test_mean)^2)\n",
    "rss <- sum(residuals^2)\n",
    "\n",
    "rsq <- 1-(rss/tss)\n",
    "rsq\n",
    "\n",
    "library(tidyverse)\n",
    "library(caret)\n",
    "install.packages(\"xgboost\")\n",
    "library(xgboost)\n",
    "\n",
    "xgb_model <- train(n_rate~.,data=real,method=\"xgbTree\",eval_metric=\"rmse\")\n",
    "\n",
    "xgb_model\n",
    "\n",
    "yhat_test <- predict(xgb_model,real)\n",
    "mse <- mean((yhat_test-real$n_rate)^2)\n",
    "mse\n",
    "\n",
    "rmse <- sqrt(mse)\n",
    "rmse\n",
    "\n",
    "residuals <- real$n_rate-yhat_test\n",
    "y_test_mean <- mean(real$n_rate)\n",
    "tss <- sum((real$n_rate-y_test_mean)^2)\n",
    "rss <- sum(residuals^2)\n",
    "\n",
    "rsq <- 1-(rss/tss)\n",
    "rsq\n",
    "\n",
    "str(real_pref)"
   ]
  },
  {
   "cell_type": "code",
   "execution_count": 6,
   "metadata": {},
   "outputs": [
    {
     "name": "stderr",
     "output_type": "stream",
     "text": [
      "\n",
      "Attaching package: 'dplyr'\n",
      "\n",
      "The following objects are masked from 'package:data.table':\n",
      "\n",
      "    between, first, last\n",
      "\n",
      "The following objects are masked from 'package:stats':\n",
      "\n",
      "    filter, lag\n",
      "\n",
      "The following objects are masked from 'package:base':\n",
      "\n",
      "    intersect, setdiff, setequal, union\n",
      "\n"
     ]
    }
   ],
   "source": [
    "library(dplyr)"
   ]
  },
  {
   "cell_type": "code",
   "execution_count": 7,
   "metadata": {},
   "outputs": [
    {
     "name": "stderr",
     "output_type": "stream",
     "text": [
      "\n",
      "Attaching package: 'lubridate'\n",
      "\n",
      "The following objects are masked from 'package:data.table':\n",
      "\n",
      "    hour, isoweek, mday, minute, month, quarter, second, wday, week,\n",
      "    yday, year\n",
      "\n",
      "The following object is masked from 'package:base':\n",
      "\n",
      "    date\n",
      "\n"
     ]
    }
   ],
   "source": [
    "library(lubridate)\n",
    "all_products=all_product %>% mutate(Sales=PD_BUY_AM*PD_BUY_CT)\n",
    "x=as.character(all_product$SESS_DT)\n",
    "x=as_date(x)\n",
    "Month=month(x)\n",
    "Weekday=weekdays(x)\n",
    "all_products=all_products %>% mutate(Month,Weekday)"
   ]
  },
  {
   "cell_type": "code",
   "execution_count": 8,
   "metadata": {},
   "outputs": [],
   "source": [
    "med_hits=all_products %>% group_by(CLAC1_NM) %>% summarise(mhit=median(HITS_SEQ))   # 상품군별 히트수 중앙값"
   ]
  },
  {
   "cell_type": "code",
   "execution_count": 9,
   "metadata": {},
   "outputs": [
    {
     "data": {
      "image/png": "[encoded data removed]",
      "text/plain": [
       "Plot with title \"Histogram of med_hits$mhit\""
      ]
     },
     "metadata": {},
     "output_type": "display_data"
    }
   ],
   "source": [
    "hist(med_hits$mhit,freq=F)\n",
    "lines(density(med_hits$mhit))"
   ]
  },
  {
   "cell_type": "code",
   "execution_count": 10,
   "metadata": {},
   "outputs": [
    {
     "data": {
      "text/html": [
       "<table>\n",
       "<thead><tr><th scope=col>CLAC1_NM</th><th scope=col>mhit</th><th scope=col>sca_mhit</th></tr></thead>\n",
       "<tbody>\n",
       "\t<tr><td>가구           </td><td>40             </td><td>-0.4575656     </td></tr>\n",
       "\t<tr><td>건강식품       </td><td>41             </td><td>-0.3408075     </td></tr>\n",
       "\t<tr><td>계절가전       </td><td>42             </td><td>-0.2240493     </td></tr>\n",
       "\t<tr><td>과일           </td><td>41             </td><td>-0.3408075     </td></tr>\n",
       "\t<tr><td>구기/필드스포츠</td><td>48             </td><td> 0.4764993     </td></tr>\n",
       "\t<tr><td>남성의류       </td><td>58             </td><td> 1.6440804     </td></tr>\n",
       "</tbody>\n",
       "</table>\n"
      ],
      "text/latex": [
       "\\begin{tabular}{r|lll}\n",
       " CLAC1\\_NM & mhit & sca\\_mhit\\\\\n",
       "\\hline\n",
       "\t 가구            & 40              & -0.4575656     \\\\\n",
       "\t 건강식품        & 41              & -0.3408075     \\\\\n",
       "\t 계절가전        & 42              & -0.2240493     \\\\\n",
       "\t 과일            & 41              & -0.3408075     \\\\\n",
       "\t 구기/필드스포츠 & 48              &  0.4764993     \\\\\n",
       "\t 남성의류        & 58              &  1.6440804     \\\\\n",
       "\\end{tabular}\n"
      ],
      "text/markdown": [
       "\n",
       "CLAC1_NM | mhit | sca_mhit | \n",
       "|---|---|---|---|---|---|\n",
       "| 가구            | 40              | -0.4575656      | \n",
       "| 건강식품        | 41              | -0.3408075      | \n",
       "| 계절가전        | 42              | -0.2240493      | \n",
       "| 과일            | 41              | -0.3408075      | \n",
       "| 구기/필드스포츠 | 48              |  0.4764993      | \n",
       "| 남성의류        | 58              |  1.6440804      | \n",
       "\n",
       "\n"
      ],
      "text/plain": [
       "  CLAC1_NM        mhit sca_mhit  \n",
       "1 가구            40   -0.4575656\n",
       "2 건강식품        41   -0.3408075\n",
       "3 계절가전        42   -0.2240493\n",
       "4 과일            41   -0.3408075\n",
       "5 구기/필드스포츠 48    0.4764993\n",
       "6 남성의류        58    1.6440804"
      ]
     },
     "metadata": {},
     "output_type": "display_data"
    }
   ],
   "source": [
    "med_hits$sca_mhit=scale(med_hits$mhit)                    # 상품군별 히트수 중앙값 표준화\n",
    "head(med_hits)"
   ]
  },
  {
   "cell_type": "code",
   "execution_count": 11,
   "metadata": {},
   "outputs": [
    {
     "data": {
      "image/png": "[encoded data removed]",
      "text/plain": [
       "Plot with title \"Histogram of med_hits$sca_mhit\""
      ]
     },
     "metadata": {},
     "output_type": "display_data"
    }
   ],
   "source": [
    "hist(med_hits$sca_mhit,freq=F)\n",
    "lines(density(med_hits$sca_mhit),col=\"red\")"
   ]
  },
  {
   "cell_type": "code",
   "execution_count": 12,
   "metadata": {},
   "outputs": [],
   "source": [
    "med_hr=all_products %>% group_by(CLAC1_NM) %>% summarise(mhr=median(TOT_SESS_HR_V))           # 상품군별 세션시간 중앙값"
   ]
  },
  {
   "cell_type": "code",
   "execution_count": 13,
   "metadata": {},
   "outputs": [
    {
     "data": {
      "image/png": "[encoded data removed]",
      "text/plain": [
       "Plot with title \"Histogram of med_hr$mhr\""
      ]
     },
     "metadata": {},
     "output_type": "display_data"
    }
   ],
   "source": [
    "hist(med_hr$mhr,freq=F)\n",
    "lines(density(med_hr$mhr))"
   ]
  },
  {
   "cell_type": "code",
   "execution_count": 14,
   "metadata": {},
   "outputs": [
    {
     "data": {
      "text/html": [
       "<table>\n",
       "<thead><tr><th scope=col>CLAC1_NM</th><th scope=col>mhr</th><th scope=col>sca_mhr</th></tr></thead>\n",
       "<tbody>\n",
       "\t<tr><td>가구           </td><td>1209.0         </td><td> 0.5072558     </td></tr>\n",
       "\t<tr><td>건강식품       </td><td> 967.0         </td><td>-0.5745516     </td></tr>\n",
       "\t<tr><td>계절가전       </td><td>1121.5         </td><td> 0.1161064     </td></tr>\n",
       "\t<tr><td>과일           </td><td>1072.5         </td><td>-0.1029372     </td></tr>\n",
       "\t<tr><td>구기/필드스포츠</td><td>1246.0         </td><td> 0.6726561     </td></tr>\n",
       "\t<tr><td>남성의류       </td><td>1381.0         </td><td> 1.2761438     </td></tr>\n",
       "</tbody>\n",
       "</table>\n"
      ],
      "text/latex": [
       "\\begin{tabular}{r|lll}\n",
       " CLAC1\\_NM & mhr & sca\\_mhr\\\\\n",
       "\\hline\n",
       "\t 가구            & 1209.0          &  0.5072558     \\\\\n",
       "\t 건강식품        &  967.0          & -0.5745516     \\\\\n",
       "\t 계절가전        & 1121.5          &  0.1161064     \\\\\n",
       "\t 과일            & 1072.5          & -0.1029372     \\\\\n",
       "\t 구기/필드스포츠 & 1246.0          &  0.6726561     \\\\\n",
       "\t 남성의류        & 1381.0          &  1.2761438     \\\\\n",
       "\\end{tabular}\n"
      ],
      "text/markdown": [
       "\n",
       "CLAC1_NM | mhr | sca_mhr | \n",
       "|---|---|---|---|---|---|\n",
       "| 가구            | 1209.0          |  0.5072558      | \n",
       "| 건강식품        |  967.0          | -0.5745516      | \n",
       "| 계절가전        | 1121.5          |  0.1161064      | \n",
       "| 과일            | 1072.5          | -0.1029372      | \n",
       "| 구기/필드스포츠 | 1246.0          |  0.6726561      | \n",
       "| 남성의류        | 1381.0          |  1.2761438      | \n",
       "\n",
       "\n"
      ],
      "text/plain": [
       "  CLAC1_NM        mhr    sca_mhr   \n",
       "1 가구            1209.0  0.5072558\n",
       "2 건강식품         967.0 -0.5745516\n",
       "3 계절가전        1121.5  0.1161064\n",
       "4 과일            1072.5 -0.1029372\n",
       "5 구기/필드스포츠 1246.0  0.6726561\n",
       "6 남성의류        1381.0  1.2761438"
      ]
     },
     "metadata": {},
     "output_type": "display_data"
    }
   ],
   "source": [
    "med_hr$sca_mhr=scale(med_hr$mhr)                      # 상품군별 세션시간 중앙값 표준화\n",
    "head(med_hr)"
   ]
  },
  {
   "cell_type": "code",
   "execution_count": 15,
   "metadata": {},
   "outputs": [
    {
     "data": {
      "text/html": [
       "<table>\n",
       "<thead><tr><th scope=col>CLAC1_NM</th><th scope=col>msale</th></tr></thead>\n",
       "<tbody>\n",
       "\t<tr><td>가구           </td><td>152250         </td></tr>\n",
       "\t<tr><td>건강식품       </td><td> 56900         </td></tr>\n",
       "\t<tr><td>계절가전       </td><td> 79500         </td></tr>\n",
       "\t<tr><td>과일           </td><td> 22900         </td></tr>\n",
       "\t<tr><td>구기/필드스포츠</td><td> 27000         </td></tr>\n",
       "\t<tr><td>남성의류       </td><td> 19000         </td></tr>\n",
       "</tbody>\n",
       "</table>\n"
      ],
      "text/latex": [
       "\\begin{tabular}{r|ll}\n",
       " CLAC1\\_NM & msale\\\\\n",
       "\\hline\n",
       "\t 가구            & 152250         \\\\\n",
       "\t 건강식품        &  56900         \\\\\n",
       "\t 계절가전        &  79500         \\\\\n",
       "\t 과일            &  22900         \\\\\n",
       "\t 구기/필드스포츠 &  27000         \\\\\n",
       "\t 남성의류        &  19000         \\\\\n",
       "\\end{tabular}\n"
      ],
      "text/markdown": [
       "\n",
       "CLAC1_NM | msale | \n",
       "|---|---|---|---|---|---|\n",
       "| 가구            | 152250          | \n",
       "| 건강식품        |  56900          | \n",
       "| 계절가전        |  79500          | \n",
       "| 과일            |  22900          | \n",
       "| 구기/필드스포츠 |  27000          | \n",
       "| 남성의류        |  19000          | \n",
       "\n",
       "\n"
      ],
      "text/plain": [
       "  CLAC1_NM        msale \n",
       "1 가구            152250\n",
       "2 건강식품         56900\n",
       "3 계절가전         79500\n",
       "4 과일             22900\n",
       "5 구기/필드스포츠  27000\n",
       "6 남성의류         19000"
      ]
     },
     "metadata": {},
     "output_type": "display_data"
    }
   ],
   "source": [
    "med_sales=all_products %>% group_by(CLAC1_NM) %>% summarise(msale=median(Sales))    # 상품군별 sales 중앙값\n",
    "head(med_sales)"
   ]
  },
  {
   "cell_type": "code",
   "execution_count": 16,
   "metadata": {},
   "outputs": [],
   "source": [
    "normalize=function(x) {\n",
    "    return((x-min(x))/(max(x)-min(x)))\n",
    "}"
   ]
  },
  {
   "cell_type": "code",
   "execution_count": 17,
   "metadata": {},
   "outputs": [
    {
     "data": {
      "text/html": [
       "<table>\n",
       "<thead><tr><th scope=col>CLAC1_NM</th><th scope=col>msale</th><th scope=col>norm_msale</th></tr></thead>\n",
       "<tbody>\n",
       "\t<tr><td>가구           </td><td>152250         </td><td>0.18341298     </td></tr>\n",
       "\t<tr><td>건강식품       </td><td> 56900         </td><td>0.06350604     </td></tr>\n",
       "\t<tr><td>계절가전       </td><td> 79500         </td><td>0.09192656     </td></tr>\n",
       "\t<tr><td>과일           </td><td> 22900         </td><td>0.02074950     </td></tr>\n",
       "\t<tr><td>구기/필드스포츠</td><td> 27000         </td><td>0.02590543     </td></tr>\n",
       "\t<tr><td>남성의류       </td><td> 19000         </td><td>0.01584507     </td></tr>\n",
       "</tbody>\n",
       "</table>\n"
      ],
      "text/latex": [
       "\\begin{tabular}{r|lll}\n",
       " CLAC1\\_NM & msale & norm\\_msale\\\\\n",
       "\\hline\n",
       "\t 가구            & 152250          & 0.18341298     \\\\\n",
       "\t 건강식품        &  56900          & 0.06350604     \\\\\n",
       "\t 계절가전        &  79500          & 0.09192656     \\\\\n",
       "\t 과일            &  22900          & 0.02074950     \\\\\n",
       "\t 구기/필드스포츠 &  27000          & 0.02590543     \\\\\n",
       "\t 남성의류        &  19000          & 0.01584507     \\\\\n",
       "\\end{tabular}\n"
      ],
      "text/markdown": [
       "\n",
       "CLAC1_NM | msale | norm_msale | \n",
       "|---|---|---|---|---|---|\n",
       "| 가구            | 152250          | 0.18341298      | \n",
       "| 건강식품        |  56900          | 0.06350604      | \n",
       "| 계절가전        |  79500          | 0.09192656      | \n",
       "| 과일            |  22900          | 0.02074950      | \n",
       "| 구기/필드스포츠 |  27000          | 0.02590543      | \n",
       "| 남성의류        |  19000          | 0.01584507      | \n",
       "\n",
       "\n"
      ],
      "text/plain": [
       "  CLAC1_NM        msale  norm_msale\n",
       "1 가구            152250 0.18341298\n",
       "2 건강식품         56900 0.06350604\n",
       "3 계절가전         79500 0.09192656\n",
       "4 과일             22900 0.02074950\n",
       "5 구기/필드스포츠  27000 0.02590543\n",
       "6 남성의류         19000 0.01584507"
      ]
     },
     "metadata": {},
     "output_type": "display_data"
    }
   ],
   "source": [
    "med_sales$norm_msale=normalize(med_sales$msale)                      # 상품군별 sales 중앙값 정규화\n",
    "head(med_sales)"
   ]
  },
  {
   "cell_type": "code",
   "execution_count": 18,
   "metadata": {},
   "outputs": [
    {
     "data": {
      "text/html": [
       "<table>\n",
       "<thead><tr><th scope=col>CLAC1_NM</th><th scope=col>mhit</th><th scope=col>sca_mhit</th><th scope=col>mhr</th><th scope=col>sca_mhr</th><th scope=col>msale</th><th scope=col>norm_msale</th></tr></thead>\n",
       "<tbody>\n",
       "\t<tr><td>가구           </td><td>40             </td><td>-0.4575656     </td><td>1209.0         </td><td> 0.5072558     </td><td>152250         </td><td>0.18341298     </td></tr>\n",
       "\t<tr><td>건강식품       </td><td>41             </td><td>-0.3408075     </td><td> 967.0         </td><td>-0.5745516     </td><td> 56900         </td><td>0.06350604     </td></tr>\n",
       "\t<tr><td>계절가전       </td><td>42             </td><td>-0.2240493     </td><td>1121.5         </td><td> 0.1161064     </td><td> 79500         </td><td>0.09192656     </td></tr>\n",
       "\t<tr><td>과일           </td><td>41             </td><td>-0.3408075     </td><td>1072.5         </td><td>-0.1029372     </td><td> 22900         </td><td>0.02074950     </td></tr>\n",
       "\t<tr><td>구기/필드스포츠</td><td>48             </td><td> 0.4764993     </td><td>1246.0         </td><td> 0.6726561     </td><td> 27000         </td><td>0.02590543     </td></tr>\n",
       "\t<tr><td>남성의류       </td><td>58             </td><td> 1.6440804     </td><td>1381.0         </td><td> 1.2761438     </td><td> 19000         </td><td>0.01584507     </td></tr>\n",
       "</tbody>\n",
       "</table>\n"
      ],
      "text/latex": [
       "\\begin{tabular}{r|lllllll}\n",
       " CLAC1\\_NM & mhit & sca\\_mhit & mhr & sca\\_mhr & msale & norm\\_msale\\\\\n",
       "\\hline\n",
       "\t 가구            & 40              & -0.4575656      & 1209.0          &  0.5072558      & 152250          & 0.18341298     \\\\\n",
       "\t 건강식품        & 41              & -0.3408075      &  967.0          & -0.5745516      &  56900          & 0.06350604     \\\\\n",
       "\t 계절가전        & 42              & -0.2240493      & 1121.5          &  0.1161064      &  79500          & 0.09192656     \\\\\n",
       "\t 과일            & 41              & -0.3408075      & 1072.5          & -0.1029372      &  22900          & 0.02074950     \\\\\n",
       "\t 구기/필드스포츠 & 48              &  0.4764993      & 1246.0          &  0.6726561      &  27000          & 0.02590543     \\\\\n",
       "\t 남성의류        & 58              &  1.6440804      & 1381.0          &  1.2761438      &  19000          & 0.01584507     \\\\\n",
       "\\end{tabular}\n"
      ],
      "text/markdown": [
       "\n",
       "CLAC1_NM | mhit | sca_mhit | mhr | sca_mhr | msale | norm_msale | \n",
       "|---|---|---|---|---|---|\n",
       "| 가구            | 40              | -0.4575656      | 1209.0          |  0.5072558      | 152250          | 0.18341298      | \n",
       "| 건강식품        | 41              | -0.3408075      |  967.0          | -0.5745516      |  56900          | 0.06350604      | \n",
       "| 계절가전        | 42              | -0.2240493      | 1121.5          |  0.1161064      |  79500          | 0.09192656      | \n",
       "| 과일            | 41              | -0.3408075      | 1072.5          | -0.1029372      |  22900          | 0.02074950      | \n",
       "| 구기/필드스포츠 | 48              |  0.4764993      | 1246.0          |  0.6726561      |  27000          | 0.02590543      | \n",
       "| 남성의류        | 58              |  1.6440804      | 1381.0          |  1.2761438      |  19000          | 0.01584507      | \n",
       "\n",
       "\n"
      ],
      "text/plain": [
       "  CLAC1_NM        mhit sca_mhit   mhr    sca_mhr    msale  norm_msale\n",
       "1 가구            40   -0.4575656 1209.0  0.5072558 152250 0.18341298\n",
       "2 건강식품        41   -0.3408075  967.0 -0.5745516  56900 0.06350604\n",
       "3 계절가전        42   -0.2240493 1121.5  0.1161064  79500 0.09192656\n",
       "4 과일            41   -0.3408075 1072.5 -0.1029372  22900 0.02074950\n",
       "5 구기/필드스포츠 48    0.4764993 1246.0  0.6726561  27000 0.02590543\n",
       "6 남성의류        58    1.6440804 1381.0  1.2761438  19000 0.01584507"
      ]
     },
     "metadata": {},
     "output_type": "display_data"
    }
   ],
   "source": [
    "CLAC1=left_join(med_hits,med_hr,by=\"CLAC1_NM\")\n",
    "CLAC1=left_join(CLAC1,med_sales,by=\"CLAC1_NM\")\n",
    "head(CLAC1)"
   ]
  },
  {
   "cell_type": "code",
   "execution_count": 19,
   "metadata": {},
   "outputs": [],
   "source": [
    "n_CLAC1=all_products %>% group_by(CLAC1_NM) %>% summarise(n=n())       # 상품군별 구매횟수\n",
    "n_all=nrow(all_products)          # 상품군 전체 구매횟수"
   ]
  },
  {
   "cell_type": "code",
   "execution_count": 20,
   "metadata": {},
   "outputs": [],
   "source": [
    "CLAC1_rate=n_CLAC1 %>% group_by(CLAC1_NM) %>% summarise(n_rate=n/n_all)   # 상품군별 구매횟수 / 상품군 전체 구매횟수 = 상품군별 구매횟수비율"
   ]
  },
  {
   "cell_type": "code",
   "execution_count": 21,
   "metadata": {},
   "outputs": [
    {
     "data": {
      "text/html": [
       "<table>\n",
       "<thead><tr><th scope=col>CLAC1_NM</th><th scope=col>n_rate</th></tr></thead>\n",
       "<tbody>\n",
       "\t<tr><td>가구           </td><td>0.008645485    </td></tr>\n",
       "\t<tr><td>건강식품       </td><td>0.024588972    </td></tr>\n",
       "\t<tr><td>계절가전       </td><td>0.002761105    </td></tr>\n",
       "\t<tr><td>과일           </td><td>0.004995488    </td></tr>\n",
       "\t<tr><td>구기/필드스포츠</td><td>0.006749168    </td></tr>\n",
       "\t<tr><td>남성의류       </td><td>0.110452355    </td></tr>\n",
       "</tbody>\n",
       "</table>\n"
      ],
      "text/latex": [
       "\\begin{tabular}{r|ll}\n",
       " CLAC1\\_NM & n\\_rate\\\\\n",
       "\\hline\n",
       "\t 가구            & 0.008645485    \\\\\n",
       "\t 건강식품        & 0.024588972    \\\\\n",
       "\t 계절가전        & 0.002761105    \\\\\n",
       "\t 과일            & 0.004995488    \\\\\n",
       "\t 구기/필드스포츠 & 0.006749168    \\\\\n",
       "\t 남성의류        & 0.110452355    \\\\\n",
       "\\end{tabular}\n"
      ],
      "text/markdown": [
       "\n",
       "CLAC1_NM | n_rate | \n",
       "|---|---|---|---|---|---|\n",
       "| 가구            | 0.008645485     | \n",
       "| 건강식품        | 0.024588972     | \n",
       "| 계절가전        | 0.002761105     | \n",
       "| 과일            | 0.004995488     | \n",
       "| 구기/필드스포츠 | 0.006749168     | \n",
       "| 남성의류        | 0.110452355     | \n",
       "\n",
       "\n"
      ],
      "text/plain": [
       "  CLAC1_NM        n_rate     \n",
       "1 가구            0.008645485\n",
       "2 건강식품        0.024588972\n",
       "3 계절가전        0.002761105\n",
       "4 과일            0.004995488\n",
       "5 구기/필드스포츠 0.006749168\n",
       "6 남성의류        0.110452355"
      ]
     },
     "metadata": {},
     "output_type": "display_data"
    }
   ],
   "source": [
    "head(CLAC1_rate)"
   ]
  },
  {
   "cell_type": "code",
   "execution_count": 22,
   "metadata": {},
   "outputs": [
    {
     "data": {
      "text/html": [
       "<table>\n",
       "<thead><tr><th scope=col>CLAC1_NM</th><th scope=col>mhit</th><th scope=col>sca_mhit</th><th scope=col>mhr</th><th scope=col>sca_mhr</th><th scope=col>msale</th><th scope=col>norm_msale</th><th scope=col>n_rate</th></tr></thead>\n",
       "<tbody>\n",
       "\t<tr><td>가구           </td><td>40             </td><td>-0.4575656     </td><td>1209.0         </td><td> 0.5072558     </td><td>152250         </td><td>0.18341298     </td><td>0.008645485    </td></tr>\n",
       "\t<tr><td>건강식품       </td><td>41             </td><td>-0.3408075     </td><td> 967.0         </td><td>-0.5745516     </td><td> 56900         </td><td>0.06350604     </td><td>0.024588972    </td></tr>\n",
       "\t<tr><td>계절가전       </td><td>42             </td><td>-0.2240493     </td><td>1121.5         </td><td> 0.1161064     </td><td> 79500         </td><td>0.09192656     </td><td>0.002761105    </td></tr>\n",
       "\t<tr><td>과일           </td><td>41             </td><td>-0.3408075     </td><td>1072.5         </td><td>-0.1029372     </td><td> 22900         </td><td>0.02074950     </td><td>0.004995488    </td></tr>\n",
       "\t<tr><td>구기/필드스포츠</td><td>48             </td><td> 0.4764993     </td><td>1246.0         </td><td> 0.6726561     </td><td> 27000         </td><td>0.02590543     </td><td>0.006749168    </td></tr>\n",
       "\t<tr><td>남성의류       </td><td>58             </td><td> 1.6440804     </td><td>1381.0         </td><td> 1.2761438     </td><td> 19000         </td><td>0.01584507     </td><td>0.110452355    </td></tr>\n",
       "</tbody>\n",
       "</table>\n"
      ],
      "text/latex": [
       "\\begin{tabular}{r|llllllll}\n",
       " CLAC1\\_NM & mhit & sca\\_mhit & mhr & sca\\_mhr & msale & norm\\_msale & n\\_rate\\\\\n",
       "\\hline\n",
       "\t 가구            & 40              & -0.4575656      & 1209.0          &  0.5072558      & 152250          & 0.18341298      & 0.008645485    \\\\\n",
       "\t 건강식품        & 41              & -0.3408075      &  967.0          & -0.5745516      &  56900          & 0.06350604      & 0.024588972    \\\\\n",
       "\t 계절가전        & 42              & -0.2240493      & 1121.5          &  0.1161064      &  79500          & 0.09192656      & 0.002761105    \\\\\n",
       "\t 과일            & 41              & -0.3408075      & 1072.5          & -0.1029372      &  22900          & 0.02074950      & 0.004995488    \\\\\n",
       "\t 구기/필드스포츠 & 48              &  0.4764993      & 1246.0          &  0.6726561      &  27000          & 0.02590543      & 0.006749168    \\\\\n",
       "\t 남성의류        & 58              &  1.6440804      & 1381.0          &  1.2761438      &  19000          & 0.01584507      & 0.110452355    \\\\\n",
       "\\end{tabular}\n"
      ],
      "text/markdown": [
       "\n",
       "CLAC1_NM | mhit | sca_mhit | mhr | sca_mhr | msale | norm_msale | n_rate | \n",
       "|---|---|---|---|---|---|\n",
       "| 가구            | 40              | -0.4575656      | 1209.0          |  0.5072558      | 152250          | 0.18341298      | 0.008645485     | \n",
       "| 건강식품        | 41              | -0.3408075      |  967.0          | -0.5745516      |  56900          | 0.06350604      | 0.024588972     | \n",
       "| 계절가전        | 42              | -0.2240493      | 1121.5          |  0.1161064      |  79500          | 0.09192656      | 0.002761105     | \n",
       "| 과일            | 41              | -0.3408075      | 1072.5          | -0.1029372      |  22900          | 0.02074950      | 0.004995488     | \n",
       "| 구기/필드스포츠 | 48              |  0.4764993      | 1246.0          |  0.6726561      |  27000          | 0.02590543      | 0.006749168     | \n",
       "| 남성의류        | 58              |  1.6440804      | 1381.0          |  1.2761438      |  19000          | 0.01584507      | 0.110452355     | \n",
       "\n",
       "\n"
      ],
      "text/plain": [
       "  CLAC1_NM        mhit sca_mhit   mhr    sca_mhr    msale  norm_msale\n",
       "1 가구            40   -0.4575656 1209.0  0.5072558 152250 0.18341298\n",
       "2 건강식품        41   -0.3408075  967.0 -0.5745516  56900 0.06350604\n",
       "3 계절가전        42   -0.2240493 1121.5  0.1161064  79500 0.09192656\n",
       "4 과일            41   -0.3408075 1072.5 -0.1029372  22900 0.02074950\n",
       "5 구기/필드스포츠 48    0.4764993 1246.0  0.6726561  27000 0.02590543\n",
       "6 남성의류        58    1.6440804 1381.0  1.2761438  19000 0.01584507\n",
       "  n_rate     \n",
       "1 0.008645485\n",
       "2 0.024588972\n",
       "3 0.002761105\n",
       "4 0.004995488\n",
       "5 0.006749168\n",
       "6 0.110452355"
      ]
     },
     "metadata": {},
     "output_type": "display_data"
    }
   ],
   "source": [
    "CLAC1=left_join(CLAC1,CLAC1_rate,by=\"CLAC1_NM\")\n",
    "head(CLAC1)"
   ]
  },
  {
   "cell_type": "code",
   "execution_count": 23,
   "metadata": {
    "scrolled": true
   },
   "outputs": [
    {
     "data": {
      "text/plain": [
       "\n",
       "Call:\n",
       "lm(formula = n_rate ~ sca_mhit + sca_mhr + norm_msale, data = CLAC1)\n",
       "\n",
       "Residuals:\n",
       "      Min        1Q    Median        3Q       Max \n",
       "-0.061348 -0.012035 -0.008014  0.003656  0.079923 \n",
       "\n",
       "Coefficients:\n",
       "             Estimate Std. Error t value Pr(>|t|)    \n",
       "(Intercept)  0.025717   0.005428   4.738 3.99e-05 ***\n",
       "sca_mhit     0.039021   0.009720   4.014 0.000323 ***\n",
       "sca_mhr     -0.016736   0.009639  -1.736 0.091859 .  \n",
       "norm_msale   0.016765   0.032277   0.519 0.606946    \n",
       "---\n",
       "Signif. codes:  0 '***' 0.001 '**' 0.01 '*' 0.05 '.' 0.1 ' ' 1\n",
       "\n",
       "Residual standard error: 0.02924 on 33 degrees of freedom\n",
       "Multiple R-squared:  0.4711,\tAdjusted R-squared:  0.4231 \n",
       "F-statistic:   9.8 on 3 and 33 DF,  p-value: 9.033e-05\n"
      ]
     },
     "metadata": {},
     "output_type": "display_data"
    }
   ],
   "source": [
    "CLAC1_regression=lm(n_rate ~ sca_mhit+sca_mhr+norm_msale,CLAC1)     # 히트수, 세션시간, 판매금액과 구매비율 회귀 \n",
    "summary(CLAC1_regression)"
   ]
  },
  {
   "cell_type": "code",
   "execution_count": 24,
   "metadata": {},
   "outputs": [],
   "source": [
    "pref=all_products %>% select(CLAC1_NM,HITS_SEQ,TOT_SESS_HR_V,Sales)"
   ]
  },
  {
   "cell_type": "code",
   "execution_count": 25,
   "metadata": {
    "scrolled": true
   },
   "outputs": [
    {
     "data": {
      "text/html": [
       "<table>\n",
       "<thead><tr><th scope=col>CLAC1_NM</th><th scope=col>HITS_SEQ</th><th scope=col>TOT_SESS_HR_V</th><th scope=col>Sales</th><th scope=col>nhit</th><th scope=col>nhr</th><th scope=col>nsale</th></tr></thead>\n",
       "<tbody>\n",
       "\t<tr><td>패션잡화    </td><td> 74         </td><td> 468        </td><td>38000       </td><td>0.14457831  </td><td>0.011899616 </td><td>0.0009741028</td></tr>\n",
       "\t<tr><td>패션잡화    </td><td> 40         </td><td> 366        </td><td>38000       </td><td>0.07630522  </td><td>0.009306110 </td><td>0.0009741028</td></tr>\n",
       "\t<tr><td>패션잡화    </td><td>284         </td><td>7098        </td><td>39900       </td><td>0.56626506  </td><td>0.180477510 </td><td>0.0010228208</td></tr>\n",
       "\t<tr><td>패션잡화    </td><td>284         </td><td>7098        </td><td>29900       </td><td>0.56626506  </td><td>0.180477510 </td><td>0.0007664105</td></tr>\n",
       "\t<tr><td>음료        </td><td>  8         </td><td>  99        </td><td>47000       </td><td>0.01204819  </td><td>0.002517226 </td><td>0.0012048721</td></tr>\n",
       "\t<tr><td>음료        </td><td> 11         </td><td> 242        </td><td>92000       </td><td>0.01807229  </td><td>0.006153220 </td><td>0.0023587186</td></tr>\n",
       "</tbody>\n",
       "</table>\n"
      ],
      "text/latex": [
       "\\begin{tabular}{r|lllllll}\n",
       " CLAC1\\_NM & HITS\\_SEQ & TOT\\_SESS\\_HR\\_V & Sales & nhit & nhr & nsale\\\\\n",
       "\\hline\n",
       "\t 패션잡화     &  74          &  468         & 38000        & 0.14457831   & 0.011899616  & 0.0009741028\\\\\n",
       "\t 패션잡화     &  40          &  366         & 38000        & 0.07630522   & 0.009306110  & 0.0009741028\\\\\n",
       "\t 패션잡화     & 284          & 7098         & 39900        & 0.56626506   & 0.180477510  & 0.0010228208\\\\\n",
       "\t 패션잡화     & 284          & 7098         & 29900        & 0.56626506   & 0.180477510  & 0.0007664105\\\\\n",
       "\t 음료         &   8          &   99         & 47000        & 0.01204819   & 0.002517226  & 0.0012048721\\\\\n",
       "\t 음료         &  11          &  242         & 92000        & 0.01807229   & 0.006153220  & 0.0023587186\\\\\n",
       "\\end{tabular}\n"
      ],
      "text/markdown": [
       "\n",
       "CLAC1_NM | HITS_SEQ | TOT_SESS_HR_V | Sales | nhit | nhr | nsale | \n",
       "|---|---|---|---|---|---|\n",
       "| 패션잡화     |  74          |  468         | 38000        | 0.14457831   | 0.011899616  | 0.0009741028 | \n",
       "| 패션잡화     |  40          |  366         | 38000        | 0.07630522   | 0.009306110  | 0.0009741028 | \n",
       "| 패션잡화     | 284          | 7098         | 39900        | 0.56626506   | 0.180477510  | 0.0010228208 | \n",
       "| 패션잡화     | 284          | 7098         | 29900        | 0.56626506   | 0.180477510  | 0.0007664105 | \n",
       "| 음료         |   8          |   99         | 47000        | 0.01204819   | 0.002517226  | 0.0012048721 | \n",
       "| 음료         |  11          |  242         | 92000        | 0.01807229   | 0.006153220  | 0.0023587186 | \n",
       "\n",
       "\n"
      ],
      "text/plain": [
       "  CLAC1_NM HITS_SEQ TOT_SESS_HR_V Sales nhit       nhr         nsale       \n",
       "1 패션잡화  74       468          38000 0.14457831 0.011899616 0.0009741028\n",
       "2 패션잡화  40       366          38000 0.07630522 0.009306110 0.0009741028\n",
       "3 패션잡화 284      7098          39900 0.56626506 0.180477510 0.0010228208\n",
       "4 패션잡화 284      7098          29900 0.56626506 0.180477510 0.0007664105\n",
       "5 음료       8        99          47000 0.01204819 0.002517226 0.0012048721\n",
       "6 음료      11       242          92000 0.01807229 0.006153220 0.0023587186"
      ]
     },
     "metadata": {},
     "output_type": "display_data"
    }
   ],
   "source": [
    "pref$nhit=normalize(pref$HITS_SEQ)\n",
    "pref$nhr=normalize(pref$TOT_SESS_HR_V)               # 전체 구매데이터에서 쓸 변수 정규화\n",
    "pref$nsale=normalize(pref$Sales)\n",
    "head(pref)"
   ]
  },
  {
   "cell_type": "code",
   "execution_count": 26,
   "metadata": {},
   "outputs": [
    {
     "data": {
      "text/html": [
       "<table>\n",
       "<thead><tr><th scope=col>CLAC1_NM</th><th scope=col>HITS_SEQ</th><th scope=col>TOT_SESS_HR_V</th><th scope=col>Sales</th><th scope=col>nhit</th><th scope=col>nhr</th><th scope=col>nsale</th><th scope=col>xhit</th><th scope=col>xhr</th><th scope=col>xsales</th><th scope=col>inter</th></tr></thead>\n",
       "<tbody>\n",
       "\t<tr><td>패션잡화     </td><td> 74          </td><td> 468         </td><td>38000        </td><td>0.14457831   </td><td>0.011899616  </td><td>0.0009741028 </td><td>0.0056415904 </td><td>-0.0001991520</td><td>1.633083e-05 </td><td>0.025717     </td></tr>\n",
       "\t<tr><td>패션잡화     </td><td> 40          </td><td> 366         </td><td>38000        </td><td>0.07630522   </td><td>0.009306110  </td><td>0.0009741028 </td><td>0.0029775060 </td><td>-0.0001557471</td><td>1.633083e-05 </td><td>0.025717     </td></tr>\n",
       "\t<tr><td>패션잡화     </td><td>284          </td><td>7098         </td><td>39900        </td><td>0.56626506   </td><td>0.180477510  </td><td>0.0010228208 </td><td>0.0220962289 </td><td>-0.0030204716</td><td>1.714759e-05 </td><td>0.025717     </td></tr>\n",
       "\t<tr><td>패션잡화     </td><td>284          </td><td>7098         </td><td>29900        </td><td>0.56626506   </td><td>0.180477510  </td><td>0.0007664105 </td><td>0.0220962289 </td><td>-0.0030204716</td><td>1.284887e-05 </td><td>0.025717     </td></tr>\n",
       "\t<tr><td>음료         </td><td>  8          </td><td>  99         </td><td>47000        </td><td>0.01204819   </td><td>0.002517226  </td><td>0.0012048721 </td><td>0.0004701325 </td><td>-0.0000421283</td><td>2.019968e-05 </td><td>0.025717     </td></tr>\n",
       "\t<tr><td>음료         </td><td> 11          </td><td> 242         </td><td>92000        </td><td>0.01807229   </td><td>0.006153220  </td><td>0.0023587186 </td><td>0.0007051988 </td><td>-0.0001029803</td><td>3.954392e-05 </td><td>0.025717     </td></tr>\n",
       "</tbody>\n",
       "</table>\n"
      ],
      "text/latex": [
       "\\begin{tabular}{r|lllllllllll}\n",
       " CLAC1\\_NM & HITS\\_SEQ & TOT\\_SESS\\_HR\\_V & Sales & nhit & nhr & nsale & xhit & xhr & xsales & inter\\\\\n",
       "\\hline\n",
       "\t 패션잡화      &  74           &  468          & 38000         & 0.14457831    & 0.011899616   & 0.0009741028  & 0.0056415904  & -0.0001991520 & 1.633083e-05  & 0.025717     \\\\\n",
       "\t 패션잡화      &  40           &  366          & 38000         & 0.07630522    & 0.009306110   & 0.0009741028  & 0.0029775060  & -0.0001557471 & 1.633083e-05  & 0.025717     \\\\\n",
       "\t 패션잡화      & 284           & 7098          & 39900         & 0.56626506    & 0.180477510   & 0.0010228208  & 0.0220962289  & -0.0030204716 & 1.714759e-05  & 0.025717     \\\\\n",
       "\t 패션잡화      & 284           & 7098          & 29900         & 0.56626506    & 0.180477510   & 0.0007664105  & 0.0220962289  & -0.0030204716 & 1.284887e-05  & 0.025717     \\\\\n",
       "\t 음료          &   8           &   99          & 47000         & 0.01204819    & 0.002517226   & 0.0012048721  & 0.0004701325  & -0.0000421283 & 2.019968e-05  & 0.025717     \\\\\n",
       "\t 음료          &  11           &  242          & 92000         & 0.01807229    & 0.006153220   & 0.0023587186  & 0.0007051988  & -0.0001029803 & 3.954392e-05  & 0.025717     \\\\\n",
       "\\end{tabular}\n"
      ],
      "text/markdown": [
       "\n",
       "CLAC1_NM | HITS_SEQ | TOT_SESS_HR_V | Sales | nhit | nhr | nsale | xhit | xhr | xsales | inter | \n",
       "|---|---|---|---|---|---|\n",
       "| 패션잡화      |  74           |  468          | 38000         | 0.14457831    | 0.011899616   | 0.0009741028  | 0.0056415904  | -0.0001991520 | 1.633083e-05  | 0.025717      | \n",
       "| 패션잡화      |  40           |  366          | 38000         | 0.07630522    | 0.009306110   | 0.0009741028  | 0.0029775060  | -0.0001557471 | 1.633083e-05  | 0.025717      | \n",
       "| 패션잡화      | 284           | 7098          | 39900         | 0.56626506    | 0.180477510   | 0.0010228208  | 0.0220962289  | -0.0030204716 | 1.714759e-05  | 0.025717      | \n",
       "| 패션잡화      | 284           | 7098          | 29900         | 0.56626506    | 0.180477510   | 0.0007664105  | 0.0220962289  | -0.0030204716 | 1.284887e-05  | 0.025717      | \n",
       "| 음료          |   8           |   99          | 47000         | 0.01204819    | 0.002517226   | 0.0012048721  | 0.0004701325  | -0.0000421283 | 2.019968e-05  | 0.025717      | \n",
       "| 음료          |  11           |  242          | 92000         | 0.01807229    | 0.006153220   | 0.0023587186  | 0.0007051988  | -0.0001029803 | 3.954392e-05  | 0.025717      | \n",
       "\n",
       "\n"
      ],
      "text/plain": [
       "  CLAC1_NM HITS_SEQ TOT_SESS_HR_V Sales nhit       nhr         nsale       \n",
       "1 패션잡화  74       468          38000 0.14457831 0.011899616 0.0009741028\n",
       "2 패션잡화  40       366          38000 0.07630522 0.009306110 0.0009741028\n",
       "3 패션잡화 284      7098          39900 0.56626506 0.180477510 0.0010228208\n",
       "4 패션잡화 284      7098          29900 0.56626506 0.180477510 0.0007664105\n",
       "5 음료       8        99          47000 0.01204819 0.002517226 0.0012048721\n",
       "6 음료      11       242          92000 0.01807229 0.006153220 0.0023587186\n",
       "  xhit         xhr           xsales       inter   \n",
       "1 0.0056415904 -0.0001991520 1.633083e-05 0.025717\n",
       "2 0.0029775060 -0.0001557471 1.633083e-05 0.025717\n",
       "3 0.0220962289 -0.0030204716 1.714759e-05 0.025717\n",
       "4 0.0220962289 -0.0030204716 1.284887e-05 0.025717\n",
       "5 0.0004701325 -0.0000421283 2.019968e-05 0.025717\n",
       "6 0.0007051988 -0.0001029803 3.954392e-05 0.025717"
      ]
     },
     "metadata": {},
     "output_type": "display_data"
    }
   ],
   "source": [
    "pref$xhit=pref$nhit*0.039021\n",
    "pref$xhr=pref$nhr*(-0.016736)\n",
    "pref$xsales=pref$nsale*0.016765\n",
    "pref$inter=pref$Sales*0+0.025717               # 정규화한 변수에 회귀계수(가중치) 곱하기\n",
    "head(pref)                                     # 500만개의 데이터가 나온다"
   ]
  },
  {
   "cell_type": "code",
   "execution_count": 27,
   "metadata": {},
   "outputs": [
    {
     "data": {
      "text/html": [
       "<table>\n",
       "<thead><tr><th scope=col>CLAC1_NM</th><th scope=col>HITS_SEQ</th><th scope=col>TOT_SESS_HR_V</th><th scope=col>Sales</th><th scope=col>nhit</th><th scope=col>nhr</th><th scope=col>nsale</th><th scope=col>xhit</th><th scope=col>xhr</th><th scope=col>xsales</th><th scope=col>inter</th><th scope=col>y</th></tr></thead>\n",
       "<tbody>\n",
       "\t<tr><td>패션잡화     </td><td> 74          </td><td> 468         </td><td>38000        </td><td>0.14457831   </td><td>0.011899616  </td><td>0.0009741028 </td><td>0.0056415904 </td><td>-0.0001991520</td><td>1.633083e-05 </td><td>0.025717     </td><td>0.03117577   </td></tr>\n",
       "\t<tr><td>패션잡화     </td><td> 40          </td><td> 366         </td><td>38000        </td><td>0.07630522   </td><td>0.009306110  </td><td>0.0009741028 </td><td>0.0029775060 </td><td>-0.0001557471</td><td>1.633083e-05 </td><td>0.025717     </td><td>0.02855509   </td></tr>\n",
       "\t<tr><td>패션잡화     </td><td>284          </td><td>7098         </td><td>39900        </td><td>0.56626506   </td><td>0.180477510  </td><td>0.0010228208 </td><td>0.0220962289 </td><td>-0.0030204716</td><td>1.714759e-05 </td><td>0.025717     </td><td>0.04480990   </td></tr>\n",
       "\t<tr><td>패션잡화     </td><td>284          </td><td>7098         </td><td>29900        </td><td>0.56626506   </td><td>0.180477510  </td><td>0.0007664105 </td><td>0.0220962289 </td><td>-0.0030204716</td><td>1.284887e-05 </td><td>0.025717     </td><td>0.04480561   </td></tr>\n",
       "\t<tr><td>음료         </td><td>  8          </td><td>  99         </td><td>47000        </td><td>0.01204819   </td><td>0.002517226  </td><td>0.0012048721 </td><td>0.0004701325 </td><td>-0.0000421283</td><td>2.019968e-05 </td><td>0.025717     </td><td>0.02616520   </td></tr>\n",
       "\t<tr><td>음료         </td><td> 11          </td><td> 242         </td><td>92000        </td><td>0.01807229   </td><td>0.006153220  </td><td>0.0023587186 </td><td>0.0007051988 </td><td>-0.0001029803</td><td>3.954392e-05 </td><td>0.025717     </td><td>0.02635876   </td></tr>\n",
       "</tbody>\n",
       "</table>\n"
      ],
      "text/latex": [
       "\\begin{tabular}{r|llllllllllll}\n",
       " CLAC1\\_NM & HITS\\_SEQ & TOT\\_SESS\\_HR\\_V & Sales & nhit & nhr & nsale & xhit & xhr & xsales & inter & y\\\\\n",
       "\\hline\n",
       "\t 패션잡화      &  74           &  468          & 38000         & 0.14457831    & 0.011899616   & 0.0009741028  & 0.0056415904  & -0.0001991520 & 1.633083e-05  & 0.025717      & 0.03117577   \\\\\n",
       "\t 패션잡화      &  40           &  366          & 38000         & 0.07630522    & 0.009306110   & 0.0009741028  & 0.0029775060  & -0.0001557471 & 1.633083e-05  & 0.025717      & 0.02855509   \\\\\n",
       "\t 패션잡화      & 284           & 7098          & 39900         & 0.56626506    & 0.180477510   & 0.0010228208  & 0.0220962289  & -0.0030204716 & 1.714759e-05  & 0.025717      & 0.04480990   \\\\\n",
       "\t 패션잡화      & 284           & 7098          & 29900         & 0.56626506    & 0.180477510   & 0.0007664105  & 0.0220962289  & -0.0030204716 & 1.284887e-05  & 0.025717      & 0.04480561   \\\\\n",
       "\t 음료          &   8           &   99          & 47000         & 0.01204819    & 0.002517226   & 0.0012048721  & 0.0004701325  & -0.0000421283 & 2.019968e-05  & 0.025717      & 0.02616520   \\\\\n",
       "\t 음료          &  11           &  242          & 92000         & 0.01807229    & 0.006153220   & 0.0023587186  & 0.0007051988  & -0.0001029803 & 3.954392e-05  & 0.025717      & 0.02635876   \\\\\n",
       "\\end{tabular}\n"
      ],
      "text/markdown": [
       "\n",
       "CLAC1_NM | HITS_SEQ | TOT_SESS_HR_V | Sales | nhit | nhr | nsale | xhit | xhr | xsales | inter | y | \n",
       "|---|---|---|---|---|---|\n",
       "| 패션잡화      |  74           |  468          | 38000         | 0.14457831    | 0.011899616   | 0.0009741028  | 0.0056415904  | -0.0001991520 | 1.633083e-05  | 0.025717      | 0.03117577    | \n",
       "| 패션잡화      |  40           |  366          | 38000         | 0.07630522    | 0.009306110   | 0.0009741028  | 0.0029775060  | -0.0001557471 | 1.633083e-05  | 0.025717      | 0.02855509    | \n",
       "| 패션잡화      | 284           | 7098          | 39900         | 0.56626506    | 0.180477510   | 0.0010228208  | 0.0220962289  | -0.0030204716 | 1.714759e-05  | 0.025717      | 0.04480990    | \n",
       "| 패션잡화      | 284           | 7098          | 29900         | 0.56626506    | 0.180477510   | 0.0007664105  | 0.0220962289  | -0.0030204716 | 1.284887e-05  | 0.025717      | 0.04480561    | \n",
       "| 음료          |   8           |   99          | 47000         | 0.01204819    | 0.002517226   | 0.0012048721  | 0.0004701325  | -0.0000421283 | 2.019968e-05  | 0.025717      | 0.02616520    | \n",
       "| 음료          |  11           |  242          | 92000         | 0.01807229    | 0.006153220   | 0.0023587186  | 0.0007051988  | -0.0001029803 | 3.954392e-05  | 0.025717      | 0.02635876    | \n",
       "\n",
       "\n"
      ],
      "text/plain": [
       "  CLAC1_NM HITS_SEQ TOT_SESS_HR_V Sales nhit       nhr         nsale       \n",
       "1 패션잡화  74       468          38000 0.14457831 0.011899616 0.0009741028\n",
       "2 패션잡화  40       366          38000 0.07630522 0.009306110 0.0009741028\n",
       "3 패션잡화 284      7098          39900 0.56626506 0.180477510 0.0010228208\n",
       "4 패션잡화 284      7098          29900 0.56626506 0.180477510 0.0007664105\n",
       "5 음료       8        99          47000 0.01204819 0.002517226 0.0012048721\n",
       "6 음료      11       242          92000 0.01807229 0.006153220 0.0023587186\n",
       "  xhit         xhr           xsales       inter    y         \n",
       "1 0.0056415904 -0.0001991520 1.633083e-05 0.025717 0.03117577\n",
       "2 0.0029775060 -0.0001557471 1.633083e-05 0.025717 0.02855509\n",
       "3 0.0220962289 -0.0030204716 1.714759e-05 0.025717 0.04480990\n",
       "4 0.0220962289 -0.0030204716 1.284887e-05 0.025717 0.04480561\n",
       "5 0.0004701325 -0.0000421283 2.019968e-05 0.025717 0.02616520\n",
       "6 0.0007051988 -0.0001029803 3.954392e-05 0.025717 0.02635876"
      ]
     },
     "metadata": {},
     "output_type": "display_data"
    }
   ],
   "source": [
    "real_pref=pref %>% mutate(y=xhit+xhr+xsales+inter)       # 계수 곱해준 변수들 더하기\n",
    "head(real_pref)"
   ]
  },
  {
   "cell_type": "code",
   "execution_count": 28,
   "metadata": {},
   "outputs": [],
   "source": [
    "real_pref$y=real_pref$y*10"
   ]
  },
  {
   "cell_type": "code",
   "execution_count": 29,
   "metadata": {},
   "outputs": [],
   "source": [
    "pm_norm=function(x) {\n",
    "    return((x - (min(x)-0.01))/((max(x)+0.01) - (min(x)-0.01)))\n",
    "}    # 비율화?"
   ]
  },
  {
   "cell_type": "code",
   "execution_count": 30,
   "metadata": {},
   "outputs": [],
   "source": [
    "real_pref$f_y=pm_norm(real_pref$y)         # 구매상품당 선호지수"
   ]
  },
  {
   "cell_type": "code",
   "execution_count": 31,
   "metadata": {
    "scrolled": true
   },
   "outputs": [],
   "source": [
    "# hist(real_pref$f_y)"
   ]
  },
  {
   "cell_type": "code",
   "execution_count": 32,
   "metadata": {},
   "outputs": [],
   "source": [
    "CLAC1_pref=real_pref %>% group_by(CLAC1_NM) %>% summarise(my=mean(f_y))       # 구매상품당 선호지수를 상품군별로 평균구하기"
   ]
  },
  {
   "cell_type": "code",
   "execution_count": 33,
   "metadata": {},
   "outputs": [
    {
     "data": {
      "text/html": [
       "0.0887780877216363"
      ],
      "text/latex": [
       "0.0887780877216363"
      ],
      "text/markdown": [
       "0.0887780877216363"
      ],
      "text/plain": [
       "[1] 0.08877809"
      ]
     },
     "metadata": {},
     "output_type": "display_data"
    },
    {
     "data": {
      "text/html": [
       "0.911221912278364"
      ],
      "text/latex": [
       "0.911221912278364"
      ],
      "text/markdown": [
       "0.911221912278364"
      ],
      "text/plain": [
       "[1] 0.9112219"
      ]
     },
     "metadata": {},
     "output_type": "display_data"
    }
   ],
   "source": [
    "p_pref=pm_norm(CLAC1_pref$my)\n",
    "min(p_pref);max(p_pref)"
   ]
  },
  {
   "cell_type": "code",
   "execution_count": 34,
   "metadata": {
    "scrolled": false
   },
   "outputs": [
    {
     "data": {
      "text/html": [
       "<table>\n",
       "<thead><tr><th scope=col>CLAC1_NM</th><th scope=col>my</th></tr></thead>\n",
       "<tbody>\n",
       "\t<tr><td>유아동의류        </td><td>0.91122191        </td></tr>\n",
       "\t<tr><td>여성의류          </td><td>0.74130164        </td></tr>\n",
       "\t<tr><td>남성의류          </td><td>0.70221629        </td></tr>\n",
       "\t<tr><td>속옷/양말/홈웨어  </td><td>0.61816427        </td></tr>\n",
       "\t<tr><td>스포츠패션        </td><td>0.61228469        </td></tr>\n",
       "\t<tr><td>시즌스포츠        </td><td>0.61006257        </td></tr>\n",
       "\t<tr><td>패션잡화          </td><td>0.54010086        </td></tr>\n",
       "\t<tr><td>구기/필드스포츠   </td><td>0.50185574        </td></tr>\n",
       "\t<tr><td>헬스/피트니스     </td><td>0.49020573        </td></tr>\n",
       "\t<tr><td>문구/사무용품     </td><td>0.47780437        </td></tr>\n",
       "\t<tr><td>식기/조리기구     </td><td>0.47313565        </td></tr>\n",
       "\t<tr><td>주방잡화          </td><td>0.46736387        </td></tr>\n",
       "\t<tr><td>아웃도어/레저     </td><td>0.46437677        </td></tr>\n",
       "\t<tr><td>침구/수예         </td><td>0.44289718        </td></tr>\n",
       "\t<tr><td>원예/애완         </td><td>0.43252175        </td></tr>\n",
       "\t<tr><td>인테리어/조명     </td><td>0.41654396        </td></tr>\n",
       "\t<tr><td>화장품/뷰티케어   </td><td>0.40635837        </td></tr>\n",
       "\t<tr><td>청소/세탁/욕실용품</td><td>0.40391915        </td></tr>\n",
       "\t<tr><td>건강식품          </td><td>0.37730287        </td></tr>\n",
       "\t<tr><td>퍼스널케어        </td><td>0.37315347        </td></tr>\n",
       "\t<tr><td>냉장/세탁가전     </td><td>0.37144048        </td></tr>\n",
       "\t<tr><td>생활/주방가전     </td><td>0.37076563        </td></tr>\n",
       "\t<tr><td>과일              </td><td>0.36595336        </td></tr>\n",
       "\t<tr><td>출산/육아용품     </td><td>0.36539578        </td></tr>\n",
       "\t<tr><td>축산물            </td><td>0.35275731        </td></tr>\n",
       "\t<tr><td>계절가전          </td><td>0.34328489        </td></tr>\n",
       "\t<tr><td>냉동식품          </td><td>0.34062454        </td></tr>\n",
       "\t<tr><td>가구              </td><td>0.33555328        </td></tr>\n",
       "\t<tr><td>완구              </td><td>0.33161587        </td></tr>\n",
       "\t<tr><td>세제/위생         </td><td>0.32415876        </td></tr>\n",
       "\t<tr><td>모바일            </td><td>0.31872491        </td></tr>\n",
       "\t<tr><td>영상/음향가전     </td><td>0.29337466        </td></tr>\n",
       "\t<tr><td>음료              </td><td>0.27214483        </td></tr>\n",
       "\t<tr><td>컴퓨터            </td><td>0.27198667        </td></tr>\n",
       "\t<tr><td>냉장식품          </td><td>0.23494461        </td></tr>\n",
       "\t<tr><td>자동차용품        </td><td>0.22802380        </td></tr>\n",
       "\t<tr><td>상품권            </td><td>0.08877809        </td></tr>\n",
       "</tbody>\n",
       "</table>\n"
      ],
      "text/latex": [
       "\\begin{tabular}{r|ll}\n",
       " CLAC1\\_NM & my\\\\\n",
       "\\hline\n",
       "\t 유아동의류         & 0.91122191        \\\\\n",
       "\t 여성의류           & 0.74130164        \\\\\n",
       "\t 남성의류           & 0.70221629        \\\\\n",
       "\t 속옷/양말/홈웨어   & 0.61816427        \\\\\n",
       "\t 스포츠패션         & 0.61228469        \\\\\n",
       "\t 시즌스포츠         & 0.61006257        \\\\\n",
       "\t 패션잡화           & 0.54010086        \\\\\n",
       "\t 구기/필드스포츠    & 0.50185574        \\\\\n",
       "\t 헬스/피트니스      & 0.49020573        \\\\\n",
       "\t 문구/사무용품      & 0.47780437        \\\\\n",
       "\t 식기/조리기구      & 0.47313565        \\\\\n",
       "\t 주방잡화           & 0.46736387        \\\\\n",
       "\t 아웃도어/레저      & 0.46437677        \\\\\n",
       "\t 침구/수예          & 0.44289718        \\\\\n",
       "\t 원예/애완          & 0.43252175        \\\\\n",
       "\t 인테리어/조명      & 0.41654396        \\\\\n",
       "\t 화장품/뷰티케어    & 0.40635837        \\\\\n",
       "\t 청소/세탁/욕실용품 & 0.40391915        \\\\\n",
       "\t 건강식품           & 0.37730287        \\\\\n",
       "\t 퍼스널케어         & 0.37315347        \\\\\n",
       "\t 냉장/세탁가전      & 0.37144048        \\\\\n",
       "\t 생활/주방가전      & 0.37076563        \\\\\n",
       "\t 과일               & 0.36595336        \\\\\n",
       "\t 출산/육아용품      & 0.36539578        \\\\\n",
       "\t 축산물             & 0.35275731        \\\\\n",
       "\t 계절가전           & 0.34328489        \\\\\n",
       "\t 냉동식품           & 0.34062454        \\\\\n",
       "\t 가구               & 0.33555328        \\\\\n",
       "\t 완구               & 0.33161587        \\\\\n",
       "\t 세제/위생          & 0.32415876        \\\\\n",
       "\t 모바일             & 0.31872491        \\\\\n",
       "\t 영상/음향가전      & 0.29337466        \\\\\n",
       "\t 음료               & 0.27214483        \\\\\n",
       "\t 컴퓨터             & 0.27198667        \\\\\n",
       "\t 냉장식품           & 0.23494461        \\\\\n",
       "\t 자동차용품         & 0.22802380        \\\\\n",
       "\t 상품권             & 0.08877809        \\\\\n",
       "\\end{tabular}\n"
      ],
      "text/markdown": [
       "\n",
       "CLAC1_NM | my | \n",
       "|---|---|---|---|---|---|---|---|---|---|---|---|---|---|---|---|---|---|---|---|---|---|---|---|---|---|---|---|---|---|---|---|---|---|---|---|---|\n",
       "| 유아동의류         | 0.91122191         | \n",
       "| 여성의류           | 0.74130164         | \n",
       "| 남성의류           | 0.70221629         | \n",
       "| 속옷/양말/홈웨어   | 0.61816427         | \n",
       "| 스포츠패션         | 0.61228469         | \n",
       "| 시즌스포츠         | 0.61006257         | \n",
       "| 패션잡화           | 0.54010086         | \n",
       "| 구기/필드스포츠    | 0.50185574         | \n",
       "| 헬스/피트니스      | 0.49020573         | \n",
       "| 문구/사무용품      | 0.47780437         | \n",
       "| 식기/조리기구      | 0.47313565         | \n",
       "| 주방잡화           | 0.46736387         | \n",
       "| 아웃도어/레저      | 0.46437677         | \n",
       "| 침구/수예          | 0.44289718         | \n",
       "| 원예/애완          | 0.43252175         | \n",
       "| 인테리어/조명      | 0.41654396         | \n",
       "| 화장품/뷰티케어    | 0.40635837         | \n",
       "| 청소/세탁/욕실용품 | 0.40391915         | \n",
       "| 건강식품           | 0.37730287         | \n",
       "| 퍼스널케어         | 0.37315347         | \n",
       "| 냉장/세탁가전      | 0.37144048         | \n",
       "| 생활/주방가전      | 0.37076563         | \n",
       "| 과일               | 0.36595336         | \n",
       "| 출산/육아용품      | 0.36539578         | \n",
       "| 축산물             | 0.35275731         | \n",
       "| 계절가전           | 0.34328489         | \n",
       "| 냉동식품           | 0.34062454         | \n",
       "| 가구               | 0.33555328         | \n",
       "| 완구               | 0.33161587         | \n",
       "| 세제/위생          | 0.32415876         | \n",
       "| 모바일             | 0.31872491         | \n",
       "| 영상/음향가전      | 0.29337466         | \n",
       "| 음료               | 0.27214483         | \n",
       "| 컴퓨터             | 0.27198667         | \n",
       "| 냉장식품           | 0.23494461         | \n",
       "| 자동차용품         | 0.22802380         | \n",
       "| 상품권             | 0.08877809         | \n",
       "\n",
       "\n"
      ],
      "text/plain": [
       "   CLAC1_NM           my        \n",
       "1  유아동의류         0.91122191\n",
       "2  여성의류           0.74130164\n",
       "3  남성의류           0.70221629\n",
       "4  속옷/양말/홈웨어   0.61816427\n",
       "5  스포츠패션         0.61228469\n",
       "6  시즌스포츠         0.61006257\n",
       "7  패션잡화           0.54010086\n",
       "8  구기/필드스포츠    0.50185574\n",
       "9  헬스/피트니스      0.49020573\n",
       "10 문구/사무용품      0.47780437\n",
       "11 식기/조리기구      0.47313565\n",
       "12 주방잡화           0.46736387\n",
       "13 아웃도어/레저      0.46437677\n",
       "14 침구/수예          0.44289718\n",
       "15 원예/애완          0.43252175\n",
       "16 인테리어/조명      0.41654396\n",
       "17 화장품/뷰티케어    0.40635837\n",
       "18 청소/세탁/욕실용품 0.40391915\n",
       "19 건강식품           0.37730287\n",
       "20 퍼스널케어         0.37315347\n",
       "21 냉장/세탁가전      0.37144048\n",
       "22 생활/주방가전      0.37076563\n",
       "23 과일               0.36595336\n",
       "24 출산/육아용품      0.36539578\n",
       "25 축산물             0.35275731\n",
       "26 계절가전           0.34328489\n",
       "27 냉동식품           0.34062454\n",
       "28 가구               0.33555328\n",
       "29 완구               0.33161587\n",
       "30 세제/위생          0.32415876\n",
       "31 모바일             0.31872491\n",
       "32 영상/음향가전      0.29337466\n",
       "33 음료               0.27214483\n",
       "34 컴퓨터             0.27198667\n",
       "35 냉장식품           0.23494461\n",
       "36 자동차용품         0.22802380\n",
       "37 상품권             0.08877809"
      ]
     },
     "metadata": {},
     "output_type": "display_data"
    }
   ],
   "source": [
    "CLAC1_pref$my=p_pref\n",
    "CLAC1_pref %>% arrange(desc(my))   # 상품군별 6개월간의 행동 기반 온라인 선호지수"
   ]
  },
  {
   "cell_type": "code",
   "execution_count": 35,
   "metadata": {},
   "outputs": [
    {
     "data": {
      "text/html": [
       "0.017649637952356"
      ],
      "text/latex": [
       "0.017649637952356"
      ],
      "text/markdown": [
       "0.017649637952356"
      ],
      "text/plain": [
       "[1] 0.01764964"
      ]
     },
     "metadata": {},
     "output_type": "display_data"
    },
    {
     "data": {
      "text/html": [
       "0.982350362047644"
      ],
      "text/latex": [
       "0.982350362047644"
      ],
      "text/markdown": [
       "0.982350362047644"
      ],
      "text/plain": [
       "[1] 0.9823504"
      ]
     },
     "metadata": {},
     "output_type": "display_data"
    },
    {
     "data": {
      "text/html": [
       "0.387437373146343"
      ],
      "text/latex": [
       "0.387437373146343"
      ],
      "text/markdown": [
       "0.387437373146343"
      ],
      "text/plain": [
       "[1] 0.3874374"
      ]
     },
     "metadata": {},
     "output_type": "display_data"
    }
   ],
   "source": [
    "min(real_pref$f_y);max(real_pref$f_y);mean(real_pref$f_y)"
   ]
  },
  {
   "cell_type": "code",
   "execution_count": null,
   "metadata": {},
   "outputs": [],
   "source": []
  },
  {
   "cell_type": "code",
   "execution_count": 36,
   "metadata": {},
   "outputs": [],
   "source": [
    "real <- CLAC1 %>% select(-CLAC1_NM,-mhit,-mhr,-msale)"
   ]
  },
  {
   "cell_type": "code",
   "execution_count": 37,
   "metadata": {},
   "outputs": [
    {
     "name": "stdout",
     "output_type": "stream",
     "text": [
      "Call:\n",
      "rpart(formula = n_rate ~ ., data = real)\n",
      "  n= 37 \n",
      "\n",
      "          CP nsplit rel error    xerror      xstd\n",
      "1 0.63593500      0 1.0000000 1.0989136 0.3251162\n",
      "2 0.02217781      1 0.3640650 0.6718884 0.2528685\n",
      "3 0.01000000      2 0.3418872 0.7217193 0.2499875\n",
      "\n",
      "Variable importance\n",
      "  sca_mhit    sca_mhr norm_msale \n",
      "        75         24          1 \n",
      "\n",
      "Node number 1: 37 observations,    complexity param=0.635935\n",
      "  mean=0.02702703, MSE=0.001441438 \n",
      "  left son=2 (30 obs) right son=3 (7 obs)\n",
      "  Primary splits:\n",
      "      sca_mhit   < 0.5348784   to the left,  improve=0.63593500, (0 missing)\n",
      "      sca_mhr    < 0.6883021   to the left,  improve=0.21496310, (0 missing)\n",
      "      norm_msale < 0.05740694  to the right, improve=0.06646133, (0 missing)\n",
      "  Surrogate splits:\n",
      "      sca_mhr < 0.6883021   to the left,  agree=0.865, adj=0.286, (0 split)\n",
      "\n",
      "Node number 2: 30 observations,    complexity param=0.02217781\n",
      "  mean=0.01240213, MSE=0.0004117975 \n",
      "  left son=4 (18 obs) right son=5 (12 obs)\n",
      "  Primary splits:\n",
      "      sca_mhr    < -0.4247973  to the right, improve=0.09574395, (0 missing)\n",
      "      sca_mhit   < -0.04891218 to the left,  improve=0.08196151, (0 missing)\n",
      "      norm_msale < 0.04217807  to the left,  improve=0.05367754, (0 missing)\n",
      "  Surrogate splits:\n",
      "      sca_mhit   < -0.5159446  to the right, agree=0.800, adj=0.500, (0 split)\n",
      "      norm_msale < 0.01766851  to the right, agree=0.733, adj=0.333, (0 split)\n",
      "\n",
      "Node number 3: 7 observations\n",
      "  mean=0.08970514, MSE=0.001008975 \n",
      "\n",
      "Node number 4: 18 observations\n",
      "  mean=0.00727527, MSE=2.781514e-05 \n",
      "\n",
      "Node number 5: 12 observations\n",
      "  mean=0.02009243, MSE=0.0008892032 \n",
      "\n"
     ]
    }
   ],
   "source": [
    "library(rpart)\n",
    "dt_reg<- rpart(n_rate~.,data=real)\n",
    "summary(dt_reg)"
   ]
  },
  {
   "cell_type": "code",
   "execution_count": 38,
   "metadata": {},
   "outputs": [],
   "source": [
    "yhat_test <- predict(dt_reg,real)"
   ]
  },
  {
   "cell_type": "code",
   "execution_count": 39,
   "metadata": {
    "scrolled": true
   },
   "outputs": [
    {
     "data": {
      "text/html": [
       "0.000492809050104907"
      ],
      "text/latex": [
       "0.000492809050104907"
      ],
      "text/markdown": [
       "0.000492809050104907"
      ],
      "text/plain": [
       "[1] 0.0004928091"
      ]
     },
     "metadata": {},
     "output_type": "display_data"
    }
   ],
   "source": [
    "mse <- mean((yhat_test-real$n_rate)^2)\n",
    "mse"
   ]
  },
  {
   "cell_type": "code",
   "execution_count": 40,
   "metadata": {},
   "outputs": [
    {
     "data": {
      "text/html": [
       "0.0221993029193465"
      ],
      "text/latex": [
       "0.0221993029193465"
      ],
      "text/markdown": [
       "0.0221993029193465"
      ],
      "text/plain": [
       "[1] 0.0221993"
      ]
     },
     "metadata": {},
     "output_type": "display_data"
    }
   ],
   "source": [
    "rmse <- sqrt(mse)\n",
    "rmse"
   ]
  },
  {
   "cell_type": "code",
   "execution_count": 41,
   "metadata": {},
   "outputs": [
    {
     "name": "stdout",
     "output_type": "stream",
     "text": [
      "\n",
      "Regression tree:\n",
      "rpart(formula = n_rate ~ ., data = real)\n",
      "\n",
      "Variables actually used in tree construction:\n",
      "[1] sca_mhit sca_mhr \n",
      "\n",
      "Root node error: 0.053333/37 = 0.0014414\n",
      "\n",
      "n= 37 \n",
      "\n",
      "        CP nsplit rel error  xerror    xstd\n",
      "1 0.635935      0   1.00000 1.09891 0.32512\n",
      "2 0.022178      1   0.36406 0.67189 0.25287\n",
      "3 0.010000      2   0.34189 0.72172 0.24999\n"
     ]
    },
    {
     "data": {
      "text/html": [
       "<table>\n",
       "<thead><tr><th></th><th scope=col>rel error</th><th scope=col>xerror</th></tr></thead>\n",
       "<tbody>\n",
       "\t<tr><th scope=row>1</th><td>0.0000000  </td><td>-0.09891357</td></tr>\n",
       "\t<tr><th scope=row>2</th><td>0.6359350  </td><td> 0.32811162</td></tr>\n",
       "\t<tr><th scope=row>3</th><td>0.6581128  </td><td> 0.27828071</td></tr>\n",
       "</tbody>\n",
       "</table>\n"
      ],
      "text/latex": [
       "\\begin{tabular}{r|ll}\n",
       "  & rel error & xerror\\\\\n",
       "\\hline\n",
       "\t1 & 0.0000000   & -0.09891357\\\\\n",
       "\t2 & 0.6359350   &  0.32811162\\\\\n",
       "\t3 & 0.6581128   &  0.27828071\\\\\n",
       "\\end{tabular}\n"
      ],
      "text/markdown": [
       "\n",
       "| <!--/--> | rel error | xerror | \n",
       "|---|---|---|\n",
       "| 1 | 0.0000000   | -0.09891357 | \n",
       "| 2 | 0.6359350   |  0.32811162 | \n",
       "| 3 | 0.6581128   |  0.27828071 | \n",
       "\n",
       "\n"
      ],
      "text/plain": [
       "  rel error xerror     \n",
       "1 0.0000000 -0.09891357\n",
       "2 0.6359350  0.32811162\n",
       "3 0.6581128  0.27828071"
      ]
     },
     "metadata": {},
     "output_type": "display_data"
    }
   ],
   "source": [
    "tmp1 <- printcp(dt_reg)\n",
    "rsq.val <- 1-tmp1[,c(3,4)]\n",
    "rsq.val"
   ]
  },
  {
   "cell_type": "code",
   "execution_count": 42,
   "metadata": {},
   "outputs": [
    {
     "name": "stdout",
     "output_type": "stream",
     "text": [
      "\n",
      "Regression tree:\n",
      "rpart(formula = n_rate ~ ., data = real)\n",
      "\n",
      "Variables actually used in tree construction:\n",
      "[1] sca_mhit sca_mhr \n",
      "\n",
      "Root node error: 0.053333/37 = 0.0014414\n",
      "\n",
      "n= 37 \n",
      "\n",
      "        CP nsplit rel error  xerror    xstd\n",
      "1 0.635935      0   1.00000 1.09891 0.32512\n",
      "2 0.022178      1   0.36406 0.67189 0.25287\n",
      "3 0.010000      2   0.34189 0.72172 0.24999\n"
     ]
    },
    {
     "data": {
      "image/png": "[encoded data removed]",
      "text/plain": [
       "plot without title"
      ]
     },
     "metadata": {},
     "output_type": "display_data"
    },
    {
     "data": {
      "image/png": "[encoded data removed]",
      "text/plain": [
       "plot without title"
      ]
     },
     "metadata": {},
     "output_type": "display_data"
    }
   ],
   "source": [
    "rsq.rpart(dt_reg)"
   ]
  },
  {
   "cell_type": "code",
   "execution_count": 43,
   "metadata": {},
   "outputs": [
    {
     "name": "stderr",
     "output_type": "stream",
     "text": [
      "randomForest 4.6-14\n",
      "Type rfNews() to see new features/changes/bug fixes.\n",
      "\n",
      "Attaching package: 'randomForest'\n",
      "\n",
      "The following object is masked from 'package:dplyr':\n",
      "\n",
      "    combine\n",
      "\n"
     ]
    },
    {
     "data": {
      "text/plain": [
       "\n",
       "Call:\n",
       " randomForest(formula = n_rate ~ ., data = real) \n",
       "               Type of random forest: regression\n",
       "                     Number of trees: 500\n",
       "No. of variables tried at each split: 1\n",
       "\n",
       "          Mean of squared residuals: 0.0009514318\n",
       "                    % Var explained: 33.99"
      ]
     },
     "metadata": {},
     "output_type": "display_data"
    }
   ],
   "source": [
    "library(randomForest)\n",
    "rf_model <- randomForest(n_rate~.,data=real)\n",
    "rf_model"
   ]
  },
  {
   "cell_type": "code",
   "execution_count": 44,
   "metadata": {
    "scrolled": true
   },
   "outputs": [
    {
     "data": {
      "text/html": [
       "<dl class=dl-horizontal>\n",
       "\t<dt>1</dt>\n",
       "\t\t<dd>0.009619940043256</dd>\n",
       "\t<dt>2</dt>\n",
       "\t\t<dd>0.0334523992772141</dd>\n",
       "\t<dt>3</dt>\n",
       "\t\t<dd>0.0119073563186334</dd>\n",
       "\t<dt>4</dt>\n",
       "\t\t<dd>0.00870658292378275</dd>\n",
       "\t<dt>5</dt>\n",
       "\t\t<dd>0.0162402660833684</dd>\n",
       "\t<dt>6</dt>\n",
       "\t\t<dd>0.0877911622935894</dd>\n",
       "\t<dt>7</dt>\n",
       "\t\t<dd>0.00924022471802458</dd>\n",
       "\t<dt>8</dt>\n",
       "\t\t<dd>0.00959892766476817</dd>\n",
       "\t<dt>9</dt>\n",
       "\t\t<dd>0.00596466837193768</dd>\n",
       "\t<dt>10</dt>\n",
       "\t\t<dd>0.00787084667236419</dd>\n",
       "\t<dt>11</dt>\n",
       "\t\t<dd>0.0136917483753553</dd>\n",
       "\t<dt>12</dt>\n",
       "\t\t<dd>0.00583121701764838</dd>\n",
       "\t<dt>13</dt>\n",
       "\t\t<dd>0.0101123223891856</dd>\n",
       "\t<dt>14</dt>\n",
       "\t\t<dd>0.00889986906334272</dd>\n",
       "\t<dt>15</dt>\n",
       "\t\t<dd>0.0723883831202077</dd>\n",
       "\t<dt>16</dt>\n",
       "\t\t<dd>0.0770902856793758</dd>\n",
       "\t<dt>17</dt>\n",
       "\t\t<dd>0.0623731730259065</dd>\n",
       "\t<dt>18</dt>\n",
       "\t\t<dd>0.017173739143119</dd>\n",
       "\t<dt>19</dt>\n",
       "\t\t<dd>0.0263701767425738</dd>\n",
       "\t<dt>20</dt>\n",
       "\t\t<dd>0.0956323585133066</dd>\n",
       "\t<dt>21</dt>\n",
       "\t\t<dd>0.00985165325909676</dd>\n",
       "\t<dt>22</dt>\n",
       "\t\t<dd>0.0109932374317609</dd>\n",
       "\t<dt>23</dt>\n",
       "\t\t<dd>0.0181725859901274</dd>\n",
       "\t<dt>24</dt>\n",
       "\t\t<dd>0.0799671972861754</dd>\n",
       "\t<dt>25</dt>\n",
       "\t\t<dd>0.00910618680021967</dd>\n",
       "\t<dt>26</dt>\n",
       "\t\t<dd>0.0298167535017931</dd>\n",
       "\t<dt>27</dt>\n",
       "\t\t<dd>0.00382857037748093</dd>\n",
       "\t<dt>28</dt>\n",
       "\t\t<dd>0.0141504674166849</dd>\n",
       "\t<dt>29</dt>\n",
       "\t\t<dd>0.0113874773676406</dd>\n",
       "\t<dt>30</dt>\n",
       "\t\t<dd>0.0135840115437816</dd>\n",
       "\t<dt>31</dt>\n",
       "\t\t<dd>0.019910312407241</dd>\n",
       "\t<dt>32</dt>\n",
       "\t\t<dd>0.0144073780008531</dd>\n",
       "\t<dt>33</dt>\n",
       "\t\t<dd>0.0172158910387231</dd>\n",
       "\t<dt>34</dt>\n",
       "\t\t<dd>0.0659976774248813</dd>\n",
       "\t<dt>35</dt>\n",
       "\t\t<dd>0.0200948258619108</dd>\n",
       "\t<dt>36</dt>\n",
       "\t\t<dd>0.00851102022198185</dd>\n",
       "\t<dt>37</dt>\n",
       "\t\t<dd>0.0653411684293776</dd>\n",
       "</dl>\n"
      ],
      "text/latex": [
       "\\begin{description*}\n",
       "\\item[1] 0.009619940043256\n",
       "\\item[2] 0.0334523992772141\n",
       "\\item[3] 0.0119073563186334\n",
       "\\item[4] 0.00870658292378275\n",
       "\\item[5] 0.0162402660833684\n",
       "\\item[6] 0.0877911622935894\n",
       "\\item[7] 0.00924022471802458\n",
       "\\item[8] 0.00959892766476817\n",
       "\\item[9] 0.00596466837193768\n",
       "\\item[10] 0.00787084667236419\n",
       "\\item[11] 0.0136917483753553\n",
       "\\item[12] 0.00583121701764838\n",
       "\\item[13] 0.0101123223891856\n",
       "\\item[14] 0.00889986906334272\n",
       "\\item[15] 0.0723883831202077\n",
       "\\item[16] 0.0770902856793758\n",
       "\\item[17] 0.0623731730259065\n",
       "\\item[18] 0.017173739143119\n",
       "\\item[19] 0.0263701767425738\n",
       "\\item[20] 0.0956323585133066\n",
       "\\item[21] 0.00985165325909676\n",
       "\\item[22] 0.0109932374317609\n",
       "\\item[23] 0.0181725859901274\n",
       "\\item[24] 0.0799671972861754\n",
       "\\item[25] 0.00910618680021967\n",
       "\\item[26] 0.0298167535017931\n",
       "\\item[27] 0.00382857037748093\n",
       "\\item[28] 0.0141504674166849\n",
       "\\item[29] 0.0113874773676406\n",
       "\\item[30] 0.0135840115437816\n",
       "\\item[31] 0.019910312407241\n",
       "\\item[32] 0.0144073780008531\n",
       "\\item[33] 0.0172158910387231\n",
       "\\item[34] 0.0659976774248813\n",
       "\\item[35] 0.0200948258619108\n",
       "\\item[36] 0.00851102022198185\n",
       "\\item[37] 0.0653411684293776\n",
       "\\end{description*}\n"
      ],
      "text/markdown": [
       "1\n",
       ":   0.0096199400432562\n",
       ":   0.03345239927721413\n",
       ":   0.01190735631863344\n",
       ":   0.008706582923782755\n",
       ":   0.01624026608336846\n",
       ":   0.08779116229358947\n",
       ":   0.009240224718024588\n",
       ":   0.009598927664768179\n",
       ":   0.0059646683719376810\n",
       ":   0.0078708466723641911\n",
       ":   0.013691748375355312\n",
       ":   0.0058312170176483813\n",
       ":   0.010112322389185614\n",
       ":   0.0088998690633427215\n",
       ":   0.072388383120207716\n",
       ":   0.077090285679375817\n",
       ":   0.062373173025906518\n",
       ":   0.01717373914311919\n",
       ":   0.026370176742573820\n",
       ":   0.095632358513306621\n",
       ":   0.0098516532590967622\n",
       ":   0.010993237431760923\n",
       ":   0.018172585990127424\n",
       ":   0.079967197286175425\n",
       ":   0.0091061868002196726\n",
       ":   0.029816753501793127\n",
       ":   0.0038285703774809328\n",
       ":   0.014150467416684929\n",
       ":   0.011387477367640630\n",
       ":   0.013584011543781631\n",
       ":   0.01991031240724132\n",
       ":   0.014407378000853133\n",
       ":   0.017215891038723134\n",
       ":   0.065997677424881335\n",
       ":   0.020094825861910836\n",
       ":   0.0085110202219818537\n",
       ":   0.0653411684293776\n",
       "\n"
      ],
      "text/plain": [
       "          1           2           3           4           5           6 \n",
       "0.009619940 0.033452399 0.011907356 0.008706583 0.016240266 0.087791162 \n",
       "          7           8           9          10          11          12 \n",
       "0.009240225 0.009598928 0.005964668 0.007870847 0.013691748 0.005831217 \n",
       "         13          14          15          16          17          18 \n",
       "0.010112322 0.008899869 0.072388383 0.077090286 0.062373173 0.017173739 \n",
       "         19          20          21          22          23          24 \n",
       "0.026370177 0.095632359 0.009851653 0.010993237 0.018172586 0.079967197 \n",
       "         25          26          27          28          29          30 \n",
       "0.009106187 0.029816754 0.003828570 0.014150467 0.011387477 0.013584012 \n",
       "         31          32          33          34          35          36 \n",
       "0.019910312 0.014407378 0.017215891 0.065997677 0.020094826 0.008511020 \n",
       "         37 \n",
       "0.065341168 "
      ]
     },
     "metadata": {},
     "output_type": "display_data"
    }
   ],
   "source": [
    "yhat_test <- predict(rf_model,real)\n",
    "yhat_test"
   ]
  },
  {
   "cell_type": "code",
   "execution_count": 45,
   "metadata": {
    "scrolled": false
   },
   "outputs": [
    {
     "data": {
      "text/html": [
       "0.000258974277634206"
      ],
      "text/latex": [
       "0.000258974277634206"
      ],
      "text/markdown": [
       "0.000258974277634206"
      ],
      "text/plain": [
       "[1] 0.0002589743"
      ]
     },
     "metadata": {},
     "output_type": "display_data"
    }
   ],
   "source": [
    "mse <- mean((yhat_test-real$n_rate)^2)\n",
    "mse"
   ]
  },
  {
   "cell_type": "code",
   "execution_count": 46,
   "metadata": {},
   "outputs": [
    {
     "data": {
      "text/html": [
       "0.0160926777645675"
      ],
      "text/latex": [
       "0.0160926777645675"
      ],
      "text/markdown": [
       "0.0160926777645675"
      ],
      "text/plain": [
       "[1] 0.01609268"
      ]
     },
     "metadata": {},
     "output_type": "display_data"
    }
   ],
   "source": [
    "rmse <- sqrt(mse)\n",
    "rmse"
   ]
  },
  {
   "cell_type": "code",
   "execution_count": 51,
   "metadata": {},
   "outputs": [
    {
     "name": "stderr",
     "output_type": "stream",
     "text": [
      "Loading required package: e1071\n",
      "Warning message in library(package, lib.loc = lib.loc, character.only = TRUE, logical.return = TRUE, :\n",
      "\"there is no package called 'e1071'\"Installing package into 'D:/USER/Documents/R/win-library/3.5'\n",
      "(as 'lib' is unspecified)\n",
      "Warning message:\n",
      "\"unable to access index for repository http://www.stats.ox.ac.uk/pub/RWin/bin/windows/contrib/3.5:\n",
      "  URL 'http://www.stats.ox.ac.uk/pub/RWin/bin/windows/contrib/3.5/PACKAGES'를 열 수 없습니다\""
     ]
    },
    {
     "name": "stdout",
     "output_type": "stream",
     "text": [
      "package 'e1071' successfully unpacked and MD5 sums checked\n"
     ]
    },
    {
     "name": "stderr",
     "output_type": "stream",
     "text": [
      "Warning message:\n",
      "\"cannot remove prior installation of package 'e1071'\""
     ]
    },
    {
     "name": "stdout",
     "output_type": "stream",
     "text": [
      "\n",
      "The downloaded binary packages are in\n",
      "\tC:\\Users\\USER\\AppData\\Local\\Temp\\Rtmp8EB9tH\\downloaded_packages\n"
     ]
    },
    {
     "data": {
      "text/plain": [
       "NULL"
      ]
     },
     "metadata": {},
     "output_type": "display_data"
    },
    {
     "ename": "ERROR",
     "evalue": "Error in library(e1071): there is no package called 'e1071'\n",
     "output_type": "error",
     "traceback": [
      "Error in library(e1071): there is no package called 'e1071'\nTraceback:\n",
      "1. library(e1071)",
      "2. stop(txt, domain = NA)"
     ]
    }
   ],
   "source": [
    "if(!require(\"e1071\"))(install.packages(\"e1071\"))\n",
    "library(e1071)\n",
    "svm_model <- svm(n_rate~.,data=real)\n",
    "summary(svm_model)"
   ]
  },
  {
   "cell_type": "code",
   "execution_count": null,
   "metadata": {
    "scrolled": true
   },
   "outputs": [],
   "source": [
    "yhat_test <- predict(svm_model,real)\n",
    "yhat_test"
   ]
  },
  {
   "cell_type": "code",
   "execution_count": null,
   "metadata": {},
   "outputs": [],
   "source": [
    "svm_error <- (mean(svm_model$residuals^2))\n",
    "svm_error"
   ]
  },
  {
   "cell_type": "code",
   "execution_count": null,
   "metadata": {
    "scrolled": true
   },
   "outputs": [],
   "source": [
    "rmse <- sqrt(mse)\n",
    "rmse"
   ]
  },
  {
   "cell_type": "code",
   "execution_count": null,
   "metadata": {},
   "outputs": [],
   "source": [
    "residuals <- real$n_rate-yhat_test\n",
    "y_test_mean <- mean(real$n_rate)\n",
    "tss <- sum((real$n_rate-y_test_mean)^2)\n",
    "rss <- sum(residuals^2)\n",
    "\n",
    "rsq <- 1-(rss/tss)\n",
    "rsq"
   ]
  },
  {
   "cell_type": "code",
   "execution_count": null,
   "metadata": {
    "scrolled": true
   },
   "outputs": [],
   "source": [
    "library(tidyverse)\n",
    "library(caret)\n",
    "install.packages(\"xgboost\")\n",
    "library(xgboost)"
   ]
  },
  {
   "cell_type": "code",
   "execution_count": null,
   "metadata": {},
   "outputs": [],
   "source": [
    "xgb_model <- train(n_rate~.,data=real,method=\"xgbTree\",eval_metric=\"rmse\")"
   ]
  },
  {
   "cell_type": "code",
   "execution_count": null,
   "metadata": {},
   "outputs": [],
   "source": [
    "xgb_model"
   ]
  },
  {
   "cell_type": "code",
   "execution_count": null,
   "metadata": {},
   "outputs": [],
   "source": [
    "yhat_test <- predict(xgb_model,real)\n",
    "mse <- mean((yhat_test-real$n_rate)^2)\n",
    "mse"
   ]
  },
  {
   "cell_type": "code",
   "execution_count": null,
   "metadata": {},
   "outputs": [],
   "source": [
    "rmse <- sqrt(mse)\n",
    "rmse"
   ]
  },
  {
   "cell_type": "code",
   "execution_count": null,
   "metadata": {},
   "outputs": [],
   "source": [
    "residuals <- real$n_rate-yhat_test\n",
    "y_test_mean <- mean(real$n_rate)\n",
    "tss <- sum((real$n_rate-y_test_mean)^2)\n",
    "rss <- sum(residuals^2)\n",
    "\n",
    "rsq <- 1-(rss/tss)\n",
    "rsq"
   ]
  },
  {
   "cell_type": "code",
   "execution_count": null,
   "metadata": {},
   "outputs": [],
   "source": [
    "str(real_pref)"
   ]
  },
  {
   "cell_type": "code",
   "execution_count": null,
   "metadata": {},
   "outputs": [],
   "source": []
  },
  {
   "cell_type": "code",
   "execution_count": null,
   "metadata": {},
   "outputs": [],
   "source": []
  },
  {
   "cell_type": "code",
   "execution_count": null,
   "metadata": {},
   "outputs": [],
   "source": []
  }
 ],
 "metadata": {
  "kernelspec": {
   "display_name": "R",
   "language": "R",
   "name": "ir"
  },
  "language_info": {
   "codemirror_mode": "r",
   "file_extension": ".r",
   "mimetype": "text/x-r-source",
   "name": "R",
   "pygments_lexer": "r",
   "version": "3.5.1"
  }
 },
 "nbformat": 4,
 "nbformat_minor": 2
}
