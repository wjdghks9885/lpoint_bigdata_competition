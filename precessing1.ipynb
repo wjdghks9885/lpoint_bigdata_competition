{
 "cells": [
  {
   "cell_type": "markdown",
   "metadata": {},
   "source": [
    "# 주제\n",
    "(1) 상품군별 온라인 선호지수 및 수요 트렌드 예측에 대한 우수성\n",
    "\n",
    "(2) 활용 변수의 다양성\n",
    "\n",
    "(3) 제안 서비스의 창의성 및 시각화"
   ]
  },
  {
   "cell_type": "markdown",
   "metadata": {},
   "source": [
    "# 1. 데이터 읽기"
   ]
  },
  {
   "cell_type": "code",
   "execution_count": 4,
   "metadata": {},
   "outputs": [],
   "source": [
    "setwd(\"D:\\\\USER\\\\Desktop\\\\yangho\\\\제5회 Big Data Competition-Digital Trend Analyzer\")"
   ]
  },
  {
   "cell_type": "code",
   "execution_count": 2,
   "metadata": {},
   "outputs": [
    {
     "data": {
      "text/html": [
       "'D:/USER/Desktop/yangho/제5회 Big Data Competition-Digital Trend Analyzer'"
      ],
      "text/latex": [
       "'D:/USER/Desktop/yangho/제5회 Big Data Competition-Digital Trend Analyzer'"
      ],
      "text/markdown": [
       "'D:/USER/Desktop/yangho/제5회 Big Data Competition-Digital Trend Analyzer'"
      ],
      "text/plain": [
       "[1] \"D:/USER/Desktop/yangho/제5회 Big Data Competition-Digital Trend Analyzer\""
      ]
     },
     "metadata": {},
     "output_type": "display_data"
    }
   ],
   "source": [
    "getwd()"
   ]
  },
  {
   "cell_type": "code",
   "execution_count": 3,
   "metadata": {},
   "outputs": [],
   "source": [
    "library(data.table)"
   ]
  },
  {
   "cell_type": "code",
   "execution_count": 4,
   "metadata": {},
   "outputs": [
    {
     "name": "stderr",
     "output_type": "stream",
     "text": [
      "Warning message in fread(\"master.csv\", encoding = \"UTF-8\"):\n",
      "\"Found and resolved improper quoting out-of-sample. First healed line 14803: <<\"184538\",\"PTPA<ec>닔<ec>긽\" 踰좎씠鍮꾨━釉뚯쫰 <eb>궡異붾윺<ec>뿉<ec>뼱<ed>벂由ы뙆<ec>씠<ec>뼱(怨듦린泥<ad><ec>젙<ec>젣)_<ec>븷<ed>뵆,異쒖궛/<ec>쑁<ec>븘<ec>슜<ed>뭹,<ec>쑀<ec>븘<ec>뒪<ed>궓/諛붾뵒耳<ec>뼱,<ec>쑀<ec>븘<ec>슜<ed>솕<ec>옣<ed>뭹>>. If the fields are not quoted (e.g. field separator does not appear within any field), try quote=\"\" to avoid this warning.\""
     ]
    }
   ],
   "source": [
    "product<- fread(\"product.csv\",encoding=\"UTF-8\")\n",
    "search1 <- fread(\"search1.csv\",encoding=\"UTF-8\")\n",
    "search2 <- fread(\"search2.csv\",encoding=\"UTF-8\")\n",
    "session <- fread(\"session.csv\",encoding=\"UTF-8\")\n",
    "custom <- fread(\"custom.csv\",encoding=\"UTF-8\")\n",
    "master <- fread(\"master.csv\",encoding=\"UTF-8\")"
   ]
  },
  {
   "cell_type": "markdown",
   "metadata": {},
   "source": [
    "# 2. 데이터 확인 및 전처리"
   ]
  },
  {
   "cell_type": "markdown",
   "metadata": {},
   "source": [
    "# Product\n",
    "### 상품 구매(Product) : 분석기간 내 온라인에서 구매된 상품명, 상품금액/건수 등 방문자의 상품구매정보\n",
    "### Product 테이블 내 히트일련번호(HITS_SEG)가 ‘1’인 데이터는 분석 시 이상치(Outlier)로 간주해주시기 바랍니다."
   ]
  },
  {
   "cell_type": "code",
   "execution_count": 5,
   "metadata": {},
   "outputs": [
    {
     "data": {
      "text/html": [
       "<table>\n",
       "<thead><tr><th scope=col>CLNT_ID</th><th scope=col>SESS_ID</th><th scope=col>HITS_SEQ</th><th scope=col>PD_C</th><th scope=col>PD_ADD_NM</th><th scope=col>PD_BRA_NM</th><th scope=col>PD_BUY_AM</th><th scope=col>PD_BUY_CT</th></tr></thead>\n",
       "<tbody>\n",
       "\t<tr><td>4139680                               </td><td> 7605037                              </td><td>12                                    </td><td>642112                                </td><td>색상:워터멜론                         </td><td>[바비브라운]                          </td><td>39,000                                </td><td>1                                     </td></tr>\n",
       "\t<tr><td>4140076                               </td><td>10189797                              </td><td>13                                    </td><td>570603                                </td><td>색상:BLK0_(BLK0)BLACK|사이즈:120 / 2개</td><td>데상트                                </td><td>39,000                                </td><td>2                                     </td></tr>\n",
       "\t<tr><td>4142395                               </td><td> 6158159                              </td><td>85                                    </td><td>179538                                </td><td>(not set)                             </td><td>[아베다]                              </td><td>39,000                                </td><td>1                                     </td></tr>\n",
       "\t<tr><td>4144914                               </td><td> 7935714                              </td><td>12                                    </td><td>554336                                </td><td>색상:블랙|사이즈:160cm(12~13세) / 1개 </td><td>아디다스 키즈                         </td><td>39,000                                </td><td>1                                     </td></tr>\n",
       "\t<tr><td>4144917                               </td><td> 6406509                              </td><td>78                                    </td><td>190306                                </td><td>5개                                   </td><td>데코르테                              </td><td>39,000                                </td><td>5                                     </td></tr>\n",
       "\t<tr><td>4147643                               </td><td> 4050743                              </td><td>66                                    </td><td>149995                                </td><td>사이즈:옵션04.AN868_04 / 1개          </td><td>앵글로매니아                          </td><td>39,000                                </td><td>1                                     </td></tr>\n",
       "</tbody>\n",
       "</table>\n"
      ],
      "text/latex": [
       "\\begin{tabular}{r|llllllll}\n",
       " CLNT\\_ID & SESS\\_ID & HITS\\_SEQ & PD\\_C & PD\\_ADD\\_NM & PD\\_BRA\\_NM & PD\\_BUY\\_AM & PD\\_BUY\\_CT\\\\\n",
       "\\hline\n",
       "\t 4139680                                &  7605037                               & 12                                     & 642112                                 & 색상:워터멜론                          & {[}바비브라운{]}                       & 39,000                                 & 1                                     \\\\\n",
       "\t 4140076                                            & 10189797                                           & 13                                                 & 570603                                             & 색상:BLK0\\_(BLK0)BLACK\\textbar{}사이즈:120 / 2개 & 데상트                                             & 39,000                                             & 2                                                 \\\\\n",
       "\t 4142395                                &  6158159                               & 85                                     & 179538                                 & (not set)                              & {[}아베다{]}                           & 39,000                                 & 1                                     \\\\\n",
       "\t 4144914                                                           &  7935714                                                          & 12                                                                & 554336                                                            & 색상:블랙\\textbar{}사이즈:160cm(12\\textasciitilde{}13세) / 1개  & 아디다스 키즈                                                     & 39,000                                                            & 1                                                                \\\\\n",
       "\t 4144917                                &  6406509                               & 78                                     & 190306                                 & 5개                                    & 데코르테                               & 39,000                                 & 5                                     \\\\\n",
       "\t 4147643                                  &  4050743                                 & 66                                       & 149995                                   & 사이즈:옵션04.AN868\\_04 / 1개           & 앵글로매니아                             & 39,000                                   & 1                                       \\\\\n",
       "\\end{tabular}\n"
      ],
      "text/markdown": [
       "\n",
       "CLNT_ID | SESS_ID | HITS_SEQ | PD_C | PD_ADD_NM | PD_BRA_NM | PD_BUY_AM | PD_BUY_CT | \n",
       "|---|---|---|---|---|---|\n",
       "| 4139680                                |  7605037                               | 12                                     | 642112                                 | 색상:워터멜론                          | [바비브라운]                           | 39,000                                 | 1                                      | \n",
       "| 4140076                                | 10189797                               | 13                                     | 570603                                 | 색상:BLK0_(BLK0)BLACK|사이즈:120 / 2개 | 데상트                                 | 39,000                                 | 2                                      | \n",
       "| 4142395                                |  6158159                               | 85                                     | 179538                                 | (not set)                              | [아베다]                               | 39,000                                 | 1                                      | \n",
       "| 4144914                                |  7935714                               | 12                                     | 554336                                 | 색상:블랙|사이즈:160cm(12~13세) / 1개  | 아디다스 키즈                          | 39,000                                 | 1                                      | \n",
       "| 4144917                                |  6406509                               | 78                                     | 190306                                 | 5개                                    | 데코르테                               | 39,000                                 | 5                                      | \n",
       "| 4147643                                |  4050743                               | 66                                     | 149995                                 | 사이즈:옵션04.AN868_04 / 1개           | 앵글로매니아                           | 39,000                                 | 1                                      | \n",
       "\n",
       "\n"
      ],
      "text/plain": [
       "  CLNT_ID SESS_ID  HITS_SEQ PD_C   PD_ADD_NM                             \n",
       "1 4139680  7605037 12       642112 색상:워터멜론                         \n",
       "2 4140076 10189797 13       570603 색상:BLK0_(BLK0)BLACK|사이즈:120 / 2개\n",
       "3 4142395  6158159 85       179538 (not set)                             \n",
       "4 4144914  7935714 12       554336 색상:블랙|사이즈:160cm(12~13세) / 1개 \n",
       "5 4144917  6406509 78       190306 5개                                   \n",
       "6 4147643  4050743 66       149995 사이즈:옵션04.AN868_04 / 1개          \n",
       "  PD_BRA_NM     PD_BUY_AM PD_BUY_CT\n",
       "1 [바비브라운]  39,000    1        \n",
       "2 데상트        39,000    2        \n",
       "3 [아베다]      39,000    1        \n",
       "4 아디다스 키즈 39,000    1        \n",
       "5 데코르테      39,000    5        \n",
       "6 앵글로매니아  39,000    1        "
      ]
     },
     "metadata": {},
     "output_type": "display_data"
    }
   ],
   "source": [
    "head(product)"
   ]
  },
  {
   "cell_type": "code",
   "execution_count": 6,
   "metadata": {},
   "outputs": [
    {
     "name": "stdout",
     "output_type": "stream",
     "text": [
      "Classes 'data.table' and 'data.frame':\t5024906 obs. of  8 variables:\n",
      " $ CLNT_ID  : int  4139680 4140076 4142395 4144914 4144917 4147643 4147739 4148106 4148129 4148527 ...\n",
      " $ SESS_ID  : int  7605037 10189797 6158159 7935714 6406509 4050743 6881895 6537318 3942102 5718021 ...\n",
      " $ HITS_SEQ : int  12 13 85 12 78 66 10 21 2 19 ...\n",
      " $ PD_C     : int  642112 570603 179538 554336 190306 149995 568751 570603 755148 608620 ...\n",
      " $ PD_ADD_NM: chr  \"색상:워터멜론\" \"색상:BLK0_(BLK0)BLACK|사이즈:120 / 2개\" \"(not set)\" \"색상:블랙|사이즈:160cm(12~13세) / 1개\" ...\n",
      " $ PD_BRA_NM: chr  \"[바비브라운]\" \"데상트\" \"[아베다]\" \"아디다스 키즈\" ...\n",
      " $ PD_BUY_AM: chr  \"39,000\" \"39,000\" \"39,000\" \"39,000\" ...\n",
      " $ PD_BUY_CT: chr  \"1\" \"2\" \"1\" \"1\" ...\n",
      " - attr(*, \".internal.selfref\")=<externalptr> \n"
     ]
    }
   ],
   "source": [
    "str(product)"
   ]
  },
  {
   "cell_type": "code",
   "execution_count": 7,
   "metadata": {},
   "outputs": [],
   "source": [
    "product$PD_BUY_AM=as.numeric(gsub(\",\",\"\",product$PD_BUY_AM)) #금액 변환"
   ]
  },
  {
   "cell_type": "code",
   "execution_count": 8,
   "metadata": {},
   "outputs": [],
   "source": [
    "product$PD_BUY_CT=as.numeric(gsub(\",\",\"\",product$PD_BUY_CT)) # 수량 변환"
   ]
  },
  {
   "cell_type": "code",
   "execution_count": 9,
   "metadata": {},
   "outputs": [],
   "source": [
    "library(stringr)\n",
    "product$PD_BRA_NM=gsub(\"[[:space:]]\",\"\",product$PD_BRA_NM) #키워드 간 공백 제거\n",
    "product$PD_BRA_NM=gsub(\"[[:punct:]]\",\"\",product$PD_BRA_NM) #브랜드명 특수문자 제거\n",
    "product$PD_BRA_NM=str_trim(product$PD_BRA_NM,side=\"both\") #키워드 내 공백 제거"
   ]
  },
  {
   "cell_type": "code",
   "execution_count": 10,
   "metadata": {},
   "outputs": [
    {
     "name": "stdout",
     "output_type": "stream",
     "text": [
      "Classes 'data.table' and 'data.frame':\t5024906 obs. of  8 variables:\n",
      " $ CLNT_ID  : int  4139680 4140076 4142395 4144914 4144917 4147643 4147739 4148106 4148129 4148527 ...\n",
      " $ SESS_ID  : int  7605037 10189797 6158159 7935714 6406509 4050743 6881895 6537318 3942102 5718021 ...\n",
      " $ HITS_SEQ : int  12 13 85 12 78 66 10 21 2 19 ...\n",
      " $ PD_C     : int  642112 570603 179538 554336 190306 149995 568751 570603 755148 608620 ...\n",
      " $ PD_ADD_NM: chr  \"색상:워터멜론\" \"색상:BLK0_(BLK0)BLACK|사이즈:120 / 2개\" \"(not set)\" \"색상:블랙|사이즈:160cm(12~13세) / 1개\" ...\n",
      " $ PD_BRA_NM: chr  \"바비브라운\" \"데상트\" \"아베다\" \"아디다스키즈\" ...\n",
      " $ PD_BUY_AM: num  39000 39000 39000 39000 39000 39000 39000 39000 39000 39000 ...\n",
      " $ PD_BUY_CT: num  1 2 1 1 5 1 1 1 1 1 ...\n",
      " - attr(*, \".internal.selfref\")=<externalptr> \n"
     ]
    }
   ],
   "source": [
    "str(product)"
   ]
  },
  {
   "cell_type": "code",
   "execution_count": 11,
   "metadata": {},
   "outputs": [
    {
     "data": {
      "text/html": [
       "<dl class=dl-horizontal>\n",
       "\t<dt>CLNT_ID</dt>\n",
       "\t\t<dd>0</dd>\n",
       "\t<dt>SESS_ID</dt>\n",
       "\t\t<dd>0</dd>\n",
       "\t<dt>HITS_SEQ</dt>\n",
       "\t\t<dd>0</dd>\n",
       "\t<dt>PD_C</dt>\n",
       "\t\t<dd>0</dd>\n",
       "\t<dt>PD_ADD_NM</dt>\n",
       "\t\t<dd>0</dd>\n",
       "\t<dt>PD_BRA_NM</dt>\n",
       "\t\t<dd>0</dd>\n",
       "\t<dt>PD_BUY_AM</dt>\n",
       "\t\t<dd>0</dd>\n",
       "\t<dt>PD_BUY_CT</dt>\n",
       "\t\t<dd>0</dd>\n",
       "</dl>\n"
      ],
      "text/latex": [
       "\\begin{description*}\n",
       "\\item[CLNT\\textbackslash{}\\_ID] 0\n",
       "\\item[SESS\\textbackslash{}\\_ID] 0\n",
       "\\item[HITS\\textbackslash{}\\_SEQ] 0\n",
       "\\item[PD\\textbackslash{}\\_C] 0\n",
       "\\item[PD\\textbackslash{}\\_ADD\\textbackslash{}\\_NM] 0\n",
       "\\item[PD\\textbackslash{}\\_BRA\\textbackslash{}\\_NM] 0\n",
       "\\item[PD\\textbackslash{}\\_BUY\\textbackslash{}\\_AM] 0\n",
       "\\item[PD\\textbackslash{}\\_BUY\\textbackslash{}\\_CT] 0\n",
       "\\end{description*}\n"
      ],
      "text/markdown": [
       "CLNT_ID\n",
       ":   0SESS_ID\n",
       ":   0HITS_SEQ\n",
       ":   0PD_C\n",
       ":   0PD_ADD_NM\n",
       ":   0PD_BRA_NM\n",
       ":   0PD_BUY_AM\n",
       ":   0PD_BUY_CT\n",
       ":   0\n",
       "\n"
      ],
      "text/plain": [
       "  CLNT_ID   SESS_ID  HITS_SEQ      PD_C PD_ADD_NM PD_BRA_NM PD_BUY_AM PD_BUY_CT \n",
       "        0         0         0         0         0         0         0         0 "
      ]
     },
     "metadata": {},
     "output_type": "display_data"
    }
   ],
   "source": [
    "colSums(is.na(product))#결측값 확인"
   ]
  },
  {
   "cell_type": "code",
   "execution_count": 12,
   "metadata": {},
   "outputs": [
    {
     "data": {
      "text/html": [
       "922737"
      ],
      "text/latex": [
       "922737"
      ],
      "text/markdown": [
       "922737"
      ],
      "text/plain": [
       "[1] 922737"
      ]
     },
     "metadata": {},
     "output_type": "display_data"
    },
    {
     "data": {
      "text/html": [
       "2425886"
      ],
      "text/latex": [
       "2425886"
      ],
      "text/markdown": [
       "2425886"
      ],
      "text/plain": [
       "[1] 2425886"
      ]
     },
     "metadata": {},
     "output_type": "display_data"
    },
    {
     "data": {
      "text/html": [
       "500"
      ],
      "text/latex": [
       "500"
      ],
      "text/markdown": [
       "500"
      ],
      "text/plain": [
       "[1] 500"
      ]
     },
     "metadata": {},
     "output_type": "display_data"
    },
    {
     "data": {
      "text/html": [
       "847652"
      ],
      "text/latex": [
       "847652"
      ],
      "text/markdown": [
       "847652"
      ],
      "text/plain": [
       "[1] 847652"
      ]
     },
     "metadata": {},
     "output_type": "display_data"
    },
    {
     "data": {
      "text/html": [
       "759548"
      ],
      "text/latex": [
       "759548"
      ],
      "text/markdown": [
       "759548"
      ],
      "text/plain": [
       "[1] 759548"
      ]
     },
     "metadata": {},
     "output_type": "display_data"
    }
   ],
   "source": [
    "#기본 key 고유 개수 확인\n",
    "length(unique(product$CLNT_ID))\n",
    "length(unique(product$SESS_ID))\n",
    "length(unique(product$HITS_SEQ))\n",
    "length(unique(product$PD_C))\n",
    "length(unique(product$PD_ADD_NM))"
   ]
  },
  {
   "cell_type": "markdown",
   "metadata": {},
   "source": [
    "# Session\n",
    "### 세션(Session) : 분석기간 내 온라인에서 상품을 구매한 방문자의 세션 정보 (단, 미상 정보 등은 제외됨)"
   ]
  },
  {
   "cell_type": "code",
   "execution_count": 13,
   "metadata": {},
   "outputs": [
    {
     "data": {
      "text/html": [
       "<table>\n",
       "<thead><tr><th scope=col>CLNT_ID</th><th scope=col>SESS_ID</th><th scope=col>SESS_SEQ</th><th scope=col>SESS_DT</th><th scope=col>TOT_PAG_VIEW_CT</th><th scope=col>TOT_SESS_HR_V</th><th scope=col>DVC_CTG_NM</th><th scope=col>ZON_NM</th><th scope=col>CITY_NM</th></tr></thead>\n",
       "<tbody>\n",
       "\t<tr><td>5873599    </td><td> 8641867   </td><td> 9         </td><td>20180509   </td><td> 82        </td><td>1,890      </td><td>mobile     </td><td>Daejeon    </td><td>Daejeon    </td></tr>\n",
       "\t<tr><td>5873599    </td><td> 6616320   </td><td>21         </td><td>20180611   </td><td>105        </td><td>1,604      </td><td>mobile     </td><td>Busan      </td><td>Busan      </td></tr>\n",
       "\t<tr><td>5873599    </td><td> 5886172   </td><td>40         </td><td>20180624   </td><td> 41        </td><td>632        </td><td>mobile     </td><td>Daejeon    </td><td>Daejeon    </td></tr>\n",
       "\t<tr><td>5873884    </td><td> 1050889   </td><td>15         </td><td>20180913   </td><td>160        </td><td>1,035      </td><td>mobile     </td><td>Gyeonggi-do</td><td>Anyang     </td></tr>\n",
       "\t<tr><td>5874461    </td><td>10298270   </td><td> 5         </td><td>20180412   </td><td> 13        </td><td>298        </td><td>mobile     </td><td>Seoul      </td><td>Seoul      </td></tr>\n",
       "\t<tr><td>5874701    </td><td>  608577   </td><td>65         </td><td>20180920   </td><td> 41        </td><td>444        </td><td>mobile     </td><td>Seoul      </td><td>Seoul      </td></tr>\n",
       "</tbody>\n",
       "</table>\n"
      ],
      "text/latex": [
       "\\begin{tabular}{r|lllllllll}\n",
       " CLNT\\_ID & SESS\\_ID & SESS\\_SEQ & SESS\\_DT & TOT\\_PAG\\_VIEW\\_CT & TOT\\_SESS\\_HR\\_V & DVC\\_CTG\\_NM & ZON\\_NM & CITY\\_NM\\\\\n",
       "\\hline\n",
       "\t 5873599     &  8641867    &  9          & 20180509    &  82         & 1,890       & mobile      & Daejeon     & Daejeon    \\\\\n",
       "\t 5873599     &  6616320    & 21          & 20180611    & 105         & 1,604       & mobile      & Busan       & Busan      \\\\\n",
       "\t 5873599     &  5886172    & 40          & 20180624    &  41         & 632         & mobile      & Daejeon     & Daejeon    \\\\\n",
       "\t 5873884     &  1050889    & 15          & 20180913    & 160         & 1,035       & mobile      & Gyeonggi-do & Anyang     \\\\\n",
       "\t 5874461     & 10298270    &  5          & 20180412    &  13         & 298         & mobile      & Seoul       & Seoul      \\\\\n",
       "\t 5874701     &   608577    & 65          & 20180920    &  41         & 444         & mobile      & Seoul       & Seoul      \\\\\n",
       "\\end{tabular}\n"
      ],
      "text/markdown": [
       "\n",
       "CLNT_ID | SESS_ID | SESS_SEQ | SESS_DT | TOT_PAG_VIEW_CT | TOT_SESS_HR_V | DVC_CTG_NM | ZON_NM | CITY_NM | \n",
       "|---|---|---|---|---|---|\n",
       "| 5873599     |  8641867    |  9          | 20180509    |  82         | 1,890       | mobile      | Daejeon     | Daejeon     | \n",
       "| 5873599     |  6616320    | 21          | 20180611    | 105         | 1,604       | mobile      | Busan       | Busan       | \n",
       "| 5873599     |  5886172    | 40          | 20180624    |  41         | 632         | mobile      | Daejeon     | Daejeon     | \n",
       "| 5873884     |  1050889    | 15          | 20180913    | 160         | 1,035       | mobile      | Gyeonggi-do | Anyang      | \n",
       "| 5874461     | 10298270    |  5          | 20180412    |  13         | 298         | mobile      | Seoul       | Seoul       | \n",
       "| 5874701     |   608577    | 65          | 20180920    |  41         | 444         | mobile      | Seoul       | Seoul       | \n",
       "\n",
       "\n"
      ],
      "text/plain": [
       "  CLNT_ID SESS_ID  SESS_SEQ SESS_DT  TOT_PAG_VIEW_CT TOT_SESS_HR_V DVC_CTG_NM\n",
       "1 5873599  8641867  9       20180509  82             1,890         mobile    \n",
       "2 5873599  6616320 21       20180611 105             1,604         mobile    \n",
       "3 5873599  5886172 40       20180624  41             632           mobile    \n",
       "4 5873884  1050889 15       20180913 160             1,035         mobile    \n",
       "5 5874461 10298270  5       20180412  13             298           mobile    \n",
       "6 5874701   608577 65       20180920  41             444           mobile    \n",
       "  ZON_NM      CITY_NM\n",
       "1 Daejeon     Daejeon\n",
       "2 Busan       Busan  \n",
       "3 Daejeon     Daejeon\n",
       "4 Gyeonggi-do Anyang \n",
       "5 Seoul       Seoul  \n",
       "6 Seoul       Seoul  "
      ]
     },
     "metadata": {},
     "output_type": "display_data"
    }
   ],
   "source": [
    "head(session)"
   ]
  },
  {
   "cell_type": "code",
   "execution_count": 14,
   "metadata": {},
   "outputs": [
    {
     "name": "stdout",
     "output_type": "stream",
     "text": [
      "Classes 'data.table' and 'data.frame':\t2712907 obs. of  9 variables:\n",
      " $ CLNT_ID        : int  5873599 5873599 5873599 5873884 5874461 5874701 5874829 5874829 5874829 5874829 ...\n",
      " $ SESS_ID        : int  8641867 6616320 5886172 1050889 10298270 608577 1666766 1670494 1694242 1559438 ...\n",
      " $ SESS_SEQ       : int  9 21 40 15 5 65 87 86 85 92 ...\n",
      " $ SESS_DT        : int  20180509 20180611 20180624 20180913 20180412 20180920 20180903 20180903 20180902 20180904 ...\n",
      " $ TOT_PAG_VIEW_CT: int  82 105 41 160 13 41 36 103 154 24 ...\n",
      " $ TOT_SESS_HR_V  : chr  \"1,890\" \"1,604\" \"632\" \"1,035\" ...\n",
      " $ DVC_CTG_NM     : chr  \"mobile\" \"mobile\" \"mobile\" \"mobile\" ...\n",
      " $ ZON_NM         : chr  \"Daejeon\" \"Busan\" \"Daejeon\" \"Gyeonggi-do\" ...\n",
      " $ CITY_NM        : chr  \"Daejeon\" \"Busan\" \"Daejeon\" \"Anyang\" ...\n",
      " - attr(*, \".internal.selfref\")=<externalptr> \n"
     ]
    }
   ],
   "source": [
    "str(session)"
   ]
  },
  {
   "cell_type": "code",
   "execution_count": 15,
   "metadata": {},
   "outputs": [],
   "source": [
    "session$TOT_SESS_HR_V=as.numeric(gsub(\",\",\"\",session$TOT_SESS_HR_V)) #HR_V 형식 변환"
   ]
  },
  {
   "cell_type": "code",
   "execution_count": 16,
   "metadata": {},
   "outputs": [
    {
     "name": "stdout",
     "output_type": "stream",
     "text": [
      "Classes 'data.table' and 'data.frame':\t2712907 obs. of  9 variables:\n",
      " $ CLNT_ID        : int  5873599 5873599 5873599 5873884 5874461 5874701 5874829 5874829 5874829 5874829 ...\n",
      " $ SESS_ID        : int  8641867 6616320 5886172 1050889 10298270 608577 1666766 1670494 1694242 1559438 ...\n",
      " $ SESS_SEQ       : int  9 21 40 15 5 65 87 86 85 92 ...\n",
      " $ SESS_DT        : int  20180509 20180611 20180624 20180913 20180412 20180920 20180903 20180903 20180902 20180904 ...\n",
      " $ TOT_PAG_VIEW_CT: int  82 105 41 160 13 41 36 103 154 24 ...\n",
      " $ TOT_SESS_HR_V  : num  1890 1604 632 1035 298 ...\n",
      " $ DVC_CTG_NM     : chr  \"mobile\" \"mobile\" \"mobile\" \"mobile\" ...\n",
      " $ ZON_NM         : chr  \"Daejeon\" \"Busan\" \"Daejeon\" \"Gyeonggi-do\" ...\n",
      " $ CITY_NM        : chr  \"Daejeon\" \"Busan\" \"Daejeon\" \"Anyang\" ...\n",
      " - attr(*, \".internal.selfref\")=<externalptr> \n"
     ]
    }
   ],
   "source": [
    "str(session)"
   ]
  },
  {
   "cell_type": "code",
   "execution_count": 17,
   "metadata": {},
   "outputs": [
    {
     "data": {
      "text/html": [
       "<dl class=dl-horizontal>\n",
       "\t<dt>CLNT_ID</dt>\n",
       "\t\t<dd>0</dd>\n",
       "\t<dt>SESS_ID</dt>\n",
       "\t\t<dd>0</dd>\n",
       "\t<dt>SESS_SEQ</dt>\n",
       "\t\t<dd>0</dd>\n",
       "\t<dt>SESS_DT</dt>\n",
       "\t\t<dd>0</dd>\n",
       "\t<dt>TOT_PAG_VIEW_CT</dt>\n",
       "\t\t<dd>274</dd>\n",
       "\t<dt>TOT_SESS_HR_V</dt>\n",
       "\t\t<dd>14202</dd>\n",
       "\t<dt>DVC_CTG_NM</dt>\n",
       "\t\t<dd>0</dd>\n",
       "\t<dt>ZON_NM</dt>\n",
       "\t\t<dd>0</dd>\n",
       "\t<dt>CITY_NM</dt>\n",
       "\t\t<dd>0</dd>\n",
       "</dl>\n"
      ],
      "text/latex": [
       "\\begin{description*}\n",
       "\\item[CLNT\\textbackslash{}\\_ID] 0\n",
       "\\item[SESS\\textbackslash{}\\_ID] 0\n",
       "\\item[SESS\\textbackslash{}\\_SEQ] 0\n",
       "\\item[SESS\\textbackslash{}\\_DT] 0\n",
       "\\item[TOT\\textbackslash{}\\_PAG\\textbackslash{}\\_VIEW\\textbackslash{}\\_CT] 274\n",
       "\\item[TOT\\textbackslash{}\\_SESS\\textbackslash{}\\_HR\\textbackslash{}\\_V] 14202\n",
       "\\item[DVC\\textbackslash{}\\_CTG\\textbackslash{}\\_NM] 0\n",
       "\\item[ZON\\textbackslash{}\\_NM] 0\n",
       "\\item[CITY\\textbackslash{}\\_NM] 0\n",
       "\\end{description*}\n"
      ],
      "text/markdown": [
       "CLNT_ID\n",
       ":   0SESS_ID\n",
       ":   0SESS_SEQ\n",
       ":   0SESS_DT\n",
       ":   0TOT_PAG_VIEW_CT\n",
       ":   274TOT_SESS_HR_V\n",
       ":   14202DVC_CTG_NM\n",
       ":   0ZON_NM\n",
       ":   0CITY_NM\n",
       ":   0\n",
       "\n"
      ],
      "text/plain": [
       "        CLNT_ID         SESS_ID        SESS_SEQ         SESS_DT TOT_PAG_VIEW_CT \n",
       "              0               0               0               0             274 \n",
       "  TOT_SESS_HR_V      DVC_CTG_NM          ZON_NM         CITY_NM \n",
       "          14202               0               0               0 "
      ]
     },
     "metadata": {},
     "output_type": "display_data"
    }
   ],
   "source": [
    "colSums(is.na(session)) #결측값 확인"
   ]
  },
  {
   "cell_type": "code",
   "execution_count": 18,
   "metadata": {},
   "outputs": [
    {
     "name": "stderr",
     "output_type": "stream",
     "text": [
      "\n",
      "Attaching package: 'dplyr'\n",
      "\n",
      "The following objects are masked from 'package:data.table':\n",
      "\n",
      "    between, first, last\n",
      "\n",
      "The following objects are masked from 'package:stats':\n",
      "\n",
      "    filter, lag\n",
      "\n",
      "The following objects are masked from 'package:base':\n",
      "\n",
      "    intersect, setdiff, setequal, union\n",
      "\n"
     ]
    }
   ],
   "source": [
    "library(dplyr)"
   ]
  },
  {
   "cell_type": "code",
   "execution_count": 19,
   "metadata": {},
   "outputs": [
    {
     "data": {
      "text/html": [
       "<table>\n",
       "<thead><tr><th scope=col>CLNT_ID</th><th scope=col>SESS_ID</th><th scope=col>SESS_SEQ</th><th scope=col>SESS_DT</th><th scope=col>TOT_PAG_VIEW_CT</th><th scope=col>TOT_SESS_HR_V</th><th scope=col>DVC_CTG_NM</th><th scope=col>ZON_NM</th><th scope=col>CITY_NM</th></tr></thead>\n",
       "<tbody>\n",
       "</tbody>\n",
       "</table>\n"
      ],
      "text/latex": [
       "\\begin{tabular}{r|lllllllll}\n",
       " CLNT\\_ID & SESS\\_ID & SESS\\_SEQ & SESS\\_DT & TOT\\_PAG\\_VIEW\\_CT & TOT\\_SESS\\_HR\\_V & DVC\\_CTG\\_NM & ZON\\_NM & CITY\\_NM\\\\\n",
       "\\hline\n",
       "\\end{tabular}\n"
      ],
      "text/markdown": [
       "\n",
       "CLNT_ID | SESS_ID | SESS_SEQ | SESS_DT | TOT_PAG_VIEW_CT | TOT_SESS_HR_V | DVC_CTG_NM | ZON_NM | CITY_NM | \n",
       "||\n",
       "\n",
       "\n"
      ],
      "text/plain": [
       "     CLNT_ID SESS_ID SESS_SEQ SESS_DT TOT_PAG_VIEW_CT TOT_SESS_HR_V DVC_CTG_NM\n",
       "     ZON_NM CITY_NM"
      ]
     },
     "metadata": {},
     "output_type": "display_data"
    }
   ],
   "source": [
    "#VIEW_CT와 HR_V에 0인값이 있는지 확인해보자 \n",
    "session  %>%  filter(TOT_PAG_VIEW_CT==0 | TOT_SESS_HR_V==0)"
   ]
  },
  {
   "cell_type": "code",
   "execution_count": 20,
   "metadata": {},
   "outputs": [],
   "source": [
    "CT_OR_V_NA=session %>% filter( is.na(session$TOT_PAG_VIEW_CT)==TRUE | is.na(session$TOT_SESS_HR_V)==TRUE) # VIEW_CT or HR_V가 NA인 데이터"
   ]
  },
  {
   "cell_type": "code",
   "execution_count": 21,
   "metadata": {},
   "outputs": [
    {
     "data": {
      "text/html": [
       "14211"
      ],
      "text/latex": [
       "14211"
      ],
      "text/markdown": [
       "14211"
      ],
      "text/plain": [
       "[1] 14211"
      ]
     },
     "metadata": {},
     "output_type": "display_data"
    }
   ],
   "source": [
    "nrow(CT_OR_V_NA)"
   ]
  },
  {
   "cell_type": "code",
   "execution_count": 22,
   "metadata": {
    "scrolled": true
   },
   "outputs": [
    {
     "data": {
      "text/html": [
       "0.0052382923557645"
      ],
      "text/latex": [
       "0.0052382923557645"
      ],
      "text/markdown": [
       "0.0052382923557645"
      ],
      "text/plain": [
       "[1] 0.005238292"
      ]
     },
     "metadata": {},
     "output_type": "display_data"
    }
   ],
   "source": [
    "nrow(CT_OR_V_NA)/nrow(session) #결측값 비율 0.5%"
   ]
  },
  {
   "cell_type": "code",
   "execution_count": 23,
   "metadata": {},
   "outputs": [],
   "source": [
    "CT_AND_V_NA=session %>% filter( is.na(session$TOT_PAG_VIEW_CT)==TRUE & is.na(session$TOT_SESS_HR_V)==TRUE) # VIEW_CT and HR_V가 NA인 데이터"
   ]
  },
  {
   "cell_type": "code",
   "execution_count": 24,
   "metadata": {},
   "outputs": [
    {
     "data": {
      "text/html": [
       "265"
      ],
      "text/latex": [
       "265"
      ],
      "text/markdown": [
       "265"
      ],
      "text/plain": [
       "[1] 265"
      ]
     },
     "metadata": {},
     "output_type": "display_data"
    }
   ],
   "source": [
    "nrow(CT_AND_V_NA)"
   ]
  },
  {
   "cell_type": "markdown",
   "metadata": {},
   "source": [
    "Session 데이터 내 결측값은 0.5%가 있으며,\n",
    "\n",
    "VIEW_CT가 NA일떄 HR_V도 NA인경우가 265개로  VIEW_CT만 NA인 경우는 9개에 불과하고,\n",
    "\n",
    "나머지는 조회수가 있음에도 조회시간이 측정이 안되는 경우가 대부분\n",
    "\n",
    "따라서 조회수에 따라 조회시간을 살펴볼 필요가 있다고 판단"
   ]
  },
  {
   "cell_type": "code",
   "execution_count": 25,
   "metadata": {
    "scrolled": true
   },
   "outputs": [
    {
     "data": {
      "text/html": [
       "<table>\n",
       "<thead><tr><th scope=col>CLNT_ID</th><th scope=col>SESS_ID</th><th scope=col>SESS_SEQ</th><th scope=col>SESS_DT</th><th scope=col>TOT_PAG_VIEW_CT</th><th scope=col>TOT_SESS_HR_V</th><th scope=col>DVC_CTG_NM</th><th scope=col>ZON_NM</th><th scope=col>CITY_NM</th></tr></thead>\n",
       "<tbody>\n",
       "\t<tr><td>5878756          </td><td>7465325          </td><td> 5               </td><td>20180529         </td><td>1                </td><td>NA               </td><td>mobile           </td><td>Chungcheongnam-do</td><td>Cheonan-si       </td></tr>\n",
       "\t<tr><td>6065738          </td><td>9564520          </td><td>26               </td><td>20180424         </td><td>1                </td><td>NA               </td><td>mobile           </td><td>Gyeonggi-do      </td><td>Gwangmyeong-si   </td></tr>\n",
       "\t<tr><td>6065738          </td><td>9564529          </td><td>25               </td><td>20180424         </td><td>1                </td><td>NA               </td><td>mobile           </td><td>Gyeonggi-do      </td><td>Gwangmyeong-si   </td></tr>\n",
       "\t<tr><td>6003295          </td><td>1035552          </td><td> 2               </td><td>20180913         </td><td>1                </td><td>NA               </td><td>desktop          </td><td>Daejeon          </td><td>Daejeon          </td></tr>\n",
       "\t<tr><td>5946142          </td><td>9600252          </td><td> 4               </td><td>20180423         </td><td>1                </td><td>NA               </td><td>mobile           </td><td>Seoul            </td><td>Seoul            </td></tr>\n",
       "\t<tr><td>6163287          </td><td>5612765          </td><td>98               </td><td>20180628         </td><td>1                </td><td>NA               </td><td>mobile           </td><td>Seoul            </td><td>Seoul            </td></tr>\n",
       "</tbody>\n",
       "</table>\n"
      ],
      "text/latex": [
       "\\begin{tabular}{r|lllllllll}\n",
       " CLNT\\_ID & SESS\\_ID & SESS\\_SEQ & SESS\\_DT & TOT\\_PAG\\_VIEW\\_CT & TOT\\_SESS\\_HR\\_V & DVC\\_CTG\\_NM & ZON\\_NM & CITY\\_NM\\\\\n",
       "\\hline\n",
       "\t 5878756           & 7465325           &  5                & 20180529          & 1                 & NA                & mobile            & Chungcheongnam-do & Cheonan-si       \\\\\n",
       "\t 6065738           & 9564520           & 26                & 20180424          & 1                 & NA                & mobile            & Gyeonggi-do       & Gwangmyeong-si   \\\\\n",
       "\t 6065738           & 9564529           & 25                & 20180424          & 1                 & NA                & mobile            & Gyeonggi-do       & Gwangmyeong-si   \\\\\n",
       "\t 6003295           & 1035552           &  2                & 20180913          & 1                 & NA                & desktop           & Daejeon           & Daejeon          \\\\\n",
       "\t 5946142           & 9600252           &  4                & 20180423          & 1                 & NA                & mobile            & Seoul             & Seoul            \\\\\n",
       "\t 6163287           & 5612765           & 98                & 20180628          & 1                 & NA                & mobile            & Seoul             & Seoul            \\\\\n",
       "\\end{tabular}\n"
      ],
      "text/markdown": [
       "\n",
       "CLNT_ID | SESS_ID | SESS_SEQ | SESS_DT | TOT_PAG_VIEW_CT | TOT_SESS_HR_V | DVC_CTG_NM | ZON_NM | CITY_NM | \n",
       "|---|---|---|---|---|---|\n",
       "| 5878756           | 7465325           |  5                | 20180529          | 1                 | NA                | mobile            | Chungcheongnam-do | Cheonan-si        | \n",
       "| 6065738           | 9564520           | 26                | 20180424          | 1                 | NA                | mobile            | Gyeonggi-do       | Gwangmyeong-si    | \n",
       "| 6065738           | 9564529           | 25                | 20180424          | 1                 | NA                | mobile            | Gyeonggi-do       | Gwangmyeong-si    | \n",
       "| 6003295           | 1035552           |  2                | 20180913          | 1                 | NA                | desktop           | Daejeon           | Daejeon           | \n",
       "| 5946142           | 9600252           |  4                | 20180423          | 1                 | NA                | mobile            | Seoul             | Seoul             | \n",
       "| 6163287           | 5612765           | 98                | 20180628          | 1                 | NA                | mobile            | Seoul             | Seoul             | \n",
       "\n",
       "\n"
      ],
      "text/plain": [
       "  CLNT_ID SESS_ID SESS_SEQ SESS_DT  TOT_PAG_VIEW_CT TOT_SESS_HR_V DVC_CTG_NM\n",
       "1 5878756 7465325  5       20180529 1               NA            mobile    \n",
       "2 6065738 9564520 26       20180424 1               NA            mobile    \n",
       "3 6065738 9564529 25       20180424 1               NA            mobile    \n",
       "4 6003295 1035552  2       20180913 1               NA            desktop   \n",
       "5 5946142 9600252  4       20180423 1               NA            mobile    \n",
       "6 6163287 5612765 98       20180628 1               NA            mobile    \n",
       "  ZON_NM            CITY_NM       \n",
       "1 Chungcheongnam-do Cheonan-si    \n",
       "2 Gyeonggi-do       Gwangmyeong-si\n",
       "3 Gyeonggi-do       Gwangmyeong-si\n",
       "4 Daejeon           Daejeon       \n",
       "5 Seoul             Seoul         \n",
       "6 Seoul             Seoul         "
      ]
     },
     "metadata": {},
     "output_type": "display_data"
    }
   ],
   "source": [
    "head(session[!complete.cases(session),])"
   ]
  },
  {
   "cell_type": "markdown",
   "metadata": {},
   "source": [
    "위와 같이 조회건수 1이지만 조회시간이 결측값인 경우들이 있음"
   ]
  },
  {
   "cell_type": "code",
   "execution_count": 26,
   "metadata": {},
   "outputs": [],
   "source": [
    "CT1_V_NA=session %>% filter( session$TOT_PAG_VIEW_CT==1 & is.na(session$TOT_SESS_HR_V)==TRUE) # VIEW_CT=1일떄 HR_V가 NA인 데이터"
   ]
  },
  {
   "cell_type": "code",
   "execution_count": 27,
   "metadata": {},
   "outputs": [
    {
     "data": {
      "text/html": [
       "13870"
      ],
      "text/latex": [
       "13870"
      ],
      "text/markdown": [
       "13870"
      ],
      "text/plain": [
       "[1] 13870"
      ]
     },
     "metadata": {},
     "output_type": "display_data"
    }
   ],
   "source": [
    "nrow(CT1_V_NA)"
   ]
  },
  {
   "cell_type": "code",
   "execution_count": 28,
   "metadata": {},
   "outputs": [
    {
     "data": {
      "text/html": [
       "0.976623010843543"
      ],
      "text/latex": [
       "0.976623010843543"
      ],
      "text/markdown": [
       "0.976623010843543"
      ],
      "text/plain": [
       "[1] 0.976623"
      ]
     },
     "metadata": {},
     "output_type": "display_data"
    }
   ],
   "source": [
    "nrow(CT1_V_NA)/sum(is.na(session$TOT_SESS_HR_V)) #VIEW_CT=1일때  HR_V의 97%이상이 입력되지 않음 "
   ]
  },
  {
   "cell_type": "code",
   "execution_count": 29,
   "metadata": {},
   "outputs": [],
   "source": [
    "CT2_V_NA=session %>% filter( session$TOT_PAG_VIEW_CT>1 & is.na(session$TOT_SESS_HR_V)==TRUE) # VIEW_CT가 1초과일 떄 HR_V가 NA인 데이터"
   ]
  },
  {
   "cell_type": "code",
   "execution_count": 30,
   "metadata": {},
   "outputs": [
    {
     "data": {
      "text/html": [
       "67"
      ],
      "text/latex": [
       "67"
      ],
      "text/markdown": [
       "67"
      ],
      "text/plain": [
       "[1] 67"
      ]
     },
     "metadata": {},
     "output_type": "display_data"
    }
   ],
   "source": [
    "nrow(CT2_V_NA)"
   ]
  },
  {
   "cell_type": "code",
   "execution_count": 31,
   "metadata": {},
   "outputs": [
    {
     "data": {
      "text/html": [
       "<table>\n",
       "<thead><tr><th scope=col>CT2_V_NA$TOT_PAG_VIEW_CT</th><th scope=col>n</th></tr></thead>\n",
       "<tbody>\n",
       "\t<tr><td>2 </td><td>62</td></tr>\n",
       "\t<tr><td>3 </td><td> 3</td></tr>\n",
       "\t<tr><td>5 </td><td> 1</td></tr>\n",
       "\t<tr><td>7 </td><td> 1</td></tr>\n",
       "</tbody>\n",
       "</table>\n"
      ],
      "text/latex": [
       "\\begin{tabular}{r|ll}\n",
       " CT2\\_V\\_NA\\$TOT\\_PAG\\_VIEW\\_CT & n\\\\\n",
       "\\hline\n",
       "\t 2  & 62\\\\\n",
       "\t 3  &  3\\\\\n",
       "\t 5  &  1\\\\\n",
       "\t 7  &  1\\\\\n",
       "\\end{tabular}\n"
      ],
      "text/markdown": [
       "\n",
       "CT2_V_NA$TOT_PAG_VIEW_CT | n | \n",
       "|---|---|---|---|\n",
       "| 2  | 62 | \n",
       "| 3  |  3 | \n",
       "| 5  |  1 | \n",
       "| 7  |  1 | \n",
       "\n",
       "\n"
      ],
      "text/plain": [
       "  CT2_V_NA$TOT_PAG_VIEW_CT n \n",
       "1 2                        62\n",
       "2 3                         3\n",
       "3 5                         1\n",
       "4 7                         1"
      ]
     },
     "metadata": {},
     "output_type": "display_data"
    }
   ],
   "source": [
    "CT2_V_NA %>% group_by(CT2_V_NA$TOT_PAG_VIEW_CT) %>% summarise(n=n())"
   ]
  },
  {
   "cell_type": "markdown",
   "metadata": {},
   "source": [
    "조회수가 낮을 떄 HR_V가 누락되는 경향이 있으며, 조회수가 1일때 97%이상이 누락"
   ]
  },
  {
   "cell_type": "code",
   "execution_count": 32,
   "metadata": {},
   "outputs": [
    {
     "data": {
      "text/html": [
       "<table>\n",
       "<thead><tr><th scope=col>CLNT_ID</th><th scope=col>SESS_ID</th><th scope=col>SESS_SEQ</th><th scope=col>SESS_DT</th><th scope=col>TOT_PAG_VIEW_CT</th><th scope=col>TOT_SESS_HR_V</th><th scope=col>DVC_CTG_NM</th><th scope=col>ZON_NM</th><th scope=col>CITY_NM</th></tr></thead>\n",
       "<tbody>\n",
       "\t<tr><td> 401333          </td><td>3950587          </td><td> 5               </td><td>20180725         </td><td>NA               </td><td>1583             </td><td>mobile           </td><td>Seoul            </td><td>Seoul            </td></tr>\n",
       "\t<tr><td>3449659          </td><td>4394290          </td><td> 1               </td><td>20180718         </td><td>NA               </td><td>  18             </td><td>desktop          </td><td>Busan            </td><td>Busan            </td></tr>\n",
       "\t<tr><td>3309257          </td><td>2890087          </td><td>20               </td><td>20180813         </td><td>NA               </td><td>   9             </td><td>mobile           </td><td>Seoul            </td><td>Seoul            </td></tr>\n",
       "\t<tr><td>  19441          </td><td>6220093          </td><td> 1               </td><td>20180618         </td><td>NA               </td><td>   5             </td><td>desktop          </td><td>Gyeonggi-do      </td><td>Hwaseong-si      </td></tr>\n",
       "\t<tr><td>5483124          </td><td>5361386          </td><td> 1               </td><td>20180702         </td><td>NA               </td><td>  44             </td><td>desktop          </td><td>Chungcheongbuk-do</td><td>Okcheon-gun      </td></tr>\n",
       "\t<tr><td>3436252          </td><td>3960033          </td><td> 5               </td><td>20180725         </td><td>NA               </td><td>   2             </td><td>mobile           </td><td>Gyeonggi-do      </td><td>Gimpo-si         </td></tr>\n",
       "\t<tr><td>  99352          </td><td>6907444          </td><td> 1               </td><td>20180607         </td><td>NA               </td><td>  53             </td><td>desktop          </td><td>Gyeonggi-do      </td><td>Siheung-si       </td></tr>\n",
       "\t<tr><td>2549138          </td><td>5905220          </td><td> 1               </td><td>20180623         </td><td>NA               </td><td>   1             </td><td>desktop          </td><td>Gwangju          </td><td>Gwangju          </td></tr>\n",
       "\t<tr><td>2458359          </td><td>3251800          </td><td> 1               </td><td>20180806         </td><td>NA               </td><td>   2             </td><td>desktop          </td><td>Daejeon          </td><td>Daejeon          </td></tr>\n",
       "</tbody>\n",
       "</table>\n"
      ],
      "text/latex": [
       "\\begin{tabular}{r|lllllllll}\n",
       " CLNT\\_ID & SESS\\_ID & SESS\\_SEQ & SESS\\_DT & TOT\\_PAG\\_VIEW\\_CT & TOT\\_SESS\\_HR\\_V & DVC\\_CTG\\_NM & ZON\\_NM & CITY\\_NM\\\\\n",
       "\\hline\n",
       "\t  401333           & 3950587           &  5                & 20180725          & NA                & 1583              & mobile            & Seoul             & Seoul            \\\\\n",
       "\t 3449659           & 4394290           &  1                & 20180718          & NA                &   18              & desktop           & Busan             & Busan            \\\\\n",
       "\t 3309257           & 2890087           & 20                & 20180813          & NA                &    9              & mobile            & Seoul             & Seoul            \\\\\n",
       "\t   19441           & 6220093           &  1                & 20180618          & NA                &    5              & desktop           & Gyeonggi-do       & Hwaseong-si      \\\\\n",
       "\t 5483124           & 5361386           &  1                & 20180702          & NA                &   44              & desktop           & Chungcheongbuk-do & Okcheon-gun      \\\\\n",
       "\t 3436252           & 3960033           &  5                & 20180725          & NA                &    2              & mobile            & Gyeonggi-do       & Gimpo-si         \\\\\n",
       "\t   99352           & 6907444           &  1                & 20180607          & NA                &   53              & desktop           & Gyeonggi-do       & Siheung-si       \\\\\n",
       "\t 2549138           & 5905220           &  1                & 20180623          & NA                &    1              & desktop           & Gwangju           & Gwangju          \\\\\n",
       "\t 2458359           & 3251800           &  1                & 20180806          & NA                &    2              & desktop           & Daejeon           & Daejeon          \\\\\n",
       "\\end{tabular}\n"
      ],
      "text/markdown": [
       "\n",
       "CLNT_ID | SESS_ID | SESS_SEQ | SESS_DT | TOT_PAG_VIEW_CT | TOT_SESS_HR_V | DVC_CTG_NM | ZON_NM | CITY_NM | \n",
       "|---|---|---|---|---|---|---|---|---|\n",
       "|  401333           | 3950587           |  5                | 20180725          | NA                | 1583              | mobile            | Seoul             | Seoul             | \n",
       "| 3449659           | 4394290           |  1                | 20180718          | NA                |   18              | desktop           | Busan             | Busan             | \n",
       "| 3309257           | 2890087           | 20                | 20180813          | NA                |    9              | mobile            | Seoul             | Seoul             | \n",
       "|   19441           | 6220093           |  1                | 20180618          | NA                |    5              | desktop           | Gyeonggi-do       | Hwaseong-si       | \n",
       "| 5483124           | 5361386           |  1                | 20180702          | NA                |   44              | desktop           | Chungcheongbuk-do | Okcheon-gun       | \n",
       "| 3436252           | 3960033           |  5                | 20180725          | NA                |    2              | mobile            | Gyeonggi-do       | Gimpo-si          | \n",
       "|   99352           | 6907444           |  1                | 20180607          | NA                |   53              | desktop           | Gyeonggi-do       | Siheung-si        | \n",
       "| 2549138           | 5905220           |  1                | 20180623          | NA                |    1              | desktop           | Gwangju           | Gwangju           | \n",
       "| 2458359           | 3251800           |  1                | 20180806          | NA                |    2              | desktop           | Daejeon           | Daejeon           | \n",
       "\n",
       "\n"
      ],
      "text/plain": [
       "  CLNT_ID SESS_ID SESS_SEQ SESS_DT  TOT_PAG_VIEW_CT TOT_SESS_HR_V DVC_CTG_NM\n",
       "1  401333 3950587  5       20180725 NA              1583          mobile    \n",
       "2 3449659 4394290  1       20180718 NA                18          desktop   \n",
       "3 3309257 2890087 20       20180813 NA                 9          mobile    \n",
       "4   19441 6220093  1       20180618 NA                 5          desktop   \n",
       "5 5483124 5361386  1       20180702 NA                44          desktop   \n",
       "6 3436252 3960033  5       20180725 NA                 2          mobile    \n",
       "7   99352 6907444  1       20180607 NA                53          desktop   \n",
       "8 2549138 5905220  1       20180623 NA                 1          desktop   \n",
       "9 2458359 3251800  1       20180806 NA                 2          desktop   \n",
       "  ZON_NM            CITY_NM    \n",
       "1 Seoul             Seoul      \n",
       "2 Busan             Busan      \n",
       "3 Seoul             Seoul      \n",
       "4 Gyeonggi-do       Hwaseong-si\n",
       "5 Chungcheongbuk-do Okcheon-gun\n",
       "6 Gyeonggi-do       Gimpo-si   \n",
       "7 Gyeonggi-do       Siheung-si \n",
       "8 Gwangju           Gwangju    \n",
       "9 Daejeon           Daejeon    "
      ]
     },
     "metadata": {},
     "output_type": "display_data"
    }
   ],
   "source": [
    "CT_NA=session %>% filter(is.na(session$TOT_PAG_VIEW_CT)==TRUE & is.na(session$TOT_SESS_HR_V)==FALSE)# VIEW_CT만 NA인 경우\n",
    "CT_NA"
   ]
  },
  {
   "cell_type": "markdown",
   "metadata": {},
   "source": [
    "## 결측값 처리\n",
    "\n",
    "1. HR_V만 Na인경우\n",
    "\n",
    "   이떄의 VIEW_C T역시 0값이 존재하지 않으며, VIEW_C가 1일 떄 97%이상이 HR_V가 Na임. \n",
    "   \n",
    "   조회시간이 너무 짧아 측정되지 않은 것으로 판단. 이떄의 HR_V는 0으로 처리.\n",
    "\n",
    "\n",
    "2. VIEW_CT만 Na인 경우 \n",
    "\n",
    "   세션의 오류로 인해 페이지 뷰 수가 늘어나지 않은 것으로 생각된다.\n",
    "\n",
    "   따라서 VIEW_CT만 Na인 경우, 9개의 데이터에서 VIEW_CT는 1로 처리\n",
    "\n",
    "\n",
    "\n",
    "3. VIEW_CT,HR_V 모두 Na인 경우 \n",
    "    \n",
    "   265개의 데이터로 두 변수 모두 0으로 처리"
   ]
  },
  {
   "cell_type": "code",
   "execution_count": 33,
   "metadata": {},
   "outputs": [],
   "source": [
    "clean=session %>% filter(is.na(session$TOT_PAG_VIEW_CT)==FALSE & is.na(session$TOT_SESS_HR_V)==FALSE) #결측값이 없는 데이터\n",
    "CT_NA[is.na(CT_NA)]=1 #CT만 NA인경우 1로 처리\n",
    "CT1_V_NA[is.na(CT1_V_NA)]=0 #CT가 1일떄 HR_V NA인 경우 0으로 처리\n",
    "CT2_V_NA[is.na(CT2_V_NA)]=0 #CT가 1이상 일떄 HR_V NA인 경우 0으로 처리\n",
    "CT_AND_V_NA[is.na(CT_AND_V_NA)]=0 #CT 와 HR_V가 둘다 NA인 경우 0으로 처리\n",
    "new_session=rbind(clean,CT_NA,CT1_V_NA,CT2_V_NA,CT_AND_V_NA)"
   ]
  },
  {
   "cell_type": "code",
   "execution_count": 34,
   "metadata": {
    "scrolled": true
   },
   "outputs": [
    {
     "name": "stdout",
     "output_type": "stream",
     "text": [
      "'data.frame':\t2712907 obs. of  9 variables:\n",
      " $ CLNT_ID        : int  5873599 5873599 5873599 5873884 5874461 5874701 5874829 5874829 5874829 5874829 ...\n",
      " $ SESS_ID        : int  8641867 6616320 5886172 1050889 10298270 608577 1666766 1670494 1694242 1559438 ...\n",
      " $ SESS_SEQ       : int  9 21 40 15 5 65 87 86 85 92 ...\n",
      " $ SESS_DT        : int  20180509 20180611 20180624 20180913 20180412 20180920 20180903 20180903 20180902 20180904 ...\n",
      " $ TOT_PAG_VIEW_CT: num  82 105 41 160 13 41 36 103 154 24 ...\n",
      " $ TOT_SESS_HR_V  : num  1890 1604 632 1035 298 ...\n",
      " $ DVC_CTG_NM     : chr  \"mobile\" \"mobile\" \"mobile\" \"mobile\" ...\n",
      " $ ZON_NM         : chr  \"Daejeon\" \"Busan\" \"Daejeon\" \"Gyeonggi-do\" ...\n",
      " $ CITY_NM        : chr  \"Daejeon\" \"Busan\" \"Daejeon\" \"Anyang\" ...\n",
      " - attr(*, \".internal.selfref\")=<externalptr> \n"
     ]
    }
   ],
   "source": [
    "str(new_session)"
   ]
  },
  {
   "cell_type": "code",
   "execution_count": 35,
   "metadata": {},
   "outputs": [],
   "source": [
    "new_session=as.data.table(new_session)  #속도 향상을 위해 형식변환"
   ]
  },
  {
   "cell_type": "code",
   "execution_count": 36,
   "metadata": {
    "scrolled": true
   },
   "outputs": [
    {
     "data": {
      "text/html": [
       "922737"
      ],
      "text/latex": [
       "922737"
      ],
      "text/markdown": [
       "922737"
      ],
      "text/plain": [
       "[1] 922737"
      ]
     },
     "metadata": {},
     "output_type": "display_data"
    },
    {
     "data": {
      "text/html": [
       "2425886"
      ],
      "text/latex": [
       "2425886"
      ],
      "text/markdown": [
       "2425886"
      ],
      "text/plain": [
       "[1] 2425886"
      ]
     },
     "metadata": {},
     "output_type": "display_data"
    }
   ],
   "source": [
    "#기본키 고유 개수 확인\n",
    "length(unique(new_session$CLNT_ID))\n",
    "\n",
    "length(unique(new_session$SESS_ID))"
   ]
  },
  {
   "cell_type": "code",
   "execution_count": 37,
   "metadata": {},
   "outputs": [],
   "source": [
    "library(ggplot2)"
   ]
  },
  {
   "cell_type": "code",
   "execution_count": 38,
   "metadata": {},
   "outputs": [
    {
     "data": {
      "text/html": [
       "<table>\n",
       "<thead><tr><th scope=col>DVC_CTG_NM</th><th scope=col>N</th></tr></thead>\n",
       "<tbody>\n",
       "\t<tr><td>mobile </td><td>2289681</td></tr>\n",
       "\t<tr><td>desktop</td><td> 411169</td></tr>\n",
       "\t<tr><td>tablet </td><td>  12057</td></tr>\n",
       "</tbody>\n",
       "</table>\n"
      ],
      "text/latex": [
       "\\begin{tabular}{r|ll}\n",
       " DVC\\_CTG\\_NM & N\\\\\n",
       "\\hline\n",
       "\t mobile  & 2289681\\\\\n",
       "\t desktop &  411169\\\\\n",
       "\t tablet  &   12057\\\\\n",
       "\\end{tabular}\n"
      ],
      "text/markdown": [
       "\n",
       "DVC_CTG_NM | N | \n",
       "|---|---|---|\n",
       "| mobile  | 2289681 | \n",
       "| desktop |  411169 | \n",
       "| tablet  |   12057 | \n",
       "\n",
       "\n"
      ],
      "text/plain": [
       "  DVC_CTG_NM N      \n",
       "1 mobile     2289681\n",
       "2 desktop     411169\n",
       "3 tablet       12057"
      ]
     },
     "metadata": {},
     "output_type": "display_data"
    },
    {
     "data": {},
     "metadata": {},
     "output_type": "display_data"
    },
    {
     "data": {
      "image/png": "[encoded data removed]",
      "text/plain": [
       "plot without title"
      ]
     },
     "metadata": {},
     "output_type": "display_data"
    }
   ],
   "source": [
    "new_session[, .N, by = DVC_CTG_NM]\n",
    "ggplot(new_session, aes(x=factor(DVC_CTG_NM))) + geom_bar()"
   ]
  },
  {
   "cell_type": "code",
   "execution_count": 39,
   "metadata": {},
   "outputs": [
    {
     "data": {
      "text/html": [
       "<table>\n",
       "<thead><tr><th scope=col>ZON_NM</th><th scope=col>N</th></tr></thead>\n",
       "<tbody>\n",
       "\t<tr><td>Seoul            </td><td>1019843          </td></tr>\n",
       "\t<tr><td>Gyeonggi-do      </td><td> 469954          </td></tr>\n",
       "\t<tr><td>Busan            </td><td> 295940          </td></tr>\n",
       "\t<tr><td>Gyeongsangnam-do </td><td> 128716          </td></tr>\n",
       "\t<tr><td>Daegu            </td><td> 116707          </td></tr>\n",
       "\t<tr><td>Incheon          </td><td> 100728          </td></tr>\n",
       "\t<tr><td>Gyeongsangbuk-do </td><td>  91183          </td></tr>\n",
       "\t<tr><td>Jeollabuk-do     </td><td>  78437          </td></tr>\n",
       "\t<tr><td>Chungcheongnam-do</td><td>  78072          </td></tr>\n",
       "\t<tr><td>Gwangju          </td><td>  70773          </td></tr>\n",
       "\t<tr><td>Daejeon          </td><td>  60442          </td></tr>\n",
       "\t<tr><td>Jeollanam-do     </td><td>  49299          </td></tr>\n",
       "\t<tr><td>Ulsan            </td><td>  46584          </td></tr>\n",
       "\t<tr><td>Chungcheongbuk-do</td><td>  44455          </td></tr>\n",
       "\t<tr><td>Gangwon-do       </td><td>  42701          </td></tr>\n",
       "\t<tr><td>Jeju-do          </td><td>  19073          </td></tr>\n",
       "</tbody>\n",
       "</table>\n"
      ],
      "text/latex": [
       "\\begin{tabular}{r|ll}\n",
       " ZON\\_NM & N\\\\\n",
       "\\hline\n",
       "\t Seoul             & 1019843          \\\\\n",
       "\t Gyeonggi-do       &  469954          \\\\\n",
       "\t Busan             &  295940          \\\\\n",
       "\t Gyeongsangnam-do  &  128716          \\\\\n",
       "\t Daegu             &  116707          \\\\\n",
       "\t Incheon           &  100728          \\\\\n",
       "\t Gyeongsangbuk-do  &   91183          \\\\\n",
       "\t Jeollabuk-do      &   78437          \\\\\n",
       "\t Chungcheongnam-do &   78072          \\\\\n",
       "\t Gwangju           &   70773          \\\\\n",
       "\t Daejeon           &   60442          \\\\\n",
       "\t Jeollanam-do      &   49299          \\\\\n",
       "\t Ulsan             &   46584          \\\\\n",
       "\t Chungcheongbuk-do &   44455          \\\\\n",
       "\t Gangwon-do        &   42701          \\\\\n",
       "\t Jeju-do           &   19073          \\\\\n",
       "\\end{tabular}\n"
      ],
      "text/markdown": [
       "\n",
       "ZON_NM | N | \n",
       "|---|---|---|---|---|---|---|---|---|---|---|---|---|---|---|---|\n",
       "| Seoul             | 1019843           | \n",
       "| Gyeonggi-do       |  469954           | \n",
       "| Busan             |  295940           | \n",
       "| Gyeongsangnam-do  |  128716           | \n",
       "| Daegu             |  116707           | \n",
       "| Incheon           |  100728           | \n",
       "| Gyeongsangbuk-do  |   91183           | \n",
       "| Jeollabuk-do      |   78437           | \n",
       "| Chungcheongnam-do |   78072           | \n",
       "| Gwangju           |   70773           | \n",
       "| Daejeon           |   60442           | \n",
       "| Jeollanam-do      |   49299           | \n",
       "| Ulsan             |   46584           | \n",
       "| Chungcheongbuk-do |   44455           | \n",
       "| Gangwon-do        |   42701           | \n",
       "| Jeju-do           |   19073           | \n",
       "\n",
       "\n"
      ],
      "text/plain": [
       "   ZON_NM            N      \n",
       "1  Seoul             1019843\n",
       "2  Gyeonggi-do        469954\n",
       "3  Busan              295940\n",
       "4  Gyeongsangnam-do   128716\n",
       "5  Daegu              116707\n",
       "6  Incheon            100728\n",
       "7  Gyeongsangbuk-do    91183\n",
       "8  Jeollabuk-do        78437\n",
       "9  Chungcheongnam-do   78072\n",
       "10 Gwangju             70773\n",
       "11 Daejeon             60442\n",
       "12 Jeollanam-do        49299\n",
       "13 Ulsan               46584\n",
       "14 Chungcheongbuk-do   44455\n",
       "15 Gangwon-do          42701\n",
       "16 Jeju-do             19073"
      ]
     },
     "metadata": {},
     "output_type": "display_data"
    }
   ],
   "source": [
    "new_session[, .N, by = ZON_NM]  %>% arrange(desc(N))"
   ]
  },
  {
   "cell_type": "markdown",
   "metadata": {},
   "source": [
    "Session테이블이 분석기간 내 온라인에서 상품을 구매한 방문자의 세션정보로\n",
    "\n",
    "Session테이블 역시 상품을 구매한 방문자들의 정보가 기록되있다는 것을 알 수 있다.\n",
    "\n",
    "SESS_DT는 구매날짜로 유추\n",
    "\n",
    "그리고 product와 session테이블의 기본키들의 개수가 같기 때문에\n",
    "\n",
    "두 테이블을 merge할 필요가 있다고 판단하였다."
   ]
  },
  {
   "cell_type": "code",
   "execution_count": 41,
   "metadata": {},
   "outputs": [],
   "source": [
    "product_session=merge(product,new_session,by=c(\"CLNT_ID\",\"SESS_ID\"),all=T)"
   ]
  },
  {
   "cell_type": "code",
   "execution_count": 42,
   "metadata": {
    "scrolled": true
   },
   "outputs": [
    {
     "name": "stdout",
     "output_type": "stream",
     "text": [
      "Classes 'data.table' and 'data.frame':\t5024906 obs. of  15 variables:\n",
      " $ CLNT_ID        : int  8 8 14 14 25 25 25 25 32 32 ...\n",
      " $ SESS_ID        : int  6964877 7017688 1156991 1156991 5317297 6059256 8113243 9506206 759569 759569 ...\n",
      " $ HITS_SEQ       : int  40 74 284 284 8 8 9 11 37 37 ...\n",
      " $ PD_C           : int  206218 206218 645262 369141 598634 715072 715121 715121 31982 31974 ...\n",
      " $ PD_ADD_NM      : chr  \"색상:BLACK|사이즈:ONE SIZE / 1개\" \"색상:BLACK|사이즈:ONE SIZE / 1개\" \"색상:LL1G14817AIN|사이즈:FREE / 1개\" \"색상:LL2G16216RGB|사이즈:FREE / 1개\" ...\n",
      " $ PD_BRA_NM      : chr  \"플라넷비\" \"플라넷비\" \"로이드주얼리\" \"로이드\" ...\n",
      " $ PD_BUY_AM      : num  38000 38000 29900 39900 39800 47000 92000 92000 9900 9900 ...\n",
      " $ PD_BUY_CT      : num  1 1 1 1 1 1 1 1 1 1 ...\n",
      " $ SESS_SEQ       : int  7 2 5 5 213 204 160 111 105 105 ...\n",
      " $ SESS_DT        : int  20180606 20180605 20180911 20180911 20180703 20180621 20180518 20180425 20180917 20180917 ...\n",
      " $ TOT_PAG_VIEW_CT: num  38 55 256 256 33 7 28 12 124 124 ...\n",
      " $ TOT_SESS_HR_V  : num  366 468 7098 7098 865 ...\n",
      " $ DVC_CTG_NM     : chr  \"mobile\" \"mobile\" \"mobile\" \"mobile\" ...\n",
      " $ ZON_NM         : chr  \"Gyeonggi-do\" \"Seoul\" \"Gyeonggi-do\" \"Gyeonggi-do\" ...\n",
      " $ CITY_NM        : chr  \"Gwangmyeong-si\" \"Seoul\" \"Ansan-si\" \"Ansan-si\" ...\n",
      " - attr(*, \".internal.selfref\")=<externalptr> \n",
      " - attr(*, \"sorted\")= chr  \"CLNT_ID\" \"SESS_ID\"\n"
     ]
    },
    {
     "data": {
      "text/html": [
       "<dl class=dl-horizontal>\n",
       "\t<dt>CLNT_ID</dt>\n",
       "\t\t<dd>0</dd>\n",
       "\t<dt>SESS_ID</dt>\n",
       "\t\t<dd>0</dd>\n",
       "\t<dt>HITS_SEQ</dt>\n",
       "\t\t<dd>0</dd>\n",
       "\t<dt>PD_C</dt>\n",
       "\t\t<dd>0</dd>\n",
       "\t<dt>PD_ADD_NM</dt>\n",
       "\t\t<dd>0</dd>\n",
       "\t<dt>PD_BRA_NM</dt>\n",
       "\t\t<dd>0</dd>\n",
       "\t<dt>PD_BUY_AM</dt>\n",
       "\t\t<dd>0</dd>\n",
       "\t<dt>PD_BUY_CT</dt>\n",
       "\t\t<dd>0</dd>\n",
       "\t<dt>SESS_SEQ</dt>\n",
       "\t\t<dd>0</dd>\n",
       "\t<dt>SESS_DT</dt>\n",
       "\t\t<dd>0</dd>\n",
       "\t<dt>TOT_PAG_VIEW_CT</dt>\n",
       "\t\t<dd>0</dd>\n",
       "\t<dt>TOT_SESS_HR_V</dt>\n",
       "\t\t<dd>0</dd>\n",
       "\t<dt>DVC_CTG_NM</dt>\n",
       "\t\t<dd>0</dd>\n",
       "\t<dt>ZON_NM</dt>\n",
       "\t\t<dd>0</dd>\n",
       "\t<dt>CITY_NM</dt>\n",
       "\t\t<dd>0</dd>\n",
       "</dl>\n"
      ],
      "text/latex": [
       "\\begin{description*}\n",
       "\\item[CLNT\\textbackslash{}\\_ID] 0\n",
       "\\item[SESS\\textbackslash{}\\_ID] 0\n",
       "\\item[HITS\\textbackslash{}\\_SEQ] 0\n",
       "\\item[PD\\textbackslash{}\\_C] 0\n",
       "\\item[PD\\textbackslash{}\\_ADD\\textbackslash{}\\_NM] 0\n",
       "\\item[PD\\textbackslash{}\\_BRA\\textbackslash{}\\_NM] 0\n",
       "\\item[PD\\textbackslash{}\\_BUY\\textbackslash{}\\_AM] 0\n",
       "\\item[PD\\textbackslash{}\\_BUY\\textbackslash{}\\_CT] 0\n",
       "\\item[SESS\\textbackslash{}\\_SEQ] 0\n",
       "\\item[SESS\\textbackslash{}\\_DT] 0\n",
       "\\item[TOT\\textbackslash{}\\_PAG\\textbackslash{}\\_VIEW\\textbackslash{}\\_CT] 0\n",
       "\\item[TOT\\textbackslash{}\\_SESS\\textbackslash{}\\_HR\\textbackslash{}\\_V] 0\n",
       "\\item[DVC\\textbackslash{}\\_CTG\\textbackslash{}\\_NM] 0\n",
       "\\item[ZON\\textbackslash{}\\_NM] 0\n",
       "\\item[CITY\\textbackslash{}\\_NM] 0\n",
       "\\end{description*}\n"
      ],
      "text/markdown": [
       "CLNT_ID\n",
       ":   0SESS_ID\n",
       ":   0HITS_SEQ\n",
       ":   0PD_C\n",
       ":   0PD_ADD_NM\n",
       ":   0PD_BRA_NM\n",
       ":   0PD_BUY_AM\n",
       ":   0PD_BUY_CT\n",
       ":   0SESS_SEQ\n",
       ":   0SESS_DT\n",
       ":   0TOT_PAG_VIEW_CT\n",
       ":   0TOT_SESS_HR_V\n",
       ":   0DVC_CTG_NM\n",
       ":   0ZON_NM\n",
       ":   0CITY_NM\n",
       ":   0\n",
       "\n"
      ],
      "text/plain": [
       "        CLNT_ID         SESS_ID        HITS_SEQ            PD_C       PD_ADD_NM \n",
       "              0               0               0               0               0 \n",
       "      PD_BRA_NM       PD_BUY_AM       PD_BUY_CT        SESS_SEQ         SESS_DT \n",
       "              0               0               0               0               0 \n",
       "TOT_PAG_VIEW_CT   TOT_SESS_HR_V      DVC_CTG_NM          ZON_NM         CITY_NM \n",
       "              0               0               0               0               0 "
      ]
     },
     "metadata": {},
     "output_type": "display_data"
    }
   ],
   "source": [
    "str(product_session) #product테이블의 행 개수와 일치하므로 이 두테이블은 Merge할 필요가 있다는 방증이다.\n",
    "colSums(is.na(product_session))"
   ]
  },
  {
   "cell_type": "markdown",
   "metadata": {},
   "source": [
    "# Master\n",
    "### 상품분류(master): 상품별 상품명, 대/중/소 분류명 정보"
   ]
  },
  {
   "cell_type": "code",
   "execution_count": 43,
   "metadata": {},
   "outputs": [
    {
     "data": {
      "text/html": [
       "<table>\n",
       "<thead><tr><th scope=col>PD_C</th><th scope=col>PD_NM</th><th scope=col>CLAC1_NM</th><th scope=col>CLAC2_NM</th><th scope=col>CLAC3_NM</th></tr></thead>\n",
       "<tbody>\n",
       "\t<tr><td>64382                                                                      </td><td>언더아머 남성 UA HG 아머 모크 LS 1289559-001 - 블랙 / MD[95]               </td><td>스포츠패션                                                                 </td><td>남성일반스포츠의류                                                         </td><td>남성스포츠티셔츠                                                           </td></tr>\n",
       "\t<tr><td>62282                                                                      </td><td>여자 플라워덧신 2족선물세트 17403-2set                                     </td><td>속옷/양말/홈웨어                                                           </td><td>여성양말류                                                                 </td><td>여성일반양말                                                               </td></tr>\n",
       "\t<tr><td>61729                                                                      </td><td>88A2933253배트맨스웨트티 - 블랙 / 130                                      </td><td>유아동의류                                                                 </td><td>유아의류상의                                                               </td><td>영유아티셔츠/탑                                                            </td></tr>\n",
       "\t<tr><td>61537                                                                      </td><td>닥터마틴 아드리안 블랙, 체리레드 - 02_체리레드 / 250mm(6)                  </td><td>패션잡화                                                                   </td><td>남성화                                                                     </td><td>남성부츠                                                                   </td></tr>\n",
       "\t<tr><td>58820                                                                      </td><td>여성 그레이 스트라이프 퍼프 소매 블라우스 (128865YQ33) - 회색(앤틱실버) / S</td><td>남성의류                                                                   </td><td>남성의류상의                                                               </td><td>남성남방셔츠                                                               </td></tr>\n",
       "\t<tr><td>58280                                                                      </td><td>선염스트라이프레이스패치원피스 JROP521D - 블루 / 85                        </td><td>여성의류                                                                   </td><td>여성의류전신                                                               </td><td>여성원피스                                                                 </td></tr>\n",
       "</tbody>\n",
       "</table>\n"
      ],
      "text/latex": [
       "\\begin{tabular}{r|lllll}\n",
       " PD\\_C & PD\\_NM & CLAC1\\_NM & CLAC2\\_NM & CLAC3\\_NM\\\\\n",
       "\\hline\n",
       "\t 64382                                                                           & 언더아머 남성 UA HG 아머 모크 LS 1289559-001 - 블랙 / MD{[}95{]}                & 스포츠패션                                                                      & 남성일반스포츠의류                                                              & 남성스포츠티셔츠                                                               \\\\\n",
       "\t 62282                                                                       & 여자 플라워덧신 2족선물세트 17403-2set                                      & 속옷/양말/홈웨어                                                            & 여성양말류                                                                  & 여성일반양말                                                               \\\\\n",
       "\t 61729                                                                       & 88A2933253배트맨스웨트티 - 블랙 / 130                                       & 유아동의류                                                                  & 유아의류상의                                                                & 영유아티셔츠/탑                                                            \\\\\n",
       "\t 61537                                                                         & 닥터마틴 아드리안 블랙, 체리레드 - 02\\_체리레드 / 250mm(6)                   & 패션잡화                                                                      & 남성화                                                                        & 남성부츠                                                                     \\\\\n",
       "\t 58820                                                                       & 여성 그레이 스트라이프 퍼프 소매 블라우스 (128865YQ33) - 회색(앤틱실버) / S & 남성의류                                                                    & 남성의류상의                                                                & 남성남방셔츠                                                               \\\\\n",
       "\t 58280                                                                       & 선염스트라이프레이스패치원피스 JROP521D - 블루 / 85                         & 여성의류                                                                    & 여성의류전신                                                                & 여성원피스                                                                 \\\\\n",
       "\\end{tabular}\n"
      ],
      "text/markdown": [
       "\n",
       "PD_C | PD_NM | CLAC1_NM | CLAC2_NM | CLAC3_NM | \n",
       "|---|---|---|---|---|---|\n",
       "| 64382                                                                       | 언더아머 남성 UA HG 아머 모크 LS 1289559-001 - 블랙 / MD[95]                | 스포츠패션                                                                  | 남성일반스포츠의류                                                          | 남성스포츠티셔츠                                                            | \n",
       "| 62282                                                                       | 여자 플라워덧신 2족선물세트 17403-2set                                      | 속옷/양말/홈웨어                                                            | 여성양말류                                                                  | 여성일반양말                                                                | \n",
       "| 61729                                                                       | 88A2933253배트맨스웨트티 - 블랙 / 130                                       | 유아동의류                                                                  | 유아의류상의                                                                | 영유아티셔츠/탑                                                             | \n",
       "| 61537                                                                       | 닥터마틴 아드리안 블랙, 체리레드 - 02_체리레드 / 250mm(6)                   | 패션잡화                                                                    | 남성화                                                                      | 남성부츠                                                                    | \n",
       "| 58820                                                                       | 여성 그레이 스트라이프 퍼프 소매 블라우스 (128865YQ33) - 회색(앤틱실버) / S | 남성의류                                                                    | 남성의류상의                                                                | 남성남방셔츠                                                                | \n",
       "| 58280                                                                       | 선염스트라이프레이스패치원피스 JROP521D - 블루 / 85                         | 여성의류                                                                    | 여성의류전신                                                                | 여성원피스                                                                  | \n",
       "\n",
       "\n"
      ],
      "text/plain": [
       "  PD_C \n",
       "1 64382\n",
       "2 62282\n",
       "3 61729\n",
       "4 61537\n",
       "5 58820\n",
       "6 58280\n",
       "  PD_NM                                                                      \n",
       "1 언더아머 남성 UA HG 아머 모크 LS 1289559-001 - 블랙 / MD[95]               \n",
       "2 여자 플라워덧신 2족선물세트 17403-2set                                     \n",
       "3 88A2933253배트맨스웨트티 - 블랙 / 130                                      \n",
       "4 닥터마틴 아드리안 블랙, 체리레드 - 02_체리레드 / 250mm(6)                  \n",
       "5 여성 그레이 스트라이프 퍼프 소매 블라우스 (128865YQ33) - 회색(앤틱실버) / S\n",
       "6 선염스트라이프레이스패치원피스 JROP521D - 블루 / 85                        \n",
       "  CLAC1_NM         CLAC2_NM           CLAC3_NM        \n",
       "1 스포츠패션       남성일반스포츠의류 남성스포츠티셔츠\n",
       "2 속옷/양말/홈웨어 여성양말류         여성일반양말    \n",
       "3 유아동의류       유아의류상의       영유아티셔츠/탑 \n",
       "4 패션잡화         남성화             남성부츠        \n",
       "5 남성의류         남성의류상의       남성남방셔츠    \n",
       "6 여성의류         여성의류전신       여성원피스      "
      ]
     },
     "metadata": {},
     "output_type": "display_data"
    }
   ],
   "source": [
    "head(master)"
   ]
  },
  {
   "cell_type": "code",
   "execution_count": 44,
   "metadata": {},
   "outputs": [
    {
     "name": "stdout",
     "output_type": "stream",
     "text": [
      "Classes 'data.table' and 'data.frame':\t847652 obs. of  5 variables:\n",
      " $ PD_C    : int  64382 62282 61729 61537 58820 58280 58183 58098 58057 56306 ...\n",
      " $ PD_NM   : chr  \"언더아머 남성 UA HG 아머 모크 LS 1289559-001 - 블랙 / MD[95]\" \"여자 플라워덧신 2족선물세트 17403-2set\" \"88A2933253배트맨스웨트티 - 블랙 / 130\" \"닥터마틴 아드리안 블랙, 체리레드 - 02_체리레드 / 250mm(6)\" ...\n",
      " $ CLAC1_NM: chr  \"스포츠패션\" \"속옷/양말/홈웨어\" \"유아동의류\" \"패션잡화\" ...\n",
      " $ CLAC2_NM: chr  \"남성일반스포츠의류\" \"여성양말류\" \"유아의류상의\" \"남성화\" ...\n",
      " $ CLAC3_NM: chr  \"남성스포츠티셔츠\" \"여성일반양말\" \"영유아티셔츠/탑\" \"남성부츠\" ...\n",
      " - attr(*, \".internal.selfref\")=<externalptr> \n"
     ]
    }
   ],
   "source": [
    "str(master)"
   ]
  },
  {
   "cell_type": "code",
   "execution_count": 45,
   "metadata": {},
   "outputs": [],
   "source": [
    "CLAC1=master %>% select(CLAC1_NM) %>% unique()"
   ]
  },
  {
   "cell_type": "code",
   "execution_count": 46,
   "metadata": {},
   "outputs": [
    {
     "data": {
      "text/html": [
       "<ol class=list-inline>\n",
       "\t<li>37</li>\n",
       "\t<li>1</li>\n",
       "</ol>\n"
      ],
      "text/latex": [
       "\\begin{enumerate*}\n",
       "\\item 37\n",
       "\\item 1\n",
       "\\end{enumerate*}\n"
      ],
      "text/markdown": [
       "1. 37\n",
       "2. 1\n",
       "\n",
       "\n"
      ],
      "text/plain": [
       "[1] 37  1"
      ]
     },
     "metadata": {},
     "output_type": "display_data"
    }
   ],
   "source": [
    "dim(CLAC1)# 상품군 대분류 37개"
   ]
  },
  {
   "cell_type": "code",
   "execution_count": 47,
   "metadata": {},
   "outputs": [
    {
     "data": {
      "text/html": [
       "<table>\n",
       "<thead><tr><th scope=col>CLAC1_NM</th></tr></thead>\n",
       "<tbody>\n",
       "\t<tr><td>스포츠패션      </td></tr>\n",
       "\t<tr><td>속옷/양말/홈웨어</td></tr>\n",
       "\t<tr><td>유아동의류      </td></tr>\n",
       "\t<tr><td>패션잡화        </td></tr>\n",
       "\t<tr><td>남성의류        </td></tr>\n",
       "\t<tr><td>여성의류        </td></tr>\n",
       "</tbody>\n",
       "</table>\n"
      ],
      "text/latex": [
       "\\begin{tabular}{r|l}\n",
       " CLAC1\\_NM\\\\\n",
       "\\hline\n",
       "\t 스포츠패션      \\\\\n",
       "\t 속옷/양말/홈웨어\\\\\n",
       "\t 유아동의류      \\\\\n",
       "\t 패션잡화        \\\\\n",
       "\t 남성의류        \\\\\n",
       "\t 여성의류        \\\\\n",
       "\\end{tabular}\n"
      ],
      "text/markdown": [
       "\n",
       "CLAC1_NM | \n",
       "|---|---|---|---|---|---|\n",
       "| 스포츠패션       | \n",
       "| 속옷/양말/홈웨어 | \n",
       "| 유아동의류       | \n",
       "| 패션잡화         | \n",
       "| 남성의류         | \n",
       "| 여성의류         | \n",
       "\n",
       "\n"
      ],
      "text/plain": [
       "  CLAC1_NM        \n",
       "1 스포츠패션      \n",
       "2 속옷/양말/홈웨어\n",
       "3 유아동의류      \n",
       "4 패션잡화        \n",
       "5 남성의류        \n",
       "6 여성의류        "
      ]
     },
     "metadata": {},
     "output_type": "display_data"
    }
   ],
   "source": [
    "head(CLAC1)"
   ]
  },
  {
   "cell_type": "markdown",
   "metadata": {},
   "source": [
    "product_session 테이블 내 PD_C와 Master 테이블 내 PD_C를 병합할 시,\n",
    "\n",
    "구매자의 상품분류까지 알 수 있어 병합을 진행하였다.\n",
    "\n",
    "product_session의 고유한 PD_C와 master의 고유한 PD_C 개수 또한 같았다."
   ]
  },
  {
   "cell_type": "code",
   "execution_count": 48,
   "metadata": {},
   "outputs": [
    {
     "data": {
      "text/html": [
       "847652"
      ],
      "text/latex": [
       "847652"
      ],
      "text/markdown": [
       "847652"
      ],
      "text/plain": [
       "[1] 847652"
      ]
     },
     "metadata": {},
     "output_type": "display_data"
    },
    {
     "data": {
      "text/html": [
       "847652"
      ],
      "text/latex": [
       "847652"
      ],
      "text/markdown": [
       "847652"
      ],
      "text/plain": [
       "[1] 847652"
      ]
     },
     "metadata": {},
     "output_type": "display_data"
    }
   ],
   "source": [
    "length(unique(product_session$PD_C))\n",
    "length(unique(master$PD_C))"
   ]
  },
  {
   "cell_type": "code",
   "execution_count": 49,
   "metadata": {},
   "outputs": [],
   "source": [
    "product_session_master=merge(product_session,master,by='PD_C',all=TRUE)"
   ]
  },
  {
   "cell_type": "code",
   "execution_count": 50,
   "metadata": {},
   "outputs": [
    {
     "name": "stdout",
     "output_type": "stream",
     "text": [
      "Classes 'data.table' and 'data.frame':\t5024906 obs. of  19 variables:\n",
      " $ PD_C           : int  1 2 3 3 3 3 4 5 6 7 ...\n",
      " $ CLNT_ID        : int  269002 1373088 206440 2837561 4498341 4498341 2203912 782544 3174521 179954 ...\n",
      " $ SESS_ID        : int  8402189 9368697 10764490 2929769 5790483 5790483 7724400 5606365 9197306 4741330 ...\n",
      " $ HITS_SEQ       : int  44 26 102 50 30 30 54 26 59 79 ...\n",
      " $ PD_ADD_NM      : chr  \"1개\" \"1개\" \"선택:블랙 / 1개\" \"선택:블랙 / 1개\" ...\n",
      " $ PD_BRA_NM      : chr  \"풍년\" \"스톤헨지주얼리\" \"XEEON\" \"XEEON\" ...\n",
      " $ PD_BUY_AM      : num  89000 39000 7900 7900 7900 ...\n",
      " $ PD_BUY_CT      : num  1 1 1 1 1 1 1 1 1 1 ...\n",
      " $ SESS_SEQ       : int  358 43 653 212 18 18 280 283 27 4 ...\n",
      " $ SESS_DT        : int  20180513 20180427 20180404 20180812 20180625 20180625 20180524 20180628 20180430 20180712 ...\n",
      " $ TOT_PAG_VIEW_CT: num  72 25 102 50 29 29 54 30 60 80 ...\n",
      " $ TOT_SESS_HR_V  : num  890 106 970 331 150 ...\n",
      " $ DVC_CTG_NM     : chr  \"mobile\" \"mobile\" \"mobile\" \"mobile\" ...\n",
      " $ ZON_NM         : chr  \"Ulsan\" \"Seoul\" \"Seoul\" \"Seoul\" ...\n",
      " $ CITY_NM        : chr  \"Ulsan\" \"Seoul\" \"Seoul\" \"Seoul\" ...\n",
      " $ PD_NM          : chr  \"PN클래드IH압력솥 2인용+사은품 실리콘그립손잡이 증정\" \"스톤헨지 레이어드목걸이 SC0084\" \"[XEEON] 에어렉스 스포츠 골프화 실리콘 신발끈 - 그린\" \"[XEEON] 에어렉스 스포츠 골프화 실리콘 신발끈 - 그린\" ...\n",
      " $ CLAC1_NM       : chr  \"식기/조리기구\" \"패션잡화\" \"구기/필드스포츠\" \"구기/필드스포츠\" ...\n",
      " $ CLAC2_NM       : chr  \"조리기구\" \"보석\" \"골프\" \"골프\" ...\n",
      " $ CLAC3_NM       : chr  \"압력솥\" \"목걸이\" \"골프연습장비\" \"골프연습장비\" ...\n",
      " - attr(*, \".internal.selfref\")=<externalptr> \n",
      " - attr(*, \"sorted\")= chr \"PD_C\"\n"
     ]
    },
    {
     "data": {
      "text/html": [
       "<dl class=dl-horizontal>\n",
       "\t<dt>PD_C</dt>\n",
       "\t\t<dd>0</dd>\n",
       "\t<dt>CLNT_ID</dt>\n",
       "\t\t<dd>0</dd>\n",
       "\t<dt>SESS_ID</dt>\n",
       "\t\t<dd>0</dd>\n",
       "\t<dt>HITS_SEQ</dt>\n",
       "\t\t<dd>0</dd>\n",
       "\t<dt>PD_ADD_NM</dt>\n",
       "\t\t<dd>0</dd>\n",
       "\t<dt>PD_BRA_NM</dt>\n",
       "\t\t<dd>0</dd>\n",
       "\t<dt>PD_BUY_AM</dt>\n",
       "\t\t<dd>0</dd>\n",
       "\t<dt>PD_BUY_CT</dt>\n",
       "\t\t<dd>0</dd>\n",
       "\t<dt>SESS_SEQ</dt>\n",
       "\t\t<dd>0</dd>\n",
       "\t<dt>SESS_DT</dt>\n",
       "\t\t<dd>0</dd>\n",
       "\t<dt>TOT_PAG_VIEW_CT</dt>\n",
       "\t\t<dd>0</dd>\n",
       "\t<dt>TOT_SESS_HR_V</dt>\n",
       "\t\t<dd>0</dd>\n",
       "\t<dt>DVC_CTG_NM</dt>\n",
       "\t\t<dd>0</dd>\n",
       "\t<dt>ZON_NM</dt>\n",
       "\t\t<dd>0</dd>\n",
       "\t<dt>CITY_NM</dt>\n",
       "\t\t<dd>0</dd>\n",
       "\t<dt>PD_NM</dt>\n",
       "\t\t<dd>0</dd>\n",
       "\t<dt>CLAC1_NM</dt>\n",
       "\t\t<dd>0</dd>\n",
       "\t<dt>CLAC2_NM</dt>\n",
       "\t\t<dd>0</dd>\n",
       "\t<dt>CLAC3_NM</dt>\n",
       "\t\t<dd>0</dd>\n",
       "</dl>\n"
      ],
      "text/latex": [
       "\\begin{description*}\n",
       "\\item[PD\\textbackslash{}\\_C] 0\n",
       "\\item[CLNT\\textbackslash{}\\_ID] 0\n",
       "\\item[SESS\\textbackslash{}\\_ID] 0\n",
       "\\item[HITS\\textbackslash{}\\_SEQ] 0\n",
       "\\item[PD\\textbackslash{}\\_ADD\\textbackslash{}\\_NM] 0\n",
       "\\item[PD\\textbackslash{}\\_BRA\\textbackslash{}\\_NM] 0\n",
       "\\item[PD\\textbackslash{}\\_BUY\\textbackslash{}\\_AM] 0\n",
       "\\item[PD\\textbackslash{}\\_BUY\\textbackslash{}\\_CT] 0\n",
       "\\item[SESS\\textbackslash{}\\_SEQ] 0\n",
       "\\item[SESS\\textbackslash{}\\_DT] 0\n",
       "\\item[TOT\\textbackslash{}\\_PAG\\textbackslash{}\\_VIEW\\textbackslash{}\\_CT] 0\n",
       "\\item[TOT\\textbackslash{}\\_SESS\\textbackslash{}\\_HR\\textbackslash{}\\_V] 0\n",
       "\\item[DVC\\textbackslash{}\\_CTG\\textbackslash{}\\_NM] 0\n",
       "\\item[ZON\\textbackslash{}\\_NM] 0\n",
       "\\item[CITY\\textbackslash{}\\_NM] 0\n",
       "\\item[PD\\textbackslash{}\\_NM] 0\n",
       "\\item[CLAC1\\textbackslash{}\\_NM] 0\n",
       "\\item[CLAC2\\textbackslash{}\\_NM] 0\n",
       "\\item[CLAC3\\textbackslash{}\\_NM] 0\n",
       "\\end{description*}\n"
      ],
      "text/markdown": [
       "PD_C\n",
       ":   0CLNT_ID\n",
       ":   0SESS_ID\n",
       ":   0HITS_SEQ\n",
       ":   0PD_ADD_NM\n",
       ":   0PD_BRA_NM\n",
       ":   0PD_BUY_AM\n",
       ":   0PD_BUY_CT\n",
       ":   0SESS_SEQ\n",
       ":   0SESS_DT\n",
       ":   0TOT_PAG_VIEW_CT\n",
       ":   0TOT_SESS_HR_V\n",
       ":   0DVC_CTG_NM\n",
       ":   0ZON_NM\n",
       ":   0CITY_NM\n",
       ":   0PD_NM\n",
       ":   0CLAC1_NM\n",
       ":   0CLAC2_NM\n",
       ":   0CLAC3_NM\n",
       ":   0\n",
       "\n"
      ],
      "text/plain": [
       "           PD_C         CLNT_ID         SESS_ID        HITS_SEQ       PD_ADD_NM \n",
       "              0               0               0               0               0 \n",
       "      PD_BRA_NM       PD_BUY_AM       PD_BUY_CT        SESS_SEQ         SESS_DT \n",
       "              0               0               0               0               0 \n",
       "TOT_PAG_VIEW_CT   TOT_SESS_HR_V      DVC_CTG_NM          ZON_NM         CITY_NM \n",
       "              0               0               0               0               0 \n",
       "          PD_NM        CLAC1_NM        CLAC2_NM        CLAC3_NM \n",
       "              0               0               0               0 "
      ]
     },
     "metadata": {},
     "output_type": "display_data"
    }
   ],
   "source": [
    "str(product_session_master)\n",
    "colSums(is.na(product_session_master))"
   ]
  },
  {
   "cell_type": "markdown",
   "metadata": {},
   "source": [
    "product_session_master테이블 내 HITS_SEQ=1은 이상치로 간주하라."
   ]
  },
  {
   "cell_type": "code",
   "execution_count": 51,
   "metadata": {
    "scrolled": false
   },
   "outputs": [
    {
     "data": {
      "text/html": [
       "0.0010300690201966"
      ],
      "text/latex": [
       "0.0010300690201966"
      ],
      "text/markdown": [
       "0.0010300690201966"
      ],
      "text/plain": [
       "[1] 0.001030069"
      ]
     },
     "metadata": {},
     "output_type": "display_data"
    }
   ],
   "source": [
    "sum(product_session_master$HITS_SEQ==1)/nrow(product_session_master)"
   ]
  },
  {
   "cell_type": "code",
   "execution_count": 52,
   "metadata": {
    "scrolled": true
   },
   "outputs": [
    {
     "data": {
      "text/html": [
       "<table>\n",
       "<thead><tr><th scope=col>PD_C</th><th scope=col>CLNT_ID</th><th scope=col>SESS_ID</th><th scope=col>HITS_SEQ</th><th scope=col>PD_ADD_NM</th><th scope=col>PD_BRA_NM</th><th scope=col>PD_BUY_AM</th><th scope=col>PD_BUY_CT</th><th scope=col>SESS_SEQ</th><th scope=col>SESS_DT</th><th scope=col>TOT_PAG_VIEW_CT</th><th scope=col>TOT_SESS_HR_V</th><th scope=col>DVC_CTG_NM</th><th scope=col>ZON_NM</th><th scope=col>CITY_NM</th><th scope=col>PD_NM</th><th scope=col>CLAC1_NM</th><th scope=col>CLAC2_NM</th><th scope=col>CLAC3_NM</th></tr></thead>\n",
       "<tbody>\n",
       "\t<tr><td> 269                                                                                               </td><td> 763561                                                                                            </td><td> 7953650                                                                                           </td><td>1                                                                                                  </td><td>1개                                                                                                </td><td>골든벨                                                                                             </td><td> 16900                                                                                             </td><td>1                                                                                                  </td><td>  27                                                                                               </td><td>20180520                                                                                           </td><td> 1                                                                                                 </td><td>   0                                                                                               </td><td>mobile                                                                                             </td><td>Gyeongsangbuk-do                                                                                   </td><td>Gyeongju-si                                                                                        </td><td>리멤버 주름수반(대)+도자기 티스푼포크 11P 세트                                                     </td><td>식기/조리기구                                                                                      </td><td>그릇/식기                                                                                          </td><td>디저트포크/스푼                                                                                    </td></tr>\n",
       "\t<tr><td> 318                                                                                               </td><td>5222222                                                                                            </td><td>10198148                                                                                           </td><td>1                                                                                                  </td><td>1개                                                                                                </td><td>더바디샵                                                                                           </td><td> 28000                                                                                             </td><td>1                                                                                                  </td><td>   2                                                                                               </td><td>20180413                                                                                           </td><td> 1                                                                                                 </td><td>   0                                                                                               </td><td>mobile                                                                                             </td><td>Seoul                                                                                              </td><td>Seoul                                                                                              </td><td>화이트 머스크 바디 크림 200ML(59016)                                                               </td><td>퍼스널케어                                                                                         </td><td>바디케어                                                                                           </td><td>바디보습                                                                                           </td></tr>\n",
       "\t<tr><td> 461                                                                                               </td><td>2812387                                                                                            </td><td> 3243706                                                                                           </td><td>1                                                                                                  </td><td>1개                                                                                                </td><td>버키비버                                                                                           </td><td>  4930                                                                                             </td><td>1                                                                                                  </td><td>  43                                                                                               </td><td>20180806                                                                                           </td><td> 4                                                                                                 </td><td>   4                                                                                               </td><td>mobile                                                                                             </td><td>Gyeonggi-do                                                                                        </td><td>Yongin-si                                                                                          </td><td>버키비버 유아치실/어린이치실/치간칫솔/아기치실/유아용치실/혀크리너/유아치약/키즈치실               </td><td>출산/육아용품                                                                                      </td><td>유아위생용품                                                                                       </td><td>유아/아동용칫솔                                                                                    </td></tr>\n",
       "\t<tr><td> 487                                                                                               </td><td>1795923                                                                                            </td><td> 9472467                                                                                           </td><td>1                                                                                                  </td><td>2개                                                                                                </td><td>이아소                                                                                             </td><td> 24300                                                                                             </td><td>2                                                                                                  </td><td>   2                                                                                               </td><td>20180425                                                                                           </td><td> 1                                                                                                 </td><td>   0                                                                                               </td><td>mobile                                                                                             </td><td>Incheon                                                                                            </td><td>Incheon                                                                                            </td><td>닥터이아소 엑스폴리에이팅 프렙                                                                     </td><td>화장품/뷰티케어                                                                                    </td><td>스킨케어                                                                                           </td><td>에센스/세럼                                                                                        </td></tr>\n",
       "\t<tr><td> 508                                                                                               </td><td>2842179                                                                                            </td><td>10007524                                                                                           </td><td>1                                                                                                  </td><td>타입:Q|사이즈:85AA / 2개                                                                           </td><td>판도라바이비비안                                                                                   </td><td>  6900                                                                                             </td><td>2                                                                                                  </td><td> 177                                                                                               </td><td>20180416                                                                                           </td><td>21                                                                                                 </td><td>1469                                                                                               </td><td>mobile                                                                                             </td><td>Seoul                                                                                              </td><td>Seoul                                                                                              </td><td>외 1.2.3단계 주니어 브라 택1 tb-251 - S / 70AA                                                     </td><td>속옷/양말/홈웨어                                                                                   </td><td>여성속옷                                                                                           </td><td>브래지어                                                                                           </td></tr>\n",
       "\t<tr><td> 508                                                                                               </td><td>2842179                                                                                            </td><td>10007524                                                                                           </td><td>1                                                                                                  </td><td>타입:T|사이즈:85A / 2개                                                                            </td><td>판도라바이비비안                                                                                   </td><td>  6900                                                                                             </td><td>2                                                                                                  </td><td> 177                                                                                               </td><td>20180416                                                                                           </td><td>21                                                                                                 </td><td>1469                                                                                               </td><td>mobile                                                                                             </td><td>Seoul                                                                                              </td><td>Seoul                                                                                              </td><td>외 1.2.3단계 주니어 브라 택1 tb-251 - S / 70AA                                                     </td><td>속옷/양말/홈웨어                                                                                   </td><td>여성속옷                                                                                           </td><td>브래지어                                                                                           </td></tr>\n",
       "\t<tr><td> 700                                                                                               </td><td>4491057                                                                                            </td><td>10559965                                                                                           </td><td>1                                                                                                  </td><td>1개                                                                                                </td><td>에이엔에프                                                                                         </td><td> 60000                                                                                             </td><td>1                                                                                                  </td><td>  12                                                                                               </td><td>20180407                                                                                           </td><td> 1                                                                                                 </td><td>   0                                                                                               </td><td>mobile                                                                                             </td><td>Busan                                                                                              </td><td>Busan                                                                                              </td><td>ANF 유기농 양고기 (전연령) 6kg                                                                     </td><td>원예/애완                                                                                          </td><td>애견용품                                                                                           </td><td>애견사료                                                                                           </td></tr>\n",
       "\t<tr><td> 804                                                                                               </td><td>6051543                                                                                            </td><td> 9581607                                                                                           </td><td>1                                                                                                  </td><td>1개                                                                                                </td><td>아토팜                                                                                             </td><td> 29900                                                                                             </td><td>1                                                                                                  </td><td>   2                                                                                               </td><td>20180423                                                                                           </td><td> 5                                                                                                 </td><td> 236                                                                                               </td><td>mobile                                                                                             </td><td>Gyeongsangbuk-do                                                                                   </td><td>Yeongju-si                                                                                         </td><td>MLE 로션 대용량 300ml [gift] 베스트 키트 6종                                                       </td><td>출산/육아용품                                                                                      </td><td>유아스킨/바디케어                                                                                  </td><td>유아용화장품                                                                                       </td></tr>\n",
       "\t<tr><td> 878                                                                                               </td><td>5102345                                                                                            </td><td> 2505685                                                                                           </td><td>1                                                                                                  </td><td>색상:투명 / 1개                                                                                    </td><td>아레나수영복                                                                                       </td><td> 22000                                                                                             </td><td>1                                                                                                  </td><td> 206                                                                                               </td><td>20180819                                                                                           </td><td> 1                                                                                                 </td><td>   0                                                                                               </td><td>mobile                                                                                             </td><td>Gyeonggi-do                                                                                        </td><td>Seongnam-si                                                                                        </td><td>아레나 쥬니어 AGL-5100J 수경(AOAAG51) 물안경 수영안경 케이스 포함 - 블랙                           </td><td>시즌스포츠                                                                                         </td><td>수영/물놀이                                                                                        </td><td>기타물놀이용품                                                                                     </td></tr>\n",
       "\t<tr><td>1021                                                                                               </td><td>4246272                                                                                            </td><td>10785113                                                                                           </td><td>1                                                                                                  </td><td>1개                                                                                                </td><td>썬터치                                                                                             </td><td> 29500                                                                                             </td><td>1                                                                                                  </td><td> 307                                                                                               </td><td>20180404                                                                                           </td><td> 1                                                                                                 </td><td>   0                                                                                               </td><td>mobile                                                                                             </td><td>Seoul                                                                                              </td><td>Seoul                                                                                              </td><td>[썬터치]휴대용가스렌지ST-001A/국산/휴대용버너/부르스타/가스버너/캠핑/부탄가스/업소용/그릴/불판/야외</td><td>생활/주방가전                                                                                      </td><td>주방가전                                                                                           </td><td>인덕션/가스레인지                                                                                  </td></tr>\n",
       "\t<tr><td>1043                                                                                               </td><td> 743679                                                                                            </td><td>10124542                                                                                           </td><td>1                                                                                                  </td><td>5개                                                                                                </td><td>초록마을                                                                                           </td><td> 25200                                                                                             </td><td>5                                                                                                  </td><td>  19                                                                                               </td><td>20180414                                                                                           </td><td> 1                                                                                                 </td><td>   0                                                                                               </td><td>mobile                                                                                             </td><td>Chungcheongnam-do                                                                                  </td><td>Asan-si                                                                                            </td><td>몸에좋은헛개100 80mL*30입                                                                          </td><td>건강식품                                                                                           </td><td>건강진액                                                                                           </td><td>채소즙                                                                                             </td></tr>\n",
       "\t<tr><td>1148                                                                                               </td><td> 756394                                                                                            </td><td> 8223512                                                                                           </td><td>1                                                                                                  </td><td>사이즈:250 / 1개                                                                                   </td><td>캠프라인                                                                                           </td><td>144500                                                                                             </td><td>1                                                                                                  </td><td>  22                                                                                               </td><td>20180516                                                                                           </td><td> 1                                                                                                 </td><td>   0                                                                                               </td><td>mobile                                                                                             </td><td>Daegu                                                                                              </td><td>Daegu                                                                                              </td><td>[캠프라인] 블랙스톰 델타 남여공용 중등산화 - 240                                                   </td><td>아웃도어/레저                                                                                      </td><td>등산                                                                                               </td><td>등산화                                                                                             </td></tr>\n",
       "\t<tr><td>1239                                                                                               </td><td> 685173                                                                                            </td><td> 8301526                                                                                           </td><td>1                                                                                                  </td><td>1개                                                                                                </td><td>일렉트로룩스                                                                                       </td><td> 94500                                                                                             </td><td>1                                                                                                  </td><td>  13                                                                                               </td><td>20180515                                                                                           </td><td> 1                                                                                                 </td><td>   0                                                                                               </td><td>mobile                                                                                             </td><td>Seoul                                                                                              </td><td>Seoul                                                                                              </td><td>[MD추천] [텀블러 증정] 익스프레셔니스트 컬렉션 북유럽 분유포트 무선주전자 EEK7804S                 </td><td>생활/주방가전                                                                                      </td><td>주방가전                                                                                           </td><td>커피메이커/포트                                                                                    </td></tr>\n",
       "\t<tr><td>1359                                                                                               </td><td> 414537                                                                                            </td><td> 4101793                                                                                           </td><td>1                                                                                                  </td><td>1개                                                                                                </td><td>템퍼                                                                                               </td><td>131750                                                                                             </td><td>1                                                                                                  </td><td>  52                                                                                               </td><td>20180723                                                                                           </td><td> 3                                                                                                 </td><td>  13                                                                                               </td><td>mobile                                                                                             </td><td>Seoul                                                                                              </td><td>Seoul                                                                                              </td><td>템퍼 밀레니엄 베개 S                                                                               </td><td>가구                                                                                               </td><td>침실가구                                                                                           </td><td>침실가구세트                                                                                       </td></tr>\n",
       "\t<tr><td>1526                                                                                               </td><td>5085285                                                                                            </td><td> 7630020                                                                                           </td><td>1                                                                                                  </td><td>2개                                                                                                </td><td>스피드스택스                                                                                       </td><td>  2000                                                                                             </td><td>2                                                                                                  </td><td>   9                                                                                               </td><td>20180526                                                                                           </td><td> 0                                                                                                 </td><td>   0                                                                                               </td><td>mobile                                                                                             </td><td>Gyeonggi-do                                                                                        </td><td>Suwon-si                                                                                           </td><td>스피드스택스 - 컵 키퍼                                                                             </td><td>완구                                                                                               </td><td>교육완구                                                                                           </td><td>보드게임                                                                                           </td></tr>\n",
       "\t<tr><td>1549                                                                                               </td><td>1623802                                                                                            </td><td> 9894067                                                                                           </td><td>1                                                                                                  </td><td>5개                                                                                                </td><td>비비하우스                                                                                         </td><td>  1980                                                                                             </td><td>5                                                                                                  </td><td> 625                                                                                               </td><td>20180418                                                                                           </td><td> 1                                                                                                 </td><td>   0                                                                                               </td><td>mobile                                                                                             </td><td>Gwangju                                                                                            </td><td>Gwangju                                                                                            </td><td>비앤비) NEW얼룩제거 세탁용 비누                                                                    </td><td>출산/육아용품                                                                                      </td><td>수유/이유용품                                                                                      </td><td>유아용세척용품                                                                                     </td></tr>\n",
       "\t<tr><td>1782                                                                                               </td><td>2655077                                                                                            </td><td> 1108393                                                                                           </td><td>1                                                                                                  </td><td>(not set)                                                                                          </td><td>코리아보드게임즈                                                                                   </td><td> 33700                                                                                             </td><td>1                                                                                                  </td><td>  16                                                                                               </td><td>20180912                                                                                           </td><td> 1                                                                                                 </td><td>   0                                                                                               </td><td>desktop                                                                                            </td><td>Gyeongsangnam-do                                                                                   </td><td>Geoje-si                                                                                           </td><td>마라케시                                                                                           </td><td>완구                                                                                               </td><td>교육완구                                                                                           </td><td>보드게임                                                                                           </td></tr>\n",
       "\t<tr><td>1955                                                                                               </td><td>6122408                                                                                            </td><td> 1744208                                                                                           </td><td>1                                                                                                  </td><td>1개                                                                                                </td><td>정관장                                                                                             </td><td> 90000                                                                                             </td><td>1                                                                                                  </td><td> 114                                                                                               </td><td>20180901                                                                                           </td><td> 1                                                                                                 </td><td>   0                                                                                               </td><td>mobile                                                                                             </td><td>Gyeonggi-do                                                                                        </td><td>Anyang                                                                                             </td><td>홍이장군2단계(20mlx30포/5세-7세)/롯데 본점                                                         </td><td>음료                                                                                               </td><td>기능성음료                                                                                         </td><td>한방음료                                                                                           </td></tr>\n",
       "\t<tr><td>1955                                                                                               </td><td>6553497                                                                                            </td><td>  378574                                                                                           </td><td>1                                                                                                  </td><td>3개                                                                                                </td><td>정관장                                                                                             </td><td> 90000                                                                                             </td><td>3                                                                                                  </td><td> 106                                                                                               </td><td>20180924                                                                                           </td><td>10                                                                                                 </td><td> 115                                                                                               </td><td>mobile                                                                                             </td><td>Seoul                                                                                              </td><td>Seoul                                                                                              </td><td>홍이장군2단계(20mlx30포/5세-7세)/롯데 본점                                                         </td><td>음료                                                                                               </td><td>기능성음료                                                                                         </td><td>한방음료                                                                                           </td></tr>\n",
       "\t<tr><td>1965                                                                                               </td><td>4641013                                                                                            </td><td> 6165715                                                                                           </td><td>1                                                                                                  </td><td>1개                                                                                                </td><td>정관장                                                                                             </td><td> 96000                                                                                             </td><td>1                                                                                                  </td><td>  22                                                                                               </td><td>20180619                                                                                           </td><td> 1                                                                                                 </td><td>   0                                                                                               </td><td>mobile                                                                                             </td><td>Gyeonggi-do                                                                                        </td><td>Gimpo-si                                                                                           </td><td>홍삼정 에브리타임(10mlx30포) / 롯데백화점 본점 출고 / 정관장                                       </td><td>건강식품                                                                                           </td><td>홍삼/인삼가공식품                                                                                  </td><td>홍삼액                                                                                             </td></tr>\n",
       "\t<tr><td>1965                                                                                               </td><td>5417582                                                                                            </td><td> 6492226                                                                                           </td><td>1                                                                                                  </td><td>1개                                                                                                </td><td>정관장                                                                                             </td><td> 96000                                                                                             </td><td>1                                                                                                  </td><td>1449                                                                                               </td><td>20180613                                                                                           </td><td> 1                                                                                                 </td><td>   0                                                                                               </td><td>mobile                                                                                             </td><td>Seoul                                                                                              </td><td>Seoul                                                                                              </td><td>홍삼정 에브리타임(10mlx30포) / 롯데백화점 본점 출고 / 정관장                                       </td><td>건강식품                                                                                           </td><td>홍삼/인삼가공식품                                                                                  </td><td>홍삼액                                                                                             </td></tr>\n",
       "\t<tr><td>1966                                                                                               </td><td>5930846                                                                                            </td><td> 9807316                                                                                           </td><td>1                                                                                                  </td><td>1개                                                                                                </td><td>정관장                                                                                             </td><td> 60000                                                                                             </td><td>1                                                                                                  </td><td>  82                                                                                               </td><td>20180420                                                                                           </td><td> 1                                                                                                 </td><td>   0                                                                                               </td><td>mobile                                                                                             </td><td>Seoul                                                                                              </td><td>Seoul                                                                                              </td><td>황진단 (4gX3환) 12g                                                                                </td><td>건강식품                                                                                           </td><td>홍삼/인삼가공식품                                                                                  </td><td>홍삼정/분말/환                                                                                     </td></tr>\n",
       "\t<tr><td>1976                                                                                               </td><td>2821716                                                                                            </td><td> 8870133                                                                                           </td><td>1                                                                                                  </td><td>2개                                                                                                </td><td>정관장                                                                                             </td><td> 90000                                                                                             </td><td>2                                                                                                  </td><td>   6                                                                                               </td><td>20180505                                                                                           </td><td> 4                                                                                                 </td><td>  25                                                                                               </td><td>mobile                                                                                             </td><td>Gyeonggi-do                                                                                        </td><td>Guri-si                                                                                            </td><td>루마엑스(550mg X 60캡슐)                                                                           </td><td>건강식품                                                                                           </td><td>영양제                                                                                             </td><td>기타영양제                                                                                         </td></tr>\n",
       "\t<tr><td>1982                                                                                               </td><td>5604360                                                                                            </td><td>  752989                                                                                           </td><td>1                                                                                                  </td><td>(not set)                                                                                          </td><td>정관장                                                                                             </td><td> 72000                                                                                             </td><td>1                                                                                                  </td><td>  11                                                                                               </td><td>20180918                                                                                           </td><td>14                                                                                                 </td><td> 173                                                                                               </td><td>desktop                                                                                            </td><td>Daegu                                                                                              </td><td>Daegu                                                                                              </td><td>홍이장군1단계 (15mlx30포/36개월-4세)/백화점 상품                                                   </td><td>건강식품                                                                                           </td><td>홍삼/인삼가공식품                                                                                  </td><td>인삼가공식품                                                                                       </td></tr>\n",
       "\t<tr><td>1982                                                                                               </td><td>5604360                                                                                            </td><td>  753234                                                                                           </td><td>1                                                                                                  </td><td>(not set)                                                                                          </td><td>정관장                                                                                             </td><td> 72000                                                                                             </td><td>1                                                                                                  </td><td>  10                                                                                               </td><td>20180918                                                                                           </td><td> 8                                                                                                 </td><td> 142                                                                                               </td><td>desktop                                                                                            </td><td>Daegu                                                                                              </td><td>Daegu                                                                                              </td><td>홍이장군1단계 (15mlx30포/36개월-4세)/백화점 상품                                                   </td><td>건강식품                                                                                           </td><td>홍삼/인삼가공식품                                                                                  </td><td>인삼가공식품                                                                                       </td></tr>\n",
       "\t<tr><td>1982                                                                                               </td><td>6557019                                                                                            </td><td>  512359                                                                                           </td><td>1                                                                                                  </td><td>1개                                                                                                </td><td>정관장                                                                                             </td><td> 72000                                                                                             </td><td>1                                                                                                  </td><td> 492                                                                                               </td><td>20180922                                                                                           </td><td>13                                                                                                 </td><td> 148                                                                                               </td><td>mobile                                                                                             </td><td>Jeollanam-do                                                                                       </td><td>Hwasun-gun                                                                                         </td><td>홍이장군1단계 (15mlx30포/36개월-4세)/백화점 상품                                                   </td><td>건강식품                                                                                           </td><td>홍삼/인삼가공식품                                                                                  </td><td>인삼가공식품                                                                                       </td></tr>\n",
       "\t<tr><td>1984                                                                                               </td><td>3758368                                                                                            </td><td> 6110165                                                                                           </td><td>1                                                                                                  </td><td>1개                                                                                                </td><td>정관장                                                                                             </td><td>120000                                                                                             </td><td>1                                                                                                  </td><td>   5                                                                                               </td><td>20180620                                                                                           </td><td> 3                                                                                                 </td><td>  20                                                                                               </td><td>mobile                                                                                             </td><td>Incheon                                                                                            </td><td>Incheon                                                                                            </td><td>홍이장군3단계 (20mlx30포/8-10세) / 백화점 상품                                                     </td><td>음료                                                                                               </td><td>기능성음료                                                                                         </td><td>한방음료                                                                                           </td></tr>\n",
       "\t<tr><td>1984                                                                                               </td><td>5516376                                                                                            </td><td> 9486504                                                                                           </td><td>1                                                                                                  </td><td>3개                                                                                                </td><td>정관장                                                                                             </td><td>120000                                                                                             </td><td>3                                                                                                  </td><td>   5                                                                                               </td><td>20180425                                                                                           </td><td> 1                                                                                                 </td><td>   0                                                                                               </td><td>mobile                                                                                             </td><td>Gyeonggi-do                                                                                        </td><td>Bucheon-si                                                                                         </td><td>홍이장군3단계 (20mlx30포/8-10세) / 백화점 상품                                                     </td><td>음료                                                                                               </td><td>기능성음료                                                                                         </td><td>한방음료                                                                                           </td></tr>\n",
       "\t<tr><td>2092                                                                                               </td><td>1212663                                                                                            </td><td> 3586544                                                                                           </td><td>1                                                                                                  </td><td>색상:실버+램프+물티슈2팩 / 1개                                                                     </td><td>레이퀸                                                                                             </td><td>165000                                                                                             </td><td>1                                                                                                  </td><td>   2                                                                                               </td><td>20180731                                                                                           </td><td> 7                                                                                                 </td><td> 310                                                                                               </td><td>mobile                                                                                             </td><td>Jeollabuk-do                                                                                       </td><td>Iksan                                                                                              </td><td>레이퀸 플러스 젖병소독기/자외선 살균기/국민 젖병 소독기 - 메탈화이트                               </td><td>출산/육아용품                                                                                      </td><td>수유/이유용품                                                                                      </td><td>젖병소독/건조용품                                                                                  </td></tr>\n",
       "\t<tr><td>2358                                                                                               </td><td>2543318                                                                                            </td><td> 3712952                                                                                           </td><td>1                                                                                                  </td><td>1개                                                                                                </td><td>벤트리리빙                                                                                         </td><td> 42780                                                                                             </td><td>1                                                                                                  </td><td>   6                                                                                               </td><td>20180729                                                                                           </td><td> 1                                                                                                 </td><td>   0                                                                                               </td><td>mobile                                                                                             </td><td>Seoul                                                                                              </td><td>Seoul                                                                                              </td><td>원목 접이식 브런치 테이블 大                                                                       </td><td>가구                                                                                               </td><td>주방가구                                                                                           </td><td>식탁                                                                                               </td></tr>\n",
       "\t<tr><td>...</td><td>...</td><td>...</td><td>...</td><td>...</td><td>...</td><td>...</td><td>...</td><td>...</td><td>...</td><td>...</td><td>...</td><td>...</td><td>...</td><td>...</td><td>...</td><td>...</td><td>...</td><td>...</td></tr>\n",
       "\t<tr><td>843863                                                                                   </td><td>3884483                                                                                  </td><td> 4250663                                                                                 </td><td>1                                                                                        </td><td>색상:97 데진볼트 / 1개                                                                   </td><td>샤넬                                                                                     </td><td> 43000                                                                                   </td><td> 1                                                                                       </td><td>   2                                                                                     </td><td>20180720                                                                                 </td><td> 1                                                                                       </td><td>   0                                                                                     </td><td>mobile                                                                                   </td><td>Seoul                                                                                    </td><td>Seoul                                                                                    </td><td>루쥬 코코 샤인 3g - 63 REBELLE                                                           </td><td>화장품/뷰티케어                                                                          </td><td>메이크업                                                                                 </td><td>립스틱/립라이너                                                                          </td></tr>\n",
       "\t<tr><td>843873                                                                                   </td><td> 550814                                                                                  </td><td> 6133683                                                                                 </td><td>1                                                                                        </td><td>1개                                                                                      </td><td>샤넬                                                                                     </td><td>124000                                                                                   </td><td> 1                                                                                       </td><td>   3                                                                                     </td><td>20180620                                                                                 </td><td> 1                                                                                       </td><td>   0                                                                                     </td><td>mobile                                                                                   </td><td>Seoul                                                                                    </td><td>Seoul                                                                                    </td><td>샹스 오 땅드르 오 드 뚜왈렛 스프레이 50ml                                                </td><td>화장품/뷰티케어                                                                          </td><td>향수                                                                                     </td><td>여성향수                                                                                 </td></tr>\n",
       "\t<tr><td>843905                                                                                   </td><td>6186929                                                                                  </td><td> 5070981                                                                                 </td><td>1                                                                                        </td><td>색상:10 느와르-블랙 / 1개                                                                </td><td>샤넬                                                                                     </td><td> 44000                                                                                   </td><td> 1                                                                                       </td><td>  96                                                                                     </td><td>20180707                                                                                 </td><td> 1                                                                                       </td><td>   0                                                                                     </td><td>mobile                                                                                   </td><td>Gyeonggi-do                                                                              </td><td>Suwon-si                                                                                 </td><td>이니미터블 6g - 10 느와르-블랙                                                           </td><td>화장품/뷰티케어                                                                          </td><td>메이크업                                                                                 </td><td>마스카라                                                                                 </td></tr>\n",
       "\t<tr><td>843914                                                                                   </td><td>2030786                                                                                  </td><td> 4708647                                                                                 </td><td>1                                                                                        </td><td>1개                                                                                      </td><td>샤넬                                                                                     </td><td>140000                                                                                   </td><td> 1                                                                                       </td><td>  13                                                                                     </td><td>20180713                                                                                 </td><td> 1                                                                                       </td><td>   0                                                                                     </td><td>mobile                                                                                   </td><td>Seoul                                                                                    </td><td>Seoul                                                                                    </td><td>알뤼르 옴므 스포츠 오 드 뚜왈렛 스프레이 100ml                                           </td><td>화장품/뷰티케어                                                                          </td><td>향수                                                                                     </td><td>남성향수                                                                                 </td></tr>\n",
       "\t<tr><td>843914                                                                                   </td><td>5442536                                                                                  </td><td> 4946904                                                                                 </td><td>1                                                                                        </td><td>1개                                                                                      </td><td>샤넬                                                                                     </td><td>140000                                                                                   </td><td> 1                                                                                       </td><td>   8                                                                                     </td><td>20180709                                                                                 </td><td> 1                                                                                       </td><td>   0                                                                                     </td><td>mobile                                                                                   </td><td>Seoul                                                                                    </td><td>Seoul                                                                                    </td><td>알뤼르 옴므 스포츠 오 드 뚜왈렛 스프레이 100ml                                           </td><td>화장품/뷰티케어                                                                          </td><td>향수                                                                                     </td><td>남성향수                                                                                 </td></tr>\n",
       "\t<tr><td>843914                                                                                   </td><td>5442536                                                                                  </td><td> 5018384                                                                                 </td><td>1                                                                                        </td><td>1개                                                                                      </td><td>샤넬                                                                                     </td><td>140000                                                                                   </td><td> 1                                                                                       </td><td>   7                                                                                     </td><td>20180708                                                                                 </td><td> 1                                                                                       </td><td>   0                                                                                     </td><td>mobile                                                                                   </td><td>Seoul                                                                                    </td><td>Seoul                                                                                    </td><td>알뤼르 옴므 스포츠 오 드 뚜왈렛 스프레이 100ml                                           </td><td>화장품/뷰티케어                                                                          </td><td>향수                                                                                     </td><td>남성향수                                                                                 </td></tr>\n",
       "\t<tr><td>843986                                                                                   </td><td> 535621                                                                                  </td><td> 9804434                                                                                 </td><td>1                                                                                        </td><td>1개                                                                                      </td><td>쓰리엠                                                                                   </td><td> 44040                                                                                   </td><td> 1                                                                                       </td><td>   3                                                                                     </td><td>20180420                                                                                 </td><td> 3                                                                                       </td><td>  20                                                                                     </td><td>mobile                                                                                   </td><td>Seoul                                                                                    </td><td>Seoul                                                                                    </td><td>3M WP-5700plus / 무선프리젠터, 레드포인터                                                </td><td>컴퓨터                                                                                   </td><td>컴퓨터주변기기                                                                           </td><td>PC부품                                                                                   </td></tr>\n",
       "\t<tr><td>844075                                                                                   </td><td>2541660                                                                                  </td><td>10144944                                                                                 </td><td>1                                                                                        </td><td>2개                                                                                      </td><td>네이쳐리빙                                                                               </td><td>  5200                                                                                   </td><td> 2                                                                                       </td><td>  51                                                                                     </td><td>20180414                                                                                 </td><td>12                                                                                       </td><td> 119                                                                                     </td><td>mobile                                                                                   </td><td>Daejeon                                                                                  </td><td>Daejeon                                                                                  </td><td>네이쳐 옻칠양념스푼                                                                      </td><td>주방잡화                                                                                 </td><td>조리도구                                                                                 </td><td>기타조리도구                                                                             </td></tr>\n",
       "\t<tr><td>844315                                                                                   </td><td>1540952                                                                                  </td><td> 7031567                                                                                 </td><td>1                                                                                        </td><td>(not set)                                                                                </td><td>모아시스템즈                                                                             </td><td> 31800                                                                                   </td><td> 1                                                                                       </td><td>  21                                                                                     </td><td>20180605                                                                                 </td><td>13                                                                                       </td><td>1069                                                                                     </td><td>desktop                                                                                  </td><td>Incheon                                                                                  </td><td>Incheon                                                                                  </td><td>큐빅 700 욕실장/욕실수납장 욕실선반                                                      </td><td>청소/세탁/욕실용품                                                                       </td><td>욕실용품                                                                                 </td><td>욕실수납용품                                                                             </td></tr>\n",
       "\t<tr><td>844405                                                                                   </td><td>  19606                                                                                  </td><td>10772615                                                                                 </td><td>1                                                                                        </td><td>색상:그레이 4cm|사이즈:245 / 1개                                                         </td><td>엘리자벳                                                                                 </td><td> 69000                                                                                   </td><td> 1                                                                                       </td><td>  54                                                                                     </td><td>20180404                                                                                 </td><td> 3                                                                                       </td><td>1406                                                                                     </td><td>mobile                                                                                   </td><td>Busan                                                                                    </td><td>Busan                                                                                    </td><td>소프트 펌프스 EL15015 (4/5/6cm) - 베이지 4cm / 240                                       </td><td>패션잡화                                                                                 </td><td>여성화                                                                                   </td><td>여성펌프스                                                                               </td></tr>\n",
       "\t<tr><td>844457                                                                                   </td><td>2186943                                                                                  </td><td> 8966254                                                                                 </td><td>1                                                                                        </td><td>5개                                                                                      </td><td>샤워플러스                                                                               </td><td>  3500                                                                                   </td><td> 5                                                                                       </td><td>   4                                                                                     </td><td>20180504                                                                                 </td><td> 1                                                                                       </td><td>   0                                                                                     </td><td>mobile                                                                                   </td><td>Seoul                                                                                    </td><td>Seoul                                                                                    </td><td>서프라이즈 정수 교환필터(바디용)1EA                                                      </td><td>청소/세탁/욕실용품                                                                       </td><td>욕실용품                                                                                 </td><td>욕실소품                                                                                 </td></tr>\n",
       "\t<tr><td>844525                                                                                   </td><td>2919658                                                                                  </td><td> 6655798                                                                                 </td><td>1                                                                                        </td><td>컬러:핑크_1장 / 1개                                                                      </td><td>밤부베베                                                                                 </td><td>  4500                                                                                   </td><td> 1                                                                                       </td><td>  18                                                                                     </td><td>20180611                                                                                 </td><td> 1                                                                                       </td><td>   0                                                                                     </td><td>mobile                                                                                   </td><td>Gyeonggi-do                                                                              </td><td>Hwaseong-si                                                                              </td><td>[밤부베베] 순한대나무 톡톡 미니타올 - 그레이_1장                                         </td><td>출산/육아용품                                                                            </td><td>수유/이유용품                                                                            </td><td>출산/신생아용품세트                                                                      </td></tr>\n",
       "\t<tr><td>844766                                                                                   </td><td>4246533                                                                                  </td><td> 2749067                                                                                 </td><td>1                                                                                        </td><td>옵션:대형(리필)x1팩 / 1개                                                                </td><td>데일리워터                                                                               </td><td>  3000                                                                                   </td><td> 1                                                                                       </td><td>  12                                                                                     </td><td>20180815                                                                                 </td><td> 1                                                                                       </td><td>   0                                                                                     </td><td>mobile                                                                                   </td><td>Gwangju                                                                                  </td><td>Gwangju                                                                                  </td><td>물걸레 청소포 대형 (리필) 30매 - 대형(리필)x1팩                                          </td><td>세제/위생                                                                                </td><td>화장지/티슈                                                                              </td><td>물티슈                                                                                   </td></tr>\n",
       "\t<tr><td>844766                                                                                   </td><td>4633354                                                                                  </td><td> 6679016                                                                                 </td><td>1                                                                                        </td><td>옵션:대형(리필)x1팩 / 1개                                                                </td><td>데일리워터                                                                               </td><td>  2700                                                                                   </td><td> 1                                                                                       </td><td>  11                                                                                     </td><td>20180610                                                                                 </td><td> 1                                                                                       </td><td>   0                                                                                     </td><td>mobile                                                                                   </td><td>Busan                                                                                    </td><td>Busan                                                                                    </td><td>물걸레 청소포 대형 (리필) 30매 - 대형(리필)x1팩                                          </td><td>세제/위생                                                                                </td><td>화장지/티슈                                                                              </td><td>물티슈                                                                                   </td></tr>\n",
       "\t<tr><td>845197                                                                                                                               </td><td>5698462                                                                                                                              </td><td>10672436                                                                                                                             </td><td>1                                                                                                                                    </td><td><span style=white-space:pre-wrap>(not set)                                                            </span>                        </td><td><span style=white-space:pre-wrap>하다라보      </span>                                                                               </td><td> 31680                                                                                                                               </td><td> 1                                                                                                                                   </td><td><span style=white-space:pre-wrap>  14</span>                                                                                         </td><td>20180405                                                                                                                             </td><td> 0                                                                                                                                   </td><td><span style=white-space:pre-wrap>   0</span>                                                                                         </td><td>desktop                                                                                                                              </td><td><span style=white-space:pre-wrap>Gwangju          </span>                                                                            </td><td><span style=white-space:pre-wrap>Gwangju      </span>                                                                                </td><td><span style=white-space:pre-wrap>고쿠쥰 로션&amp;밀크 2종 세트                                                                </span></td><td><span style=white-space:pre-wrap>화장품/뷰티케어   </span>                                                                           </td><td><span style=white-space:pre-wrap>스킨케어      </span>                                                                               </td><td><span style=white-space:pre-wrap>스킨케어세트          </span>                                                                       </td></tr>\n",
       "\t<tr><td>845575                                                                                   </td><td>3469859                                                                                  </td><td>10546186                                                                                 </td><td>1                                                                                        </td><td>사이즈:75 / 1개                                                                          </td><td>레노마수영복                                                                             </td><td> 55000                                                                                   </td><td> 1                                                                                       </td><td>  23                                                                                     </td><td>20180407                                                                                 </td><td> 1                                                                                       </td><td>   0                                                                                     </td><td>mobile                                                                                   </td><td>Seoul                                                                                    </td><td>Seoul                                                                                    </td><td>남아동 주니어 래쉬가드 상하세트 BS5974-NV - 90                                           </td><td>시즌스포츠                                                                               </td><td>수영/물놀이                                                                              </td><td>아동수영복                                                                               </td></tr>\n",
       "\t<tr><td>845591                                                                                   </td><td>4313987                                                                                  </td><td> 4409750                                                                                 </td><td>1                                                                                        </td><td>(not set)                                                                                </td><td>드롱기                                                                                   </td><td>740000                                                                                   </td><td> 1                                                                                       </td><td>   3                                                                                     </td><td>20180718                                                                                 </td><td> 1                                                                                       </td><td>   0                                                                                     </td><td>desktop                                                                                  </td><td>Seoul                                                                                    </td><td>Seoul                                                                                    </td><td>Magnifica S 전자동 에스프레소머신 ECAM 22.110.B                                          </td><td>생활/주방가전                                                                            </td><td>주방가전                                                                                 </td><td>커피머신                                                                                 </td></tr>\n",
       "\t<tr><td>845638                                                                                   </td><td>2383942                                                                                  </td><td> 2272432                                                                                 </td><td>1                                                                                        </td><td>1개                                                                                      </td><td>녹십자                                                                                   </td><td>  6900                                                                                   </td><td> 1                                                                                       </td><td>  21                                                                                     </td><td>20180823                                                                                 </td><td> 8                                                                                       </td><td>  96                                                                                     </td><td>mobile                                                                                   </td><td>Seoul                                                                                    </td><td>Seoul                                                                                    </td><td>가르시니아 다이어트 777 (800mg*112정/8주분)                                              </td><td>건강식품                                                                                 </td><td>건강보조식품                                                                             </td><td>다이어트보조식품                                                                         </td></tr>\n",
       "\t<tr><td>845659                                                                                   </td><td>5393306                                                                                  </td><td> 4693850                                                                                 </td><td>1                                                                                        </td><td>(not set)                                                                                </td><td>나라데코                                                                                 </td><td>  9800                                                                                   </td><td> 1                                                                                       </td><td>  24                                                                                     </td><td>20180713                                                                                 </td><td> 0                                                                                       </td><td>   0                                                                                     </td><td>desktop                                                                                  </td><td>Gyeongsangnam-do                                                                         </td><td>Yangsan-si                                                                               </td><td>1+1 아모르온 퓨어 클라우드 경추 베개솜 40x60                                             </td><td>침구/수예                                                                                </td><td>성인침구                                                                                 </td><td>성인침구속통/솜                                                                          </td></tr>\n",
       "\t<tr><td>846312                                                                                   </td><td> 516331                                                                                  </td><td> 8321398                                                                                 </td><td>1                                                                                        </td><td>상품타입:겨울왕국-H0970-180 / 1개                                                        </td><td>오키즈                                                                                   </td><td>  6800                                                                                   </td><td> 1                                                                                       </td><td>  21                                                                                     </td><td>20180514                                                                                 </td><td> 1                                                                                       </td><td>   0                                                                                     </td><td>mobile                                                                                   </td><td>Chungcheongnam-do                                                                        </td><td>Yeongi-gun                                                                               </td><td>겨울왕국 EVA 실내화 [F007][H0970] - 겨울왕국-H0970-180                                   </td><td>시즌스포츠                                                                               </td><td>수영/물놀이                                                                              </td><td>아쿠아슈즈                                                                               </td></tr>\n",
       "\t<tr><td>846348                                                                                   </td><td>3535760                                                                                  </td><td>10747766                                                                                 </td><td>1                                                                                        </td><td>색상:와인|사이즈:250|굽높이:7cm / 1개                                                    </td><td>엘리자벳                                                                                 </td><td> 68000                                                                                   </td><td> 1                                                                                       </td><td>   9                                                                                     </td><td>20180404                                                                                 </td><td> 7                                                                                       </td><td> 100                                                                                     </td><td>mobile                                                                                   </td><td>Busan                                                                                    </td><td>Busan                                                                                    </td><td>[셀럽착화/엘리자벳 베스트 1위]쉬크라인 힐 E7270 (9/8/7cm) - 버건디 / 230 / 9cm           </td><td>패션잡화                                                                                 </td><td>여성화                                                                                   </td><td>여성펌프스                                                                               </td></tr>\n",
       "\t<tr><td>846665                                                                                   </td><td>1795923                                                                                  </td><td> 9472467                                                                                 </td><td>1                                                                                        </td><td>2개                                                                                      </td><td>이아소                                                                                   </td><td> 48750                                                                                   </td><td> 2                                                                                       </td><td>   2                                                                                     </td><td>20180425                                                                                 </td><td> 1                                                                                       </td><td>   0                                                                                     </td><td>mobile                                                                                   </td><td>Incheon                                                                                  </td><td>Incheon                                                                                  </td><td>인텐시브 클리어 부스터35ml                                                               </td><td>화장품/뷰티케어                                                                          </td><td>스킨케어                                                                                 </td><td>에센스/세럼                                                                              </td></tr>\n",
       "\t<tr><td>846831                                                                                   </td><td>3955193                                                                                  </td><td> 2515091                                                                                 </td><td>1                                                                                        </td><td>1개                                                                                      </td><td>코리아홈스톤                                                                             </td><td>407200                                                                                   </td><td> 1                                                                                       </td><td>   8                                                                                     </td><td>20180819                                                                                 </td><td> 1                                                                                       </td><td>   0                                                                                     </td><td>mobile                                                                                   </td><td>Seoul                                                                                    </td><td>Seoul                                                                                    </td><td>코리아홈스톤 0472CR 크림 클래식 싱글  흙침대(S)                                          </td><td>가구                                                                                     </td><td>침실가구                                                                                 </td><td>침대                                                                                     </td></tr>\n",
       "\t<tr><td>846835                                                                                   </td><td>6504912                                                                                  </td><td>10160802                                                                                 </td><td>1                                                                                        </td><td>1개                                                                                      </td><td>지엔투                                                                                   </td><td>  8400                                                                                   </td><td> 1                                                                                       </td><td>1039                                                                                     </td><td>20180414                                                                                 </td><td>16                                                                                       </td><td> 223                                                                                     </td><td>mobile                                                                                   </td><td>Gangwon-do                                                                               </td><td>Gangneung-si                                                                             </td><td>1인용 캠핑 매트 돗자리-4P                                                                </td><td>아웃도어/레저                                                                            </td><td>캠핑                                                                                     </td><td>야외용돗자리                                                                             </td></tr>\n",
       "\t<tr><td>846980                                                                                   </td><td>1817051                                                                                  </td><td> 5140853                                                                                 </td><td>1                                                                                        </td><td>색성선택:보토(핑크) / 1개                                                                </td><td>본토이                                                                                   </td><td> 99000                                                                                   </td><td> 1                                                                                       </td><td>  33                                                                                     </td><td>20180706                                                                                 </td><td> 1                                                                                       </td><td>   0                                                                                     </td><td>mobile                                                                                   </td><td>Chungcheongbuk-do                                                                        </td><td>Cheongwon-gun                                                                            </td><td>프렌디멀 5종 택1/유아붕붕카/무소음/조카선물/승용완구 - 보토(핑크)                        </td><td>출산/육아용품                                                                            </td><td>유아발육용품                                                                             </td><td>붕붕카/스프링카/흔들말                                                                   </td></tr>\n",
       "\t<tr><td>847078                                                                                   </td><td>2830044                                                                                  </td><td>10110441                                                                                 </td><td>1                                                                                        </td><td>상품명:청은차 향기화차 190gx10개 / 1개                                                   </td><td>애경                                                                                     </td><td> 10400                                                                                   </td><td> 1                                                                                       </td><td>  14                                                                                     </td><td>20180415                                                                                 </td><td> 1                                                                                       </td><td>   0                                                                                     </td><td>mobile                                                                                   </td><td>Seoul                                                                                    </td><td>Seoul                                                                                    </td><td>2080 청은차 향기화차 190g x 10개(진지발리스치약 50g 추가증정) - 청은차 향기화차 190gx10개</td><td>퍼스널케어                                                                               </td><td>구강케어                                                                                 </td><td>치약                                                                                     </td></tr>\n",
       "\t<tr><td>847128                                                                                   </td><td>2013830                                                                                  </td><td> 9406084                                                                                 </td><td>1                                                                                        </td><td>색상:크림(360아기띠전용) / 1개                                                           </td><td>에르고베이비                                                                             </td><td> 38000                                                                                   </td><td> 1                                                                                       </td><td>  12                                                                                     </td><td>20180426                                                                                 </td><td> 1                                                                                       </td><td>   0                                                                                     </td><td>mobile                                                                                   </td><td>Gyeongsangbuk-do                                                                         </td><td>Gyeongsan-si                                                                             </td><td>코튼침받이360전용 - 크림                                                                 </td><td>출산/육아용품                                                                            </td><td>유아발육용품                                                                             </td><td>아기띠/캐리어                                                                            </td></tr>\n",
       "\t<tr><td>847145                                                                                   </td><td>3822496                                                                                  </td><td> 9234305                                                                                 </td><td>1                                                                                        </td><td>칫솔선택:A. 이중슬림모 일반인용(S) (WD740)|색상:랜덤(다양하게) / 10개                    </td><td>위덴                                                                                     </td><td>  2500                                                                                   </td><td>10                                                                                       </td><td>   7                                                                                     </td><td>20180429                                                                                 </td><td> 1                                                                                       </td><td>   0                                                                                     </td><td>mobile                                                                                   </td><td>Chungcheongnam-do                                                                        </td><td>Dangjin-si                                                                               </td><td>[One Click] 혀클리너겸용칫솔 - A. 이중슬림모 임산부용(SS) (WD740-1) / 랜덤(다양하게)     </td><td>퍼스널케어                                                                               </td><td>구강케어                                                                                 </td><td>칫솔                                                                                     </td></tr>\n",
       "\t<tr><td>847203                                                                                   </td><td>2860604                                                                                  </td><td> 4491465                                                                                 </td><td>1                                                                                        </td><td>상품선택:화애락 본 / 1개                                                                 </td><td>정관장                                                                                   </td><td>130000                                                                                   </td><td> 1                                                                                       </td><td>  58                                                                                     </td><td>20180716                                                                                 </td><td> 1                                                                                       </td><td>   0                                                                                     </td><td>mobile                                                                                   </td><td>Jeollanam-do                                                                             </td><td>Yeosu-si                                                                                 </td><td>화애락 본(本)(70ml*30포) / 롯데백화점 본점 상품 - 화애락 본                              </td><td>음료                                                                                     </td><td>기능성음료                                                                               </td><td>한방음료                                                                                 </td></tr>\n",
       "\t<tr><td>847248                                                                                   </td><td>5554697                                                                                  </td><td>10198495                                                                                 </td><td>1                                                                                        </td><td>색상:오크 아이보리 / 1개                                                                 </td><td>보루네오하우스                                                                           </td><td>160000                                                                                   </td><td> 1                                                                                       </td><td>  16                                                                                     </td><td>20180413                                                                                 </td><td> 0                                                                                       </td><td>   0                                                                                     </td><td>mobile                                                                                   </td><td>Seoul                                                                                    </td><td>Seoul                                                                                    </td><td>★수도권무료배송★엘리브 NEW 빅 800 5단서랍장 yj018 - 오크                               </td><td>가구                                                                                     </td><td>수납가구                                                                                 </td><td>서랍장/수납장                                                                            </td></tr>\n",
       "</tbody>\n",
       "</table>\n"
      ],
      "text/latex": [
       "\\begin{tabular}{r|lllllllllllllllllll}\n",
       " PD\\_C & CLNT\\_ID & SESS\\_ID & HITS\\_SEQ & PD\\_ADD\\_NM & PD\\_BRA\\_NM & PD\\_BUY\\_AM & PD\\_BUY\\_CT & SESS\\_SEQ & SESS\\_DT & TOT\\_PAG\\_VIEW\\_CT & TOT\\_SESS\\_HR\\_V & DVC\\_CTG\\_NM & ZON\\_NM & CITY\\_NM & PD\\_NM & CLAC1\\_NM & CLAC2\\_NM & CLAC3\\_NM\\\\\n",
       "\\hline\n",
       "\t  269                                                                                                &  763561                                                                                             &  7953650                                                                                            & 1                                                                                                   & 1개                                                                                                 & 골든벨                                                                                              &  16900                                                                                              & 1                                                                                                   &   27                                                                                                & 20180520                                                                                            &  1                                                                                                  &    0                                                                                                & mobile                                                                                              & Gyeongsangbuk-do                                                                                    & Gyeongju-si                                                                                         & 리멤버 주름수반(대)+도자기 티스푼포크 11P 세트                                                      & 식기/조리기구                                                                                       & 그릇/식기                                                                                           & 디저트포크/스푼                                                                                    \\\\\n",
       "\t  318                                                                                                & 5222222                                                                                             & 10198148                                                                                            & 1                                                                                                   & 1개                                                                                                 & 더바디샵                                                                                            &  28000                                                                                              & 1                                                                                                   &    2                                                                                                & 20180413                                                                                            &  1                                                                                                  &    0                                                                                                & mobile                                                                                              & Seoul                                                                                               & Seoul                                                                                               & 화이트 머스크 바디 크림 200ML(59016)                                                                & 퍼스널케어                                                                                          & 바디케어                                                                                            & 바디보습                                                                                           \\\\\n",
       "\t  461                                                                                                & 2812387                                                                                             &  3243706                                                                                            & 1                                                                                                   & 1개                                                                                                 & 버키비버                                                                                            &   4930                                                                                              & 1                                                                                                   &   43                                                                                                & 20180806                                                                                            &  4                                                                                                  &    4                                                                                                & mobile                                                                                              & Gyeonggi-do                                                                                         & Yongin-si                                                                                           & 버키비버 유아치실/어린이치실/치간칫솔/아기치실/유아용치실/혀크리너/유아치약/키즈치실                & 출산/육아용품                                                                                       & 유아위생용품                                                                                        & 유아/아동용칫솔                                                                                    \\\\\n",
       "\t  487                                                                                                & 1795923                                                                                             &  9472467                                                                                            & 1                                                                                                   & 2개                                                                                                 & 이아소                                                                                              &  24300                                                                                              & 2                                                                                                   &    2                                                                                                & 20180425                                                                                            &  1                                                                                                  &    0                                                                                                & mobile                                                                                              & Incheon                                                                                             & Incheon                                                                                             & 닥터이아소 엑스폴리에이팅 프렙                                                                      & 화장품/뷰티케어                                                                                     & 스킨케어                                                                                            & 에센스/세럼                                                                                        \\\\\n",
       "\t  508                                                                                                & 2842179                                                                                             & 10007524                                                                                            & 1                                                                                                   & 타입:Q\\textbar{}사이즈:85AA / 2개                                                                  & 판도라바이비비안                                                                                    &   6900                                                                                              & 2                                                                                                   &  177                                                                                                & 20180416                                                                                            & 21                                                                                                  & 1469                                                                                                & mobile                                                                                              & Seoul                                                                                               & Seoul                                                                                               & 외 1.2.3단계 주니어 브라 택1 tb-251 - S / 70AA                                                      & 속옷/양말/홈웨어                                                                                    & 여성속옷                                                                                            & 브래지어                                                                                           \\\\\n",
       "\t  508                                                                                                & 2842179                                                                                             & 10007524                                                                                            & 1                                                                                                   & 타입:T\\textbar{}사이즈:85A / 2개                                                                   & 판도라바이비비안                                                                                    &   6900                                                                                              & 2                                                                                                   &  177                                                                                                & 20180416                                                                                            & 21                                                                                                  & 1469                                                                                                & mobile                                                                                              & Seoul                                                                                               & Seoul                                                                                               & 외 1.2.3단계 주니어 브라 택1 tb-251 - S / 70AA                                                      & 속옷/양말/홈웨어                                                                                    & 여성속옷                                                                                            & 브래지어                                                                                           \\\\\n",
       "\t  700                                                                                                & 4491057                                                                                             & 10559965                                                                                            & 1                                                                                                   & 1개                                                                                                 & 에이엔에프                                                                                          &  60000                                                                                              & 1                                                                                                   &   12                                                                                                & 20180407                                                                                            &  1                                                                                                  &    0                                                                                                & mobile                                                                                              & Busan                                                                                               & Busan                                                                                               & ANF 유기농 양고기 (전연령) 6kg                                                                      & 원예/애완                                                                                           & 애견용품                                                                                            & 애견사료                                                                                           \\\\\n",
       "\t  804                                                                                                    & 6051543                                                                                                 &  9581607                                                                                                & 1                                                                                                       & 1개                                                                                                     & 아토팜                                                                                                  &  29900                                                                                                  & 1                                                                                                       &    2                                                                                                    & 20180423                                                                                                &  5                                                                                                      &  236                                                                                                    & mobile                                                                                                  & Gyeongsangbuk-do                                                                                        & Yeongju-si                                                                                              & MLE 로션 대용량 300ml {[}gift{]} 베스트 키트 6종                                                        & 출산/육아용품                                                                                           & 유아스킨/바디케어                                                                                       & 유아용화장품                                                                                           \\\\\n",
       "\t  878                                                                                                & 5102345                                                                                             &  2505685                                                                                            & 1                                                                                                   & 색상:투명 / 1개                                                                                     & 아레나수영복                                                                                        &  22000                                                                                              & 1                                                                                                   &  206                                                                                                & 20180819                                                                                            &  1                                                                                                  &    0                                                                                                & mobile                                                                                              & Gyeonggi-do                                                                                         & Seongnam-si                                                                                         & 아레나 쥬니어 AGL-5100J 수경(AOAAG51) 물안경 수영안경 케이스 포함 - 블랙                            & 시즌스포츠                                                                                          & 수영/물놀이                                                                                         & 기타물놀이용품                                                                                     \\\\\n",
       "\t 1021                                                                                                    & 4246272                                                                                                 & 10785113                                                                                                & 1                                                                                                       & 1개                                                                                                     & 썬터치                                                                                                  &  29500                                                                                                  & 1                                                                                                       &  307                                                                                                    & 20180404                                                                                                &  1                                                                                                      &    0                                                                                                    & mobile                                                                                                  & Seoul                                                                                                   & Seoul                                                                                                   & {[}썬터치{]}휴대용가스렌지ST-001A/국산/휴대용버너/부르스타/가스버너/캠핑/부탄가스/업소용/그릴/불판/야외 & 생활/주방가전                                                                                           & 주방가전                                                                                                & 인덕션/가스레인지                                                                                      \\\\\n",
       "\t 1043                                                                                                &  743679                                                                                             & 10124542                                                                                            & 1                                                                                                   & 5개                                                                                                 & 초록마을                                                                                            &  25200                                                                                              & 5                                                                                                   &   19                                                                                                & 20180414                                                                                            &  1                                                                                                  &    0                                                                                                & mobile                                                                                              & Chungcheongnam-do                                                                                   & Asan-si                                                                                             & 몸에좋은헛개100 80mL*30입                                                                           & 건강식품                                                                                            & 건강진액                                                                                            & 채소즙                                                                                             \\\\\n",
       "\t 1148                                                                                                    &  756394                                                                                                 &  8223512                                                                                                & 1                                                                                                       & 사이즈:250 / 1개                                                                                        & 캠프라인                                                                                                & 144500                                                                                                  & 1                                                                                                       &   22                                                                                                    & 20180516                                                                                                &  1                                                                                                      &    0                                                                                                    & mobile                                                                                                  & Daegu                                                                                                   & Daegu                                                                                                   & {[}캠프라인{]} 블랙스톰 델타 남여공용 중등산화 - 240                                                    & 아웃도어/레저                                                                                           & 등산                                                                                                    & 등산화                                                                                                 \\\\\n",
       "\t 1239                                                                                                        &  685173                                                                                                     &  8301526                                                                                                    & 1                                                                                                           & 1개                                                                                                         & 일렉트로룩스                                                                                                &  94500                                                                                                      & 1                                                                                                           &   13                                                                                                        & 20180515                                                                                                    &  1                                                                                                          &    0                                                                                                        & mobile                                                                                                      & Seoul                                                                                                       & Seoul                                                                                                       & {[}MD추천{]} {[}텀블러 증정{]} 익스프레셔니스트 컬렉션 북유럽 분유포트 무선주전자 EEK7804S                  & 생활/주방가전                                                                                               & 주방가전                                                                                                    & 커피메이커/포트                                                                                            \\\\\n",
       "\t 1359                                                                                                &  414537                                                                                             &  4101793                                                                                            & 1                                                                                                   & 1개                                                                                                 & 템퍼                                                                                                & 131750                                                                                              & 1                                                                                                   &   52                                                                                                & 20180723                                                                                            &  3                                                                                                  &   13                                                                                                & mobile                                                                                              & Seoul                                                                                               & Seoul                                                                                               & 템퍼 밀레니엄 베개 S                                                                                & 가구                                                                                                & 침실가구                                                                                            & 침실가구세트                                                                                       \\\\\n",
       "\t 1526                                                                                                & 5085285                                                                                             &  7630020                                                                                            & 1                                                                                                   & 2개                                                                                                 & 스피드스택스                                                                                        &   2000                                                                                              & 2                                                                                                   &    9                                                                                                & 20180526                                                                                            &  0                                                                                                  &    0                                                                                                & mobile                                                                                              & Gyeonggi-do                                                                                         & Suwon-si                                                                                            & 스피드스택스 - 컵 키퍼                                                                              & 완구                                                                                                & 교육완구                                                                                            & 보드게임                                                                                           \\\\\n",
       "\t 1549                                                                                                & 1623802                                                                                             &  9894067                                                                                            & 1                                                                                                   & 5개                                                                                                 & 비비하우스                                                                                          &   1980                                                                                              & 5                                                                                                   &  625                                                                                                & 20180418                                                                                            &  1                                                                                                  &    0                                                                                                & mobile                                                                                              & Gwangju                                                                                             & Gwangju                                                                                             & 비앤비) NEW얼룩제거 세탁용 비누                                                                     & 출산/육아용품                                                                                       & 수유/이유용품                                                                                       & 유아용세척용품                                                                                     \\\\\n",
       "\t 1782                                                                                                & 2655077                                                                                             &  1108393                                                                                            & 1                                                                                                   & (not set)                                                                                           & 코리아보드게임즈                                                                                    &  33700                                                                                              & 1                                                                                                   &   16                                                                                                & 20180912                                                                                            &  1                                                                                                  &    0                                                                                                & desktop                                                                                             & Gyeongsangnam-do                                                                                    & Geoje-si                                                                                            & 마라케시                                                                                            & 완구                                                                                                & 교육완구                                                                                            & 보드게임                                                                                           \\\\\n",
       "\t 1955                                                                                                & 6122408                                                                                             &  1744208                                                                                            & 1                                                                                                   & 1개                                                                                                 & 정관장                                                                                              &  90000                                                                                              & 1                                                                                                   &  114                                                                                                & 20180901                                                                                            &  1                                                                                                  &    0                                                                                                & mobile                                                                                              & Gyeonggi-do                                                                                         & Anyang                                                                                              & 홍이장군2단계(20mlx30포/5세-7세)/롯데 본점                                                          & 음료                                                                                                & 기능성음료                                                                                          & 한방음료                                                                                           \\\\\n",
       "\t 1955                                                                                                & 6553497                                                                                             &   378574                                                                                            & 1                                                                                                   & 3개                                                                                                 & 정관장                                                                                              &  90000                                                                                              & 3                                                                                                   &  106                                                                                                & 20180924                                                                                            & 10                                                                                                  &  115                                                                                                & mobile                                                                                              & Seoul                                                                                               & Seoul                                                                                               & 홍이장군2단계(20mlx30포/5세-7세)/롯데 본점                                                          & 음료                                                                                                & 기능성음료                                                                                          & 한방음료                                                                                           \\\\\n",
       "\t 1965                                                                                                & 4641013                                                                                             &  6165715                                                                                            & 1                                                                                                   & 1개                                                                                                 & 정관장                                                                                              &  96000                                                                                              & 1                                                                                                   &   22                                                                                                & 20180619                                                                                            &  1                                                                                                  &    0                                                                                                & mobile                                                                                              & Gyeonggi-do                                                                                         & Gimpo-si                                                                                            & 홍삼정 에브리타임(10mlx30포) / 롯데백화점 본점 출고 / 정관장                                        & 건강식품                                                                                            & 홍삼/인삼가공식품                                                                                   & 홍삼액                                                                                             \\\\\n",
       "\t 1965                                                                                                & 5417582                                                                                             &  6492226                                                                                            & 1                                                                                                   & 1개                                                                                                 & 정관장                                                                                              &  96000                                                                                              & 1                                                                                                   & 1449                                                                                                & 20180613                                                                                            &  1                                                                                                  &    0                                                                                                & mobile                                                                                              & Seoul                                                                                               & Seoul                                                                                               & 홍삼정 에브리타임(10mlx30포) / 롯데백화점 본점 출고 / 정관장                                        & 건강식품                                                                                            & 홍삼/인삼가공식품                                                                                   & 홍삼액                                                                                             \\\\\n",
       "\t 1966                                                                                                & 5930846                                                                                             &  9807316                                                                                            & 1                                                                                                   & 1개                                                                                                 & 정관장                                                                                              &  60000                                                                                              & 1                                                                                                   &   82                                                                                                & 20180420                                                                                            &  1                                                                                                  &    0                                                                                                & mobile                                                                                              & Seoul                                                                                               & Seoul                                                                                               & 황진단 (4gX3환) 12g                                                                                 & 건강식품                                                                                            & 홍삼/인삼가공식품                                                                                   & 홍삼정/분말/환                                                                                     \\\\\n",
       "\t 1976                                                                                                & 2821716                                                                                             &  8870133                                                                                            & 1                                                                                                   & 2개                                                                                                 & 정관장                                                                                              &  90000                                                                                              & 2                                                                                                   &    6                                                                                                & 20180505                                                                                            &  4                                                                                                  &   25                                                                                                & mobile                                                                                              & Gyeonggi-do                                                                                         & Guri-si                                                                                             & 루마엑스(550mg X 60캡슐)                                                                            & 건강식품                                                                                            & 영양제                                                                                              & 기타영양제                                                                                         \\\\\n",
       "\t 1982                                                                                                & 5604360                                                                                             &   752989                                                                                            & 1                                                                                                   & (not set)                                                                                           & 정관장                                                                                              &  72000                                                                                              & 1                                                                                                   &   11                                                                                                & 20180918                                                                                            & 14                                                                                                  &  173                                                                                                & desktop                                                                                             & Daegu                                                                                               & Daegu                                                                                               & 홍이장군1단계 (15mlx30포/36개월-4세)/백화점 상품                                                    & 건강식품                                                                                            & 홍삼/인삼가공식품                                                                                   & 인삼가공식품                                                                                       \\\\\n",
       "\t 1982                                                                                                & 5604360                                                                                             &   753234                                                                                            & 1                                                                                                   & (not set)                                                                                           & 정관장                                                                                              &  72000                                                                                              & 1                                                                                                   &   10                                                                                                & 20180918                                                                                            &  8                                                                                                  &  142                                                                                                & desktop                                                                                             & Daegu                                                                                               & Daegu                                                                                               & 홍이장군1단계 (15mlx30포/36개월-4세)/백화점 상품                                                    & 건강식품                                                                                            & 홍삼/인삼가공식품                                                                                   & 인삼가공식품                                                                                       \\\\\n",
       "\t 1982                                                                                                & 6557019                                                                                             &   512359                                                                                            & 1                                                                                                   & 1개                                                                                                 & 정관장                                                                                              &  72000                                                                                              & 1                                                                                                   &  492                                                                                                & 20180922                                                                                            & 13                                                                                                  &  148                                                                                                & mobile                                                                                              & Jeollanam-do                                                                                        & Hwasun-gun                                                                                          & 홍이장군1단계 (15mlx30포/36개월-4세)/백화점 상품                                                    & 건강식품                                                                                            & 홍삼/인삼가공식품                                                                                   & 인삼가공식품                                                                                       \\\\\n",
       "\t 1984                                                                                                & 3758368                                                                                             &  6110165                                                                                            & 1                                                                                                   & 1개                                                                                                 & 정관장                                                                                              & 120000                                                                                              & 1                                                                                                   &    5                                                                                                & 20180620                                                                                            &  3                                                                                                  &   20                                                                                                & mobile                                                                                              & Incheon                                                                                             & Incheon                                                                                             & 홍이장군3단계 (20mlx30포/8-10세) / 백화점 상품                                                      & 음료                                                                                                & 기능성음료                                                                                          & 한방음료                                                                                           \\\\\n",
       "\t 1984                                                                                                & 5516376                                                                                             &  9486504                                                                                            & 1                                                                                                   & 3개                                                                                                 & 정관장                                                                                              & 120000                                                                                              & 3                                                                                                   &    5                                                                                                & 20180425                                                                                            &  1                                                                                                  &    0                                                                                                & mobile                                                                                              & Gyeonggi-do                                                                                         & Bucheon-si                                                                                          & 홍이장군3단계 (20mlx30포/8-10세) / 백화점 상품                                                      & 음료                                                                                                & 기능성음료                                                                                          & 한방음료                                                                                           \\\\\n",
       "\t 2092                                                                                                & 1212663                                                                                             &  3586544                                                                                            & 1                                                                                                   & 색상:실버+램프+물티슈2팩 / 1개                                                                      & 레이퀸                                                                                              & 165000                                                                                              & 1                                                                                                   &    2                                                                                                & 20180731                                                                                            &  7                                                                                                  &  310                                                                                                & mobile                                                                                              & Jeollabuk-do                                                                                        & Iksan                                                                                               & 레이퀸 플러스 젖병소독기/자외선 살균기/국민 젖병 소독기 - 메탈화이트                                & 출산/육아용품                                                                                       & 수유/이유용품                                                                                       & 젖병소독/건조용품                                                                                  \\\\\n",
       "\t 2358                                                                                                & 2543318                                                                                             &  3712952                                                                                            & 1                                                                                                   & 1개                                                                                                 & 벤트리리빙                                                                                          &  42780                                                                                              & 1                                                                                                   &    6                                                                                                & 20180729                                                                                            &  1                                                                                                  &    0                                                                                                & mobile                                                                                              & Seoul                                                                                               & Seoul                                                                                               & 원목 접이식 브런치 테이블 大                                                                        & 가구                                                                                                & 주방가구                                                                                            & 식탁                                                                                               \\\\\n",
       "\t ... & ... & ... & ... & ... & ... & ... & ... & ... & ... & ... & ... & ... & ... & ... & ... & ... & ... & ...\\\\\n",
       "\t 843863                                                                                    & 3884483                                                                                   &  4250663                                                                                  & 1                                                                                         & 색상:97 데진볼트 / 1개                                                                    & 샤넬                                                                                      &  43000                                                                                    &  1                                                                                        &    2                                                                                      & 20180720                                                                                  &  1                                                                                        &    0                                                                                      & mobile                                                                                    & Seoul                                                                                     & Seoul                                                                                     & 루쥬 코코 샤인 3g - 63 REBELLE                                                            & 화장품/뷰티케어                                                                           & 메이크업                                                                                  & 립스틱/립라이너                                                                          \\\\\n",
       "\t 843873                                                                                    &  550814                                                                                   &  6133683                                                                                  & 1                                                                                         & 1개                                                                                       & 샤넬                                                                                      & 124000                                                                                    &  1                                                                                        &    3                                                                                      & 20180620                                                                                  &  1                                                                                        &    0                                                                                      & mobile                                                                                    & Seoul                                                                                     & Seoul                                                                                     & 샹스 오 땅드르 오 드 뚜왈렛 스프레이 50ml                                                 & 화장품/뷰티케어                                                                           & 향수                                                                                      & 여성향수                                                                                 \\\\\n",
       "\t 843905                                                                                    & 6186929                                                                                   &  5070981                                                                                  & 1                                                                                         & 색상:10 느와르-블랙 / 1개                                                                 & 샤넬                                                                                      &  44000                                                                                    &  1                                                                                        &   96                                                                                      & 20180707                                                                                  &  1                                                                                        &    0                                                                                      & mobile                                                                                    & Gyeonggi-do                                                                               & Suwon-si                                                                                  & 이니미터블 6g - 10 느와르-블랙                                                            & 화장품/뷰티케어                                                                           & 메이크업                                                                                  & 마스카라                                                                                 \\\\\n",
       "\t 843914                                                                                    & 2030786                                                                                   &  4708647                                                                                  & 1                                                                                         & 1개                                                                                       & 샤넬                                                                                      & 140000                                                                                    &  1                                                                                        &   13                                                                                      & 20180713                                                                                  &  1                                                                                        &    0                                                                                      & mobile                                                                                    & Seoul                                                                                     & Seoul                                                                                     & 알뤼르 옴므 스포츠 오 드 뚜왈렛 스프레이 100ml                                            & 화장품/뷰티케어                                                                           & 향수                                                                                      & 남성향수                                                                                 \\\\\n",
       "\t 843914                                                                                    & 5442536                                                                                   &  4946904                                                                                  & 1                                                                                         & 1개                                                                                       & 샤넬                                                                                      & 140000                                                                                    &  1                                                                                        &    8                                                                                      & 20180709                                                                                  &  1                                                                                        &    0                                                                                      & mobile                                                                                    & Seoul                                                                                     & Seoul                                                                                     & 알뤼르 옴므 스포츠 오 드 뚜왈렛 스프레이 100ml                                            & 화장품/뷰티케어                                                                           & 향수                                                                                      & 남성향수                                                                                 \\\\\n",
       "\t 843914                                                                                    & 5442536                                                                                   &  5018384                                                                                  & 1                                                                                         & 1개                                                                                       & 샤넬                                                                                      & 140000                                                                                    &  1                                                                                        &    7                                                                                      & 20180708                                                                                  &  1                                                                                        &    0                                                                                      & mobile                                                                                    & Seoul                                                                                     & Seoul                                                                                     & 알뤼르 옴므 스포츠 오 드 뚜왈렛 스프레이 100ml                                            & 화장품/뷰티케어                                                                           & 향수                                                                                      & 남성향수                                                                                 \\\\\n",
       "\t 843986                                                                                    &  535621                                                                                   &  9804434                                                                                  & 1                                                                                         & 1개                                                                                       & 쓰리엠                                                                                    &  44040                                                                                    &  1                                                                                        &    3                                                                                      & 20180420                                                                                  &  3                                                                                        &   20                                                                                      & mobile                                                                                    & Seoul                                                                                     & Seoul                                                                                     & 3M WP-5700plus / 무선프리젠터, 레드포인터                                                 & 컴퓨터                                                                                    & 컴퓨터주변기기                                                                            & PC부품                                                                                   \\\\\n",
       "\t 844075                                                                                    & 2541660                                                                                   & 10144944                                                                                  & 1                                                                                         & 2개                                                                                       & 네이쳐리빙                                                                                &   5200                                                                                    &  2                                                                                        &   51                                                                                      & 20180414                                                                                  & 12                                                                                        &  119                                                                                      & mobile                                                                                    & Daejeon                                                                                   & Daejeon                                                                                   & 네이쳐 옻칠양념스푼                                                                       & 주방잡화                                                                                  & 조리도구                                                                                  & 기타조리도구                                                                             \\\\\n",
       "\t 844315                                                                                    & 1540952                                                                                   &  7031567                                                                                  & 1                                                                                         & (not set)                                                                                 & 모아시스템즈                                                                              &  31800                                                                                    &  1                                                                                        &   21                                                                                      & 20180605                                                                                  & 13                                                                                        & 1069                                                                                      & desktop                                                                                   & Incheon                                                                                   & Incheon                                                                                   & 큐빅 700 욕실장/욕실수납장 욕실선반                                                       & 청소/세탁/욕실용품                                                                        & 욕실용품                                                                                  & 욕실수납용품                                                                             \\\\\n",
       "\t 844405                                                                                    &   19606                                                                                   & 10772615                                                                                  & 1                                                                                         & 색상:그레이 4cm\\textbar{}사이즈:245 / 1개                                                & 엘리자벳                                                                                  &  69000                                                                                    &  1                                                                                        &   54                                                                                      & 20180404                                                                                  &  3                                                                                        & 1406                                                                                      & mobile                                                                                    & Busan                                                                                     & Busan                                                                                     & 소프트 펌프스 EL15015 (4/5/6cm) - 베이지 4cm / 240                                        & 패션잡화                                                                                  & 여성화                                                                                    & 여성펌프스                                                                               \\\\\n",
       "\t 844457                                                                                    & 2186943                                                                                   &  8966254                                                                                  & 1                                                                                         & 5개                                                                                       & 샤워플러스                                                                                &   3500                                                                                    &  5                                                                                        &    4                                                                                      & 20180504                                                                                  &  1                                                                                        &    0                                                                                      & mobile                                                                                    & Seoul                                                                                     & Seoul                                                                                     & 서프라이즈 정수 교환필터(바디용)1EA                                                       & 청소/세탁/욕실용품                                                                        & 욕실용품                                                                                  & 욕실소품                                                                                 \\\\\n",
       "\t 844525                                                                                          & 2919658                                                                                         &  6655798                                                                                        & 1                                                                                               & 컬러:핑크\\_1장 / 1개                                                                           & 밤부베베                                                                                        &   4500                                                                                          &  1                                                                                              &   18                                                                                            & 20180611                                                                                        &  1                                                                                              &    0                                                                                            & mobile                                                                                          & Gyeonggi-do                                                                                     & Hwaseong-si                                                                                     & {[}밤부베베{]} 순한대나무 톡톡 미니타올 - 그레이\\_1장                                          & 출산/육아용품                                                                                   & 수유/이유용품                                                                                   & 출산/신생아용품세트                                                                            \\\\\n",
       "\t 844766                                                                                    & 4246533                                                                                   &  2749067                                                                                  & 1                                                                                         & 옵션:대형(리필)x1팩 / 1개                                                                 & 데일리워터                                                                                &   3000                                                                                    &  1                                                                                        &   12                                                                                      & 20180815                                                                                  &  1                                                                                        &    0                                                                                      & mobile                                                                                    & Gwangju                                                                                   & Gwangju                                                                                   & 물걸레 청소포 대형 (리필) 30매 - 대형(리필)x1팩                                           & 세제/위생                                                                                 & 화장지/티슈                                                                               & 물티슈                                                                                   \\\\\n",
       "\t 844766                                                                                    & 4633354                                                                                   &  6679016                                                                                  & 1                                                                                         & 옵션:대형(리필)x1팩 / 1개                                                                 & 데일리워터                                                                                &   2700                                                                                    &  1                                                                                        &   11                                                                                      & 20180610                                                                                  &  1                                                                                        &    0                                                                                      & mobile                                                                                    & Busan                                                                                     & Busan                                                                                     & 물걸레 청소포 대형 (리필) 30매 - 대형(리필)x1팩                                           & 세제/위생                                                                                 & 화장지/티슈                                                                               & 물티슈                                                                                   \\\\\n",
       "\t 845197                                                                                      & 5698462                                                                                     & 10672436                                                                                    & 1                                                                                           & (not set)                                                                                   & 하다라보                                                                                    &  31680                                                                                      &  1                                                                                          &   14                                                                                        & 20180405                                                                                    &  0                                                                                          &    0                                                                                        & desktop                                                                                     & Gwangju                                                                                     & Gwangju                                                                                     & 고쿠쥰 로션\\&밀크 2종 세트                                                                 & 화장품/뷰티케어                                                                             & 스킨케어                                                                                    & 스킨케어세트                                                                               \\\\\n",
       "\t 845575                                                                                    & 3469859                                                                                   & 10546186                                                                                  & 1                                                                                         & 사이즈:75 / 1개                                                                           & 레노마수영복                                                                              &  55000                                                                                    &  1                                                                                        &   23                                                                                      & 20180407                                                                                  &  1                                                                                        &    0                                                                                      & mobile                                                                                    & Seoul                                                                                     & Seoul                                                                                     & 남아동 주니어 래쉬가드 상하세트 BS5974-NV - 90                                            & 시즌스포츠                                                                                & 수영/물놀이                                                                               & 아동수영복                                                                               \\\\\n",
       "\t 845591                                                                                    & 4313987                                                                                   &  4409750                                                                                  & 1                                                                                         & (not set)                                                                                 & 드롱기                                                                                    & 740000                                                                                    &  1                                                                                        &    3                                                                                      & 20180718                                                                                  &  1                                                                                        &    0                                                                                      & desktop                                                                                   & Seoul                                                                                     & Seoul                                                                                     & Magnifica S 전자동 에스프레소머신 ECAM 22.110.B                                           & 생활/주방가전                                                                             & 주방가전                                                                                  & 커피머신                                                                                 \\\\\n",
       "\t 845638                                                                                    & 2383942                                                                                   &  2272432                                                                                  & 1                                                                                         & 1개                                                                                       & 녹십자                                                                                    &   6900                                                                                    &  1                                                                                        &   21                                                                                      & 20180823                                                                                  &  8                                                                                        &   96                                                                                      & mobile                                                                                    & Seoul                                                                                     & Seoul                                                                                     & 가르시니아 다이어트 777 (800mg*112정/8주분)                                               & 건강식품                                                                                  & 건강보조식품                                                                              & 다이어트보조식품                                                                         \\\\\n",
       "\t 845659                                                                                    & 5393306                                                                                   &  4693850                                                                                  & 1                                                                                         & (not set)                                                                                 & 나라데코                                                                                  &   9800                                                                                    &  1                                                                                        &   24                                                                                      & 20180713                                                                                  &  0                                                                                        &    0                                                                                      & desktop                                                                                   & Gyeongsangnam-do                                                                          & Yangsan-si                                                                                & 1+1 아모르온 퓨어 클라우드 경추 베개솜 40x60                                              & 침구/수예                                                                                 & 성인침구                                                                                  & 성인침구속통/솜                                                                          \\\\\n",
       "\t 846312                                                                                            &  516331                                                                                           &  8321398                                                                                          & 1                                                                                                 & 상품타입:겨울왕국-H0970-180 / 1개                                                                 & 오키즈                                                                                            &   6800                                                                                            &  1                                                                                                &   21                                                                                              & 20180514                                                                                          &  1                                                                                                &    0                                                                                              & mobile                                                                                            & Chungcheongnam-do                                                                                 & Yeongi-gun                                                                                        & 겨울왕국 EVA 실내화 {[}F007{]}{[}H0970{]} - 겨울왕국-H0970-180                                    & 시즌스포츠                                                                                        & 수영/물놀이                                                                                       & 아쿠아슈즈                                                                                       \\\\\n",
       "\t 846348                                                                                        & 3535760                                                                                       & 10747766                                                                                      & 1                                                                                             & 색상:와인\\textbar{}사이즈:250\\textbar{}굽높이:7cm / 1개                                     & 엘리자벳                                                                                      &  68000                                                                                        &  1                                                                                            &    9                                                                                          & 20180404                                                                                      &  7                                                                                            &  100                                                                                          & mobile                                                                                        & Busan                                                                                         & Busan                                                                                         & {[}셀럽착화/엘리자벳 베스트 1위{]}쉬크라인 힐 E7270 (9/8/7cm) - 버건디 / 230 / 9cm            & 패션잡화                                                                                      & 여성화                                                                                        & 여성펌프스                                                                                   \\\\\n",
       "\t 846665                                                                                    & 1795923                                                                                   &  9472467                                                                                  & 1                                                                                         & 2개                                                                                       & 이아소                                                                                    &  48750                                                                                    &  2                                                                                        &    2                                                                                      & 20180425                                                                                  &  1                                                                                        &    0                                                                                      & mobile                                                                                    & Incheon                                                                                   & Incheon                                                                                   & 인텐시브 클리어 부스터35ml                                                                & 화장품/뷰티케어                                                                           & 스킨케어                                                                                  & 에센스/세럼                                                                              \\\\\n",
       "\t 846831                                                                                    & 3955193                                                                                   &  2515091                                                                                  & 1                                                                                         & 1개                                                                                       & 코리아홈스톤                                                                              & 407200                                                                                    &  1                                                                                        &    8                                                                                      & 20180819                                                                                  &  1                                                                                        &    0                                                                                      & mobile                                                                                    & Seoul                                                                                     & Seoul                                                                                     & 코리아홈스톤 0472CR 크림 클래식 싱글  흙침대(S)                                           & 가구                                                                                      & 침실가구                                                                                  & 침대                                                                                     \\\\\n",
       "\t 846835                                                                                    & 6504912                                                                                   & 10160802                                                                                  & 1                                                                                         & 1개                                                                                       & 지엔투                                                                                    &   8400                                                                                    &  1                                                                                        & 1039                                                                                      & 20180414                                                                                  & 16                                                                                        &  223                                                                                      & mobile                                                                                    & Gangwon-do                                                                                & Gangneung-si                                                                              & 1인용 캠핑 매트 돗자리-4P                                                                 & 아웃도어/레저                                                                             & 캠핑                                                                                      & 야외용돗자리                                                                             \\\\\n",
       "\t 846980                                                                                    & 1817051                                                                                   &  5140853                                                                                  & 1                                                                                         & 색성선택:보토(핑크) / 1개                                                                 & 본토이                                                                                    &  99000                                                                                    &  1                                                                                        &   33                                                                                      & 20180706                                                                                  &  1                                                                                        &    0                                                                                      & mobile                                                                                    & Chungcheongbuk-do                                                                         & Cheongwon-gun                                                                             & 프렌디멀 5종 택1/유아붕붕카/무소음/조카선물/승용완구 - 보토(핑크)                         & 출산/육아용품                                                                             & 유아발육용품                                                                              & 붕붕카/스프링카/흔들말                                                                   \\\\\n",
       "\t 847078                                                                                    & 2830044                                                                                   & 10110441                                                                                  & 1                                                                                         & 상품명:청은차 향기화차 190gx10개 / 1개                                                    & 애경                                                                                      &  10400                                                                                    &  1                                                                                        &   14                                                                                      & 20180415                                                                                  &  1                                                                                        &    0                                                                                      & mobile                                                                                    & Seoul                                                                                     & Seoul                                                                                     & 2080 청은차 향기화차 190g x 10개(진지발리스치약 50g 추가증정) - 청은차 향기화차 190gx10개 & 퍼스널케어                                                                                & 구강케어                                                                                  & 치약                                                                                     \\\\\n",
       "\t 847128                                                                                    & 2013830                                                                                   &  9406084                                                                                  & 1                                                                                         & 색상:크림(360아기띠전용) / 1개                                                            & 에르고베이비                                                                              &  38000                                                                                    &  1                                                                                        &   12                                                                                      & 20180426                                                                                  &  1                                                                                        &    0                                                                                      & mobile                                                                                    & Gyeongsangbuk-do                                                                          & Gyeongsan-si                                                                              & 코튼침받이360전용 - 크림                                                                  & 출산/육아용품                                                                             & 유아발육용품                                                                              & 아기띠/캐리어                                                                            \\\\\n",
       "\t 847145                                                                                        & 3822496                                                                                       &  9234305                                                                                      & 1                                                                                             & 칫솔선택:A. 이중슬림모 일반인용(S) (WD740)\\textbar{}색상:랜덤(다양하게) / 10개               & 위덴                                                                                          &   2500                                                                                        & 10                                                                                            &    7                                                                                          & 20180429                                                                                      &  1                                                                                            &    0                                                                                          & mobile                                                                                        & Chungcheongnam-do                                                                             & Dangjin-si                                                                                    & {[}One Click{]} 혀클리너겸용칫솔 - A. 이중슬림모 임산부용(SS) (WD740-1) / 랜덤(다양하게)      & 퍼스널케어                                                                                    & 구강케어                                                                                      & 칫솔                                                                                         \\\\\n",
       "\t 847203                                                                                    & 2860604                                                                                   &  4491465                                                                                  & 1                                                                                         & 상품선택:화애락 본 / 1개                                                                  & 정관장                                                                                    & 130000                                                                                    &  1                                                                                        &   58                                                                                      & 20180716                                                                                  &  1                                                                                        &    0                                                                                      & mobile                                                                                    & Jeollanam-do                                                                              & Yeosu-si                                                                                  & 화애락 본(本)(70ml*30포) / 롯데백화점 본점 상품 - 화애락 본                               & 음료                                                                                      & 기능성음료                                                                                & 한방음료                                                                                 \\\\\n",
       "\t 847248                                                                                    & 5554697                                                                                   & 10198495                                                                                  & 1                                                                                         & 색상:오크 아이보리 / 1개                                                                  & 보루네오하우스                                                                            & 160000                                                                                    &  1                                                                                        &   16                                                                                      & 20180413                                                                                  &  0                                                                                        &    0                                                                                      & mobile                                                                                    & Seoul                                                                                     & Seoul                                                                                     & ★수도권무료배송★엘리브 NEW 빅 800 5단서랍장 yj018 - 오크                                & 가구                                                                                      & 수납가구                                                                                  & 서랍장/수납장                                                                            \\\\\n",
       "\\end{tabular}\n"
      ],
      "text/markdown": [
       "\n",
       "PD_C | CLNT_ID | SESS_ID | HITS_SEQ | PD_ADD_NM | PD_BRA_NM | PD_BUY_AM | PD_BUY_CT | SESS_SEQ | SESS_DT | TOT_PAG_VIEW_CT | TOT_SESS_HR_V | DVC_CTG_NM | ZON_NM | CITY_NM | PD_NM | CLAC1_NM | CLAC2_NM | CLAC3_NM | \n",
       "|---|---|---|---|---|---|---|---|---|---|---|---|---|---|---|---|---|---|---|---|---|---|---|---|---|---|---|---|---|---|---|---|---|---|---|---|---|---|---|---|---|---|---|---|---|---|---|---|---|---|---|---|---|---|---|---|---|---|---|---|---|\n",
       "|  269                                                                                                |  763561                                                                                             |  7953650                                                                                            | 1                                                                                                   | 1개                                                                                                 | 골든벨                                                                                              |  16900                                                                                              | 1                                                                                                   |   27                                                                                                | 20180520                                                                                            |  1                                                                                                  |    0                                                                                                | mobile                                                                                              | Gyeongsangbuk-do                                                                                    | Gyeongju-si                                                                                         | 리멤버 주름수반(대)+도자기 티스푼포크 11P 세트                                                      | 식기/조리기구                                                                                       | 그릇/식기                                                                                           | 디저트포크/스푼                                                                                     | \n",
       "|  318                                                                                                | 5222222                                                                                             | 10198148                                                                                            | 1                                                                                                   | 1개                                                                                                 | 더바디샵                                                                                            |  28000                                                                                              | 1                                                                                                   |    2                                                                                                | 20180413                                                                                            |  1                                                                                                  |    0                                                                                                | mobile                                                                                              | Seoul                                                                                               | Seoul                                                                                               | 화이트 머스크 바디 크림 200ML(59016)                                                                | 퍼스널케어                                                                                          | 바디케어                                                                                            | 바디보습                                                                                            | \n",
       "|  461                                                                                                | 2812387                                                                                             |  3243706                                                                                            | 1                                                                                                   | 1개                                                                                                 | 버키비버                                                                                            |   4930                                                                                              | 1                                                                                                   |   43                                                                                                | 20180806                                                                                            |  4                                                                                                  |    4                                                                                                | mobile                                                                                              | Gyeonggi-do                                                                                         | Yongin-si                                                                                           | 버키비버 유아치실/어린이치실/치간칫솔/아기치실/유아용치실/혀크리너/유아치약/키즈치실                | 출산/육아용품                                                                                       | 유아위생용품                                                                                        | 유아/아동용칫솔                                                                                     | \n",
       "|  487                                                                                                | 1795923                                                                                             |  9472467                                                                                            | 1                                                                                                   | 2개                                                                                                 | 이아소                                                                                              |  24300                                                                                              | 2                                                                                                   |    2                                                                                                | 20180425                                                                                            |  1                                                                                                  |    0                                                                                                | mobile                                                                                              | Incheon                                                                                             | Incheon                                                                                             | 닥터이아소 엑스폴리에이팅 프렙                                                                      | 화장품/뷰티케어                                                                                     | 스킨케어                                                                                            | 에센스/세럼                                                                                         | \n",
       "|  508                                                                                                | 2842179                                                                                             | 10007524                                                                                            | 1                                                                                                   | 타입:Q|사이즈:85AA / 2개                                                                            | 판도라바이비비안                                                                                    |   6900                                                                                              | 2                                                                                                   |  177                                                                                                | 20180416                                                                                            | 21                                                                                                  | 1469                                                                                                | mobile                                                                                              | Seoul                                                                                               | Seoul                                                                                               | 외 1.2.3단계 주니어 브라 택1 tb-251 - S / 70AA                                                      | 속옷/양말/홈웨어                                                                                    | 여성속옷                                                                                            | 브래지어                                                                                            | \n",
       "|  508                                                                                                | 2842179                                                                                             | 10007524                                                                                            | 1                                                                                                   | 타입:T|사이즈:85A / 2개                                                                             | 판도라바이비비안                                                                                    |   6900                                                                                              | 2                                                                                                   |  177                                                                                                | 20180416                                                                                            | 21                                                                                                  | 1469                                                                                                | mobile                                                                                              | Seoul                                                                                               | Seoul                                                                                               | 외 1.2.3단계 주니어 브라 택1 tb-251 - S / 70AA                                                      | 속옷/양말/홈웨어                                                                                    | 여성속옷                                                                                            | 브래지어                                                                                            | \n",
       "|  700                                                                                                | 4491057                                                                                             | 10559965                                                                                            | 1                                                                                                   | 1개                                                                                                 | 에이엔에프                                                                                          |  60000                                                                                              | 1                                                                                                   |   12                                                                                                | 20180407                                                                                            |  1                                                                                                  |    0                                                                                                | mobile                                                                                              | Busan                                                                                               | Busan                                                                                               | ANF 유기농 양고기 (전연령) 6kg                                                                      | 원예/애완                                                                                           | 애견용품                                                                                            | 애견사료                                                                                            | \n",
       "|  804                                                                                                | 6051543                                                                                             |  9581607                                                                                            | 1                                                                                                   | 1개                                                                                                 | 아토팜                                                                                              |  29900                                                                                              | 1                                                                                                   |    2                                                                                                | 20180423                                                                                            |  5                                                                                                  |  236                                                                                                | mobile                                                                                              | Gyeongsangbuk-do                                                                                    | Yeongju-si                                                                                          | MLE 로션 대용량 300ml [gift] 베스트 키트 6종                                                        | 출산/육아용품                                                                                       | 유아스킨/바디케어                                                                                   | 유아용화장품                                                                                        | \n",
       "|  878                                                                                                | 5102345                                                                                             |  2505685                                                                                            | 1                                                                                                   | 색상:투명 / 1개                                                                                     | 아레나수영복                                                                                        |  22000                                                                                              | 1                                                                                                   |  206                                                                                                | 20180819                                                                                            |  1                                                                                                  |    0                                                                                                | mobile                                                                                              | Gyeonggi-do                                                                                         | Seongnam-si                                                                                         | 아레나 쥬니어 AGL-5100J 수경(AOAAG51) 물안경 수영안경 케이스 포함 - 블랙                            | 시즌스포츠                                                                                          | 수영/물놀이                                                                                         | 기타물놀이용품                                                                                      | \n",
       "| 1021                                                                                                | 4246272                                                                                             | 10785113                                                                                            | 1                                                                                                   | 1개                                                                                                 | 썬터치                                                                                              |  29500                                                                                              | 1                                                                                                   |  307                                                                                                | 20180404                                                                                            |  1                                                                                                  |    0                                                                                                | mobile                                                                                              | Seoul                                                                                               | Seoul                                                                                               | [썬터치]휴대용가스렌지ST-001A/국산/휴대용버너/부르스타/가스버너/캠핑/부탄가스/업소용/그릴/불판/야외 | 생활/주방가전                                                                                       | 주방가전                                                                                            | 인덕션/가스레인지                                                                                   | \n",
       "| 1043                                                                                                |  743679                                                                                             | 10124542                                                                                            | 1                                                                                                   | 5개                                                                                                 | 초록마을                                                                                            |  25200                                                                                              | 5                                                                                                   |   19                                                                                                | 20180414                                                                                            |  1                                                                                                  |    0                                                                                                | mobile                                                                                              | Chungcheongnam-do                                                                                   | Asan-si                                                                                             | 몸에좋은헛개100 80mL*30입                                                                           | 건강식품                                                                                            | 건강진액                                                                                            | 채소즙                                                                                              | \n",
       "| 1148                                                                                                |  756394                                                                                             |  8223512                                                                                            | 1                                                                                                   | 사이즈:250 / 1개                                                                                    | 캠프라인                                                                                            | 144500                                                                                              | 1                                                                                                   |   22                                                                                                | 20180516                                                                                            |  1                                                                                                  |    0                                                                                                | mobile                                                                                              | Daegu                                                                                               | Daegu                                                                                               | [캠프라인] 블랙스톰 델타 남여공용 중등산화 - 240                                                    | 아웃도어/레저                                                                                       | 등산                                                                                                | 등산화                                                                                              | \n",
       "| 1239                                                                                                |  685173                                                                                             |  8301526                                                                                            | 1                                                                                                   | 1개                                                                                                 | 일렉트로룩스                                                                                        |  94500                                                                                              | 1                                                                                                   |   13                                                                                                | 20180515                                                                                            |  1                                                                                                  |    0                                                                                                | mobile                                                                                              | Seoul                                                                                               | Seoul                                                                                               | [MD추천] [텀블러 증정] 익스프레셔니스트 컬렉션 북유럽 분유포트 무선주전자 EEK7804S                  | 생활/주방가전                                                                                       | 주방가전                                                                                            | 커피메이커/포트                                                                                     | \n",
       "| 1359                                                                                                |  414537                                                                                             |  4101793                                                                                            | 1                                                                                                   | 1개                                                                                                 | 템퍼                                                                                                | 131750                                                                                              | 1                                                                                                   |   52                                                                                                | 20180723                                                                                            |  3                                                                                                  |   13                                                                                                | mobile                                                                                              | Seoul                                                                                               | Seoul                                                                                               | 템퍼 밀레니엄 베개 S                                                                                | 가구                                                                                                | 침실가구                                                                                            | 침실가구세트                                                                                        | \n",
       "| 1526                                                                                                | 5085285                                                                                             |  7630020                                                                                            | 1                                                                                                   | 2개                                                                                                 | 스피드스택스                                                                                        |   2000                                                                                              | 2                                                                                                   |    9                                                                                                | 20180526                                                                                            |  0                                                                                                  |    0                                                                                                | mobile                                                                                              | Gyeonggi-do                                                                                         | Suwon-si                                                                                            | 스피드스택스 - 컵 키퍼                                                                              | 완구                                                                                                | 교육완구                                                                                            | 보드게임                                                                                            | \n",
       "| 1549                                                                                                | 1623802                                                                                             |  9894067                                                                                            | 1                                                                                                   | 5개                                                                                                 | 비비하우스                                                                                          |   1980                                                                                              | 5                                                                                                   |  625                                                                                                | 20180418                                                                                            |  1                                                                                                  |    0                                                                                                | mobile                                                                                              | Gwangju                                                                                             | Gwangju                                                                                             | 비앤비) NEW얼룩제거 세탁용 비누                                                                     | 출산/육아용품                                                                                       | 수유/이유용품                                                                                       | 유아용세척용품                                                                                      | \n",
       "| 1782                                                                                                | 2655077                                                                                             |  1108393                                                                                            | 1                                                                                                   | (not set)                                                                                           | 코리아보드게임즈                                                                                    |  33700                                                                                              | 1                                                                                                   |   16                                                                                                | 20180912                                                                                            |  1                                                                                                  |    0                                                                                                | desktop                                                                                             | Gyeongsangnam-do                                                                                    | Geoje-si                                                                                            | 마라케시                                                                                            | 완구                                                                                                | 교육완구                                                                                            | 보드게임                                                                                            | \n",
       "| 1955                                                                                                | 6122408                                                                                             |  1744208                                                                                            | 1                                                                                                   | 1개                                                                                                 | 정관장                                                                                              |  90000                                                                                              | 1                                                                                                   |  114                                                                                                | 20180901                                                                                            |  1                                                                                                  |    0                                                                                                | mobile                                                                                              | Gyeonggi-do                                                                                         | Anyang                                                                                              | 홍이장군2단계(20mlx30포/5세-7세)/롯데 본점                                                          | 음료                                                                                                | 기능성음료                                                                                          | 한방음료                                                                                            | \n",
       "| 1955                                                                                                | 6553497                                                                                             |   378574                                                                                            | 1                                                                                                   | 3개                                                                                                 | 정관장                                                                                              |  90000                                                                                              | 3                                                                                                   |  106                                                                                                | 20180924                                                                                            | 10                                                                                                  |  115                                                                                                | mobile                                                                                              | Seoul                                                                                               | Seoul                                                                                               | 홍이장군2단계(20mlx30포/5세-7세)/롯데 본점                                                          | 음료                                                                                                | 기능성음료                                                                                          | 한방음료                                                                                            | \n",
       "| 1965                                                                                                | 4641013                                                                                             |  6165715                                                                                            | 1                                                                                                   | 1개                                                                                                 | 정관장                                                                                              |  96000                                                                                              | 1                                                                                                   |   22                                                                                                | 20180619                                                                                            |  1                                                                                                  |    0                                                                                                | mobile                                                                                              | Gyeonggi-do                                                                                         | Gimpo-si                                                                                            | 홍삼정 에브리타임(10mlx30포) / 롯데백화점 본점 출고 / 정관장                                        | 건강식품                                                                                            | 홍삼/인삼가공식품                                                                                   | 홍삼액                                                                                              | \n",
       "| 1965                                                                                                | 5417582                                                                                             |  6492226                                                                                            | 1                                                                                                   | 1개                                                                                                 | 정관장                                                                                              |  96000                                                                                              | 1                                                                                                   | 1449                                                                                                | 20180613                                                                                            |  1                                                                                                  |    0                                                                                                | mobile                                                                                              | Seoul                                                                                               | Seoul                                                                                               | 홍삼정 에브리타임(10mlx30포) / 롯데백화점 본점 출고 / 정관장                                        | 건강식품                                                                                            | 홍삼/인삼가공식품                                                                                   | 홍삼액                                                                                              | \n",
       "| 1966                                                                                                | 5930846                                                                                             |  9807316                                                                                            | 1                                                                                                   | 1개                                                                                                 | 정관장                                                                                              |  60000                                                                                              | 1                                                                                                   |   82                                                                                                | 20180420                                                                                            |  1                                                                                                  |    0                                                                                                | mobile                                                                                              | Seoul                                                                                               | Seoul                                                                                               | 황진단 (4gX3환) 12g                                                                                 | 건강식품                                                                                            | 홍삼/인삼가공식품                                                                                   | 홍삼정/분말/환                                                                                      | \n",
       "| 1976                                                                                                | 2821716                                                                                             |  8870133                                                                                            | 1                                                                                                   | 2개                                                                                                 | 정관장                                                                                              |  90000                                                                                              | 2                                                                                                   |    6                                                                                                | 20180505                                                                                            |  4                                                                                                  |   25                                                                                                | mobile                                                                                              | Gyeonggi-do                                                                                         | Guri-si                                                                                             | 루마엑스(550mg X 60캡슐)                                                                            | 건강식품                                                                                            | 영양제                                                                                              | 기타영양제                                                                                          | \n",
       "| 1982                                                                                                | 5604360                                                                                             |   752989                                                                                            | 1                                                                                                   | (not set)                                                                                           | 정관장                                                                                              |  72000                                                                                              | 1                                                                                                   |   11                                                                                                | 20180918                                                                                            | 14                                                                                                  |  173                                                                                                | desktop                                                                                             | Daegu                                                                                               | Daegu                                                                                               | 홍이장군1단계 (15mlx30포/36개월-4세)/백화점 상품                                                    | 건강식품                                                                                            | 홍삼/인삼가공식품                                                                                   | 인삼가공식품                                                                                        | \n",
       "| 1982                                                                                                | 5604360                                                                                             |   753234                                                                                            | 1                                                                                                   | (not set)                                                                                           | 정관장                                                                                              |  72000                                                                                              | 1                                                                                                   |   10                                                                                                | 20180918                                                                                            |  8                                                                                                  |  142                                                                                                | desktop                                                                                             | Daegu                                                                                               | Daegu                                                                                               | 홍이장군1단계 (15mlx30포/36개월-4세)/백화점 상품                                                    | 건강식품                                                                                            | 홍삼/인삼가공식품                                                                                   | 인삼가공식품                                                                                        | \n",
       "| 1982                                                                                                | 6557019                                                                                             |   512359                                                                                            | 1                                                                                                   | 1개                                                                                                 | 정관장                                                                                              |  72000                                                                                              | 1                                                                                                   |  492                                                                                                | 20180922                                                                                            | 13                                                                                                  |  148                                                                                                | mobile                                                                                              | Jeollanam-do                                                                                        | Hwasun-gun                                                                                          | 홍이장군1단계 (15mlx30포/36개월-4세)/백화점 상품                                                    | 건강식품                                                                                            | 홍삼/인삼가공식품                                                                                   | 인삼가공식품                                                                                        | \n",
       "| 1984                                                                                                | 3758368                                                                                             |  6110165                                                                                            | 1                                                                                                   | 1개                                                                                                 | 정관장                                                                                              | 120000                                                                                              | 1                                                                                                   |    5                                                                                                | 20180620                                                                                            |  3                                                                                                  |   20                                                                                                | mobile                                                                                              | Incheon                                                                                             | Incheon                                                                                             | 홍이장군3단계 (20mlx30포/8-10세) / 백화점 상품                                                      | 음료                                                                                                | 기능성음료                                                                                          | 한방음료                                                                                            | \n",
       "| 1984                                                                                                | 5516376                                                                                             |  9486504                                                                                            | 1                                                                                                   | 3개                                                                                                 | 정관장                                                                                              | 120000                                                                                              | 3                                                                                                   |    5                                                                                                | 20180425                                                                                            |  1                                                                                                  |    0                                                                                                | mobile                                                                                              | Gyeonggi-do                                                                                         | Bucheon-si                                                                                          | 홍이장군3단계 (20mlx30포/8-10세) / 백화점 상품                                                      | 음료                                                                                                | 기능성음료                                                                                          | 한방음료                                                                                            | \n",
       "| 2092                                                                                                | 1212663                                                                                             |  3586544                                                                                            | 1                                                                                                   | 색상:실버+램프+물티슈2팩 / 1개                                                                      | 레이퀸                                                                                              | 165000                                                                                              | 1                                                                                                   |    2                                                                                                | 20180731                                                                                            |  7                                                                                                  |  310                                                                                                | mobile                                                                                              | Jeollabuk-do                                                                                        | Iksan                                                                                               | 레이퀸 플러스 젖병소독기/자외선 살균기/국민 젖병 소독기 - 메탈화이트                                | 출산/육아용품                                                                                       | 수유/이유용품                                                                                       | 젖병소독/건조용품                                                                                   | \n",
       "| 2358                                                                                                | 2543318                                                                                             |  3712952                                                                                            | 1                                                                                                   | 1개                                                                                                 | 벤트리리빙                                                                                          |  42780                                                                                              | 1                                                                                                   |    6                                                                                                | 20180729                                                                                            |  1                                                                                                  |    0                                                                                                | mobile                                                                                              | Seoul                                                                                               | Seoul                                                                                               | 원목 접이식 브런치 테이블 大                                                                        | 가구                                                                                                | 주방가구                                                                                            | 식탁                                                                                                | \n",
       "| ... | ... | ... | ... | ... | ... | ... | ... | ... | ... | ... | ... | ... | ... | ... | ... | ... | ... | ... | \n",
       "| 843863                                                                                    | 3884483                                                                                   |  4250663                                                                                  | 1                                                                                         | 색상:97 데진볼트 / 1개                                                                    | 샤넬                                                                                      |  43000                                                                                    |  1                                                                                        |    2                                                                                      | 20180720                                                                                  |  1                                                                                        |    0                                                                                      | mobile                                                                                    | Seoul                                                                                     | Seoul                                                                                     | 루쥬 코코 샤인 3g - 63 REBELLE                                                            | 화장품/뷰티케어                                                                           | 메이크업                                                                                  | 립스틱/립라이너                                                                           | \n",
       "| 843873                                                                                    |  550814                                                                                   |  6133683                                                                                  | 1                                                                                         | 1개                                                                                       | 샤넬                                                                                      | 124000                                                                                    |  1                                                                                        |    3                                                                                      | 20180620                                                                                  |  1                                                                                        |    0                                                                                      | mobile                                                                                    | Seoul                                                                                     | Seoul                                                                                     | 샹스 오 땅드르 오 드 뚜왈렛 스프레이 50ml                                                 | 화장품/뷰티케어                                                                           | 향수                                                                                      | 여성향수                                                                                  | \n",
       "| 843905                                                                                    | 6186929                                                                                   |  5070981                                                                                  | 1                                                                                         | 색상:10 느와르-블랙 / 1개                                                                 | 샤넬                                                                                      |  44000                                                                                    |  1                                                                                        |   96                                                                                      | 20180707                                                                                  |  1                                                                                        |    0                                                                                      | mobile                                                                                    | Gyeonggi-do                                                                               | Suwon-si                                                                                  | 이니미터블 6g - 10 느와르-블랙                                                            | 화장품/뷰티케어                                                                           | 메이크업                                                                                  | 마스카라                                                                                  | \n",
       "| 843914                                                                                    | 2030786                                                                                   |  4708647                                                                                  | 1                                                                                         | 1개                                                                                       | 샤넬                                                                                      | 140000                                                                                    |  1                                                                                        |   13                                                                                      | 20180713                                                                                  |  1                                                                                        |    0                                                                                      | mobile                                                                                    | Seoul                                                                                     | Seoul                                                                                     | 알뤼르 옴므 스포츠 오 드 뚜왈렛 스프레이 100ml                                            | 화장품/뷰티케어                                                                           | 향수                                                                                      | 남성향수                                                                                  | \n",
       "| 843914                                                                                    | 5442536                                                                                   |  4946904                                                                                  | 1                                                                                         | 1개                                                                                       | 샤넬                                                                                      | 140000                                                                                    |  1                                                                                        |    8                                                                                      | 20180709                                                                                  |  1                                                                                        |    0                                                                                      | mobile                                                                                    | Seoul                                                                                     | Seoul                                                                                     | 알뤼르 옴므 스포츠 오 드 뚜왈렛 스프레이 100ml                                            | 화장품/뷰티케어                                                                           | 향수                                                                                      | 남성향수                                                                                  | \n",
       "| 843914                                                                                    | 5442536                                                                                   |  5018384                                                                                  | 1                                                                                         | 1개                                                                                       | 샤넬                                                                                      | 140000                                                                                    |  1                                                                                        |    7                                                                                      | 20180708                                                                                  |  1                                                                                        |    0                                                                                      | mobile                                                                                    | Seoul                                                                                     | Seoul                                                                                     | 알뤼르 옴므 스포츠 오 드 뚜왈렛 스프레이 100ml                                            | 화장품/뷰티케어                                                                           | 향수                                                                                      | 남성향수                                                                                  | \n",
       "| 843986                                                                                    |  535621                                                                                   |  9804434                                                                                  | 1                                                                                         | 1개                                                                                       | 쓰리엠                                                                                    |  44040                                                                                    |  1                                                                                        |    3                                                                                      | 20180420                                                                                  |  3                                                                                        |   20                                                                                      | mobile                                                                                    | Seoul                                                                                     | Seoul                                                                                     | 3M WP-5700plus / 무선프리젠터, 레드포인터                                                 | 컴퓨터                                                                                    | 컴퓨터주변기기                                                                            | PC부품                                                                                    | \n",
       "| 844075                                                                                    | 2541660                                                                                   | 10144944                                                                                  | 1                                                                                         | 2개                                                                                       | 네이쳐리빙                                                                                |   5200                                                                                    |  2                                                                                        |   51                                                                                      | 20180414                                                                                  | 12                                                                                        |  119                                                                                      | mobile                                                                                    | Daejeon                                                                                   | Daejeon                                                                                   | 네이쳐 옻칠양념스푼                                                                       | 주방잡화                                                                                  | 조리도구                                                                                  | 기타조리도구                                                                              | \n",
       "| 844315                                                                                    | 1540952                                                                                   |  7031567                                                                                  | 1                                                                                         | (not set)                                                                                 | 모아시스템즈                                                                              |  31800                                                                                    |  1                                                                                        |   21                                                                                      | 20180605                                                                                  | 13                                                                                        | 1069                                                                                      | desktop                                                                                   | Incheon                                                                                   | Incheon                                                                                   | 큐빅 700 욕실장/욕실수납장 욕실선반                                                       | 청소/세탁/욕실용품                                                                        | 욕실용품                                                                                  | 욕실수납용품                                                                              | \n",
       "| 844405                                                                                    |   19606                                                                                   | 10772615                                                                                  | 1                                                                                         | 색상:그레이 4cm|사이즈:245 / 1개                                                          | 엘리자벳                                                                                  |  69000                                                                                    |  1                                                                                        |   54                                                                                      | 20180404                                                                                  |  3                                                                                        | 1406                                                                                      | mobile                                                                                    | Busan                                                                                     | Busan                                                                                     | 소프트 펌프스 EL15015 (4/5/6cm) - 베이지 4cm / 240                                        | 패션잡화                                                                                  | 여성화                                                                                    | 여성펌프스                                                                                | \n",
       "| 844457                                                                                    | 2186943                                                                                   |  8966254                                                                                  | 1                                                                                         | 5개                                                                                       | 샤워플러스                                                                                |   3500                                                                                    |  5                                                                                        |    4                                                                                      | 20180504                                                                                  |  1                                                                                        |    0                                                                                      | mobile                                                                                    | Seoul                                                                                     | Seoul                                                                                     | 서프라이즈 정수 교환필터(바디용)1EA                                                       | 청소/세탁/욕실용품                                                                        | 욕실용품                                                                                  | 욕실소품                                                                                  | \n",
       "| 844525                                                                                    | 2919658                                                                                   |  6655798                                                                                  | 1                                                                                         | 컬러:핑크_1장 / 1개                                                                       | 밤부베베                                                                                  |   4500                                                                                    |  1                                                                                        |   18                                                                                      | 20180611                                                                                  |  1                                                                                        |    0                                                                                      | mobile                                                                                    | Gyeonggi-do                                                                               | Hwaseong-si                                                                               | [밤부베베] 순한대나무 톡톡 미니타올 - 그레이_1장                                          | 출산/육아용품                                                                             | 수유/이유용품                                                                             | 출산/신생아용품세트                                                                       | \n",
       "| 844766                                                                                    | 4246533                                                                                   |  2749067                                                                                  | 1                                                                                         | 옵션:대형(리필)x1팩 / 1개                                                                 | 데일리워터                                                                                |   3000                                                                                    |  1                                                                                        |   12                                                                                      | 20180815                                                                                  |  1                                                                                        |    0                                                                                      | mobile                                                                                    | Gwangju                                                                                   | Gwangju                                                                                   | 물걸레 청소포 대형 (리필) 30매 - 대형(리필)x1팩                                           | 세제/위생                                                                                 | 화장지/티슈                                                                               | 물티슈                                                                                    | \n",
       "| 844766                                                                                    | 4633354                                                                                   |  6679016                                                                                  | 1                                                                                         | 옵션:대형(리필)x1팩 / 1개                                                                 | 데일리워터                                                                                |   2700                                                                                    |  1                                                                                        |   11                                                                                      | 20180610                                                                                  |  1                                                                                        |    0                                                                                      | mobile                                                                                    | Busan                                                                                     | Busan                                                                                     | 물걸레 청소포 대형 (리필) 30매 - 대형(리필)x1팩                                           | 세제/위생                                                                                 | 화장지/티슈                                                                               | 물티슈                                                                                    | \n",
       "| 845197                                                                                    | 5698462                                                                                   | 10672436                                                                                  | 1                                                                                         | (not set)                                                                                 | 하다라보                                                                                  |  31680                                                                                    |  1                                                                                        |   14                                                                                      | 20180405                                                                                  |  0                                                                                        |    0                                                                                      | desktop                                                                                   | Gwangju                                                                                   | Gwangju                                                                                   | 고쿠쥰 로션&밀크 2종 세트                                                                 | 화장품/뷰티케어                                                                           | 스킨케어                                                                                  | 스킨케어세트                                                                              | \n",
       "| 845575                                                                                    | 3469859                                                                                   | 10546186                                                                                  | 1                                                                                         | 사이즈:75 / 1개                                                                           | 레노마수영복                                                                              |  55000                                                                                    |  1                                                                                        |   23                                                                                      | 20180407                                                                                  |  1                                                                                        |    0                                                                                      | mobile                                                                                    | Seoul                                                                                     | Seoul                                                                                     | 남아동 주니어 래쉬가드 상하세트 BS5974-NV - 90                                            | 시즌스포츠                                                                                | 수영/물놀이                                                                               | 아동수영복                                                                                | \n",
       "| 845591                                                                                    | 4313987                                                                                   |  4409750                                                                                  | 1                                                                                         | (not set)                                                                                 | 드롱기                                                                                    | 740000                                                                                    |  1                                                                                        |    3                                                                                      | 20180718                                                                                  |  1                                                                                        |    0                                                                                      | desktop                                                                                   | Seoul                                                                                     | Seoul                                                                                     | Magnifica S 전자동 에스프레소머신 ECAM 22.110.B                                           | 생활/주방가전                                                                             | 주방가전                                                                                  | 커피머신                                                                                  | \n",
       "| 845638                                                                                    | 2383942                                                                                   |  2272432                                                                                  | 1                                                                                         | 1개                                                                                       | 녹십자                                                                                    |   6900                                                                                    |  1                                                                                        |   21                                                                                      | 20180823                                                                                  |  8                                                                                        |   96                                                                                      | mobile                                                                                    | Seoul                                                                                     | Seoul                                                                                     | 가르시니아 다이어트 777 (800mg*112정/8주분)                                               | 건강식품                                                                                  | 건강보조식품                                                                              | 다이어트보조식품                                                                          | \n",
       "| 845659                                                                                    | 5393306                                                                                   |  4693850                                                                                  | 1                                                                                         | (not set)                                                                                 | 나라데코                                                                                  |   9800                                                                                    |  1                                                                                        |   24                                                                                      | 20180713                                                                                  |  0                                                                                        |    0                                                                                      | desktop                                                                                   | Gyeongsangnam-do                                                                          | Yangsan-si                                                                                | 1+1 아모르온 퓨어 클라우드 경추 베개솜 40x60                                              | 침구/수예                                                                                 | 성인침구                                                                                  | 성인침구속통/솜                                                                           | \n",
       "| 846312                                                                                    |  516331                                                                                   |  8321398                                                                                  | 1                                                                                         | 상품타입:겨울왕국-H0970-180 / 1개                                                         | 오키즈                                                                                    |   6800                                                                                    |  1                                                                                        |   21                                                                                      | 20180514                                                                                  |  1                                                                                        |    0                                                                                      | mobile                                                                                    | Chungcheongnam-do                                                                         | Yeongi-gun                                                                                | 겨울왕국 EVA 실내화 [F007][H0970] - 겨울왕국-H0970-180                                    | 시즌스포츠                                                                                | 수영/물놀이                                                                               | 아쿠아슈즈                                                                                | \n",
       "| 846348                                                                                    | 3535760                                                                                   | 10747766                                                                                  | 1                                                                                         | 색상:와인|사이즈:250|굽높이:7cm / 1개                                                     | 엘리자벳                                                                                  |  68000                                                                                    |  1                                                                                        |    9                                                                                      | 20180404                                                                                  |  7                                                                                        |  100                                                                                      | mobile                                                                                    | Busan                                                                                     | Busan                                                                                     | [셀럽착화/엘리자벳 베스트 1위]쉬크라인 힐 E7270 (9/8/7cm) - 버건디 / 230 / 9cm            | 패션잡화                                                                                  | 여성화                                                                                    | 여성펌프스                                                                                | \n",
       "| 846665                                                                                    | 1795923                                                                                   |  9472467                                                                                  | 1                                                                                         | 2개                                                                                       | 이아소                                                                                    |  48750                                                                                    |  2                                                                                        |    2                                                                                      | 20180425                                                                                  |  1                                                                                        |    0                                                                                      | mobile                                                                                    | Incheon                                                                                   | Incheon                                                                                   | 인텐시브 클리어 부스터35ml                                                                | 화장품/뷰티케어                                                                           | 스킨케어                                                                                  | 에센스/세럼                                                                               | \n",
       "| 846831                                                                                    | 3955193                                                                                   |  2515091                                                                                  | 1                                                                                         | 1개                                                                                       | 코리아홈스톤                                                                              | 407200                                                                                    |  1                                                                                        |    8                                                                                      | 20180819                                                                                  |  1                                                                                        |    0                                                                                      | mobile                                                                                    | Seoul                                                                                     | Seoul                                                                                     | 코리아홈스톤 0472CR 크림 클래식 싱글  흙침대(S)                                           | 가구                                                                                      | 침실가구                                                                                  | 침대                                                                                      | \n",
       "| 846835                                                                                    | 6504912                                                                                   | 10160802                                                                                  | 1                                                                                         | 1개                                                                                       | 지엔투                                                                                    |   8400                                                                                    |  1                                                                                        | 1039                                                                                      | 20180414                                                                                  | 16                                                                                        |  223                                                                                      | mobile                                                                                    | Gangwon-do                                                                                | Gangneung-si                                                                              | 1인용 캠핑 매트 돗자리-4P                                                                 | 아웃도어/레저                                                                             | 캠핑                                                                                      | 야외용돗자리                                                                              | \n",
       "| 846980                                                                                    | 1817051                                                                                   |  5140853                                                                                  | 1                                                                                         | 색성선택:보토(핑크) / 1개                                                                 | 본토이                                                                                    |  99000                                                                                    |  1                                                                                        |   33                                                                                      | 20180706                                                                                  |  1                                                                                        |    0                                                                                      | mobile                                                                                    | Chungcheongbuk-do                                                                         | Cheongwon-gun                                                                             | 프렌디멀 5종 택1/유아붕붕카/무소음/조카선물/승용완구 - 보토(핑크)                         | 출산/육아용품                                                                             | 유아발육용품                                                                              | 붕붕카/스프링카/흔들말                                                                    | \n",
       "| 847078                                                                                    | 2830044                                                                                   | 10110441                                                                                  | 1                                                                                         | 상품명:청은차 향기화차 190gx10개 / 1개                                                    | 애경                                                                                      |  10400                                                                                    |  1                                                                                        |   14                                                                                      | 20180415                                                                                  |  1                                                                                        |    0                                                                                      | mobile                                                                                    | Seoul                                                                                     | Seoul                                                                                     | 2080 청은차 향기화차 190g x 10개(진지발리스치약 50g 추가증정) - 청은차 향기화차 190gx10개 | 퍼스널케어                                                                                | 구강케어                                                                                  | 치약                                                                                      | \n",
       "| 847128                                                                                    | 2013830                                                                                   |  9406084                                                                                  | 1                                                                                         | 색상:크림(360아기띠전용) / 1개                                                            | 에르고베이비                                                                              |  38000                                                                                    |  1                                                                                        |   12                                                                                      | 20180426                                                                                  |  1                                                                                        |    0                                                                                      | mobile                                                                                    | Gyeongsangbuk-do                                                                          | Gyeongsan-si                                                                              | 코튼침받이360전용 - 크림                                                                  | 출산/육아용품                                                                             | 유아발육용품                                                                              | 아기띠/캐리어                                                                             | \n",
       "| 847145                                                                                    | 3822496                                                                                   |  9234305                                                                                  | 1                                                                                         | 칫솔선택:A. 이중슬림모 일반인용(S) (WD740)|색상:랜덤(다양하게) / 10개                     | 위덴                                                                                      |   2500                                                                                    | 10                                                                                        |    7                                                                                      | 20180429                                                                                  |  1                                                                                        |    0                                                                                      | mobile                                                                                    | Chungcheongnam-do                                                                         | Dangjin-si                                                                                | [One Click] 혀클리너겸용칫솔 - A. 이중슬림모 임산부용(SS) (WD740-1) / 랜덤(다양하게)      | 퍼스널케어                                                                                | 구강케어                                                                                  | 칫솔                                                                                      | \n",
       "| 847203                                                                                    | 2860604                                                                                   |  4491465                                                                                  | 1                                                                                         | 상품선택:화애락 본 / 1개                                                                  | 정관장                                                                                    | 130000                                                                                    |  1                                                                                        |   58                                                                                      | 20180716                                                                                  |  1                                                                                        |    0                                                                                      | mobile                                                                                    | Jeollanam-do                                                                              | Yeosu-si                                                                                  | 화애락 본(本)(70ml*30포) / 롯데백화점 본점 상품 - 화애락 본                               | 음료                                                                                      | 기능성음료                                                                                | 한방음료                                                                                  | \n",
       "| 847248                                                                                    | 5554697                                                                                   | 10198495                                                                                  | 1                                                                                         | 색상:오크 아이보리 / 1개                                                                  | 보루네오하우스                                                                            | 160000                                                                                    |  1                                                                                        |   16                                                                                      | 20180413                                                                                  |  0                                                                                        |    0                                                                                      | mobile                                                                                    | Seoul                                                                                     | Seoul                                                                                     | ★수도권무료배송★엘리브 NEW 빅 800 5단서랍장 yj018 - 오크                                | 가구                                                                                      | 수납가구                                                                                  | 서랍장/수납장                                                                             | \n",
       "\n",
       "\n"
      ],
      "text/plain": [
       "     PD_C   CLNT_ID SESS_ID  HITS_SEQ\n",
       "1     269    763561  7953650 1       \n",
       "2     318   5222222 10198148 1       \n",
       "3     461   2812387  3243706 1       \n",
       "4     487   1795923  9472467 1       \n",
       "5     508   2842179 10007524 1       \n",
       "6     508   2842179 10007524 1       \n",
       "7     700   4491057 10559965 1       \n",
       "8     804   6051543  9581607 1       \n",
       "9     878   5102345  2505685 1       \n",
       "10   1021   4246272 10785113 1       \n",
       "11   1043    743679 10124542 1       \n",
       "12   1148    756394  8223512 1       \n",
       "13   1239    685173  8301526 1       \n",
       "14   1359    414537  4101793 1       \n",
       "15   1526   5085285  7630020 1       \n",
       "16   1549   1623802  9894067 1       \n",
       "17   1782   2655077  1108393 1       \n",
       "18   1955   6122408  1744208 1       \n",
       "19   1955   6553497   378574 1       \n",
       "20   1965   4641013  6165715 1       \n",
       "21   1965   5417582  6492226 1       \n",
       "22   1966   5930846  9807316 1       \n",
       "23   1976   2821716  8870133 1       \n",
       "24   1982   5604360   752989 1       \n",
       "25   1982   5604360   753234 1       \n",
       "26   1982   6557019   512359 1       \n",
       "27   1984   3758368  6110165 1       \n",
       "28   1984   5516376  9486504 1       \n",
       "29   2092   1212663  3586544 1       \n",
       "30   2358   2543318  3712952 1       \n",
       "...  ...    ...     ...      ...     \n",
       "5147 843863 3884483  4250663 1       \n",
       "5148 843873  550814  6133683 1       \n",
       "5149 843905 6186929  5070981 1       \n",
       "5150 843914 2030786  4708647 1       \n",
       "5151 843914 5442536  4946904 1       \n",
       "5152 843914 5442536  5018384 1       \n",
       "5153 843986  535621  9804434 1       \n",
       "5154 844075 2541660 10144944 1       \n",
       "5155 844315 1540952  7031567 1       \n",
       "5156 844405   19606 10772615 1       \n",
       "5157 844457 2186943  8966254 1       \n",
       "5158 844525 2919658  6655798 1       \n",
       "5159 844766 4246533  2749067 1       \n",
       "5160 844766 4633354  6679016 1       \n",
       "5161 845197 5698462 10672436 1       \n",
       "5162 845575 3469859 10546186 1       \n",
       "5163 845591 4313987  4409750 1       \n",
       "5164 845638 2383942  2272432 1       \n",
       "5165 845659 5393306  4693850 1       \n",
       "5166 846312  516331  8321398 1       \n",
       "5167 846348 3535760 10747766 1       \n",
       "5168 846665 1795923  9472467 1       \n",
       "5169 846831 3955193  2515091 1       \n",
       "5170 846835 6504912 10160802 1       \n",
       "5171 846980 1817051  5140853 1       \n",
       "5172 847078 2830044 10110441 1       \n",
       "5173 847128 2013830  9406084 1       \n",
       "5174 847145 3822496  9234305 1       \n",
       "5175 847203 2860604  4491465 1       \n",
       "5176 847248 5554697 10198495 1       \n",
       "     PD_ADD_NM                                                            \n",
       "1    1개                                                                  \n",
       "2    1개                                                                  \n",
       "3    1개                                                                  \n",
       "4    2개                                                                  \n",
       "5    타입:Q|사이즈:85AA / 2개                                             \n",
       "6    타입:T|사이즈:85A / 2개                                              \n",
       "7    1개                                                                  \n",
       "8    1개                                                                  \n",
       "9    색상:투명 / 1개                                                      \n",
       "10   1개                                                                  \n",
       "11   5개                                                                  \n",
       "12   사이즈:250 / 1개                                                     \n",
       "13   1개                                                                  \n",
       "14   1개                                                                  \n",
       "15   2개                                                                  \n",
       "16   5개                                                                  \n",
       "17   (not set)                                                            \n",
       "18   1개                                                                  \n",
       "19   3개                                                                  \n",
       "20   1개                                                                  \n",
       "21   1개                                                                  \n",
       "22   1개                                                                  \n",
       "23   2개                                                                  \n",
       "24   (not set)                                                            \n",
       "25   (not set)                                                            \n",
       "26   1개                                                                  \n",
       "27   1개                                                                  \n",
       "28   3개                                                                  \n",
       "29   색상:실버+램프+물티슈2팩 / 1개                                       \n",
       "30   1개                                                                  \n",
       "...  ...                                                                  \n",
       "5147 색상:97 데진볼트 / 1개                                               \n",
       "5148 1개                                                                  \n",
       "5149 색상:10 느와르-블랙 / 1개                                            \n",
       "5150 1개                                                                  \n",
       "5151 1개                                                                  \n",
       "5152 1개                                                                  \n",
       "5153 1개                                                                  \n",
       "5154 2개                                                                  \n",
       "5155 (not set)                                                            \n",
       "5156 색상:그레이 4cm|사이즈:245 / 1개                                     \n",
       "5157 5개                                                                  \n",
       "5158 컬러:핑크_1장 / 1개                                                  \n",
       "5159 옵션:대형(리필)x1팩 / 1개                                            \n",
       "5160 옵션:대형(리필)x1팩 / 1개                                            \n",
       "5161 (not set)                                                            \n",
       "5162 사이즈:75 / 1개                                                      \n",
       "5163 (not set)                                                            \n",
       "5164 1개                                                                  \n",
       "5165 (not set)                                                            \n",
       "5166 상품타입:겨울왕국-H0970-180 / 1개                                    \n",
       "5167 색상:와인|사이즈:250|굽높이:7cm / 1개                                \n",
       "5168 2개                                                                  \n",
       "5169 1개                                                                  \n",
       "5170 1개                                                                  \n",
       "5171 색성선택:보토(핑크) / 1개                                            \n",
       "5172 상품명:청은차 향기화차 190gx10개 / 1개                               \n",
       "5173 색상:크림(360아기띠전용) / 1개                                       \n",
       "5174 칫솔선택:A. 이중슬림모 일반인용(S) (WD740)|색상:랜덤(다양하게) / 10개\n",
       "5175 상품선택:화애락 본 / 1개                                             \n",
       "5176 색상:오크 아이보리 / 1개                                             \n",
       "     PD_BRA_NM        PD_BUY_AM PD_BUY_CT SESS_SEQ SESS_DT  TOT_PAG_VIEW_CT\n",
       "1    골든벨            16900    1           27     20180520  1             \n",
       "2    더바디샵          28000    1            2     20180413  1             \n",
       "3    버키비버           4930    1           43     20180806  4             \n",
       "4    이아소            24300    2            2     20180425  1             \n",
       "5    판도라바이비비안   6900    2          177     20180416 21             \n",
       "6    판도라바이비비안   6900    2          177     20180416 21             \n",
       "7    에이엔에프        60000    1           12     20180407  1             \n",
       "8    아토팜            29900    1            2     20180423  5             \n",
       "9    아레나수영복      22000    1          206     20180819  1             \n",
       "10   썬터치            29500    1          307     20180404  1             \n",
       "11   초록마을          25200    5           19     20180414  1             \n",
       "12   캠프라인         144500    1           22     20180516  1             \n",
       "13   일렉트로룩스      94500    1           13     20180515  1             \n",
       "14   템퍼             131750    1           52     20180723  3             \n",
       "15   스피드스택스       2000    2            9     20180526  0             \n",
       "16   비비하우스         1980    5          625     20180418  1             \n",
       "17   코리아보드게임즈  33700    1           16     20180912  1             \n",
       "18   정관장            90000    1          114     20180901  1             \n",
       "19   정관장            90000    3          106     20180924 10             \n",
       "20   정관장            96000    1           22     20180619  1             \n",
       "21   정관장            96000    1         1449     20180613  1             \n",
       "22   정관장            60000    1           82     20180420  1             \n",
       "23   정관장            90000    2            6     20180505  4             \n",
       "24   정관장            72000    1           11     20180918 14             \n",
       "25   정관장            72000    1           10     20180918  8             \n",
       "26   정관장            72000    1          492     20180922 13             \n",
       "27   정관장           120000    1            5     20180620  3             \n",
       "28   정관장           120000    3            5     20180425  1             \n",
       "29   레이퀸           165000    1            2     20180731  7             \n",
       "30   벤트리리빙        42780    1            6     20180729  1             \n",
       "...  ...              ...       ...       ...      ...      ...            \n",
       "5147 샤넬              43000     1           2     20180720  1             \n",
       "5148 샤넬             124000     1           3     20180620  1             \n",
       "5149 샤넬              44000     1          96     20180707  1             \n",
       "5150 샤넬             140000     1          13     20180713  1             \n",
       "5151 샤넬             140000     1           8     20180709  1             \n",
       "5152 샤넬             140000     1           7     20180708  1             \n",
       "5153 쓰리엠            44040     1           3     20180420  3             \n",
       "5154 네이쳐리빙         5200     2          51     20180414 12             \n",
       "5155 모아시스템즈      31800     1          21     20180605 13             \n",
       "5156 엘리자벳          69000     1          54     20180404  3             \n",
       "5157 샤워플러스         3500     5           4     20180504  1             \n",
       "5158 밤부베베           4500     1          18     20180611  1             \n",
       "5159 데일리워터         3000     1          12     20180815  1             \n",
       "5160 데일리워터         2700     1          11     20180610  1             \n",
       "5161 하다라보          31680     1          14     20180405  0             \n",
       "5162 레노마수영복      55000     1          23     20180407  1             \n",
       "5163 드롱기           740000     1           3     20180718  1             \n",
       "5164 녹십자             6900     1          21     20180823  8             \n",
       "5165 나라데코           9800     1          24     20180713  0             \n",
       "5166 오키즈             6800     1          21     20180514  1             \n",
       "5167 엘리자벳          68000     1           9     20180404  7             \n",
       "5168 이아소            48750     2           2     20180425  1             \n",
       "5169 코리아홈스톤     407200     1           8     20180819  1             \n",
       "5170 지엔투             8400     1        1039     20180414 16             \n",
       "5171 본토이            99000     1          33     20180706  1             \n",
       "5172 애경              10400     1          14     20180415  1             \n",
       "5173 에르고베이비      38000     1          12     20180426  1             \n",
       "5174 위덴               2500    10           7     20180429  1             \n",
       "5175 정관장           130000     1          58     20180716  1             \n",
       "5176 보루네오하우스   160000     1          16     20180413  0             \n",
       "     TOT_SESS_HR_V DVC_CTG_NM ZON_NM            CITY_NM      \n",
       "1       0          mobile     Gyeongsangbuk-do  Gyeongju-si  \n",
       "2       0          mobile     Seoul             Seoul        \n",
       "3       4          mobile     Gyeonggi-do       Yongin-si    \n",
       "4       0          mobile     Incheon           Incheon      \n",
       "5    1469          mobile     Seoul             Seoul        \n",
       "6    1469          mobile     Seoul             Seoul        \n",
       "7       0          mobile     Busan             Busan        \n",
       "8     236          mobile     Gyeongsangbuk-do  Yeongju-si   \n",
       "9       0          mobile     Gyeonggi-do       Seongnam-si  \n",
       "10      0          mobile     Seoul             Seoul        \n",
       "11      0          mobile     Chungcheongnam-do Asan-si      \n",
       "12      0          mobile     Daegu             Daegu        \n",
       "13      0          mobile     Seoul             Seoul        \n",
       "14     13          mobile     Seoul             Seoul        \n",
       "15      0          mobile     Gyeonggi-do       Suwon-si     \n",
       "16      0          mobile     Gwangju           Gwangju      \n",
       "17      0          desktop    Gyeongsangnam-do  Geoje-si     \n",
       "18      0          mobile     Gyeonggi-do       Anyang       \n",
       "19    115          mobile     Seoul             Seoul        \n",
       "20      0          mobile     Gyeonggi-do       Gimpo-si     \n",
       "21      0          mobile     Seoul             Seoul        \n",
       "22      0          mobile     Seoul             Seoul        \n",
       "23     25          mobile     Gyeonggi-do       Guri-si      \n",
       "24    173          desktop    Daegu             Daegu        \n",
       "25    142          desktop    Daegu             Daegu        \n",
       "26    148          mobile     Jeollanam-do      Hwasun-gun   \n",
       "27     20          mobile     Incheon           Incheon      \n",
       "28      0          mobile     Gyeonggi-do       Bucheon-si   \n",
       "29    310          mobile     Jeollabuk-do      Iksan        \n",
       "30      0          mobile     Seoul             Seoul        \n",
       "...  ...           ...        ...               ...          \n",
       "5147    0          mobile     Seoul             Seoul        \n",
       "5148    0          mobile     Seoul             Seoul        \n",
       "5149    0          mobile     Gyeonggi-do       Suwon-si     \n",
       "5150    0          mobile     Seoul             Seoul        \n",
       "5151    0          mobile     Seoul             Seoul        \n",
       "5152    0          mobile     Seoul             Seoul        \n",
       "5153   20          mobile     Seoul             Seoul        \n",
       "5154  119          mobile     Daejeon           Daejeon      \n",
       "5155 1069          desktop    Incheon           Incheon      \n",
       "5156 1406          mobile     Busan             Busan        \n",
       "5157    0          mobile     Seoul             Seoul        \n",
       "5158    0          mobile     Gyeonggi-do       Hwaseong-si  \n",
       "5159    0          mobile     Gwangju           Gwangju      \n",
       "5160    0          mobile     Busan             Busan        \n",
       "5161    0          desktop    Gwangju           Gwangju      \n",
       "5162    0          mobile     Seoul             Seoul        \n",
       "5163    0          desktop    Seoul             Seoul        \n",
       "5164   96          mobile     Seoul             Seoul        \n",
       "5165    0          desktop    Gyeongsangnam-do  Yangsan-si   \n",
       "5166    0          mobile     Chungcheongnam-do Yeongi-gun   \n",
       "5167  100          mobile     Busan             Busan        \n",
       "5168    0          mobile     Incheon           Incheon      \n",
       "5169    0          mobile     Seoul             Seoul        \n",
       "5170  223          mobile     Gangwon-do        Gangneung-si \n",
       "5171    0          mobile     Chungcheongbuk-do Cheongwon-gun\n",
       "5172    0          mobile     Seoul             Seoul        \n",
       "5173    0          mobile     Gyeongsangbuk-do  Gyeongsan-si \n",
       "5174    0          mobile     Chungcheongnam-do Dangjin-si   \n",
       "5175    0          mobile     Jeollanam-do      Yeosu-si     \n",
       "5176    0          mobile     Seoul             Seoul        \n",
       "     PD_NM                                                                                              \n",
       "1    리멤버 주름수반(대)+도자기 티스푼포크 11P 세트                                                     \n",
       "2    화이트 머스크 바디 크림 200ML(59016)                                                               \n",
       "3    버키비버 유아치실/어린이치실/치간칫솔/아기치실/유아용치실/혀크리너/유아치약/키즈치실               \n",
       "4    닥터이아소 엑스폴리에이팅 프렙                                                                     \n",
       "5    외 1.2.3단계 주니어 브라 택1 tb-251 - S / 70AA                                                     \n",
       "6    외 1.2.3단계 주니어 브라 택1 tb-251 - S / 70AA                                                     \n",
       "7    ANF 유기농 양고기 (전연령) 6kg                                                                     \n",
       "8    MLE 로션 대용량 300ml [gift] 베스트 키트 6종                                                       \n",
       "9    아레나 쥬니어 AGL-5100J 수경(AOAAG51) 물안경 수영안경 케이스 포함 - 블랙                           \n",
       "10   [썬터치]휴대용가스렌지ST-001A/국산/휴대용버너/부르스타/가스버너/캠핑/부탄가스/업소용/그릴/불판/야외\n",
       "11   몸에좋은헛개100 80mL*30입                                                                          \n",
       "12   [캠프라인] 블랙스톰 델타 남여공용 중등산화 - 240                                                   \n",
       "13   [MD추천] [텀블러 증정] 익스프레셔니스트 컬렉션 북유럽 분유포트 무선주전자 EEK7804S                 \n",
       "14   템퍼 밀레니엄 베개 S                                                                               \n",
       "15   스피드스택스 - 컵 키퍼                                                                             \n",
       "16   비앤비) NEW얼룩제거 세탁용 비누                                                                    \n",
       "17   마라케시                                                                                           \n",
       "18   홍이장군2단계(20mlx30포/5세-7세)/롯데 본점                                                         \n",
       "19   홍이장군2단계(20mlx30포/5세-7세)/롯데 본점                                                         \n",
       "20   홍삼정 에브리타임(10mlx30포) / 롯데백화점 본점 출고 / 정관장                                       \n",
       "21   홍삼정 에브리타임(10mlx30포) / 롯데백화점 본점 출고 / 정관장                                       \n",
       "22   황진단 (4gX3환) 12g                                                                                \n",
       "23   루마엑스(550mg X 60캡슐)                                                                           \n",
       "24   홍이장군1단계 (15mlx30포/36개월-4세)/백화점 상품                                                   \n",
       "25   홍이장군1단계 (15mlx30포/36개월-4세)/백화점 상품                                                   \n",
       "26   홍이장군1단계 (15mlx30포/36개월-4세)/백화점 상품                                                   \n",
       "27   홍이장군3단계 (20mlx30포/8-10세) / 백화점 상품                                                     \n",
       "28   홍이장군3단계 (20mlx30포/8-10세) / 백화점 상품                                                     \n",
       "29   레이퀸 플러스 젖병소독기/자외선 살균기/국민 젖병 소독기 - 메탈화이트                               \n",
       "30   원목 접이식 브런치 테이블 大                                                                       \n",
       "...  ...                                                                                                \n",
       "5147 루쥬 코코 샤인 3g - 63 REBELLE                                                                     \n",
       "5148 샹스 오 땅드르 오 드 뚜왈렛 스프레이 50ml                                                          \n",
       "5149 이니미터블 6g - 10 느와르-블랙                                                                     \n",
       "5150 알뤼르 옴므 스포츠 오 드 뚜왈렛 스프레이 100ml                                                     \n",
       "5151 알뤼르 옴므 스포츠 오 드 뚜왈렛 스프레이 100ml                                                     \n",
       "5152 알뤼르 옴므 스포츠 오 드 뚜왈렛 스프레이 100ml                                                     \n",
       "5153 3M WP-5700plus / 무선프리젠터, 레드포인터                                                          \n",
       "5154 네이쳐 옻칠양념스푼                                                                                \n",
       "5155 큐빅 700 욕실장/욕실수납장 욕실선반                                                                \n",
       "5156 소프트 펌프스 EL15015 (4/5/6cm) - 베이지 4cm / 240                                                 \n",
       "5157 서프라이즈 정수 교환필터(바디용)1EA                                                                \n",
       "5158 [밤부베베] 순한대나무 톡톡 미니타올 - 그레이_1장                                                   \n",
       "5159 물걸레 청소포 대형 (리필) 30매 - 대형(리필)x1팩                                                    \n",
       "5160 물걸레 청소포 대형 (리필) 30매 - 대형(리필)x1팩                                                    \n",
       "5161 고쿠쥰 로션&밀크 2종 세트                                                                          \n",
       "5162 남아동 주니어 래쉬가드 상하세트 BS5974-NV - 90                                                     \n",
       "5163 Magnifica S 전자동 에스프레소머신 ECAM 22.110.B                                                    \n",
       "5164 가르시니아 다이어트 777 (800mg*112정/8주분)                                                        \n",
       "5165 1+1 아모르온 퓨어 클라우드 경추 베개솜 40x60                                                       \n",
       "5166 겨울왕국 EVA 실내화 [F007][H0970] - 겨울왕국-H0970-180                                             \n",
       "5167 [셀럽착화/엘리자벳 베스트 1위]쉬크라인 힐 E7270 (9/8/7cm) - 버건디 / 230 / 9cm                     \n",
       "5168 인텐시브 클리어 부스터35ml                                                                         \n",
       "5169 코리아홈스톤 0472CR 크림 클래식 싱글  흙침대(S)                                                    \n",
       "5170 1인용 캠핑 매트 돗자리-4P                                                                          \n",
       "5171 프렌디멀 5종 택1/유아붕붕카/무소음/조카선물/승용완구 - 보토(핑크)                                  \n",
       "5172 2080 청은차 향기화차 190g x 10개(진지발리스치약 50g 추가증정) - 청은차 향기화차 190gx10개          \n",
       "5173 코튼침받이360전용 - 크림                                                                           \n",
       "5174 [One Click] 혀클리너겸용칫솔 - A. 이중슬림모 임산부용(SS) (WD740-1) / 랜덤(다양하게)               \n",
       "5175 화애락 본(本)(70ml*30포) / 롯데백화점 본점 상품 - 화애락 본                                        \n",
       "5176 ★수도권무료배송★엘리브 NEW 빅 800 5단서랍장 yj018 - 오크                                         \n",
       "     CLAC1_NM           CLAC2_NM          CLAC3_NM              \n",
       "1    식기/조리기구      그릇/식기         디저트포크/스푼       \n",
       "2    퍼스널케어         바디케어          바디보습              \n",
       "3    출산/육아용품      유아위생용품      유아/아동용칫솔       \n",
       "4    화장품/뷰티케어    스킨케어          에센스/세럼           \n",
       "5    속옷/양말/홈웨어   여성속옷          브래지어              \n",
       "6    속옷/양말/홈웨어   여성속옷          브래지어              \n",
       "7    원예/애완          애견용품          애견사료              \n",
       "8    출산/육아용품      유아스킨/바디케어 유아용화장품          \n",
       "9    시즌스포츠         수영/물놀이       기타물놀이용품        \n",
       "10   생활/주방가전      주방가전          인덕션/가스레인지     \n",
       "11   건강식품           건강진액          채소즙                \n",
       "12   아웃도어/레저      등산              등산화                \n",
       "13   생활/주방가전      주방가전          커피메이커/포트       \n",
       "14   가구               침실가구          침실가구세트          \n",
       "15   완구               교육완구          보드게임              \n",
       "16   출산/육아용품      수유/이유용품     유아용세척용품        \n",
       "17   완구               교육완구          보드게임              \n",
       "18   음료               기능성음료        한방음료              \n",
       "19   음료               기능성음료        한방음료              \n",
       "20   건강식품           홍삼/인삼가공식품 홍삼액                \n",
       "21   건강식품           홍삼/인삼가공식품 홍삼액                \n",
       "22   건강식품           홍삼/인삼가공식품 홍삼정/분말/환        \n",
       "23   건강식품           영양제            기타영양제            \n",
       "24   건강식품           홍삼/인삼가공식품 인삼가공식품          \n",
       "25   건강식품           홍삼/인삼가공식품 인삼가공식품          \n",
       "26   건강식품           홍삼/인삼가공식품 인삼가공식품          \n",
       "27   음료               기능성음료        한방음료              \n",
       "28   음료               기능성음료        한방음료              \n",
       "29   출산/육아용품      수유/이유용품     젖병소독/건조용품     \n",
       "30   가구               주방가구          식탁                  \n",
       "...  ...                ...               ...                   \n",
       "5147 화장품/뷰티케어    메이크업          립스틱/립라이너       \n",
       "5148 화장품/뷰티케어    향수              여성향수              \n",
       "5149 화장품/뷰티케어    메이크업          마스카라              \n",
       "5150 화장품/뷰티케어    향수              남성향수              \n",
       "5151 화장품/뷰티케어    향수              남성향수              \n",
       "5152 화장품/뷰티케어    향수              남성향수              \n",
       "5153 컴퓨터             컴퓨터주변기기    PC부품                \n",
       "5154 주방잡화           조리도구          기타조리도구          \n",
       "5155 청소/세탁/욕실용품 욕실용품          욕실수납용품          \n",
       "5156 패션잡화           여성화            여성펌프스            \n",
       "5157 청소/세탁/욕실용품 욕실용품          욕실소품              \n",
       "5158 출산/육아용품      수유/이유용품     출산/신생아용품세트   \n",
       "5159 세제/위생          화장지/티슈       물티슈                \n",
       "5160 세제/위생          화장지/티슈       물티슈                \n",
       "5161 화장품/뷰티케어    스킨케어          스킨케어세트          \n",
       "5162 시즌스포츠         수영/물놀이       아동수영복            \n",
       "5163 생활/주방가전      주방가전          커피머신              \n",
       "5164 건강식품           건강보조식품      다이어트보조식품      \n",
       "5165 침구/수예          성인침구          성인침구속통/솜       \n",
       "5166 시즌스포츠         수영/물놀이       아쿠아슈즈            \n",
       "5167 패션잡화           여성화            여성펌프스            \n",
       "5168 화장품/뷰티케어    스킨케어          에센스/세럼           \n",
       "5169 가구               침실가구          침대                  \n",
       "5170 아웃도어/레저      캠핑              야외용돗자리          \n",
       "5171 출산/육아용품      유아발육용품      붕붕카/스프링카/흔들말\n",
       "5172 퍼스널케어         구강케어          치약                  \n",
       "5173 출산/육아용품      유아발육용품      아기띠/캐리어         \n",
       "5174 퍼스널케어         구강케어          칫솔                  \n",
       "5175 음료               기능성음료        한방음료              \n",
       "5176 가구               수납가구          서랍장/수납장         "
      ]
     },
     "metadata": {},
     "output_type": "display_data"
    }
   ],
   "source": [
    "product_session_master  %>% filter(HITS_SEQ==1)"
   ]
  },
  {
   "cell_type": "code",
   "execution_count": 53,
   "metadata": {
    "scrolled": true
   },
   "outputs": [
    {
     "data": {
      "text/html": [
       "5176"
      ],
      "text/latex": [
       "5176"
      ],
      "text/markdown": [
       "5176"
      ],
      "text/plain": [
       "[1] 5176"
      ]
     },
     "metadata": {},
     "output_type": "display_data"
    }
   ],
   "source": [
    "sum(product_session_master$HITS_SEQ==1)#이상치 개수 확인"
   ]
  },
  {
   "cell_type": "code",
   "execution_count": 54,
   "metadata": {},
   "outputs": [
    {
     "data": {
      "text/html": [
       "<table>\n",
       "<thead><tr><th scope=col>n</th></tr></thead>\n",
       "<tbody>\n",
       "\t<tr><td>3224</td></tr>\n",
       "</tbody>\n",
       "</table>\n"
      ],
      "text/latex": [
       "\\begin{tabular}{r|l}\n",
       " n\\\\\n",
       "\\hline\n",
       "\t 3224\\\\\n",
       "\\end{tabular}\n"
      ],
      "text/markdown": [
       "\n",
       "n | \n",
       "|---|\n",
       "| 3224 | \n",
       "\n",
       "\n"
      ],
      "text/plain": [
       "  n   \n",
       "1 3224"
      ]
     },
     "metadata": {},
     "output_type": "display_data"
    }
   ],
   "source": [
    "product_session_master  %>% filter(HITS_SEQ==1)  %>% filter(TOT_SESS_HR_V==0)  %>% summarise(n=n())"
   ]
  },
  {
   "cell_type": "code",
   "execution_count": 55,
   "metadata": {},
   "outputs": [
    {
     "data": {
      "text/html": [
       "0.622874806800618"
      ],
      "text/latex": [
       "0.622874806800618"
      ],
      "text/markdown": [
       "0.622874806800618"
      ],
      "text/plain": [
       "[1] 0.6228748"
      ]
     },
     "metadata": {},
     "output_type": "display_data"
    }
   ],
   "source": [
    "3224/5176"
   ]
  },
  {
   "cell_type": "markdown",
   "metadata": {},
   "source": [
    "상품을 구매한 정보가 담긴 product_session_master내 HITS_SEQ=1은 논리적으로 존재할 수 없다고 판단되며, \n",
    "\n",
    "HITS_SEQ가 1일떄의 SESS_HR_V의 값이 0인 행들이 62%이상이다. 여기서의 0은 원자료 session테이블 내 결측값이었던 자료이다.\n",
    "\n",
    "또한 이상치 비율이 0.01%의 정도로 테이블 내 이상치를 삭제하는 것이 옳다고 판단"
   ]
  },
  {
   "cell_type": "code",
   "execution_count": 56,
   "metadata": {},
   "outputs": [],
   "source": [
    "product_session_master=product_session_master %>% filter(HITS_SEQ!=1) #이상치 삭제"
   ]
  },
  {
   "cell_type": "markdown",
   "metadata": {},
   "source": [
    "# Custom\n",
    "### 회원(Custom) : 분석기간 내 온라인에서 상품을 구매한 방문자의 성별/연령 정보 (단, 미상 정보 등은 제외됨)"
   ]
  },
  {
   "cell_type": "code",
   "execution_count": 57,
   "metadata": {},
   "outputs": [
    {
     "data": {
      "text/html": [
       "<table>\n",
       "<thead><tr><th scope=col>CLNT_ID</th><th scope=col>CLNT_GENDER</th><th scope=col>CLNT_AGE</th></tr></thead>\n",
       "<tbody>\n",
       "\t<tr><td>4830726</td><td>F      </td><td>30     </td></tr>\n",
       "\t<tr><td>4830874</td><td>F      </td><td>40     </td></tr>\n",
       "\t<tr><td>4830975</td><td>F      </td><td>30     </td></tr>\n",
       "\t<tr><td>4831275</td><td>F      </td><td>30     </td></tr>\n",
       "\t<tr><td>4825325</td><td>F      </td><td>30     </td></tr>\n",
       "\t<tr><td>4825382</td><td>F      </td><td>40     </td></tr>\n",
       "</tbody>\n",
       "</table>\n"
      ],
      "text/latex": [
       "\\begin{tabular}{r|lll}\n",
       " CLNT\\_ID & CLNT\\_GENDER & CLNT\\_AGE\\\\\n",
       "\\hline\n",
       "\t 4830726 & F       & 30     \\\\\n",
       "\t 4830874 & F       & 40     \\\\\n",
       "\t 4830975 & F       & 30     \\\\\n",
       "\t 4831275 & F       & 30     \\\\\n",
       "\t 4825325 & F       & 30     \\\\\n",
       "\t 4825382 & F       & 40     \\\\\n",
       "\\end{tabular}\n"
      ],
      "text/markdown": [
       "\n",
       "CLNT_ID | CLNT_GENDER | CLNT_AGE | \n",
       "|---|---|---|---|---|---|\n",
       "| 4830726 | F       | 30      | \n",
       "| 4830874 | F       | 40      | \n",
       "| 4830975 | F       | 30      | \n",
       "| 4831275 | F       | 30      | \n",
       "| 4825325 | F       | 30      | \n",
       "| 4825382 | F       | 40      | \n",
       "\n",
       "\n"
      ],
      "text/plain": [
       "  CLNT_ID CLNT_GENDER CLNT_AGE\n",
       "1 4830726 F           30      \n",
       "2 4830874 F           40      \n",
       "3 4830975 F           30      \n",
       "4 4831275 F           30      \n",
       "5 4825325 F           30      \n",
       "6 4825382 F           40      "
      ]
     },
     "metadata": {},
     "output_type": "display_data"
    }
   ],
   "source": [
    "head(custom)"
   ]
  },
  {
   "cell_type": "code",
   "execution_count": 58,
   "metadata": {},
   "outputs": [
    {
     "data": {
      "text/html": [
       "<table>\n",
       "<thead><tr><th scope=col>CLNT_ID</th><th scope=col>CLNT_GENDER</th><th scope=col>CLNT_AGE</th></tr></thead>\n",
       "<tbody>\n",
       "</tbody>\n",
       "</table>\n"
      ],
      "text/latex": [
       "\\begin{tabular}{r|lll}\n",
       " CLNT\\_ID & CLNT\\_GENDER & CLNT\\_AGE\\\\\n",
       "\\hline\n",
       "\\end{tabular}\n"
      ],
      "text/markdown": [
       "\n",
       "CLNT_ID | CLNT_GENDER | CLNT_AGE | \n",
       "||\n",
       "\n",
       "\n"
      ],
      "text/plain": [
       "     CLNT_ID CLNT_GENDER CLNT_AGE"
      ]
     },
     "metadata": {},
     "output_type": "display_data"
    }
   ],
   "source": [
    "custom  %>% filter(CLNT_ID==58627)"
   ]
  },
  {
   "cell_type": "code",
   "execution_count": 59,
   "metadata": {},
   "outputs": [
    {
     "name": "stdout",
     "output_type": "stream",
     "text": [
      "Classes 'data.table' and 'data.frame':\t671679 obs. of  3 variables:\n",
      " $ CLNT_ID    : int  4830726 4830874 4830975 4831275 4825325 4825382 4825797 4825908 4825961 4840532 ...\n",
      " $ CLNT_GENDER: chr  \"F\" \"F\" \"F\" \"F\" ...\n",
      " $ CLNT_AGE   : int  30 40 30 30 30 40 40 30 30 40 ...\n",
      " - attr(*, \".internal.selfref\")=<externalptr> \n"
     ]
    }
   ],
   "source": [
    "str(custom)"
   ]
  },
  {
   "cell_type": "code",
   "execution_count": 60,
   "metadata": {},
   "outputs": [
    {
     "data": {
      "text/html": [
       "<dl class=dl-horizontal>\n",
       "\t<dt>CLNT_ID</dt>\n",
       "\t\t<dd>0</dd>\n",
       "\t<dt>CLNT_GENDER</dt>\n",
       "\t\t<dd>0</dd>\n",
       "\t<dt>CLNT_AGE</dt>\n",
       "\t\t<dd>0</dd>\n",
       "</dl>\n"
      ],
      "text/latex": [
       "\\begin{description*}\n",
       "\\item[CLNT\\textbackslash{}\\_ID] 0\n",
       "\\item[CLNT\\textbackslash{}\\_GENDER] 0\n",
       "\\item[CLNT\\textbackslash{}\\_AGE] 0\n",
       "\\end{description*}\n"
      ],
      "text/markdown": [
       "CLNT_ID\n",
       ":   0CLNT_GENDER\n",
       ":   0CLNT_AGE\n",
       ":   0\n",
       "\n"
      ],
      "text/plain": [
       "    CLNT_ID CLNT_GENDER    CLNT_AGE \n",
       "          0           0           0 "
      ]
     },
     "metadata": {},
     "output_type": "display_data"
    }
   ],
   "source": [
    "colSums(is.na(custom))"
   ]
  },
  {
   "cell_type": "code",
   "execution_count": 61,
   "metadata": {},
   "outputs": [
    {
     "data": {
      "text/html": [
       "1"
      ],
      "text/latex": [
       "1"
      ],
      "text/markdown": [
       "1"
      ],
      "text/plain": [
       "[1] 1"
      ]
     },
     "metadata": {},
     "output_type": "display_data"
    }
   ],
   "source": [
    "length(unique(custom$CLNT_ID)) / nrow(custom) #CLNT_ID 중복이 있는지 확인"
   ]
  },
  {
   "cell_type": "code",
   "execution_count": 62,
   "metadata": {},
   "outputs": [
    {
     "data": {
      "text/html": [
       "671679"
      ],
      "text/latex": [
       "671679"
      ],
      "text/markdown": [
       "671679"
      ],
      "text/plain": [
       "[1] 671679"
      ]
     },
     "metadata": {},
     "output_type": "display_data"
    }
   ],
   "source": [
    "length(unique(custom$CLNT_ID))"
   ]
  },
  {
   "cell_type": "code",
   "execution_count": 63,
   "metadata": {},
   "outputs": [
    {
     "data": {
      "text/html": [
       "<table>\n",
       "<thead><tr><th scope=col>CLNT_GENDER</th><th scope=col>N</th></tr></thead>\n",
       "<tbody>\n",
       "\t<tr><td>F     </td><td>570616</td></tr>\n",
       "\t<tr><td>M     </td><td>101063</td></tr>\n",
       "</tbody>\n",
       "</table>\n"
      ],
      "text/latex": [
       "\\begin{tabular}{r|ll}\n",
       " CLNT\\_GENDER & N\\\\\n",
       "\\hline\n",
       "\t F      & 570616\\\\\n",
       "\t M      & 101063\\\\\n",
       "\\end{tabular}\n"
      ],
      "text/markdown": [
       "\n",
       "CLNT_GENDER | N | \n",
       "|---|---|\n",
       "| F      | 570616 | \n",
       "| M      | 101063 | \n",
       "\n",
       "\n"
      ],
      "text/plain": [
       "  CLNT_GENDER N     \n",
       "1 F           570616\n",
       "2 M           101063"
      ]
     },
     "metadata": {},
     "output_type": "display_data"
    },
    {
     "data": {},
     "metadata": {},
     "output_type": "display_data"
    },
    {
     "data": {
      "image/png": "[encoded data removed]",
      "text/plain": [
       "plot without title"
      ]
     },
     "metadata": {},
     "output_type": "display_data"
    }
   ],
   "source": [
    "custom[, .N, by = CLNT_GENDER]\n",
    "ggplot(custom, aes(x=factor(CLNT_GENDER))) + geom_bar()"
   ]
  },
  {
   "cell_type": "code",
   "execution_count": 64,
   "metadata": {},
   "outputs": [
    {
     "data": {
      "text/html": [
       "<table>\n",
       "<thead><tr><th scope=col>CLNT_AGE</th><th scope=col>N</th></tr></thead>\n",
       "<tbody>\n",
       "\t<tr><td>30    </td><td>313600</td></tr>\n",
       "\t<tr><td>40    </td><td>216217</td></tr>\n",
       "\t<tr><td>20    </td><td> 95297</td></tr>\n",
       "\t<tr><td>50    </td><td> 36624</td></tr>\n",
       "\t<tr><td>60    </td><td>  5256</td></tr>\n",
       "\t<tr><td>10    </td><td>  3807</td></tr>\n",
       "\t<tr><td>70    </td><td>   846</td></tr>\n",
       "\t<tr><td>80    </td><td>    32</td></tr>\n",
       "</tbody>\n",
       "</table>\n"
      ],
      "text/latex": [
       "\\begin{tabular}{r|ll}\n",
       " CLNT\\_AGE & N\\\\\n",
       "\\hline\n",
       "\t 30     & 313600\\\\\n",
       "\t 40     & 216217\\\\\n",
       "\t 20     &  95297\\\\\n",
       "\t 50     &  36624\\\\\n",
       "\t 60     &   5256\\\\\n",
       "\t 10     &   3807\\\\\n",
       "\t 70     &    846\\\\\n",
       "\t 80     &     32\\\\\n",
       "\\end{tabular}\n"
      ],
      "text/markdown": [
       "\n",
       "CLNT_AGE | N | \n",
       "|---|---|---|---|---|---|---|---|\n",
       "| 30     | 313600 | \n",
       "| 40     | 216217 | \n",
       "| 20     |  95297 | \n",
       "| 50     |  36624 | \n",
       "| 60     |   5256 | \n",
       "| 10     |   3807 | \n",
       "| 70     |    846 | \n",
       "| 80     |     32 | \n",
       "\n",
       "\n"
      ],
      "text/plain": [
       "  CLNT_AGE N     \n",
       "1 30       313600\n",
       "2 40       216217\n",
       "3 20        95297\n",
       "4 50        36624\n",
       "5 60         5256\n",
       "6 10         3807\n",
       "7 70          846\n",
       "8 80           32"
      ]
     },
     "metadata": {},
     "output_type": "display_data"
    },
    {
     "data": {},
     "metadata": {},
     "output_type": "display_data"
    },
    {
     "data": {
      "image/png": "[encoded data removed]",
      "text/plain": [
       "plot without title"
      ]
     },
     "metadata": {},
     "output_type": "display_data"
    }
   ],
   "source": [
    "custom[, .N, by = CLNT_AGE]  %>%  arrange(desc(N))\n",
    "ggplot(custom, aes(x=factor(CLNT_AGE))) + geom_bar()"
   ]
  },
  {
   "cell_type": "markdown",
   "metadata": {},
   "source": [
    "구매자의 성별,연령을 알기 위해 Custom을 merge\n",
    "\n",
    "product_session_master테이블 내 CLNT_ID가 Custom의 CLNT_ID에 안속하는지 확인을 해보았을 떄 속하지 않은것은 없었음\n",
    "\n",
    "따라서 merge했을 때 큰 무리가 없다고 판단"
   ]
  },
  {
   "cell_type": "code",
   "execution_count": 65,
   "metadata": {},
   "outputs": [],
   "source": [
    "all_product=merge(product_session_master,custom,by='CLNT_ID',all.x=TRUE)"
   ]
  },
  {
   "cell_type": "code",
   "execution_count": 66,
   "metadata": {},
   "outputs": [
    {
     "name": "stdout",
     "output_type": "stream",
     "text": [
      "'data.frame':\t5019730 obs. of  21 variables:\n",
      " $ CLNT_ID        : int  8 8 14 14 25 25 25 25 32 32 ...\n",
      " $ PD_C           : int  206218 206218 369141 645262 715072 715121 598634 715121 38697 31982 ...\n",
      " $ SESS_ID        : int  7017688 6964877 1156991 1156991 6059256 9506206 5317297 8113243 1136737 759569 ...\n",
      " $ HITS_SEQ       : int  74 40 284 284 8 11 8 9 72 37 ...\n",
      " $ PD_ADD_NM      : chr  \"색상:BLACK|사이즈:ONE SIZE / 1개\" \"색상:BLACK|사이즈:ONE SIZE / 1개\" \"색상:LL2G16216RGB|사이즈:FREE / 1개\" \"색상:LL1G14817AIN|사이즈:FREE / 1개\" ...\n",
      " $ PD_BRA_NM      : chr  \"플라넷비\" \"플라넷비\" \"로이드\" \"로이드주얼리\" ...\n",
      " $ PD_BUY_AM      : num  38000 38000 39900 29900 47000 92000 39800 92000 30000 9900 ...\n",
      " $ PD_BUY_CT      : num  1 1 1 1 1 1 1 1 1 1 ...\n",
      " $ SESS_SEQ       : int  2 7 5 5 204 111 213 160 99 105 ...\n",
      " $ SESS_DT        : int  20180605 20180606 20180911 20180911 20180621 20180425 20180703 20180518 20180911 20180917 ...\n",
      " $ TOT_PAG_VIEW_CT: num  55 38 256 256 7 12 33 28 81 124 ...\n",
      " $ TOT_SESS_HR_V  : num  468 366 7098 7098 99 ...\n",
      " $ DVC_CTG_NM     : chr  \"mobile\" \"mobile\" \"mobile\" \"mobile\" ...\n",
      " $ ZON_NM         : chr  \"Seoul\" \"Gyeonggi-do\" \"Gyeonggi-do\" \"Gyeonggi-do\" ...\n",
      " $ CITY_NM        : chr  \"Seoul\" \"Gwangmyeong-si\" \"Ansan-si\" \"Ansan-si\" ...\n",
      " $ PD_NM          : chr  \"남녀공용 오베이 DROP OUT UTILITY SMALL BAG(100010095) - BLACK / ONE SIZE\" \"남녀공용 오베이 DROP OUT UTILITY SMALL BAG(100010095) - BLACK / ONE SIZE\" \"여성가죽시계 LL2G16216RGB - LL2G16216RGB / FREE\" \"남성가죽시계 LL1G14817AIN - LL1G14817AIN / FREE\" ...\n",
      " $ CLAC1_NM       : chr  \"패션잡화\" \"패션잡화\" \"패션잡화\" \"패션잡화\" ...\n",
      " $ CLAC2_NM       : chr  \"여성가방\" \"여성가방\" \"시계\" \"시계\" ...\n",
      " $ CLAC3_NM       : chr  \"여성클러치백\" \"여성클러치백\" \"여성시계\" \"여성시계\" ...\n",
      " $ CLNT_GENDER    : chr  \"M\" \"M\" \"F\" \"F\" ...\n",
      " $ CLNT_AGE       : int  20 20 30 30 NA NA NA NA 40 40 ...\n"
     ]
    },
    {
     "data": {
      "text/html": [
       "<dl class=dl-horizontal>\n",
       "\t<dt>CLNT_ID</dt>\n",
       "\t\t<dd>0</dd>\n",
       "\t<dt>PD_C</dt>\n",
       "\t\t<dd>0</dd>\n",
       "\t<dt>SESS_ID</dt>\n",
       "\t\t<dd>0</dd>\n",
       "\t<dt>HITS_SEQ</dt>\n",
       "\t\t<dd>0</dd>\n",
       "\t<dt>PD_ADD_NM</dt>\n",
       "\t\t<dd>0</dd>\n",
       "\t<dt>PD_BRA_NM</dt>\n",
       "\t\t<dd>0</dd>\n",
       "\t<dt>PD_BUY_AM</dt>\n",
       "\t\t<dd>0</dd>\n",
       "\t<dt>PD_BUY_CT</dt>\n",
       "\t\t<dd>0</dd>\n",
       "\t<dt>SESS_SEQ</dt>\n",
       "\t\t<dd>0</dd>\n",
       "\t<dt>SESS_DT</dt>\n",
       "\t\t<dd>0</dd>\n",
       "\t<dt>TOT_PAG_VIEW_CT</dt>\n",
       "\t\t<dd>0</dd>\n",
       "\t<dt>TOT_SESS_HR_V</dt>\n",
       "\t\t<dd>0</dd>\n",
       "\t<dt>DVC_CTG_NM</dt>\n",
       "\t\t<dd>0</dd>\n",
       "\t<dt>ZON_NM</dt>\n",
       "\t\t<dd>0</dd>\n",
       "\t<dt>CITY_NM</dt>\n",
       "\t\t<dd>0</dd>\n",
       "\t<dt>PD_NM</dt>\n",
       "\t\t<dd>0</dd>\n",
       "\t<dt>CLAC1_NM</dt>\n",
       "\t\t<dd>0</dd>\n",
       "\t<dt>CLAC2_NM</dt>\n",
       "\t\t<dd>0</dd>\n",
       "\t<dt>CLAC3_NM</dt>\n",
       "\t\t<dd>0</dd>\n",
       "\t<dt>CLNT_GENDER</dt>\n",
       "\t\t<dd>1035893</dd>\n",
       "\t<dt>CLNT_AGE</dt>\n",
       "\t\t<dd>1035893</dd>\n",
       "</dl>\n"
      ],
      "text/latex": [
       "\\begin{description*}\n",
       "\\item[CLNT\\textbackslash{}\\_ID] 0\n",
       "\\item[PD\\textbackslash{}\\_C] 0\n",
       "\\item[SESS\\textbackslash{}\\_ID] 0\n",
       "\\item[HITS\\textbackslash{}\\_SEQ] 0\n",
       "\\item[PD\\textbackslash{}\\_ADD\\textbackslash{}\\_NM] 0\n",
       "\\item[PD\\textbackslash{}\\_BRA\\textbackslash{}\\_NM] 0\n",
       "\\item[PD\\textbackslash{}\\_BUY\\textbackslash{}\\_AM] 0\n",
       "\\item[PD\\textbackslash{}\\_BUY\\textbackslash{}\\_CT] 0\n",
       "\\item[SESS\\textbackslash{}\\_SEQ] 0\n",
       "\\item[SESS\\textbackslash{}\\_DT] 0\n",
       "\\item[TOT\\textbackslash{}\\_PAG\\textbackslash{}\\_VIEW\\textbackslash{}\\_CT] 0\n",
       "\\item[TOT\\textbackslash{}\\_SESS\\textbackslash{}\\_HR\\textbackslash{}\\_V] 0\n",
       "\\item[DVC\\textbackslash{}\\_CTG\\textbackslash{}\\_NM] 0\n",
       "\\item[ZON\\textbackslash{}\\_NM] 0\n",
       "\\item[CITY\\textbackslash{}\\_NM] 0\n",
       "\\item[PD\\textbackslash{}\\_NM] 0\n",
       "\\item[CLAC1\\textbackslash{}\\_NM] 0\n",
       "\\item[CLAC2\\textbackslash{}\\_NM] 0\n",
       "\\item[CLAC3\\textbackslash{}\\_NM] 0\n",
       "\\item[CLNT\\textbackslash{}\\_GENDER] 1035893\n",
       "\\item[CLNT\\textbackslash{}\\_AGE] 1035893\n",
       "\\end{description*}\n"
      ],
      "text/markdown": [
       "CLNT_ID\n",
       ":   0PD_C\n",
       ":   0SESS_ID\n",
       ":   0HITS_SEQ\n",
       ":   0PD_ADD_NM\n",
       ":   0PD_BRA_NM\n",
       ":   0PD_BUY_AM\n",
       ":   0PD_BUY_CT\n",
       ":   0SESS_SEQ\n",
       ":   0SESS_DT\n",
       ":   0TOT_PAG_VIEW_CT\n",
       ":   0TOT_SESS_HR_V\n",
       ":   0DVC_CTG_NM\n",
       ":   0ZON_NM\n",
       ":   0CITY_NM\n",
       ":   0PD_NM\n",
       ":   0CLAC1_NM\n",
       ":   0CLAC2_NM\n",
       ":   0CLAC3_NM\n",
       ":   0CLNT_GENDER\n",
       ":   1035893CLNT_AGE\n",
       ":   1035893\n",
       "\n"
      ],
      "text/plain": [
       "        CLNT_ID            PD_C         SESS_ID        HITS_SEQ       PD_ADD_NM \n",
       "              0               0               0               0               0 \n",
       "      PD_BRA_NM       PD_BUY_AM       PD_BUY_CT        SESS_SEQ         SESS_DT \n",
       "              0               0               0               0               0 \n",
       "TOT_PAG_VIEW_CT   TOT_SESS_HR_V      DVC_CTG_NM          ZON_NM         CITY_NM \n",
       "              0               0               0               0               0 \n",
       "          PD_NM        CLAC1_NM        CLAC2_NM        CLAC3_NM     CLNT_GENDER \n",
       "              0               0               0               0         1035893 \n",
       "       CLNT_AGE \n",
       "        1035893 "
      ]
     },
     "metadata": {},
     "output_type": "display_data"
    }
   ],
   "source": [
    "str(all_product)\n",
    "colSums(is.na(all_product))"
   ]
  },
  {
   "cell_type": "code",
   "execution_count": 67,
   "metadata": {},
   "outputs": [
    {
     "data": {
      "text/html": [
       "922618"
      ],
      "text/latex": [
       "922618"
      ],
      "text/markdown": [
       "922618"
      ],
      "text/plain": [
       "[1] 922618"
      ]
     },
     "metadata": {},
     "output_type": "display_data"
    }
   ],
   "source": [
    "length(unique(all_product$CLNT_ID))"
   ]
  },
  {
   "cell_type": "markdown",
   "metadata": {},
   "source": [
    "custom CLNT ID개수 671679개\n",
    "\n",
    "all_product 고유한 CLNT_ID의 개수 922618개\n",
    "\n",
    "250939개는 한명의 사람이 다른 CLNT_ID로\n",
    "\n",
    "이미 회원가입을 했다는 것을 알 수 있음\n",
    "\n",
    "결측값 1035893개는 다른 CLNT_ID로 회원가입을 한 사람이 구매했다는 것을 방증"
   ]
  },
  {
   "cell_type": "code",
   "execution_count": 68,
   "metadata": {},
   "outputs": [
    {
     "data": {
      "text/html": [
       "847609"
      ],
      "text/latex": [
       "847609"
      ],
      "text/markdown": [
       "847609"
      ],
      "text/plain": [
       "[1] 847609"
      ]
     },
     "metadata": {},
     "output_type": "display_data"
    }
   ],
   "source": [
    "length(unique(all_product$PD_C))"
   ]
  },
  {
   "cell_type": "code",
   "execution_count": 69,
   "metadata": {},
   "outputs": [],
   "source": [
    "fwrite(all_product,file=\"all_product.csv\")"
   ]
  },
  {
   "cell_type": "markdown",
   "metadata": {},
   "source": [
    "# Search1\n",
    "### 검색어1(Search1) : 분석기간 내 온라인에서 상품을 구매한 방문자가 검색한 검색어의 검색량"
   ]
  },
  {
   "cell_type": "code",
   "execution_count": 70,
   "metadata": {},
   "outputs": [
    {
     "data": {
      "text/html": [
       "<table>\n",
       "<thead><tr><th scope=col>CLNT_ID</th><th scope=col>SESS_ID</th><th scope=col>KWD_NM</th><th scope=col>SEARCH_CNT</th></tr></thead>\n",
       "<tbody>\n",
       "\t<tr><td>5607714           </td><td>7112876           </td><td>빌리프 아이크림   </td><td>6                 </td></tr>\n",
       "\t<tr><td>5607714           </td><td>4090791           </td><td>프리메라 마스크팩 </td><td>3                 </td></tr>\n",
       "\t<tr><td>5607714           </td><td>4090791           </td><td>여성청결제        </td><td>1                 </td></tr>\n",
       "\t<tr><td>5612428           </td><td>1876482           </td><td>명품가방          </td><td>1                 </td></tr>\n",
       "\t<tr><td>5612428           </td><td> 658123           </td><td>콩순이 아이스크림 </td><td>1                 </td></tr>\n",
       "\t<tr><td>5612428           </td><td>1876482           </td><td>블루독 티셔츠 남아</td><td>1                 </td></tr>\n",
       "</tbody>\n",
       "</table>\n"
      ],
      "text/latex": [
       "\\begin{tabular}{r|llll}\n",
       " CLNT\\_ID & SESS\\_ID & KWD\\_NM & SEARCH\\_CNT\\\\\n",
       "\\hline\n",
       "\t 5607714            & 7112876            & 빌리프 아이크림    & 6                 \\\\\n",
       "\t 5607714            & 4090791            & 프리메라 마스크팩  & 3                 \\\\\n",
       "\t 5607714            & 4090791            & 여성청결제         & 1                 \\\\\n",
       "\t 5612428            & 1876482            & 명품가방           & 1                 \\\\\n",
       "\t 5612428            &  658123            & 콩순이 아이스크림  & 1                 \\\\\n",
       "\t 5612428            & 1876482            & 블루독 티셔츠 남아 & 1                 \\\\\n",
       "\\end{tabular}\n"
      ],
      "text/markdown": [
       "\n",
       "CLNT_ID | SESS_ID | KWD_NM | SEARCH_CNT | \n",
       "|---|---|---|---|---|---|\n",
       "| 5607714            | 7112876            | 빌리프 아이크림    | 6                  | \n",
       "| 5607714            | 4090791            | 프리메라 마스크팩  | 3                  | \n",
       "| 5607714            | 4090791            | 여성청결제         | 1                  | \n",
       "| 5612428            | 1876482            | 명품가방           | 1                  | \n",
       "| 5612428            |  658123            | 콩순이 아이스크림  | 1                  | \n",
       "| 5612428            | 1876482            | 블루독 티셔츠 남아 | 1                  | \n",
       "\n",
       "\n"
      ],
      "text/plain": [
       "  CLNT_ID SESS_ID KWD_NM             SEARCH_CNT\n",
       "1 5607714 7112876 빌리프 아이크림    6         \n",
       "2 5607714 4090791 프리메라 마스크팩  3         \n",
       "3 5607714 4090791 여성청결제         1         \n",
       "4 5612428 1876482 명품가방           1         \n",
       "5 5612428  658123 콩순이 아이스크림  1         \n",
       "6 5612428 1876482 블루독 티셔츠 남아 1         "
      ]
     },
     "metadata": {},
     "output_type": "display_data"
    }
   ],
   "source": [
    "head(search1)"
   ]
  },
  {
   "cell_type": "code",
   "execution_count": 71,
   "metadata": {},
   "outputs": [
    {
     "name": "stdout",
     "output_type": "stream",
     "text": [
      "Classes 'data.table' and 'data.frame':\t2884943 obs. of  4 variables:\n",
      " $ CLNT_ID   : int  5607714 5607714 5607714 5612428 5612428 5612428 5612471 5612471 5613055 5613055 ...\n",
      " $ SESS_ID   : int  7112876 4090791 4090791 1876482 658123 1876482 8539312 8539312 8510027 8510027 ...\n",
      " $ KWD_NM    : chr  \"빌리프 아이크림\" \"프리메라 마스크팩\" \"여성청결제\" \"명품가방\" ...\n",
      " $ SEARCH_CNT: int  6 3 1 1 1 1 1 1 2 1 ...\n",
      " - attr(*, \".internal.selfref\")=<externalptr> \n"
     ]
    }
   ],
   "source": [
    "str(search1)"
   ]
  },
  {
   "cell_type": "code",
   "execution_count": 72,
   "metadata": {
    "scrolled": true
   },
   "outputs": [
    {
     "data": {
      "text/html": [
       "<ol class=list-inline>\n",
       "\t<li>'ㅋ'</li>\n",
       "\t<li>'ㅅ'</li>\n",
       "\t<li>'ㄷ'</li>\n",
       "\t<li>'ㄱ'</li>\n",
       "\t<li>'ㄷ'</li>\n",
       "\t<li>'ㅂ'</li>\n",
       "</ol>\n"
      ],
      "text/latex": [
       "\\begin{enumerate*}\n",
       "\\item 'ㅋ'\n",
       "\\item 'ㅅ'\n",
       "\\item 'ㄷ'\n",
       "\\item 'ㄱ'\n",
       "\\item 'ㄷ'\n",
       "\\item 'ㅂ'\n",
       "\\end{enumerate*}\n"
      ],
      "text/markdown": [
       "1. 'ㅋ'\n",
       "2. 'ㅅ'\n",
       "3. 'ㄷ'\n",
       "4. 'ㄱ'\n",
       "5. 'ㄷ'\n",
       "6. 'ㅂ'\n",
       "\n",
       "\n"
      ],
      "text/plain": [
       "[1] \"ㅋ\" \"ㅅ\" \"ㄷ\" \"ㄱ\" \"ㄷ\" \"ㅂ\""
      ]
     },
     "metadata": {},
     "output_type": "display_data"
    },
    {
     "data": {
      "text/html": [
       "<ol class=list-inline>\n",
       "\t<li>'h'</li>\n",
       "\t<li>'h'</li>\n",
       "\t<li>'g'</li>\n",
       "\t<li>'h'</li>\n",
       "\t<li>'h'</li>\n",
       "\t<li>'h'</li>\n",
       "</ol>\n"
      ],
      "text/latex": [
       "\\begin{enumerate*}\n",
       "\\item 'h'\n",
       "\\item 'h'\n",
       "\\item 'g'\n",
       "\\item 'h'\n",
       "\\item 'h'\n",
       "\\item 'h'\n",
       "\\end{enumerate*}\n"
      ],
      "text/markdown": [
       "1. 'h'\n",
       "2. 'h'\n",
       "3. 'g'\n",
       "4. 'h'\n",
       "5. 'h'\n",
       "6. 'h'\n",
       "\n",
       "\n"
      ],
      "text/plain": [
       "[1] \"h\" \"h\" \"g\" \"h\" \"h\" \"h\""
      ]
     },
     "metadata": {},
     "output_type": "display_data"
    },
    {
     "data": {
      "text/html": [
       "<ol class=list-inline>\n",
       "\t<li>'240'</li>\n",
       "\t<li>'240'</li>\n",
       "\t<li>'418506'</li>\n",
       "\t<li>'418507'</li>\n",
       "\t<li>'418505'</li>\n",
       "\t<li>'718834'</li>\n",
       "</ol>\n"
      ],
      "text/latex": [
       "\\begin{enumerate*}\n",
       "\\item '240'\n",
       "\\item '240'\n",
       "\\item '418506'\n",
       "\\item '418507'\n",
       "\\item '418505'\n",
       "\\item '718834'\n",
       "\\end{enumerate*}\n"
      ],
      "text/markdown": [
       "1. '240'\n",
       "2. '240'\n",
       "3. '418506'\n",
       "4. '418507'\n",
       "5. '418505'\n",
       "6. '718834'\n",
       "\n",
       "\n"
      ],
      "text/plain": [
       "[1] \"240\"    \"240\"    \"418506\" \"418507\" \"418505\" \"718834\""
      ]
     },
     "metadata": {},
     "output_type": "display_data"
    }
   ],
   "source": [
    "a=grep(\"[ㄱ-ㅣ+]\",search1$KWD_NM,value=T) \n",
    "b=grep(\"^[a-z]$\",search1$KWD_NM,value=T) \n",
    "c=grep(\"^\\\\d+$\",search1$KWD_NM,value=T)\n",
    "head(a)\n",
    "head(b)\n",
    "head(c)"
   ]
  },
  {
   "cell_type": "code",
   "execution_count": 73,
   "metadata": {},
   "outputs": [],
   "source": [
    "#이상치 처리\n",
    "library(stringr)\n",
    "search1$KWD_NM<-str_to_lower(search1$KWD_NM) #영문자들을 소문자로 변환\n",
    "search1$KWD_NM<-gsub(\"[[:space:]]\",\"\",search1$KWD_NM) #키워드 간 공백 제거\n",
    "search1$KWD_NM<-gsub(\"[[:punct:]]\",\"\",search1$KWD_NM) #특수문자 제거\n",
    "search1$KWD_NM<-gsub(\"[ㄱ-ㅣ+]\",\"\",search1$KWD_NM) #한글 자음 처리\n",
    "search1$KWD_NM<-gsub(\"^[a-z]$\",\"\",search1$KWD_NM) #소문자 처리\n",
    "search1$KWD_NM<-gsub(\"^\\\\d+$\",\"\",search1$KWD_NM) #단순 숫자 처리\n",
    "search1$KWD_NM<-str_trim(search1$KWD_NM,side=\"both\") #키워드 내 공백 제거"
   ]
  },
  {
   "cell_type": "code",
   "execution_count": 74,
   "metadata": {},
   "outputs": [],
   "source": [
    "new_search1= search1 %>% mutate( KWD_CHR=apply(search1,2,nchar)[,3] ) #키워드에 따른 문자 개수를 살펴보자"
   ]
  },
  {
   "cell_type": "code",
   "execution_count": 75,
   "metadata": {},
   "outputs": [
    {
     "data": {
      "text/html": [
       "<table>\n",
       "<thead><tr><th scope=col>CLNT_ID</th><th scope=col>SESS_ID</th><th scope=col>KWD_NM</th><th scope=col>SEARCH_CNT</th><th scope=col>KWD_CHR</th></tr></thead>\n",
       "<tbody>\n",
       "\t<tr><td>5607714         </td><td>7112876         </td><td>빌리프아이크림  </td><td>6               </td><td>7               </td></tr>\n",
       "\t<tr><td>5607714         </td><td>4090791         </td><td>프리메라마스크팩</td><td>3               </td><td>8               </td></tr>\n",
       "\t<tr><td>5607714         </td><td>4090791         </td><td>여성청결제      </td><td>1               </td><td>5               </td></tr>\n",
       "\t<tr><td>5612428         </td><td>1876482         </td><td>명품가방        </td><td>1               </td><td>4               </td></tr>\n",
       "\t<tr><td>5612428         </td><td> 658123         </td><td>콩순이아이스크림</td><td>1               </td><td>8               </td></tr>\n",
       "\t<tr><td>5612428         </td><td>1876482         </td><td>블루독티셔츠남아</td><td>1               </td><td>8               </td></tr>\n",
       "</tbody>\n",
       "</table>\n"
      ],
      "text/latex": [
       "\\begin{tabular}{r|lllll}\n",
       " CLNT\\_ID & SESS\\_ID & KWD\\_NM & SEARCH\\_CNT & KWD\\_CHR\\\\\n",
       "\\hline\n",
       "\t 5607714          & 7112876          & 빌리프아이크림   & 6                & 7               \\\\\n",
       "\t 5607714          & 4090791          & 프리메라마스크팩 & 3                & 8               \\\\\n",
       "\t 5607714          & 4090791          & 여성청결제       & 1                & 5               \\\\\n",
       "\t 5612428          & 1876482          & 명품가방         & 1                & 4               \\\\\n",
       "\t 5612428          &  658123          & 콩순이아이스크림 & 1                & 8               \\\\\n",
       "\t 5612428          & 1876482          & 블루독티셔츠남아 & 1                & 8               \\\\\n",
       "\\end{tabular}\n"
      ],
      "text/markdown": [
       "\n",
       "CLNT_ID | SESS_ID | KWD_NM | SEARCH_CNT | KWD_CHR | \n",
       "|---|---|---|---|---|---|\n",
       "| 5607714          | 7112876          | 빌리프아이크림   | 6                | 7                | \n",
       "| 5607714          | 4090791          | 프리메라마스크팩 | 3                | 8                | \n",
       "| 5607714          | 4090791          | 여성청결제       | 1                | 5                | \n",
       "| 5612428          | 1876482          | 명품가방         | 1                | 4                | \n",
       "| 5612428          |  658123          | 콩순이아이스크림 | 1                | 8                | \n",
       "| 5612428          | 1876482          | 블루독티셔츠남아 | 1                | 8                | \n",
       "\n",
       "\n"
      ],
      "text/plain": [
       "  CLNT_ID SESS_ID KWD_NM           SEARCH_CNT KWD_CHR\n",
       "1 5607714 7112876 빌리프아이크림   6          7      \n",
       "2 5607714 4090791 프리메라마스크팩 3          8      \n",
       "3 5607714 4090791 여성청결제       1          5      \n",
       "4 5612428 1876482 명품가방         1          4      \n",
       "5 5612428  658123 콩순이아이스크림 1          8      \n",
       "6 5612428 1876482 블루독티셔츠남아 1          8      "
      ]
     },
     "metadata": {},
     "output_type": "display_data"
    }
   ],
   "source": [
    "head(new_search1)"
   ]
  },
  {
   "cell_type": "code",
   "execution_count": 76,
   "metadata": {},
   "outputs": [
    {
     "data": {
      "text/html": [
       "<table>\n",
       "<thead><tr><th scope=col>KWD_CHR</th><th scope=col>n</th></tr></thead>\n",
       "<tbody>\n",
       "\t<tr><td> 0    </td><td>  4474</td></tr>\n",
       "\t<tr><td> 1    </td><td> 17911</td></tr>\n",
       "\t<tr><td> 2    </td><td>231045</td></tr>\n",
       "\t<tr><td> 3    </td><td>395289</td></tr>\n",
       "\t<tr><td> 4    </td><td>552111</td></tr>\n",
       "\t<tr><td> 5    </td><td>538609</td></tr>\n",
       "\t<tr><td> 6    </td><td>447602</td></tr>\n",
       "\t<tr><td> 7    </td><td>317026</td></tr>\n",
       "\t<tr><td> 8    </td><td>199514</td></tr>\n",
       "\t<tr><td> 9    </td><td> 99726</td></tr>\n",
       "\t<tr><td>10    </td><td> 48280</td></tr>\n",
       "\t<tr><td>11    </td><td> 22406</td></tr>\n",
       "\t<tr><td>12    </td><td>  7570</td></tr>\n",
       "\t<tr><td>13    </td><td>  2079</td></tr>\n",
       "\t<tr><td>14    </td><td>  1002</td></tr>\n",
       "\t<tr><td>15    </td><td>   167</td></tr>\n",
       "\t<tr><td>16    </td><td>    96</td></tr>\n",
       "\t<tr><td>17    </td><td>    25</td></tr>\n",
       "\t<tr><td>18    </td><td>     6</td></tr>\n",
       "\t<tr><td>19    </td><td>     5</td></tr>\n",
       "</tbody>\n",
       "</table>\n"
      ],
      "text/latex": [
       "\\begin{tabular}{r|ll}\n",
       " KWD\\_CHR & n\\\\\n",
       "\\hline\n",
       "\t  0     &   4474\\\\\n",
       "\t  1     &  17911\\\\\n",
       "\t  2     & 231045\\\\\n",
       "\t  3     & 395289\\\\\n",
       "\t  4     & 552111\\\\\n",
       "\t  5     & 538609\\\\\n",
       "\t  6     & 447602\\\\\n",
       "\t  7     & 317026\\\\\n",
       "\t  8     & 199514\\\\\n",
       "\t  9     &  99726\\\\\n",
       "\t 10     &  48280\\\\\n",
       "\t 11     &  22406\\\\\n",
       "\t 12     &   7570\\\\\n",
       "\t 13     &   2079\\\\\n",
       "\t 14     &   1002\\\\\n",
       "\t 15     &    167\\\\\n",
       "\t 16     &     96\\\\\n",
       "\t 17     &     25\\\\\n",
       "\t 18     &      6\\\\\n",
       "\t 19     &      5\\\\\n",
       "\\end{tabular}\n"
      ],
      "text/markdown": [
       "\n",
       "KWD_CHR | n | \n",
       "|---|---|---|---|---|---|---|---|---|---|---|---|---|---|---|---|---|---|---|---|\n",
       "|  0     |   4474 | \n",
       "|  1     |  17911 | \n",
       "|  2     | 231045 | \n",
       "|  3     | 395289 | \n",
       "|  4     | 552111 | \n",
       "|  5     | 538609 | \n",
       "|  6     | 447602 | \n",
       "|  7     | 317026 | \n",
       "|  8     | 199514 | \n",
       "|  9     |  99726 | \n",
       "| 10     |  48280 | \n",
       "| 11     |  22406 | \n",
       "| 12     |   7570 | \n",
       "| 13     |   2079 | \n",
       "| 14     |   1002 | \n",
       "| 15     |    167 | \n",
       "| 16     |     96 | \n",
       "| 17     |     25 | \n",
       "| 18     |      6 | \n",
       "| 19     |      5 | \n",
       "\n",
       "\n"
      ],
      "text/plain": [
       "   KWD_CHR n     \n",
       "1   0        4474\n",
       "2   1       17911\n",
       "3   2      231045\n",
       "4   3      395289\n",
       "5   4      552111\n",
       "6   5      538609\n",
       "7   6      447602\n",
       "8   7      317026\n",
       "9   8      199514\n",
       "10  9       99726\n",
       "11 10       48280\n",
       "12 11       22406\n",
       "13 12        7570\n",
       "14 13        2079\n",
       "15 14        1002\n",
       "16 15         167\n",
       "17 16          96\n",
       "18 17          25\n",
       "19 18           6\n",
       "20 19           5"
      ]
     },
     "metadata": {},
     "output_type": "display_data"
    }
   ],
   "source": [
    "new_search1 %>% group_by(KWD_CHR) %>% summarise(n=n()) #키워드문자열 개수는 0부터 19개 "
   ]
  },
  {
   "cell_type": "markdown",
   "metadata": {},
   "source": [
    "이상치로 처리 후 키워드 검색명이 공백, 즉 키워드문자열 개수가 0인 개수는 4474개\n",
    "\n",
    "키워드 검색명이 공백인 것은 검색데이터에 의미가 없다고 판단\n",
    "\n",
    "이상치 삭제"
   ]
  },
  {
   "cell_type": "code",
   "execution_count": 77,
   "metadata": {},
   "outputs": [],
   "source": [
    "new_search1=new_search1 %>% filter(KWD_CHR!=0) # 키워드가 없는 행들 삭제처리"
   ]
  },
  {
   "cell_type": "code",
   "execution_count": 78,
   "metadata": {},
   "outputs": [],
   "source": [
    "new_search1=new_search1 %>% select(c(\"CLNT_ID\",\"SESS_ID\",\"KWD_NM\",\"SEARCH_CNT\")) #변수 KWD_CHR 삭제"
   ]
  },
  {
   "cell_type": "code",
   "execution_count": 79,
   "metadata": {},
   "outputs": [
    {
     "data": {
      "text/html": [
       "<table>\n",
       "<thead><tr><th scope=col>CLNT_ID</th><th scope=col>SESS_ID</th><th scope=col>KWD_NM</th><th scope=col>SEARCH_CNT</th></tr></thead>\n",
       "<tbody>\n",
       "\t<tr><td>5555838         </td><td>4482725         </td><td>첨이첨이런닝    </td><td>2               </td></tr>\n",
       "\t<tr><td>5555838         </td><td>4465994         </td><td>마이수야        </td><td>5               </td></tr>\n",
       "\t<tr><td>5555838         </td><td>4822207         </td><td>여성여름청바지  </td><td>2               </td></tr>\n",
       "\t<tr><td>5555838         </td><td>4482725         </td><td>풍기인견        </td><td>2               </td></tr>\n",
       "\t<tr><td>5555838         </td><td>4465994         </td><td>여성프릴티셔츠  </td><td>3               </td></tr>\n",
       "\t<tr><td>5555838         </td><td>4465994         </td><td>랩              </td><td>2               </td></tr>\n",
       "\t<tr><td>5555838         </td><td>4465994         </td><td>컨텍유          </td><td>1               </td></tr>\n",
       "\t<tr><td>5555838         </td><td>4822207         </td><td>여성티          </td><td>1               </td></tr>\n",
       "\t<tr><td>5555838         </td><td>4481164         </td><td>풍기인견파자마  </td><td>3               </td></tr>\n",
       "\t<tr><td>5555838         </td><td>4822207         </td><td>여름여성청바지  </td><td>2               </td></tr>\n",
       "\t<tr><td>5555838         </td><td>4465994         </td><td>마크막스        </td><td>2               </td></tr>\n",
       "\t<tr><td>5555838         </td><td>4465994         </td><td>jj지코트        </td><td>2               </td></tr>\n",
       "\t<tr><td>5555838         </td><td>4465994         </td><td>여성프릴블라우스</td><td>4               </td></tr>\n",
       "\t<tr><td>5555838         </td><td>4465994         </td><td>슬라브티셔츠    </td><td>1               </td></tr>\n",
       "\t<tr><td>5555838         </td><td>4822207         </td><td>남성여름양말    </td><td>4               </td></tr>\n",
       "\t<tr><td>5555838         </td><td>4482725         </td><td>아동파자마      </td><td>1               </td></tr>\n",
       "\t<tr><td>5555838         </td><td>4482725         </td><td>첨이첨이파자마  </td><td>2               </td></tr>\n",
       "\t<tr><td>5555838         </td><td>4482725         </td><td>풍기인견잠옷    </td><td>2               </td></tr>\n",
       "\t<tr><td>5555838         </td><td>4465994         </td><td>매그제이        </td><td>2               </td></tr>\n",
       "\t<tr><td>5555838         </td><td>4465994         </td><td>오가게          </td><td>1               </td></tr>\n",
       "\t<tr><td>5555838         </td><td>4465994         </td><td>티셔츠          </td><td>5               </td></tr>\n",
       "\t<tr><td>5555838         </td><td>4481164         </td><td>풍기인견파자마  </td><td>1               </td></tr>\n",
       "\t<tr><td>5555838         </td><td>4482725         </td><td>첨이첨이파자마  </td><td>4               </td></tr>\n",
       "</tbody>\n",
       "</table>\n"
      ],
      "text/latex": [
       "\\begin{tabular}{r|llll}\n",
       " CLNT\\_ID & SESS\\_ID & KWD\\_NM & SEARCH\\_CNT\\\\\n",
       "\\hline\n",
       "\t 5555838          & 4482725          & 첨이첨이런닝     & 2               \\\\\n",
       "\t 5555838          & 4465994          & 마이수야         & 5               \\\\\n",
       "\t 5555838          & 4822207          & 여성여름청바지   & 2               \\\\\n",
       "\t 5555838          & 4482725          & 풍기인견         & 2               \\\\\n",
       "\t 5555838          & 4465994          & 여성프릴티셔츠   & 3               \\\\\n",
       "\t 5555838          & 4465994          & 랩               & 2               \\\\\n",
       "\t 5555838          & 4465994          & 컨텍유           & 1               \\\\\n",
       "\t 5555838          & 4822207          & 여성티           & 1               \\\\\n",
       "\t 5555838          & 4481164          & 풍기인견파자마   & 3               \\\\\n",
       "\t 5555838          & 4822207          & 여름여성청바지   & 2               \\\\\n",
       "\t 5555838          & 4465994          & 마크막스         & 2               \\\\\n",
       "\t 5555838          & 4465994          & jj지코트         & 2               \\\\\n",
       "\t 5555838          & 4465994          & 여성프릴블라우스 & 4               \\\\\n",
       "\t 5555838          & 4465994          & 슬라브티셔츠     & 1               \\\\\n",
       "\t 5555838          & 4822207          & 남성여름양말     & 4               \\\\\n",
       "\t 5555838          & 4482725          & 아동파자마       & 1               \\\\\n",
       "\t 5555838          & 4482725          & 첨이첨이파자마   & 2               \\\\\n",
       "\t 5555838          & 4482725          & 풍기인견잠옷     & 2               \\\\\n",
       "\t 5555838          & 4465994          & 매그제이         & 2               \\\\\n",
       "\t 5555838          & 4465994          & 오가게           & 1               \\\\\n",
       "\t 5555838          & 4465994          & 티셔츠           & 5               \\\\\n",
       "\t 5555838          & 4481164          & 풍기인견파자마   & 1               \\\\\n",
       "\t 5555838          & 4482725          & 첨이첨이파자마   & 4               \\\\\n",
       "\\end{tabular}\n"
      ],
      "text/markdown": [
       "\n",
       "CLNT_ID | SESS_ID | KWD_NM | SEARCH_CNT | \n",
       "|---|---|---|---|---|---|---|---|---|---|---|---|---|---|---|---|---|---|---|---|---|---|---|\n",
       "| 5555838          | 4482725          | 첨이첨이런닝     | 2                | \n",
       "| 5555838          | 4465994          | 마이수야         | 5                | \n",
       "| 5555838          | 4822207          | 여성여름청바지   | 2                | \n",
       "| 5555838          | 4482725          | 풍기인견         | 2                | \n",
       "| 5555838          | 4465994          | 여성프릴티셔츠   | 3                | \n",
       "| 5555838          | 4465994          | 랩               | 2                | \n",
       "| 5555838          | 4465994          | 컨텍유           | 1                | \n",
       "| 5555838          | 4822207          | 여성티           | 1                | \n",
       "| 5555838          | 4481164          | 풍기인견파자마   | 3                | \n",
       "| 5555838          | 4822207          | 여름여성청바지   | 2                | \n",
       "| 5555838          | 4465994          | 마크막스         | 2                | \n",
       "| 5555838          | 4465994          | jj지코트         | 2                | \n",
       "| 5555838          | 4465994          | 여성프릴블라우스 | 4                | \n",
       "| 5555838          | 4465994          | 슬라브티셔츠     | 1                | \n",
       "| 5555838          | 4822207          | 남성여름양말     | 4                | \n",
       "| 5555838          | 4482725          | 아동파자마       | 1                | \n",
       "| 5555838          | 4482725          | 첨이첨이파자마   | 2                | \n",
       "| 5555838          | 4482725          | 풍기인견잠옷     | 2                | \n",
       "| 5555838          | 4465994          | 매그제이         | 2                | \n",
       "| 5555838          | 4465994          | 오가게           | 1                | \n",
       "| 5555838          | 4465994          | 티셔츠           | 5                | \n",
       "| 5555838          | 4481164          | 풍기인견파자마   | 1                | \n",
       "| 5555838          | 4482725          | 첨이첨이파자마   | 4                | \n",
       "\n",
       "\n"
      ],
      "text/plain": [
       "   CLNT_ID SESS_ID KWD_NM           SEARCH_CNT\n",
       "1  5555838 4482725 첨이첨이런닝     2         \n",
       "2  5555838 4465994 마이수야         5         \n",
       "3  5555838 4822207 여성여름청바지   2         \n",
       "4  5555838 4482725 풍기인견         2         \n",
       "5  5555838 4465994 여성프릴티셔츠   3         \n",
       "6  5555838 4465994 랩               2         \n",
       "7  5555838 4465994 컨텍유           1         \n",
       "8  5555838 4822207 여성티           1         \n",
       "9  5555838 4481164 풍기인견파자마   3         \n",
       "10 5555838 4822207 여름여성청바지   2         \n",
       "11 5555838 4465994 마크막스         2         \n",
       "12 5555838 4465994 jj지코트         2         \n",
       "13 5555838 4465994 여성프릴블라우스 4         \n",
       "14 5555838 4465994 슬라브티셔츠     1         \n",
       "15 5555838 4822207 남성여름양말     4         \n",
       "16 5555838 4482725 아동파자마       1         \n",
       "17 5555838 4482725 첨이첨이파자마   2         \n",
       "18 5555838 4482725 풍기인견잠옷     2         \n",
       "19 5555838 4465994 매그제이         2         \n",
       "20 5555838 4465994 오가게           1         \n",
       "21 5555838 4465994 티셔츠           5         \n",
       "22 5555838 4481164 풍기인견파자마   1         \n",
       "23 5555838 4482725 첨이첨이파자마   4         "
      ]
     },
     "metadata": {},
     "output_type": "display_data"
    }
   ],
   "source": [
    "new_search1 %>% filter(CLNT_ID==5555838)"
   ]
  },
  {
   "cell_type": "markdown",
   "metadata": {},
   "source": [
    "키워드들이 전처리 되면서 같은 키워드를 가짐에도 불구하고  SEARCH_CNT들이 다르게 되는 경우가 발생 ex)풍기인견파자마\n",
    "\n",
    "SEARCH_CNT들을 합칠 필요가 있다고 생각"
   ]
  },
  {
   "cell_type": "code",
   "execution_count": 80,
   "metadata": {},
   "outputs": [
    {
     "name": "stderr",
     "output_type": "stream",
     "text": [
      "\n",
      "Attaching package: 'reshape2'\n",
      "\n",
      "The following objects are masked from 'package:data.table':\n",
      "\n",
      "    dcast, melt\n",
      "\n"
     ]
    }
   ],
   "source": [
    "library(reshape2)"
   ]
  },
  {
   "cell_type": "code",
   "execution_count": 81,
   "metadata": {},
   "outputs": [],
   "source": [
    "new_search1 <- melt(new_search1, id.vars=c(\"CLNT_ID\",\"SESS_ID\",\"KWD_NM\"))"
   ]
  },
  {
   "cell_type": "code",
   "execution_count": 82,
   "metadata": {},
   "outputs": [],
   "source": [
    "new_search1=dcast(new_search1,CLNT_ID+SESS_ID+KWD_NM~variable,sum)"
   ]
  },
  {
   "cell_type": "code",
   "execution_count": 83,
   "metadata": {},
   "outputs": [
    {
     "data": {
      "text/html": [
       "<table>\n",
       "<thead><tr><th scope=col>CLNT_ID</th><th scope=col>SESS_ID</th><th scope=col>KWD_NM</th><th scope=col>SEARCH_CNT</th></tr></thead>\n",
       "<tbody>\n",
       "\t<tr><td>5555838         </td><td>4482725         </td><td>첨이첨이런닝    </td><td>2               </td></tr>\n",
       "\t<tr><td>5555838         </td><td>4465994         </td><td>마이수야        </td><td>5               </td></tr>\n",
       "\t<tr><td>5555838         </td><td>4822207         </td><td>여성여름청바지  </td><td>2               </td></tr>\n",
       "\t<tr><td>5555838         </td><td>4482725         </td><td>풍기인견        </td><td>2               </td></tr>\n",
       "\t<tr><td>5555838         </td><td>4465994         </td><td>여성프릴티셔츠  </td><td>3               </td></tr>\n",
       "\t<tr><td>5555838         </td><td>4465994         </td><td>랩              </td><td>2               </td></tr>\n",
       "\t<tr><td>5555838         </td><td>4465994         </td><td>컨텍유          </td><td>1               </td></tr>\n",
       "\t<tr><td>5555838         </td><td>4822207         </td><td>여성티          </td><td>1               </td></tr>\n",
       "\t<tr><td>5555838         </td><td>4481164         </td><td>풍기인견파자마  </td><td>4               </td></tr>\n",
       "\t<tr><td>5555838         </td><td>4822207         </td><td>여름여성청바지  </td><td>2               </td></tr>\n",
       "\t<tr><td>5555838         </td><td>4465994         </td><td>마크막스        </td><td>2               </td></tr>\n",
       "\t<tr><td>5555838         </td><td>4465994         </td><td>jj지코트        </td><td>2               </td></tr>\n",
       "\t<tr><td>5555838         </td><td>4465994         </td><td>여성프릴블라우스</td><td>4               </td></tr>\n",
       "\t<tr><td>5555838         </td><td>4465994         </td><td>슬라브티셔츠    </td><td>1               </td></tr>\n",
       "\t<tr><td>5555838         </td><td>4822207         </td><td>남성여름양말    </td><td>4               </td></tr>\n",
       "\t<tr><td>5555838         </td><td>4482725         </td><td>아동파자마      </td><td>1               </td></tr>\n",
       "\t<tr><td>5555838         </td><td>4482725         </td><td>첨이첨이파자마  </td><td>6               </td></tr>\n",
       "\t<tr><td>5555838         </td><td>4482725         </td><td>풍기인견잠옷    </td><td>2               </td></tr>\n",
       "\t<tr><td>5555838         </td><td>4465994         </td><td>매그제이        </td><td>2               </td></tr>\n",
       "\t<tr><td>5555838         </td><td>4465994         </td><td>오가게          </td><td>1               </td></tr>\n",
       "\t<tr><td>5555838         </td><td>4465994         </td><td>티셔츠          </td><td>5               </td></tr>\n",
       "</tbody>\n",
       "</table>\n"
      ],
      "text/latex": [
       "\\begin{tabular}{r|llll}\n",
       " CLNT\\_ID & SESS\\_ID & KWD\\_NM & SEARCH\\_CNT\\\\\n",
       "\\hline\n",
       "\t 5555838          & 4482725          & 첨이첨이런닝     & 2               \\\\\n",
       "\t 5555838          & 4465994          & 마이수야         & 5               \\\\\n",
       "\t 5555838          & 4822207          & 여성여름청바지   & 2               \\\\\n",
       "\t 5555838          & 4482725          & 풍기인견         & 2               \\\\\n",
       "\t 5555838          & 4465994          & 여성프릴티셔츠   & 3               \\\\\n",
       "\t 5555838          & 4465994          & 랩               & 2               \\\\\n",
       "\t 5555838          & 4465994          & 컨텍유           & 1               \\\\\n",
       "\t 5555838          & 4822207          & 여성티           & 1               \\\\\n",
       "\t 5555838          & 4481164          & 풍기인견파자마   & 4               \\\\\n",
       "\t 5555838          & 4822207          & 여름여성청바지   & 2               \\\\\n",
       "\t 5555838          & 4465994          & 마크막스         & 2               \\\\\n",
       "\t 5555838          & 4465994          & jj지코트         & 2               \\\\\n",
       "\t 5555838          & 4465994          & 여성프릴블라우스 & 4               \\\\\n",
       "\t 5555838          & 4465994          & 슬라브티셔츠     & 1               \\\\\n",
       "\t 5555838          & 4822207          & 남성여름양말     & 4               \\\\\n",
       "\t 5555838          & 4482725          & 아동파자마       & 1               \\\\\n",
       "\t 5555838          & 4482725          & 첨이첨이파자마   & 6               \\\\\n",
       "\t 5555838          & 4482725          & 풍기인견잠옷     & 2               \\\\\n",
       "\t 5555838          & 4465994          & 매그제이         & 2               \\\\\n",
       "\t 5555838          & 4465994          & 오가게           & 1               \\\\\n",
       "\t 5555838          & 4465994          & 티셔츠           & 5               \\\\\n",
       "\\end{tabular}\n"
      ],
      "text/markdown": [
       "\n",
       "CLNT_ID | SESS_ID | KWD_NM | SEARCH_CNT | \n",
       "|---|---|---|---|---|---|---|---|---|---|---|---|---|---|---|---|---|---|---|---|---|\n",
       "| 5555838          | 4482725          | 첨이첨이런닝     | 2                | \n",
       "| 5555838          | 4465994          | 마이수야         | 5                | \n",
       "| 5555838          | 4822207          | 여성여름청바지   | 2                | \n",
       "| 5555838          | 4482725          | 풍기인견         | 2                | \n",
       "| 5555838          | 4465994          | 여성프릴티셔츠   | 3                | \n",
       "| 5555838          | 4465994          | 랩               | 2                | \n",
       "| 5555838          | 4465994          | 컨텍유           | 1                | \n",
       "| 5555838          | 4822207          | 여성티           | 1                | \n",
       "| 5555838          | 4481164          | 풍기인견파자마   | 4                | \n",
       "| 5555838          | 4822207          | 여름여성청바지   | 2                | \n",
       "| 5555838          | 4465994          | 마크막스         | 2                | \n",
       "| 5555838          | 4465994          | jj지코트         | 2                | \n",
       "| 5555838          | 4465994          | 여성프릴블라우스 | 4                | \n",
       "| 5555838          | 4465994          | 슬라브티셔츠     | 1                | \n",
       "| 5555838          | 4822207          | 남성여름양말     | 4                | \n",
       "| 5555838          | 4482725          | 아동파자마       | 1                | \n",
       "| 5555838          | 4482725          | 첨이첨이파자마   | 6                | \n",
       "| 5555838          | 4482725          | 풍기인견잠옷     | 2                | \n",
       "| 5555838          | 4465994          | 매그제이         | 2                | \n",
       "| 5555838          | 4465994          | 오가게           | 1                | \n",
       "| 5555838          | 4465994          | 티셔츠           | 5                | \n",
       "\n",
       "\n"
      ],
      "text/plain": [
       "   CLNT_ID SESS_ID KWD_NM           SEARCH_CNT\n",
       "1  5555838 4482725 첨이첨이런닝     2         \n",
       "2  5555838 4465994 마이수야         5         \n",
       "3  5555838 4822207 여성여름청바지   2         \n",
       "4  5555838 4482725 풍기인견         2         \n",
       "5  5555838 4465994 여성프릴티셔츠   3         \n",
       "6  5555838 4465994 랩               2         \n",
       "7  5555838 4465994 컨텍유           1         \n",
       "8  5555838 4822207 여성티           1         \n",
       "9  5555838 4481164 풍기인견파자마   4         \n",
       "10 5555838 4822207 여름여성청바지   2         \n",
       "11 5555838 4465994 마크막스         2         \n",
       "12 5555838 4465994 jj지코트         2         \n",
       "13 5555838 4465994 여성프릴블라우스 4         \n",
       "14 5555838 4465994 슬라브티셔츠     1         \n",
       "15 5555838 4822207 남성여름양말     4         \n",
       "16 5555838 4482725 아동파자마       1         \n",
       "17 5555838 4482725 첨이첨이파자마   6         \n",
       "18 5555838 4482725 풍기인견잠옷     2         \n",
       "19 5555838 4465994 매그제이         2         \n",
       "20 5555838 4465994 오가게           1         \n",
       "21 5555838 4465994 티셔츠           5         "
      ]
     },
     "metadata": {},
     "output_type": "display_data"
    }
   ],
   "source": [
    "new_search1 %>% filter(CLNT_ID==5555838)"
   ]
  },
  {
   "cell_type": "code",
   "execution_count": 84,
   "metadata": {},
   "outputs": [
    {
     "data": {
      "text/html": [
       "<dl class=dl-horizontal>\n",
       "\t<dt>CLNT_ID</dt>\n",
       "\t\t<dd>0</dd>\n",
       "\t<dt>SESS_ID</dt>\n",
       "\t\t<dd>0</dd>\n",
       "\t<dt>KWD_NM</dt>\n",
       "\t\t<dd>0</dd>\n",
       "\t<dt>SEARCH_CNT</dt>\n",
       "\t\t<dd>0</dd>\n",
       "</dl>\n"
      ],
      "text/latex": [
       "\\begin{description*}\n",
       "\\item[CLNT\\textbackslash{}\\_ID] 0\n",
       "\\item[SESS\\textbackslash{}\\_ID] 0\n",
       "\\item[KWD\\textbackslash{}\\_NM] 0\n",
       "\\item[SEARCH\\textbackslash{}\\_CNT] 0\n",
       "\\end{description*}\n"
      ],
      "text/markdown": [
       "CLNT_ID\n",
       ":   0SESS_ID\n",
       ":   0KWD_NM\n",
       ":   0SEARCH_CNT\n",
       ":   0\n",
       "\n"
      ],
      "text/plain": [
       "   CLNT_ID    SESS_ID     KWD_NM SEARCH_CNT \n",
       "         0          0          0          0 "
      ]
     },
     "metadata": {},
     "output_type": "display_data"
    }
   ],
   "source": [
    "colSums(is.na(new_search1))"
   ]
  },
  {
   "cell_type": "code",
   "execution_count": 85,
   "metadata": {},
   "outputs": [
    {
     "name": "stdout",
     "output_type": "stream",
     "text": [
      "'data.frame':\t2868640 obs. of  4 variables:\n",
      " $ CLNT_ID   : int  5607714 5607714 5607714 5612428 5612428 5612428 5612471 5612471 5613055 5613055 ...\n",
      " $ SESS_ID   : int  7112876 4090791 4090791 1876482 658123 1876482 8539312 8539312 8510027 8510027 ...\n",
      " $ KWD_NM    : chr  \"빌리프아이크림\" \"프리메라마스크팩\" \"여성청결제\" \"명품가방\" ...\n",
      " $ SEARCH_CNT: int  6 3 1 1 1 1 1 1 2 1 ...\n"
     ]
    }
   ],
   "source": [
    "str(new_search1)"
   ]
  },
  {
   "cell_type": "code",
   "execution_count": 86,
   "metadata": {},
   "outputs": [],
   "source": [
    "new_search1=as.data.table(new_search1) #빠른계산을 위해 형식변환"
   ]
  },
  {
   "cell_type": "code",
   "execution_count": 87,
   "metadata": {},
   "outputs": [
    {
     "data": {
      "text/html": [
       "510713"
      ],
      "text/latex": [
       "510713"
      ],
      "text/markdown": [
       "510713"
      ],
      "text/plain": [
       "[1] 510713"
      ]
     },
     "metadata": {},
     "output_type": "display_data"
    },
    {
     "data": {
      "text/html": [
       "1158974"
      ],
      "text/latex": [
       "1158974"
      ],
      "text/markdown": [
       "1158974"
      ],
      "text/plain": [
       "[1] 1158974"
      ]
     },
     "metadata": {},
     "output_type": "display_data"
    }
   ],
   "source": [
    "#기본키 고유개수 확인\n",
    "length(unique(new_search1$CLNT_ID))\n",
    "\n",
    "length(unique(new_search1$SESS_ID))"
   ]
  },
  {
   "cell_type": "code",
   "execution_count": 88,
   "metadata": {},
   "outputs": [],
   "source": [
    "fwrite(new_search1,file=\"new_search1.csv\")"
   ]
  },
  {
   "cell_type": "markdown",
   "metadata": {},
   "source": [
    "# Search2\n",
    "### 검색어2(Search2) : 분석기간 내 검색된 일별/검색어별 검색량"
   ]
  },
  {
   "cell_type": "code",
   "execution_count": 89,
   "metadata": {},
   "outputs": [
    {
     "data": {
      "text/html": [
       "<table>\n",
       "<thead><tr><th scope=col>SESS_DT</th><th scope=col>KWD_NM</th><th scope=col>SEARCH_CNT</th></tr></thead>\n",
       "<tbody>\n",
       "\t<tr><td>20180407         </td><td>닥스원피스       </td><td>8                </td></tr>\n",
       "\t<tr><td>20180407         </td><td>닥터지 브라이트닝</td><td>1                </td></tr>\n",
       "\t<tr><td>20180407         </td><td>달팡 인트랄      </td><td>2                </td></tr>\n",
       "\t<tr><td>20180407         </td><td>대상트           </td><td>1                </td></tr>\n",
       "\t<tr><td>20180407         </td><td>더블유닷         </td><td>6                </td></tr>\n",
       "\t<tr><td>20180407         </td><td>더블하트 모유실감</td><td>1                </td></tr>\n",
       "</tbody>\n",
       "</table>\n"
      ],
      "text/latex": [
       "\\begin{tabular}{r|lll}\n",
       " SESS\\_DT & KWD\\_NM & SEARCH\\_CNT\\\\\n",
       "\\hline\n",
       "\t 20180407          & 닥스원피스        & 8                \\\\\n",
       "\t 20180407          & 닥터지 브라이트닝 & 1                \\\\\n",
       "\t 20180407          & 달팡 인트랄       & 2                \\\\\n",
       "\t 20180407          & 대상트            & 1                \\\\\n",
       "\t 20180407          & 더블유닷          & 6                \\\\\n",
       "\t 20180407          & 더블하트 모유실감 & 1                \\\\\n",
       "\\end{tabular}\n"
      ],
      "text/markdown": [
       "\n",
       "SESS_DT | KWD_NM | SEARCH_CNT | \n",
       "|---|---|---|---|---|---|\n",
       "| 20180407          | 닥스원피스        | 8                 | \n",
       "| 20180407          | 닥터지 브라이트닝 | 1                 | \n",
       "| 20180407          | 달팡 인트랄       | 2                 | \n",
       "| 20180407          | 대상트            | 1                 | \n",
       "| 20180407          | 더블유닷          | 6                 | \n",
       "| 20180407          | 더블하트 모유실감 | 1                 | \n",
       "\n",
       "\n"
      ],
      "text/plain": [
       "  SESS_DT  KWD_NM            SEARCH_CNT\n",
       "1 20180407 닥스원피스        8         \n",
       "2 20180407 닥터지 브라이트닝 1         \n",
       "3 20180407 달팡 인트랄       2         \n",
       "4 20180407 대상트            1         \n",
       "5 20180407 더블유닷          6         \n",
       "6 20180407 더블하트 모유실감 1         "
      ]
     },
     "metadata": {},
     "output_type": "display_data"
    }
   ],
   "source": [
    "head(search2)"
   ]
  },
  {
   "cell_type": "code",
   "execution_count": 90,
   "metadata": {},
   "outputs": [
    {
     "name": "stdout",
     "output_type": "stream",
     "text": [
      "Classes 'data.table' and 'data.frame':\t8051172 obs. of  3 variables:\n",
      " $ SESS_DT   : int  20180407 20180407 20180407 20180407 20180407 20180407 20180407 20180407 20180407 20180407 ...\n",
      " $ KWD_NM    : chr  \"닥스원피스\" \"닥터지 브라이트닝\" \"달팡 인트랄\" \"대상트\" ...\n",
      " $ SEARCH_CNT: chr  \"8\" \"1\" \"2\" \"1\" ...\n",
      " - attr(*, \".internal.selfref\")=<externalptr> \n"
     ]
    }
   ],
   "source": [
    "str(search2)"
   ]
  },
  {
   "cell_type": "code",
   "execution_count": 91,
   "metadata": {},
   "outputs": [],
   "source": [
    "search2$SEARCH_CNT=as.numeric(gsub(\",\",\"\",search2$SEARCH_CNT)) #SEARCH_CNT 형식 변환"
   ]
  },
  {
   "cell_type": "code",
   "execution_count": 92,
   "metadata": {},
   "outputs": [],
   "source": [
    "#KWD_NM 처리\n",
    "search2$KWD_NM<-str_to_lower(search2$KWD_NM) #영문자들을 소문자로 변환\n",
    "search2$KWD_NM<-gsub(\"[[:space:]]\",\"\",search2$KWD_NM) #키워드 간 공백 제거\n",
    "search2$KWD_NM<-gsub(\"[[:punct:]]\",\"\",search2$KWD_NM) #특수문자 제거\n",
    "search2$KWD_NM<-gsub(\"[ㄱ-ㅣ+]\",\"\",search2$KWD_NM) #한글 자음 처리\n",
    "search2$KWD_NM<-gsub(\"^[a-z]$\",\"\",search2$KWD_NM) #소문자 처리\n",
    "search2$KWD_NM<-gsub(\"^\\\\d+$\",\"\",search2$KWD_NM) #단순 숫자 처리\n",
    "search2$KWD_NM<-str_trim(search2$KWD_NM,side=\"both\") #키워드 내 공백 제거"
   ]
  },
  {
   "cell_type": "code",
   "execution_count": 93,
   "metadata": {},
   "outputs": [],
   "source": [
    "new_search2= search2 %>% mutate( KWD_CHR=apply(search2,2,nchar)[,2] ) #키워드에 따른 문자 개수를 살펴보자"
   ]
  },
  {
   "cell_type": "code",
   "execution_count": 94,
   "metadata": {},
   "outputs": [
    {
     "data": {
      "text/html": [
       "<table>\n",
       "<thead><tr><th scope=col>SESS_DT</th><th scope=col>KWD_NM</th><th scope=col>SEARCH_CNT</th><th scope=col>KWD_CHR</th></tr></thead>\n",
       "<tbody>\n",
       "\t<tr><td>20180407        </td><td>닥스원피스      </td><td>8               </td><td>5               </td></tr>\n",
       "\t<tr><td>20180407        </td><td>닥터지브라이트닝</td><td>1               </td><td>8               </td></tr>\n",
       "\t<tr><td>20180407        </td><td>달팡인트랄      </td><td>2               </td><td>5               </td></tr>\n",
       "\t<tr><td>20180407        </td><td>대상트          </td><td>1               </td><td>3               </td></tr>\n",
       "\t<tr><td>20180407        </td><td>더블유닷        </td><td>6               </td><td>4               </td></tr>\n",
       "\t<tr><td>20180407        </td><td>더블하트모유실감</td><td>1               </td><td>8               </td></tr>\n",
       "</tbody>\n",
       "</table>\n"
      ],
      "text/latex": [
       "\\begin{tabular}{r|llll}\n",
       " SESS\\_DT & KWD\\_NM & SEARCH\\_CNT & KWD\\_CHR\\\\\n",
       "\\hline\n",
       "\t 20180407         & 닥스원피스       & 8                & 5               \\\\\n",
       "\t 20180407         & 닥터지브라이트닝 & 1                & 8               \\\\\n",
       "\t 20180407         & 달팡인트랄       & 2                & 5               \\\\\n",
       "\t 20180407         & 대상트           & 1                & 3               \\\\\n",
       "\t 20180407         & 더블유닷         & 6                & 4               \\\\\n",
       "\t 20180407         & 더블하트모유실감 & 1                & 8               \\\\\n",
       "\\end{tabular}\n"
      ],
      "text/markdown": [
       "\n",
       "SESS_DT | KWD_NM | SEARCH_CNT | KWD_CHR | \n",
       "|---|---|---|---|---|---|\n",
       "| 20180407         | 닥스원피스       | 8                | 5                | \n",
       "| 20180407         | 닥터지브라이트닝 | 1                | 8                | \n",
       "| 20180407         | 달팡인트랄       | 2                | 5                | \n",
       "| 20180407         | 대상트           | 1                | 3                | \n",
       "| 20180407         | 더블유닷         | 6                | 4                | \n",
       "| 20180407         | 더블하트모유실감 | 1                | 8                | \n",
       "\n",
       "\n"
      ],
      "text/plain": [
       "  SESS_DT  KWD_NM           SEARCH_CNT KWD_CHR\n",
       "1 20180407 닥스원피스       8          5      \n",
       "2 20180407 닥터지브라이트닝 1          8      \n",
       "3 20180407 달팡인트랄       2          5      \n",
       "4 20180407 대상트           1          3      \n",
       "5 20180407 더블유닷         6          4      \n",
       "6 20180407 더블하트모유실감 1          8      "
      ]
     },
     "metadata": {},
     "output_type": "display_data"
    }
   ],
   "source": [
    "head(new_search2)"
   ]
  },
  {
   "cell_type": "code",
   "execution_count": 95,
   "metadata": {},
   "outputs": [
    {
     "data": {
      "text/html": [
       "<table>\n",
       "<thead><tr><th scope=col>KWD_CHR</th><th scope=col>n</th></tr></thead>\n",
       "<tbody>\n",
       "\t<tr><td> 0     </td><td>  34273</td></tr>\n",
       "\t<tr><td> 1     </td><td>  25396</td></tr>\n",
       "\t<tr><td> 2     </td><td> 359380</td></tr>\n",
       "\t<tr><td> 3     </td><td> 769465</td></tr>\n",
       "\t<tr><td> 4     </td><td>1371832</td></tr>\n",
       "\t<tr><td> 5     </td><td>1588898</td></tr>\n",
       "\t<tr><td> 6     </td><td>1487995</td></tr>\n",
       "\t<tr><td> 7     </td><td>1048653</td></tr>\n",
       "\t<tr><td> 8     </td><td> 688197</td></tr>\n",
       "\t<tr><td> 9     </td><td> 366322</td></tr>\n",
       "\t<tr><td>10     </td><td> 189129</td></tr>\n",
       "\t<tr><td>11     </td><td>  73708</td></tr>\n",
       "\t<tr><td>12     </td><td>  30993</td></tr>\n",
       "\t<tr><td>13     </td><td>   9525</td></tr>\n",
       "\t<tr><td>14     </td><td>   5279</td></tr>\n",
       "\t<tr><td>15     </td><td>   1075</td></tr>\n",
       "\t<tr><td>16     </td><td>    563</td></tr>\n",
       "\t<tr><td>17     </td><td>    299</td></tr>\n",
       "\t<tr><td>18     </td><td>    106</td></tr>\n",
       "\t<tr><td>19     </td><td>     36</td></tr>\n",
       "\t<tr><td>26     </td><td>     35</td></tr>\n",
       "\t<tr><td>53     </td><td>     13</td></tr>\n",
       "</tbody>\n",
       "</table>\n"
      ],
      "text/latex": [
       "\\begin{tabular}{r|ll}\n",
       " KWD\\_CHR & n\\\\\n",
       "\\hline\n",
       "\t  0      &   34273\\\\\n",
       "\t  1      &   25396\\\\\n",
       "\t  2      &  359380\\\\\n",
       "\t  3      &  769465\\\\\n",
       "\t  4      & 1371832\\\\\n",
       "\t  5      & 1588898\\\\\n",
       "\t  6      & 1487995\\\\\n",
       "\t  7      & 1048653\\\\\n",
       "\t  8      &  688197\\\\\n",
       "\t  9      &  366322\\\\\n",
       "\t 10      &  189129\\\\\n",
       "\t 11      &   73708\\\\\n",
       "\t 12      &   30993\\\\\n",
       "\t 13      &    9525\\\\\n",
       "\t 14      &    5279\\\\\n",
       "\t 15      &    1075\\\\\n",
       "\t 16      &     563\\\\\n",
       "\t 17      &     299\\\\\n",
       "\t 18      &     106\\\\\n",
       "\t 19      &      36\\\\\n",
       "\t 26      &      35\\\\\n",
       "\t 53      &      13\\\\\n",
       "\\end{tabular}\n"
      ],
      "text/markdown": [
       "\n",
       "KWD_CHR | n | \n",
       "|---|---|---|---|---|---|---|---|---|---|---|---|---|---|---|---|---|---|---|---|---|---|\n",
       "|  0      |   34273 | \n",
       "|  1      |   25396 | \n",
       "|  2      |  359380 | \n",
       "|  3      |  769465 | \n",
       "|  4      | 1371832 | \n",
       "|  5      | 1588898 | \n",
       "|  6      | 1487995 | \n",
       "|  7      | 1048653 | \n",
       "|  8      |  688197 | \n",
       "|  9      |  366322 | \n",
       "| 10      |  189129 | \n",
       "| 11      |   73708 | \n",
       "| 12      |   30993 | \n",
       "| 13      |    9525 | \n",
       "| 14      |    5279 | \n",
       "| 15      |    1075 | \n",
       "| 16      |     563 | \n",
       "| 17      |     299 | \n",
       "| 18      |     106 | \n",
       "| 19      |      36 | \n",
       "| 26      |      35 | \n",
       "| 53      |      13 | \n",
       "\n",
       "\n"
      ],
      "text/plain": [
       "   KWD_CHR n      \n",
       "1   0        34273\n",
       "2   1        25396\n",
       "3   2       359380\n",
       "4   3       769465\n",
       "5   4      1371832\n",
       "6   5      1588898\n",
       "7   6      1487995\n",
       "8   7      1048653\n",
       "9   8       688197\n",
       "10  9       366322\n",
       "11 10       189129\n",
       "12 11        73708\n",
       "13 12        30993\n",
       "14 13         9525\n",
       "15 14         5279\n",
       "16 15         1075\n",
       "17 16          563\n",
       "18 17          299\n",
       "19 18          106\n",
       "20 19           36\n",
       "21 26           35\n",
       "22 53           13"
      ]
     },
     "metadata": {},
     "output_type": "display_data"
    }
   ],
   "source": [
    "new_search2 %>% group_by(KWD_CHR) %>% summarise(n=n()) #키워드문자열 개수는 0부터 53개 "
   ]
  },
  {
   "cell_type": "code",
   "execution_count": 96,
   "metadata": {},
   "outputs": [],
   "source": [
    "new_search2=new_search2 %>% filter(KWD_CHR!=0) # 키워드가 없는 행들 삭제처리"
   ]
  },
  {
   "cell_type": "code",
   "execution_count": 97,
   "metadata": {},
   "outputs": [],
   "source": [
    "new_search2=new_search2 %>% select(c(\"SESS_DT\",\"KWD_NM\",\"SEARCH_CNT\")) #변수 KWD_CHR 삭제"
   ]
  },
  {
   "cell_type": "code",
   "execution_count": 98,
   "metadata": {},
   "outputs": [],
   "source": [
    "new_search2=as.data.table(new_search2) #빠른계산을 위해 형식변환"
   ]
  },
  {
   "cell_type": "code",
   "execution_count": 99,
   "metadata": {},
   "outputs": [
    {
     "data": {
      "text/html": [
       "<table>\n",
       "<thead><tr><th scope=col>SESS_DT</th><th scope=col>KWD_NM</th><th scope=col>SEARCH_CNT</th></tr></thead>\n",
       "<tbody>\n",
       "\t<tr><td>20180401 </td><td>14k귀걸이</td><td> 3       </td></tr>\n",
       "\t<tr><td>20180401 </td><td>14k귀걸이</td><td>71       </td></tr>\n",
       "\t<tr><td>20180401 </td><td>14k귀걸이</td><td> 7       </td></tr>\n",
       "</tbody>\n",
       "</table>\n"
      ],
      "text/latex": [
       "\\begin{tabular}{r|lll}\n",
       " SESS\\_DT & KWD\\_NM & SEARCH\\_CNT\\\\\n",
       "\\hline\n",
       "\t 20180401  & 14k귀걸이 &  3       \\\\\n",
       "\t 20180401  & 14k귀걸이 & 71       \\\\\n",
       "\t 20180401  & 14k귀걸이 &  7       \\\\\n",
       "\\end{tabular}\n"
      ],
      "text/markdown": [
       "\n",
       "SESS_DT | KWD_NM | SEARCH_CNT | \n",
       "|---|---|---|\n",
       "| 20180401  | 14k귀걸이 |  3        | \n",
       "| 20180401  | 14k귀걸이 | 71        | \n",
       "| 20180401  | 14k귀걸이 |  7        | \n",
       "\n",
       "\n"
      ],
      "text/plain": [
       "  SESS_DT  KWD_NM    SEARCH_CNT\n",
       "1 20180401 14k귀걸이  3        \n",
       "2 20180401 14k귀걸이 71        \n",
       "3 20180401 14k귀걸이  7        "
      ]
     },
     "metadata": {},
     "output_type": "display_data"
    }
   ],
   "source": [
    "new_search2%>% filter(SESS_DT==20180401) %>% filter(KWD_NM==\"14k귀걸이\")"
   ]
  },
  {
   "cell_type": "markdown",
   "metadata": {},
   "source": [
    "키워드들이 전처리 되면서 같은 키워드를 가짐에도 불구하고  SEARCH_CNT들이 다르게 되는 경우가 발생\n",
    "\n",
    "SEARCH_CNT들을 합칠 필요가 있다고 생각"
   ]
  },
  {
   "cell_type": "code",
   "execution_count": 100,
   "metadata": {},
   "outputs": [],
   "source": [
    "new_search2 <- melt(new_search2, id.vars=c(\"SESS_DT\",\"KWD_NM\"))"
   ]
  },
  {
   "cell_type": "code",
   "execution_count": 101,
   "metadata": {},
   "outputs": [],
   "source": [
    "new_search2=dcast(new_search2,SESS_DT+KWD_NM~variable,sum)"
   ]
  },
  {
   "cell_type": "code",
   "execution_count": 102,
   "metadata": {},
   "outputs": [
    {
     "data": {
      "text/html": [
       "<table>\n",
       "<thead><tr><th scope=col>SESS_DT</th><th scope=col>KWD_NM</th><th scope=col>SEARCH_CNT</th></tr></thead>\n",
       "<tbody>\n",
       "\t<tr><td>20180401 </td><td>14k귀걸이</td><td>81       </td></tr>\n",
       "</tbody>\n",
       "</table>\n"
      ],
      "text/latex": [
       "\\begin{tabular}{r|lll}\n",
       " SESS\\_DT & KWD\\_NM & SEARCH\\_CNT\\\\\n",
       "\\hline\n",
       "\t 20180401  & 14k귀걸이 & 81       \\\\\n",
       "\\end{tabular}\n"
      ],
      "text/markdown": [
       "\n",
       "SESS_DT | KWD_NM | SEARCH_CNT | \n",
       "|---|\n",
       "| 20180401  | 14k귀걸이 | 81        | \n",
       "\n",
       "\n"
      ],
      "text/plain": [
       "  SESS_DT  KWD_NM    SEARCH_CNT\n",
       "1 20180401 14k귀걸이 81        "
      ]
     },
     "metadata": {},
     "output_type": "display_data"
    }
   ],
   "source": [
    "new_search2%>% filter(SESS_DT==20180401) %>% filter(KWD_NM==\"14k귀걸이\") #같은 키워드에서 SEARCH_CNT가 잘합쳐진 것을 확인"
   ]
  },
  {
   "cell_type": "code",
   "execution_count": 103,
   "metadata": {},
   "outputs": [
    {
     "name": "stdout",
     "output_type": "stream",
     "text": [
      "'data.frame':\t6750385 obs. of  3 variables:\n",
      " $ SESS_DT   : int  20180401 20180401 20180401 20180401 20180401 20180401 20180401 20180401 20180401 20180401 ...\n",
      " $ KWD_NM    : chr  \"100원\" \"107스타일\" \"10kg\" \"10k귀걸이\" ...\n",
      " $ SEARCH_CNT: num  1 7 2 2 2 3 1 4 2 1 ...\n"
     ]
    }
   ],
   "source": [
    "str(new_search2)"
   ]
  },
  {
   "cell_type": "code",
   "execution_count": 104,
   "metadata": {},
   "outputs": [
    {
     "data": {
      "text/html": [
       "<dl class=dl-horizontal>\n",
       "\t<dt>SESS_DT</dt>\n",
       "\t\t<dd>0</dd>\n",
       "\t<dt>KWD_NM</dt>\n",
       "\t\t<dd>0</dd>\n",
       "\t<dt>SEARCH_CNT</dt>\n",
       "\t\t<dd>0</dd>\n",
       "</dl>\n"
      ],
      "text/latex": [
       "\\begin{description*}\n",
       "\\item[SESS\\textbackslash{}\\_DT] 0\n",
       "\\item[KWD\\textbackslash{}\\_NM] 0\n",
       "\\item[SEARCH\\textbackslash{}\\_CNT] 0\n",
       "\\end{description*}\n"
      ],
      "text/markdown": [
       "SESS_DT\n",
       ":   0KWD_NM\n",
       ":   0SEARCH_CNT\n",
       ":   0\n",
       "\n"
      ],
      "text/plain": [
       "   SESS_DT     KWD_NM SEARCH_CNT \n",
       "         0          0          0 "
      ]
     },
     "metadata": {},
     "output_type": "display_data"
    },
    {
     "data": {
      "text/html": [
       "<ol class=list-inline>\n",
       "\t<li>6750385</li>\n",
       "\t<li>3</li>\n",
       "</ol>\n"
      ],
      "text/latex": [
       "\\begin{enumerate*}\n",
       "\\item 6750385\n",
       "\\item 3\n",
       "\\end{enumerate*}\n"
      ],
      "text/markdown": [
       "1. 6750385\n",
       "2. 3\n",
       "\n",
       "\n"
      ],
      "text/plain": [
       "[1] 6750385       3"
      ]
     },
     "metadata": {},
     "output_type": "display_data"
    }
   ],
   "source": [
    "colSums(is.na(new_search2)) #결측값 없음\n",
    "dim(new_search2)"
   ]
  },
  {
   "cell_type": "code",
   "execution_count": 105,
   "metadata": {},
   "outputs": [
    {
     "data": {
      "text/html": [
       "183"
      ],
      "text/latex": [
       "183"
      ],
      "text/markdown": [
       "183"
      ],
      "text/plain": [
       "[1] 183"
      ]
     },
     "metadata": {},
     "output_type": "display_data"
    },
    {
     "data": {
      "text/html": [
       "64915"
      ],
      "text/latex": [
       "64915"
      ],
      "text/markdown": [
       "64915"
      ],
      "text/plain": [
       "[1] 64915"
      ]
     },
     "metadata": {},
     "output_type": "display_data"
    }
   ],
   "source": [
    "#기본키 고유개수 확인\n",
    "length(unique(new_search2$SESS_DT))\n",
    "\n",
    "length(unique(new_search2$KWD_NM))"
   ]
  },
  {
   "cell_type": "code",
   "execution_count": 106,
   "metadata": {},
   "outputs": [],
   "source": [
    "fwrite(new_search2,file=\"new_search2.csv\")"
   ]
  },
  {
   "cell_type": "code",
   "execution_count": null,
   "metadata": {},
   "outputs": [],
   "source": []
  },
  {
   "cell_type": "code",
   "execution_count": null,
   "metadata": {},
   "outputs": [],
   "source": []
  },
  {
   "cell_type": "code",
   "execution_count": null,
   "metadata": {},
   "outputs": [],
   "source": []
  },
  {
   "cell_type": "code",
   "execution_count": null,
   "metadata": {},
   "outputs": [],
   "source": []
  }
 ],
 "metadata": {
  "kernelspec": {
   "display_name": "R",
   "language": "R",
   "name": "ir"
  },
  "language_info": {
   "codemirror_mode": "r",
   "file_extension": ".r",
   "mimetype": "text/x-r-source",
   "name": "R",
   "pygments_lexer": "r",
   "version": "3.5.1"
  }
 },
 "nbformat": 4,
 "nbformat_minor": 2
}
